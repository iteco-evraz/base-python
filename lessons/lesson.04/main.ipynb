{
 "cells": [
  {
   "cell_type": "code",
   "execution_count": 1,
   "id": "ea90a404",
   "metadata": {},
   "outputs": [],
   "source": [
    "def power_number(number, power=2):\n",
    "    return number ** power"
   ]
  },
  {
   "cell_type": "code",
   "execution_count": 2,
   "id": "d1597404",
   "metadata": {},
   "outputs": [
    {
     "data": {
      "text/plain": [
       "16"
      ]
     },
     "execution_count": 2,
     "metadata": {},
     "output_type": "execute_result"
    }
   ],
   "source": [
    "power_number(4)"
   ]
  },
  {
   "cell_type": "code",
   "execution_count": 3,
   "id": "56688eb8",
   "metadata": {},
   "outputs": [
    {
     "data": {
      "text/plain": [
       "64"
      ]
     },
     "execution_count": 3,
     "metadata": {},
     "output_type": "execute_result"
    }
   ],
   "source": [
    "power_number(4, 3)"
   ]
  },
  {
   "cell_type": "code",
   "execution_count": 4,
   "id": "78ef2b71",
   "metadata": {},
   "outputs": [
    {
     "data": {
      "text/plain": [
       "16"
      ]
     },
     "execution_count": 4,
     "metadata": {},
     "output_type": "execute_result"
    }
   ],
   "source": [
    "power_number(2, power=4)"
   ]
  },
  {
   "cell_type": "code",
   "execution_count": 5,
   "id": "5abfcf7b",
   "metadata": {},
   "outputs": [
    {
     "data": {
      "text/plain": [
       "16"
      ]
     },
     "execution_count": 5,
     "metadata": {},
     "output_type": "execute_result"
    }
   ],
   "source": [
    "power_number(number=2, power=4)"
   ]
  },
  {
   "cell_type": "code",
   "execution_count": 6,
   "id": "beb764c6",
   "metadata": {},
   "outputs": [
    {
     "data": {
      "text/plain": [
       "16"
      ]
     },
     "execution_count": 6,
     "metadata": {},
     "output_type": "execute_result"
    }
   ],
   "source": [
    "power_number(power=4, number=2)"
   ]
  },
  {
   "cell_type": "code",
   "execution_count": 7,
   "id": "cecf1374",
   "metadata": {},
   "outputs": [
    {
     "data": {
      "text/plain": [
       "16"
      ]
     },
     "execution_count": 7,
     "metadata": {},
     "output_type": "execute_result"
    }
   ],
   "source": [
    "power_number(4, 2)"
   ]
  },
  {
   "cell_type": "code",
   "execution_count": 8,
   "id": "1fbf8ea0",
   "metadata": {},
   "outputs": [
    {
     "data": {
      "text/plain": [
       "25"
      ]
     },
     "execution_count": 8,
     "metadata": {},
     "output_type": "execute_result"
    }
   ],
   "source": [
    "power_number(5, 2)"
   ]
  },
  {
   "cell_type": "code",
   "execution_count": 9,
   "id": "cb0d6661",
   "metadata": {},
   "outputs": [
    {
     "data": {
      "text/plain": [
       "32"
      ]
     },
     "execution_count": 9,
     "metadata": {},
     "output_type": "execute_result"
    }
   ],
   "source": [
    "power_number(power=5, number=2)"
   ]
  },
  {
   "cell_type": "code",
   "execution_count": 10,
   "id": "4b372e47",
   "metadata": {},
   "outputs": [
    {
     "data": {
      "text/plain": [
       "32"
      ]
     },
     "execution_count": 10,
     "metadata": {},
     "output_type": "execute_result"
    }
   ],
   "source": [
    "power_number(2, 5)"
   ]
  },
  {
   "cell_type": "code",
   "execution_count": 11,
   "id": "03c2d5bf",
   "metadata": {},
   "outputs": [
    {
     "data": {
      "text/plain": [
       "32"
      ]
     },
     "execution_count": 11,
     "metadata": {},
     "output_type": "execute_result"
    }
   ],
   "source": [
    "power_number(number=2, power=5)"
   ]
  },
  {
   "cell_type": "code",
   "execution_count": 12,
   "id": "1c1724f3",
   "metadata": {},
   "outputs": [
    {
     "data": {
      "text/plain": [
       "81"
      ]
     },
     "execution_count": 12,
     "metadata": {},
     "output_type": "execute_result"
    }
   ],
   "source": [
    "a, b = 3, 4\n",
    "power_number(a, b)"
   ]
  },
  {
   "cell_type": "code",
   "execution_count": 13,
   "id": "9e0939da",
   "metadata": {},
   "outputs": [
    {
     "data": {
      "text/plain": [
       "81"
      ]
     },
     "execution_count": 13,
     "metadata": {},
     "output_type": "execute_result"
    }
   ],
   "source": [
    "power_number(number=a, power=b)"
   ]
  },
  {
   "cell_type": "code",
   "execution_count": 14,
   "id": "69c9f48c",
   "metadata": {},
   "outputs": [
    {
     "data": {
      "text/plain": [
       "81"
      ]
     },
     "execution_count": 14,
     "metadata": {},
     "output_type": "execute_result"
    }
   ],
   "source": [
    "power_number(power=b, number=a)"
   ]
  },
  {
   "cell_type": "code",
   "execution_count": 15,
   "id": "f9e8b5d9",
   "metadata": {},
   "outputs": [
    {
     "data": {
      "text/plain": [
       "64"
      ]
     },
     "execution_count": 15,
     "metadata": {},
     "output_type": "execute_result"
    }
   ],
   "source": [
    "power_number(number=b, power=a)"
   ]
  },
  {
   "cell_type": "code",
   "execution_count": 16,
   "id": "43a34144",
   "metadata": {},
   "outputs": [
    {
     "name": "stdout",
     "output_type": "stream",
     "text": [
      "{'number': 2, 'power': 3}\n"
     ]
    }
   ],
   "source": [
    "params = {\n",
    "    \"number\": 2,\n",
    "    \"power\": 3,\n",
    "}\n",
    "print(params)"
   ]
  },
  {
   "cell_type": "code",
   "execution_count": 17,
   "id": "75c5ea04",
   "metadata": {},
   "outputs": [
    {
     "data": {
      "text/plain": [
       "8"
      ]
     },
     "execution_count": 17,
     "metadata": {},
     "output_type": "execute_result"
    }
   ],
   "source": [
    "power_number(**params)"
   ]
  },
  {
   "cell_type": "code",
   "execution_count": 18,
   "id": "b18b6ee3",
   "metadata": {},
   "outputs": [
    {
     "name": "stdout",
     "output_type": "stream",
     "text": [
      "{'number': 3, 'power': 3}\n"
     ]
    }
   ],
   "source": [
    "params[\"number\"] = 3\n",
    "print(params)"
   ]
  },
  {
   "cell_type": "code",
   "execution_count": 19,
   "id": "bb4536db",
   "metadata": {},
   "outputs": [
    {
     "data": {
      "text/plain": [
       "27"
      ]
     },
     "execution_count": 19,
     "metadata": {},
     "output_type": "execute_result"
    }
   ],
   "source": [
    "power_number(**params)"
   ]
  },
  {
   "cell_type": "code",
   "execution_count": 20,
   "id": "7d4c9a76",
   "metadata": {},
   "outputs": [
    {
     "ename": "TypeError",
     "evalue": "power_number() got an unexpected keyword argument 'foo'",
     "output_type": "error",
     "traceback": [
      "\u001b[0;31m---------------------------------------------------------------------------\u001b[0m",
      "\u001b[0;31mTypeError\u001b[0m                                 Traceback (most recent call last)",
      "\u001b[0;32m/var/folders/fj/49hkzfz15_zcq5jwvzbzk6fm0000gn/T/ipykernel_92204/4166578390.py\u001b[0m in \u001b[0;36m<module>\u001b[0;34m\u001b[0m\n\u001b[0;32m----> 1\u001b[0;31m \u001b[0mpower_number\u001b[0m\u001b[0;34m(\u001b[0m\u001b[0mnumber\u001b[0m\u001b[0;34m=\u001b[0m\u001b[0;36m2\u001b[0m\u001b[0;34m,\u001b[0m \u001b[0mpower\u001b[0m\u001b[0;34m=\u001b[0m\u001b[0;36m5\u001b[0m\u001b[0;34m,\u001b[0m \u001b[0mfoo\u001b[0m\u001b[0;34m=\u001b[0m\u001b[0;34m\"bar\"\u001b[0m\u001b[0;34m)\u001b[0m\u001b[0;34m\u001b[0m\u001b[0;34m\u001b[0m\u001b[0m\n\u001b[0m",
      "\u001b[0;31mTypeError\u001b[0m: power_number() got an unexpected keyword argument 'foo'"
     ]
    }
   ],
   "source": [
    "power_number(number=2, power=5, foo=\"bar\")"
   ]
  },
  {
   "cell_type": "code",
   "execution_count": 21,
   "id": "7d1317db",
   "metadata": {},
   "outputs": [
    {
     "name": "stdout",
     "output_type": "stream",
     "text": [
      "{'number': 3, 'power': 3, 'foo': 'bar'}\n"
     ]
    }
   ],
   "source": [
    "new_params = {\n",
    "    **params,\n",
    "    \"foo\": \"bar\",\n",
    "}\n",
    "print(new_params)"
   ]
  },
  {
   "cell_type": "code",
   "execution_count": 22,
   "id": "d48c6fca",
   "metadata": {},
   "outputs": [
    {
     "ename": "TypeError",
     "evalue": "power_number() got an unexpected keyword argument 'foo'",
     "output_type": "error",
     "traceback": [
      "\u001b[0;31m---------------------------------------------------------------------------\u001b[0m",
      "\u001b[0;31mTypeError\u001b[0m                                 Traceback (most recent call last)",
      "\u001b[0;32m/var/folders/fj/49hkzfz15_zcq5jwvzbzk6fm0000gn/T/ipykernel_92204/1997866289.py\u001b[0m in \u001b[0;36m<module>\u001b[0;34m\u001b[0m\n\u001b[0;32m----> 1\u001b[0;31m \u001b[0mpower_number\u001b[0m\u001b[0;34m(\u001b[0m\u001b[0;34m**\u001b[0m\u001b[0mnew_params\u001b[0m\u001b[0;34m)\u001b[0m\u001b[0;34m\u001b[0m\u001b[0;34m\u001b[0m\u001b[0m\n\u001b[0m",
      "\u001b[0;31mTypeError\u001b[0m: power_number() got an unexpected keyword argument 'foo'"
     ]
    }
   ],
   "source": [
    "power_number(**new_params)"
   ]
  },
  {
   "cell_type": "code",
   "execution_count": 23,
   "id": "e2e74302",
   "metadata": {},
   "outputs": [],
   "source": [
    "def accept_any_kwargs(**kwargs):\n",
    "    print(\"got kwargs\", kwargs, \"show one by one\")\n",
    "    for key, value in kwargs.items():\n",
    "        print(key, value)"
   ]
  },
  {
   "cell_type": "code",
   "execution_count": 24,
   "id": "ab99f609",
   "metadata": {},
   "outputs": [
    {
     "name": "stdout",
     "output_type": "stream",
     "text": [
      "got kwargs {'foo': 'bar'} show one by one\n",
      "foo bar\n"
     ]
    }
   ],
   "source": [
    "accept_any_kwargs(foo=\"bar\")"
   ]
  },
  {
   "cell_type": "code",
   "execution_count": 25,
   "id": "639168ca",
   "metadata": {},
   "outputs": [
    {
     "name": "stdout",
     "output_type": "stream",
     "text": [
      "got kwargs {'number': 3, 'power': 3} show one by one\n",
      "number 3\n",
      "power 3\n"
     ]
    }
   ],
   "source": [
    "accept_any_kwargs(**params)"
   ]
  },
  {
   "cell_type": "code",
   "execution_count": 26,
   "id": "96c4d34d",
   "metadata": {},
   "outputs": [
    {
     "name": "stdout",
     "output_type": "stream",
     "text": [
      "got kwargs {'number': 3, 'power': 3, 'foo': 'bar'} show one by one\n",
      "number 3\n",
      "power 3\n",
      "foo bar\n"
     ]
    }
   ],
   "source": [
    "accept_any_kwargs(**new_params)"
   ]
  },
  {
   "cell_type": "code",
   "execution_count": 27,
   "id": "1e3e8802",
   "metadata": {},
   "outputs": [
    {
     "name": "stdout",
     "output_type": "stream",
     "text": [
      "got kwargs {'number': 3, 'power': 3, 'foo': 'bar', 'spam': 'eggs', 'fizz': 'buzz'} show one by one\n",
      "number 3\n",
      "power 3\n",
      "foo bar\n",
      "spam eggs\n",
      "fizz buzz\n"
     ]
    }
   ],
   "source": [
    "accept_any_kwargs(**new_params, spam=\"eggs\", fizz=\"buzz\")"
   ]
  },
  {
   "cell_type": "code",
   "execution_count": 28,
   "id": "da35006f",
   "metadata": {},
   "outputs": [
    {
     "name": "stdout",
     "output_type": "stream",
     "text": [
      "got kwargs {} show one by one\n"
     ]
    }
   ],
   "source": [
    "accept_any_kwargs()"
   ]
  },
  {
   "cell_type": "code",
   "execution_count": 29,
   "id": "39dbcee0",
   "metadata": {},
   "outputs": [],
   "source": [
    "def find_by_key(key, **kwargs):\n",
    "    print(\"find key\", repr(key), \"in kwargs\", kwargs)\n",
    "    if key in kwargs:\n",
    "        print(\"key found in kwargs\")\n",
    "        return kwargs[key]\n",
    "    print(\"could find key in kwargs\")\n"
   ]
  },
  {
   "cell_type": "code",
   "execution_count": 30,
   "id": "2b6ce3a8",
   "metadata": {},
   "outputs": [
    {
     "name": "stdout",
     "output_type": "stream",
     "text": [
      "find key 'name' in kwargs {'name': 'Suren'}\n",
      "key found in kwargs\n"
     ]
    },
    {
     "data": {
      "text/plain": [
       "'Suren'"
      ]
     },
     "execution_count": 30,
     "metadata": {},
     "output_type": "execute_result"
    }
   ],
   "source": [
    "find_by_key(\"name\", name=\"Suren\")"
   ]
  },
  {
   "cell_type": "code",
   "execution_count": 31,
   "id": "22264d48",
   "metadata": {},
   "outputs": [
    {
     "name": "stdout",
     "output_type": "stream",
     "text": [
      "find key 'name' in kwargs {}\n",
      "could find key in kwargs\n"
     ]
    }
   ],
   "source": [
    "find_by_key(\"name\")"
   ]
  },
  {
   "cell_type": "code",
   "execution_count": 32,
   "id": "eab18992",
   "metadata": {},
   "outputs": [
    {
     "name": "stdout",
     "output_type": "stream",
     "text": [
      "find key 'name' in kwargs {'foo': 'bar'}\n",
      "could find key in kwargs\n"
     ]
    }
   ],
   "source": [
    "find_by_key(\"name\", foo=\"bar\")"
   ]
  },
  {
   "cell_type": "code",
   "execution_count": 33,
   "id": "cc9dd982",
   "metadata": {},
   "outputs": [
    {
     "name": "stdout",
     "output_type": "stream",
     "text": [
      "find key 3 in kwargs {'foo': 'bar'}\n",
      "could find key in kwargs\n"
     ]
    }
   ],
   "source": [
    "find_by_key(a, foo=\"bar\")"
   ]
  },
  {
   "cell_type": "code",
   "execution_count": 34,
   "id": "97dc5471",
   "metadata": {},
   "outputs": [
    {
     "name": "stdout",
     "output_type": "stream",
     "text": [
      "3\n"
     ]
    }
   ],
   "source": [
    "print(3)"
   ]
  },
  {
   "cell_type": "code",
   "execution_count": 35,
   "id": "4de79f2b",
   "metadata": {},
   "outputs": [
    {
     "name": "stdout",
     "output_type": "stream",
     "text": [
      "3\n"
     ]
    }
   ],
   "source": [
    "print(\"3\")"
   ]
  },
  {
   "cell_type": "code",
   "execution_count": 36,
   "id": "de7e7c6c",
   "metadata": {},
   "outputs": [
    {
     "name": "stdout",
     "output_type": "stream",
     "text": [
      "3\n"
     ]
    }
   ],
   "source": [
    "print(repr(3))"
   ]
  },
  {
   "cell_type": "code",
   "execution_count": 37,
   "id": "74195d92",
   "metadata": {},
   "outputs": [
    {
     "name": "stdout",
     "output_type": "stream",
     "text": [
      "'3'\n"
     ]
    }
   ],
   "source": [
    "print(repr(\"3\"))"
   ]
  },
  {
   "cell_type": "code",
   "execution_count": 38,
   "id": "3ac8bd09",
   "metadata": {},
   "outputs": [
    {
     "data": {
      "text/plain": [
       "'3'"
      ]
     },
     "execution_count": 38,
     "metadata": {},
     "output_type": "execute_result"
    }
   ],
   "source": [
    "'3'"
   ]
  },
  {
   "cell_type": "code",
   "execution_count": 39,
   "id": "90bc48b3",
   "metadata": {},
   "outputs": [],
   "source": [
    "def show_pow_numbers(*numbers, power=2):\n",
    "    for num in numbers:\n",
    "        print(num ** power)"
   ]
  },
  {
   "cell_type": "code",
   "execution_count": 40,
   "id": "2a38bc99",
   "metadata": {},
   "outputs": [],
   "source": [
    "show_pow_numbers()"
   ]
  },
  {
   "cell_type": "code",
   "execution_count": 41,
   "id": "9333036e",
   "metadata": {},
   "outputs": [
    {
     "name": "stdout",
     "output_type": "stream",
     "text": [
      "1\n"
     ]
    }
   ],
   "source": [
    "show_pow_numbers(1)"
   ]
  },
  {
   "cell_type": "code",
   "execution_count": 42,
   "id": "d41d2514",
   "metadata": {},
   "outputs": [
    {
     "name": "stdout",
     "output_type": "stream",
     "text": [
      "1\n",
      "4\n",
      "9\n"
     ]
    }
   ],
   "source": [
    "show_pow_numbers(1,2,3)"
   ]
  },
  {
   "cell_type": "code",
   "execution_count": 43,
   "id": "1686762a",
   "metadata": {},
   "outputs": [
    {
     "name": "stdout",
     "output_type": "stream",
     "text": [
      "find key 3 in kwargs {'foo': 'bar'}\n",
      "could find key in kwargs\n"
     ]
    }
   ],
   "source": [
    "find_by_key(a, foo=\"bar\")"
   ]
  },
  {
   "cell_type": "code",
   "execution_count": 44,
   "id": "3070b9f7",
   "metadata": {},
   "outputs": [
    {
     "name": "stdout",
     "output_type": "stream",
     "text": [
      "find key 3 in kwargs {'foo': 'bar', 'spam': 'eggs'}\n",
      "could find key in kwargs\n"
     ]
    }
   ],
   "source": [
    "find_by_key(a, foo=\"bar\", spam=\"eggs\")"
   ]
  },
  {
   "cell_type": "code",
   "execution_count": 45,
   "id": "375ec1cf",
   "metadata": {},
   "outputs": [
    {
     "name": "stdout",
     "output_type": "stream",
     "text": [
      "find key 3 in kwargs {'number': 3, 'power': 3, 'foo': 'bar'}\n",
      "could find key in kwargs\n"
     ]
    }
   ],
   "source": [
    "find_by_key(a, **new_params)"
   ]
  },
  {
   "cell_type": "code",
   "execution_count": 46,
   "id": "db0b34c1",
   "metadata": {},
   "outputs": [
    {
     "name": "stdout",
     "output_type": "stream",
     "text": [
      "find key 'spam' in kwargs {'number': 3, 'power': 3, 'foo': 'bar', 'spam': 'eggs'}\n",
      "key found in kwargs\n"
     ]
    },
    {
     "data": {
      "text/plain": [
       "'eggs'"
      ]
     },
     "execution_count": 46,
     "metadata": {},
     "output_type": "execute_result"
    }
   ],
   "source": [
    "find_by_key(\"spam\", **new_params, spam=\"eggs\")"
   ]
  },
  {
   "cell_type": "code",
   "execution_count": 47,
   "id": "e5306ca5",
   "metadata": {},
   "outputs": [
    {
     "name": "stdout",
     "output_type": "stream",
     "text": [
      "find key 'number' in kwargs {'number': 3, 'power': 3, 'foo': 'bar', 'spam': 'eggs'}\n",
      "key found in kwargs\n"
     ]
    },
    {
     "data": {
      "text/plain": [
       "3"
      ]
     },
     "execution_count": 47,
     "metadata": {},
     "output_type": "execute_result"
    }
   ],
   "source": [
    "find_by_key(\"number\", **new_params, spam=\"eggs\")"
   ]
  },
  {
   "cell_type": "code",
   "execution_count": 48,
   "id": "c889c63a",
   "metadata": {},
   "outputs": [
    {
     "name": "stdout",
     "output_type": "stream",
     "text": [
      "find key 'number' in kwargs {'number': 3, 'power': 3, 'foo': 'bar', 'spam': 'eggs'}\n",
      "key found in kwargs\n"
     ]
    },
    {
     "data": {
      "text/plain": [
       "3"
      ]
     },
     "execution_count": 48,
     "metadata": {},
     "output_type": "execute_result"
    }
   ],
   "source": [
    "find_by_key(key=\"number\", **new_params, spam=\"eggs\")"
   ]
  },
  {
   "cell_type": "code",
   "execution_count": 49,
   "id": "ea3ed41c",
   "metadata": {},
   "outputs": [
    {
     "name": "stdout",
     "output_type": "stream",
     "text": [
      "find key 'foo' in kwargs {'foo': 'bar', 'spam': 'eggs'}\n",
      "key found in kwargs\n"
     ]
    },
    {
     "data": {
      "text/plain": [
       "'bar'"
      ]
     },
     "execution_count": 49,
     "metadata": {},
     "output_type": "execute_result"
    }
   ],
   "source": [
    "find_by_key(key=\"foo\", foo=\"bar\", spam=\"eggs\")"
   ]
  },
  {
   "cell_type": "code",
   "execution_count": 50,
   "id": "3e82a6ef",
   "metadata": {},
   "outputs": [
    {
     "name": "stdout",
     "output_type": "stream",
     "text": [
      "{'number': 3, 'power': 3, 'foo': 'bar', 'key': 'power'}\n"
     ]
    }
   ],
   "source": [
    "new_params[\"key\"] = \"power\"\n",
    "print(new_params)"
   ]
  },
  {
   "cell_type": "code",
   "execution_count": 51,
   "id": "8aed10ce",
   "metadata": {},
   "outputs": [
    {
     "name": "stdout",
     "output_type": "stream",
     "text": [
      "find key 'power' in kwargs {'number': 3, 'power': 3, 'foo': 'bar'}\n",
      "key found in kwargs\n"
     ]
    },
    {
     "data": {
      "text/plain": [
       "3"
      ]
     },
     "execution_count": 51,
     "metadata": {},
     "output_type": "execute_result"
    }
   ],
   "source": [
    "find_by_key(**new_params)"
   ]
  },
  {
   "cell_type": "code",
   "execution_count": 52,
   "id": "0c6db391",
   "metadata": {},
   "outputs": [
    {
     "name": "stdout",
     "output_type": "stream",
     "text": [
      "{'number': 3, 'power': 3, 'foo': 'bar', 'key': 'foo'}\n"
     ]
    }
   ],
   "source": [
    "new_params[\"key\"] = \"foo\"\n",
    "print(new_params)"
   ]
  },
  {
   "cell_type": "code",
   "execution_count": 53,
   "id": "0e13ee45",
   "metadata": {},
   "outputs": [
    {
     "name": "stdout",
     "output_type": "stream",
     "text": [
      "find key 'foo' in kwargs {'number': 3, 'power': 3, 'foo': 'bar'}\n",
      "key found in kwargs\n"
     ]
    },
    {
     "data": {
      "text/plain": [
       "'bar'"
      ]
     },
     "execution_count": 53,
     "metadata": {},
     "output_type": "execute_result"
    }
   ],
   "source": [
    "find_by_key(**new_params)"
   ]
  },
  {
   "cell_type": "code",
   "execution_count": 54,
   "id": "2be0c059",
   "metadata": {},
   "outputs": [
    {
     "name": "stdout",
     "output_type": "stream",
     "text": [
      "find key 'spam' in kwargs {'number': 3, 'power': 3, 'foo': 'bar'}\n",
      "could find key in kwargs\n"
     ]
    }
   ],
   "source": [
    "new_params[\"key\"] = \"spam\"\n",
    "find_by_key(**new_params)"
   ]
  },
  {
   "cell_type": "code",
   "execution_count": 55,
   "id": "7bf00d68",
   "metadata": {},
   "outputs": [
    {
     "name": "stdout",
     "output_type": "stream",
     "text": [
      "find key 'spam' in kwargs {'number': 3, 'power': 3, 'foo': 'bar', 'spam': 'eggs'}\n",
      "key found in kwargs\n"
     ]
    },
    {
     "data": {
      "text/plain": [
       "'eggs'"
      ]
     },
     "execution_count": 55,
     "metadata": {},
     "output_type": "execute_result"
    }
   ],
   "source": [
    "find_by_key(**new_params, spam=\"eggs\")"
   ]
  },
  {
   "cell_type": "code",
   "execution_count": 56,
   "id": "c7a51ed9",
   "metadata": {},
   "outputs": [
    {
     "data": {
      "text/plain": [
       "<function __main__.find_by_key(key, **kwargs)>"
      ]
     },
     "execution_count": 56,
     "metadata": {},
     "output_type": "execute_result"
    }
   ],
   "source": [
    "find_by_key"
   ]
  },
  {
   "cell_type": "code",
   "execution_count": 57,
   "id": "47e423ff",
   "metadata": {},
   "outputs": [],
   "source": [
    "def my_function():\n",
    "    print(\"простая функция выполняется\")"
   ]
  },
  {
   "cell_type": "code",
   "execution_count": 58,
   "id": "a7f2d275",
   "metadata": {},
   "outputs": [
    {
     "data": {
      "text/plain": [
       "<function __main__.my_function()>"
      ]
     },
     "execution_count": 58,
     "metadata": {},
     "output_type": "execute_result"
    }
   ],
   "source": [
    "my_function"
   ]
  },
  {
   "cell_type": "code",
   "execution_count": 59,
   "id": "c3abca5a",
   "metadata": {},
   "outputs": [
    {
     "name": "stdout",
     "output_type": "stream",
     "text": [
      "простая функция выполняется\n"
     ]
    }
   ],
   "source": [
    "my_function()"
   ]
  },
  {
   "cell_type": "code",
   "execution_count": 60,
   "id": "7f2dc787",
   "metadata": {},
   "outputs": [],
   "source": [
    "def my_decorator(func_to_decorate):\n",
    "    print(\"мы внутри функции по созданию новой функции\")\n",
    "    \n",
    "    def replacement_function():\n",
    "        print(\"мы внутри функции обертки, выполняем исходную функцию\")\n",
    "        func_to_decorate()\n",
    "        print(\"мы внутри выполнили исходную функцию\")\n",
    "\n",
    "    print(\"мы объявили новую функцию, возвращаем\")\n",
    "\n",
    "    return replacement_function"
   ]
  },
  {
   "cell_type": "code",
   "execution_count": 61,
   "id": "d436c8a7",
   "metadata": {},
   "outputs": [
    {
     "name": "stdout",
     "output_type": "stream",
     "text": [
      "мы внутри функции по созданию новой функции\n",
      "мы объявили новую функцию, возвращаем\n"
     ]
    }
   ],
   "source": [
    "my_function = my_decorator(my_function)"
   ]
  },
  {
   "cell_type": "code",
   "execution_count": 62,
   "id": "22bf092a",
   "metadata": {},
   "outputs": [
    {
     "data": {
      "text/plain": [
       "<function __main__.my_decorator.<locals>.replacement_function()>"
      ]
     },
     "execution_count": 62,
     "metadata": {},
     "output_type": "execute_result"
    }
   ],
   "source": [
    "my_function"
   ]
  },
  {
   "cell_type": "code",
   "execution_count": 63,
   "id": "df825bd8",
   "metadata": {},
   "outputs": [
    {
     "name": "stdout",
     "output_type": "stream",
     "text": [
      "мы внутри функции обертки, выполняем исходную функцию\n",
      "простая функция выполняется\n",
      "мы внутри выполнили исходную функцию\n"
     ]
    }
   ],
   "source": [
    "my_function()"
   ]
  },
  {
   "cell_type": "code",
   "execution_count": 64,
   "id": "b05edf52",
   "metadata": {},
   "outputs": [
    {
     "name": "stdout",
     "output_type": "stream",
     "text": [
      "мы внутри функции по созданию новой функции\n",
      "мы объявили новую функцию, возвращаем\n"
     ]
    }
   ],
   "source": [
    "@my_decorator\n",
    "def small_function():\n",
    "    print(\"привет, я маленькая функция\")"
   ]
  },
  {
   "cell_type": "code",
   "execution_count": 65,
   "id": "f0ca3ee4",
   "metadata": {},
   "outputs": [
    {
     "data": {
      "text/plain": [
       "<function __main__.my_decorator.<locals>.replacement_function()>"
      ]
     },
     "execution_count": 65,
     "metadata": {},
     "output_type": "execute_result"
    }
   ],
   "source": [
    "small_function"
   ]
  },
  {
   "cell_type": "code",
   "execution_count": 66,
   "id": "f707c90e",
   "metadata": {},
   "outputs": [
    {
     "name": "stdout",
     "output_type": "stream",
     "text": [
      "мы внутри функции обертки, выполняем исходную функцию\n",
      "привет, я маленькая функция\n",
      "мы внутри выполнили исходную функцию\n"
     ]
    }
   ],
   "source": [
    "small_function()"
   ]
  },
  {
   "cell_type": "code",
   "execution_count": 67,
   "id": "b2c16404",
   "metadata": {},
   "outputs": [],
   "source": [
    "from functools import wraps"
   ]
  },
  {
   "cell_type": "code",
   "execution_count": 68,
   "id": "f2d73b96",
   "metadata": {},
   "outputs": [],
   "source": [
    "def my_dec(func):\n",
    "    print(\"делаем обертку внутри декоратора my_dec, функция\", func)\n",
    "    \n",
    "    @wraps(func)\n",
    "    def wrapper():\n",
    "        print(\"вызываю исходную функцию\", func)\n",
    "        func()\n",
    "        print(\"выполнил исходную функцию, завершаю\")\n",
    "        \n",
    "    print(\"обертка создана, возвращаю\")\n",
    "    return wrapper"
   ]
  },
  {
   "cell_type": "code",
   "execution_count": 69,
   "id": "1d052811",
   "metadata": {},
   "outputs": [
    {
     "name": "stdout",
     "output_type": "stream",
     "text": [
      "делаем обертку внутри декоратора my_dec, функция <function some_func at 0x107935040>\n",
      "обертка создана, возвращаю\n"
     ]
    }
   ],
   "source": [
    "@my_dec\n",
    "def some_func():\n",
    "    print(\"выполняю тело основной функции\")"
   ]
  },
  {
   "cell_type": "code",
   "execution_count": 70,
   "id": "32cbf4ce",
   "metadata": {},
   "outputs": [
    {
     "data": {
      "text/plain": [
       "<function __main__.some_func()>"
      ]
     },
     "execution_count": 70,
     "metadata": {},
     "output_type": "execute_result"
    }
   ],
   "source": [
    "some_func"
   ]
  },
  {
   "cell_type": "code",
   "execution_count": 71,
   "id": "01738638",
   "metadata": {},
   "outputs": [
    {
     "name": "stdout",
     "output_type": "stream",
     "text": [
      "вызываю исходную функцию <function some_func at 0x107935040>\n",
      "выполняю тело основной функции\n",
      "выполнил исходную функцию, завершаю\n"
     ]
    }
   ],
   "source": [
    "some_func()"
   ]
  },
  {
   "cell_type": "code",
   "execution_count": 72,
   "id": "9c4ffc36",
   "metadata": {},
   "outputs": [],
   "source": [
    "def dec_foo(func):\n",
    "    print(\"foo делаем обертку для\", func)\n",
    "    \n",
    "    @wraps(func)\n",
    "    def wrapper():\n",
    "        print(\"foo вызываю исходную функцию\", func)\n",
    "        func()\n",
    "        print(\"foo выполнил исходную функцию\")\n",
    "        \n",
    "    print(\"foo обертка создана\")\n",
    "    return wrapper "
   ]
  },
  {
   "cell_type": "code",
   "execution_count": 73,
   "id": "9059afb2",
   "metadata": {},
   "outputs": [
    {
     "name": "stdout",
     "output_type": "stream",
     "text": [
      "делаем обертку внутри декоратора my_dec, функция <function another_func at 0x107935820>\n",
      "обертка создана, возвращаю\n",
      "foo делаем обертку для <function another_func at 0x107935a60>\n",
      "foo обертка создана\n"
     ]
    }
   ],
   "source": [
    "@dec_foo\n",
    "@my_dec\n",
    "def another_func():\n",
    "    print(\"выполняется исходная функция\")"
   ]
  },
  {
   "cell_type": "code",
   "execution_count": 74,
   "id": "87786427",
   "metadata": {},
   "outputs": [
    {
     "data": {
      "text/plain": [
       "<function __main__.another_func()>"
      ]
     },
     "execution_count": 74,
     "metadata": {},
     "output_type": "execute_result"
    }
   ],
   "source": [
    "another_func"
   ]
  },
  {
   "cell_type": "code",
   "execution_count": 75,
   "id": "095fdaa1",
   "metadata": {},
   "outputs": [
    {
     "name": "stdout",
     "output_type": "stream",
     "text": [
      "<function another_func at 0x107935e50>\n"
     ]
    }
   ],
   "source": [
    "print(another_func)"
   ]
  },
  {
   "cell_type": "code",
   "execution_count": 76,
   "id": "1c6cccbd",
   "metadata": {},
   "outputs": [
    {
     "name": "stdout",
     "output_type": "stream",
     "text": [
      "foo вызываю исходную функцию <function another_func at 0x107935a60>\n",
      "вызываю исходную функцию <function another_func at 0x107935820>\n",
      "выполняется исходная функция\n",
      "выполнил исходную функцию, завершаю\n",
      "foo выполнил исходную функцию\n"
     ]
    }
   ],
   "source": [
    "another_func()"
   ]
  },
  {
   "cell_type": "code",
   "execution_count": 78,
   "id": "ffc3cc2d",
   "metadata": {},
   "outputs": [],
   "source": [
    "def square(num):\n",
    "    return num ** 2"
   ]
  },
  {
   "cell_type": "code",
   "execution_count": 79,
   "id": "fe111f72",
   "metadata": {},
   "outputs": [
    {
     "data": {
      "text/plain": [
       "4"
      ]
     },
     "execution_count": 79,
     "metadata": {},
     "output_type": "execute_result"
    }
   ],
   "source": [
    "square(2)"
   ]
  },
  {
   "cell_type": "code",
   "execution_count": 80,
   "id": "e23cbdcc",
   "metadata": {},
   "outputs": [
    {
     "data": {
      "text/plain": [
       "100"
      ]
     },
     "execution_count": 80,
     "metadata": {},
     "output_type": "execute_result"
    }
   ],
   "source": [
    "square(10)"
   ]
  },
  {
   "cell_type": "code",
   "execution_count": 81,
   "id": "27eb0530",
   "metadata": {},
   "outputs": [
    {
     "data": {
      "text/plain": [
       "<function __main__.square(num)>"
      ]
     },
     "execution_count": 81,
     "metadata": {},
     "output_type": "execute_result"
    }
   ],
   "source": [
    "square"
   ]
  },
  {
   "cell_type": "code",
   "execution_count": 82,
   "id": "6c11fccf",
   "metadata": {},
   "outputs": [],
   "source": [
    "def dec_with_one_arg(func):\n",
    "    \n",
    "    @wraps(func)\n",
    "    def wrapper(arg):\n",
    "        print(\"вызываю исходную функцию\", func, \"с аргументом\", arg)\n",
    "        result = func(arg)\n",
    "        print(\"результат выполнения:\", result)\n",
    "        return result\n",
    "    \n",
    "    return wrapper"
   ]
  },
  {
   "cell_type": "code",
   "execution_count": 83,
   "id": "a3dfad56",
   "metadata": {},
   "outputs": [],
   "source": [
    "@dec_with_one_arg\n",
    "def cube(num):\n",
    "    return num ** 3"
   ]
  },
  {
   "cell_type": "code",
   "execution_count": 84,
   "id": "b69247fc",
   "metadata": {},
   "outputs": [
    {
     "data": {
      "text/plain": [
       "<function __main__.cube(num)>"
      ]
     },
     "execution_count": 84,
     "metadata": {},
     "output_type": "execute_result"
    }
   ],
   "source": [
    "cube"
   ]
  },
  {
   "cell_type": "code",
   "execution_count": 85,
   "id": "cdfd64e6",
   "metadata": {},
   "outputs": [
    {
     "name": "stdout",
     "output_type": "stream",
     "text": [
      "вызываю исходную функцию <function cube at 0x107935dc0> с аргументом 4\n",
      "результат выполнения: 64\n"
     ]
    },
    {
     "data": {
      "text/plain": [
       "64"
      ]
     },
     "execution_count": 85,
     "metadata": {},
     "output_type": "execute_result"
    }
   ],
   "source": [
    "cube(4)"
   ]
  },
  {
   "cell_type": "code",
   "execution_count": 86,
   "id": "6c5f833c",
   "metadata": {},
   "outputs": [
    {
     "data": {
      "text/plain": [
       "2756.471126208"
      ]
     },
     "execution_count": 86,
     "metadata": {},
     "output_type": "execute_result"
    }
   ],
   "source": [
    "from timeit import default_timer\n",
    "\n",
    "default_timer()"
   ]
  },
  {
   "cell_type": "code",
   "execution_count": 87,
   "id": "eda8deff",
   "metadata": {},
   "outputs": [
    {
     "data": {
      "text/plain": [
       "2760.768740625"
      ]
     },
     "execution_count": 87,
     "metadata": {},
     "output_type": "execute_result"
    }
   ],
   "source": [
    "default_timer()"
   ]
  },
  {
   "cell_type": "code",
   "execution_count": 89,
   "id": "9af39bbb",
   "metadata": {},
   "outputs": [],
   "source": [
    "def show_timing(func):\n",
    "    \n",
    "    @wraps(func)\n",
    "    def wrapper(*args, **kwargs):\n",
    "        start_time = default_timer()\n",
    "        result = func(*args, **kwargs)\n",
    "        amount = default_timer() - start_time\n",
    "        print(\n",
    "            \"выполнили функцию\",\n",
    "            func,\n",
    "            \"за {:.10f} сек.\".format(amount),\n",
    "            \"и получили\",\n",
    "            result,\n",
    "        )\n",
    "        return result\n",
    "    \n",
    "    return wrapper"
   ]
  },
  {
   "cell_type": "code",
   "execution_count": 90,
   "id": "6ae6a02f",
   "metadata": {},
   "outputs": [
    {
     "data": {
      "text/plain": [
       "'за 1.0000000000 сек.'"
      ]
     },
     "execution_count": 90,
     "metadata": {},
     "output_type": "execute_result"
    }
   ],
   "source": [
    "\"за {:.10f} сек.\".format(1)"
   ]
  },
  {
   "cell_type": "code",
   "execution_count": 91,
   "id": "9985be75",
   "metadata": {},
   "outputs": [
    {
     "data": {
      "text/plain": [
       "'за 1.5000000000 сек.'"
      ]
     },
     "execution_count": 91,
     "metadata": {},
     "output_type": "execute_result"
    }
   ],
   "source": [
    "\"за {:.10f} сек.\".format(3 / 2)"
   ]
  },
  {
   "cell_type": "code",
   "execution_count": 92,
   "id": "5e210fe8",
   "metadata": {},
   "outputs": [
    {
     "data": {
      "text/plain": [
       "'за 2.1428571429 сек.'"
      ]
     },
     "execution_count": 92,
     "metadata": {},
     "output_type": "execute_result"
    }
   ],
   "source": [
    "\"за {:.10f} сек.\".format(15 / 7)"
   ]
  },
  {
   "cell_type": "code",
   "execution_count": 93,
   "id": "13652ef9",
   "metadata": {},
   "outputs": [
    {
     "data": {
      "text/plain": [
       "'за 0.8571428571 сек.'"
      ]
     },
     "execution_count": 93,
     "metadata": {},
     "output_type": "execute_result"
    }
   ],
   "source": [
    "\"за {:.10f} сек.\".format(6 / 7)"
   ]
  },
  {
   "cell_type": "code",
   "execution_count": 94,
   "id": "6cc77679",
   "metadata": {},
   "outputs": [],
   "source": [
    "@show_timing\n",
    "def do_nothing():\n",
    "    pass"
   ]
  },
  {
   "cell_type": "code",
   "execution_count": 95,
   "id": "c7f676a8",
   "metadata": {},
   "outputs": [
    {
     "name": "stdout",
     "output_type": "stream",
     "text": [
      "выполнили функцию <function do_nothing at 0x10791b9d0> за 0.0000014580 сек. и получили None\n"
     ]
    }
   ],
   "source": [
    "do_nothing()"
   ]
  },
  {
   "cell_type": "code",
   "execution_count": 96,
   "id": "9a3c72e2",
   "metadata": {},
   "outputs": [],
   "source": [
    "@show_timing\n",
    "def power_number(number, power=2):\n",
    "    return number ** power"
   ]
  },
  {
   "cell_type": "code",
   "execution_count": 97,
   "id": "e2e971f6",
   "metadata": {},
   "outputs": [
    {
     "name": "stdout",
     "output_type": "stream",
     "text": [
      "выполнили функцию <function power_number at 0x10793b670> за 0.0000023750 сек. и получили 4\n"
     ]
    },
    {
     "data": {
      "text/plain": [
       "4"
      ]
     },
     "execution_count": 97,
     "metadata": {},
     "output_type": "execute_result"
    }
   ],
   "source": [
    "power_number(2)"
   ]
  },
  {
   "cell_type": "code",
   "execution_count": 98,
   "id": "1cdf1f90",
   "metadata": {},
   "outputs": [
    {
     "name": "stdout",
     "output_type": "stream",
     "text": [
      "выполнили функцию <function power_number at 0x10793b670> за 0.0000023750 сек. и получили 81\n"
     ]
    },
    {
     "data": {
      "text/plain": [
       "81"
      ]
     },
     "execution_count": 98,
     "metadata": {},
     "output_type": "execute_result"
    }
   ],
   "source": [
    "power_number(3, 4)"
   ]
  },
  {
   "cell_type": "code",
   "execution_count": 99,
   "id": "f74562a8",
   "metadata": {},
   "outputs": [
    {
     "name": "stdout",
     "output_type": "stream",
     "text": [
      "выполнили функцию <function power_number at 0x10793b670> за 0.0000032920 сек. и получили 16384\n"
     ]
    },
    {
     "data": {
      "text/plain": [
       "16384"
      ]
     },
     "execution_count": 99,
     "metadata": {},
     "output_type": "execute_result"
    }
   ],
   "source": [
    "power_number(number=4, power=7)"
   ]
  },
  {
   "cell_type": "code",
   "execution_count": 100,
   "id": "121f9723",
   "metadata": {},
   "outputs": [],
   "source": [
    "@show_timing\n",
    "def power_numbers(*numbers, power=2):\n",
    "    return [num ** power for num in numbers]"
   ]
  },
  {
   "cell_type": "code",
   "execution_count": 101,
   "id": "5fd04100",
   "metadata": {},
   "outputs": [
    {
     "name": "stdout",
     "output_type": "stream",
     "text": [
      "выполнили функцию <function power_numbers at 0x10793ba60> за 0.0000051250 сек. и получили [1]\n"
     ]
    },
    {
     "data": {
      "text/plain": [
       "[1]"
      ]
     },
     "execution_count": 101,
     "metadata": {},
     "output_type": "execute_result"
    }
   ],
   "source": [
    "power_numbers(1)"
   ]
  },
  {
   "cell_type": "code",
   "execution_count": 102,
   "id": "70ca7093",
   "metadata": {},
   "outputs": [
    {
     "name": "stdout",
     "output_type": "stream",
     "text": [
      "выполнили функцию <function power_numbers at 0x10793ba60> за 0.0000057920 сек. и получили [1, 4, 9]\n"
     ]
    },
    {
     "data": {
      "text/plain": [
       "[1, 4, 9]"
      ]
     },
     "execution_count": 102,
     "metadata": {},
     "output_type": "execute_result"
    }
   ],
   "source": [
    "power_numbers(1, 2, 3)"
   ]
  },
  {
   "cell_type": "code",
   "execution_count": 103,
   "id": "b9a89aee",
   "metadata": {},
   "outputs": [
    {
     "name": "stdout",
     "output_type": "stream",
     "text": [
      "выполнили функцию <function power_numbers at 0x10793ba60> за 0.0000061670 сек. и получили [1, 8, 27]\n"
     ]
    },
    {
     "data": {
      "text/plain": [
       "[1, 8, 27]"
      ]
     },
     "execution_count": 103,
     "metadata": {},
     "output_type": "execute_result"
    }
   ],
   "source": [
    "power_numbers(1,2,3, power=3)"
   ]
  },
  {
   "cell_type": "code",
   "execution_count": 104,
   "id": "66643f8a",
   "metadata": {},
   "outputs": [
    {
     "name": "stdout",
     "output_type": "stream",
     "text": [
      "выполнили функцию <function power_numbers at 0x10793ba60> за 0.0000060830 сек. и получили [1, 8, 27]\n"
     ]
    },
    {
     "data": {
      "text/plain": [
       "[1, 8, 27]"
      ]
     },
     "execution_count": 104,
     "metadata": {},
     "output_type": "execute_result"
    }
   ],
   "source": [
    "nums = power_numbers(1,2,3, power=3)\n",
    "nums"
   ]
  },
  {
   "cell_type": "code",
   "execution_count": 105,
   "id": "190657d0",
   "metadata": {},
   "outputs": [
    {
     "name": "stdout",
     "output_type": "stream",
     "text": [
      "выполнили функцию <function power_numbers at 0x10793ba60> за 0.0000077090 сек. и получили [1, 4096, 531441]\n"
     ]
    },
    {
     "data": {
      "text/plain": [
       "[1, 4096, 531441]"
      ]
     },
     "execution_count": 105,
     "metadata": {},
     "output_type": "execute_result"
    }
   ],
   "source": [
    "power_numbers(*nums, power=4)"
   ]
  },
  {
   "cell_type": "code",
   "execution_count": 106,
   "id": "6315bb98",
   "metadata": {},
   "outputs": [
    {
     "data": {
      "text/plain": [
       "[0, 1, 2]"
      ]
     },
     "execution_count": 106,
     "metadata": {},
     "output_type": "execute_result"
    }
   ],
   "source": [
    "[i for i in range(3)]"
   ]
  },
  {
   "cell_type": "code",
   "execution_count": 107,
   "id": "6e741d02",
   "metadata": {},
   "outputs": [
    {
     "data": {
      "text/plain": [
       "[0, 1, 2]"
      ]
     },
     "execution_count": 107,
     "metadata": {},
     "output_type": "execute_result"
    }
   ],
   "source": [
    "list(range(3))"
   ]
  },
  {
   "cell_type": "code",
   "execution_count": 108,
   "id": "399c3fd7",
   "metadata": {},
   "outputs": [
    {
     "data": {
      "text/plain": [
       "[0, 1, 4]"
      ]
     },
     "execution_count": 108,
     "metadata": {},
     "output_type": "execute_result"
    }
   ],
   "source": [
    "[i ** 2 for i in range(3)]"
   ]
  },
  {
   "cell_type": "code",
   "execution_count": 109,
   "id": "9bd30d5a",
   "metadata": {},
   "outputs": [
    {
     "data": {
      "text/plain": [
       "[1, 9, 25, 49]"
      ]
     },
     "execution_count": 109,
     "metadata": {},
     "output_type": "execute_result"
    }
   ],
   "source": [
    "[i ** 2 for i in range(8) if i % 2]"
   ]
  },
  {
   "cell_type": "code",
   "execution_count": 110,
   "id": "13126a00",
   "metadata": {},
   "outputs": [
    {
     "data": {
      "text/plain": [
       "[0, 4, 16, 36]"
      ]
     },
     "execution_count": 110,
     "metadata": {},
     "output_type": "execute_result"
    }
   ],
   "source": [
    "[i ** 2 for i in range(8) if i % 2 == 0]"
   ]
  },
  {
   "cell_type": "code",
   "execution_count": 111,
   "id": "df48758b",
   "metadata": {},
   "outputs": [],
   "source": [
    "even_squares = [i ** 2 for i in range(8) if i % 2 == 0]"
   ]
  },
  {
   "cell_type": "code",
   "execution_count": 112,
   "id": "941ad660",
   "metadata": {},
   "outputs": [
    {
     "data": {
      "text/plain": [
       "[0, 4, 16, 36]"
      ]
     },
     "execution_count": 112,
     "metadata": {},
     "output_type": "execute_result"
    }
   ],
   "source": [
    "even_squares"
   ]
  },
  {
   "cell_type": "code",
   "execution_count": 113,
   "id": "0738abc0",
   "metadata": {},
   "outputs": [
    {
     "data": {
      "text/plain": [
       "[0, 4, 16, 36]"
      ]
     },
     "execution_count": 113,
     "metadata": {},
     "output_type": "execute_result"
    }
   ],
   "source": [
    "[num for num in even_squares]"
   ]
  },
  {
   "cell_type": "code",
   "execution_count": 114,
   "id": "8e277919",
   "metadata": {},
   "outputs": [
    {
     "data": {
      "text/plain": [
       "[0, 4, 16, 36]"
      ]
     },
     "execution_count": 114,
     "metadata": {},
     "output_type": "execute_result"
    }
   ],
   "source": [
    "list(even_squares)"
   ]
  },
  {
   "cell_type": "code",
   "execution_count": 115,
   "id": "2a4faf0e",
   "metadata": {},
   "outputs": [
    {
     "data": {
      "text/plain": [
       "[0, 2, 8, 18]"
      ]
     },
     "execution_count": 115,
     "metadata": {},
     "output_type": "execute_result"
    }
   ],
   "source": [
    "[num // 2 for num in even_squares]"
   ]
  },
  {
   "cell_type": "code",
   "execution_count": 116,
   "id": "00c65463",
   "metadata": {},
   "outputs": [
    {
     "data": {
      "text/plain": [
       "[0, 1, 8, 9, 64, 25, 216, 49]"
      ]
     },
     "execution_count": 116,
     "metadata": {},
     "output_type": "execute_result"
    }
   ],
   "source": [
    "[i ** 2 if i % 2 else i ** 3 for i in range(8)]"
   ]
  },
  {
   "cell_type": "code",
   "execution_count": 117,
   "id": "883179d7",
   "metadata": {},
   "outputs": [
    {
     "data": {
      "text/plain": [
       "'hello world!'"
      ]
     },
     "execution_count": 117,
     "metadata": {},
     "output_type": "execute_result"
    }
   ],
   "source": [
    "hello_string = \"hello world!\"\n",
    "hello_string"
   ]
  },
  {
   "cell_type": "code",
   "execution_count": 118,
   "id": "14fc2ea0",
   "metadata": {},
   "outputs": [
    {
     "data": {
      "text/plain": [
       "['h', 'e', 'l', 'l', 'o', ' ', 'w', 'o', 'r', 'l', 'd', '!']"
      ]
     },
     "execution_count": 118,
     "metadata": {},
     "output_type": "execute_result"
    }
   ],
   "source": [
    "[s for s in hello_string]"
   ]
  },
  {
   "cell_type": "code",
   "execution_count": 119,
   "id": "86f4948e",
   "metadata": {},
   "outputs": [
    {
     "data": {
      "text/plain": [
       "['h', 'e', 'l', 'l', 'o', ' ', 'w', 'o', 'r', 'l', 'd', '!']"
      ]
     },
     "execution_count": 119,
     "metadata": {},
     "output_type": "execute_result"
    }
   ],
   "source": [
    "list(hello_string)"
   ]
  },
  {
   "cell_type": "code",
   "execution_count": 120,
   "id": "5e85ba15",
   "metadata": {},
   "outputs": [
    {
     "data": {
      "text/plain": [
       "['H', 'E', 'L', 'L', 'O', ' ', 'W', 'O', 'R', 'L', 'D', '!']"
      ]
     },
     "execution_count": 120,
     "metadata": {},
     "output_type": "execute_result"
    }
   ],
   "source": [
    "[s.upper() for s in hello_string]"
   ]
  },
  {
   "cell_type": "code",
   "execution_count": 121,
   "id": "3e16a81e",
   "metadata": {},
   "outputs": [
    {
     "data": {
      "text/plain": [
       "'HELLO WORLD!'"
      ]
     },
     "execution_count": 121,
     "metadata": {},
     "output_type": "execute_result"
    }
   ],
   "source": [
    "hello_string.upper()"
   ]
  },
  {
   "cell_type": "code",
   "execution_count": 122,
   "id": "8494ad0a",
   "metadata": {},
   "outputs": [
    {
     "data": {
      "text/plain": [
       "['H', 'E', 'L', 'L', 'O', ' ', 'W', 'O', 'R', 'L', 'D', '!']"
      ]
     },
     "execution_count": 122,
     "metadata": {},
     "output_type": "execute_result"
    }
   ],
   "source": [
    "list(hello_string.upper())"
   ]
  },
  {
   "cell_type": "code",
   "execution_count": 123,
   "id": "4ea6516b",
   "metadata": {},
   "outputs": [
    {
     "data": {
      "text/plain": [
       "['H', 'E', 'L', 'L', 'O', 'W', 'O', 'R', 'L', 'D', '!']"
      ]
     },
     "execution_count": 123,
     "metadata": {},
     "output_type": "execute_result"
    }
   ],
   "source": [
    "[s.upper() for s in hello_string if s.strip()]"
   ]
  },
  {
   "cell_type": "code",
   "execution_count": 124,
   "id": "a263824a",
   "metadata": {},
   "outputs": [
    {
     "data": {
      "text/plain": [
       "''"
      ]
     },
     "execution_count": 124,
     "metadata": {},
     "output_type": "execute_result"
    }
   ],
   "source": [
    "\" \".strip()"
   ]
  },
  {
   "cell_type": "code",
   "execution_count": 125,
   "id": "1629edd1",
   "metadata": {},
   "outputs": [
    {
     "data": {
      "text/plain": [
       "'hello.'"
      ]
     },
     "execution_count": 125,
     "metadata": {},
     "output_type": "execute_result"
    }
   ],
   "source": [
    "\" hello.  \".strip()"
   ]
  },
  {
   "cell_type": "code",
   "execution_count": 126,
   "id": "10e5ab1d",
   "metadata": {},
   "outputs": [
    {
     "data": {
      "text/plain": [
       "True"
      ]
     },
     "execution_count": 126,
     "metadata": {},
     "output_type": "execute_result"
    }
   ],
   "source": [
    "bool(\" \")"
   ]
  },
  {
   "cell_type": "code",
   "execution_count": 127,
   "id": "ad74e3ce",
   "metadata": {},
   "outputs": [
    {
     "data": {
      "text/plain": [
       "False"
      ]
     },
     "execution_count": 127,
     "metadata": {},
     "output_type": "execute_result"
    }
   ],
   "source": [
    "bool(\"\")"
   ]
  },
  {
   "cell_type": "code",
   "execution_count": 129,
   "id": "c0772f5f",
   "metadata": {},
   "outputs": [
    {
     "data": {
      "text/plain": [
       "{0: 0, 1: 1, 2: 4, 3: 9, 4: 16, 5: 25, 6: 36, 7: 49, 8: 64, 9: 81}"
      ]
     },
     "execution_count": 129,
     "metadata": {},
     "output_type": "execute_result"
    }
   ],
   "source": [
    "{num: num ** 2 for num in range(10)}"
   ]
  },
  {
   "cell_type": "code",
   "execution_count": 130,
   "id": "1585db41",
   "metadata": {},
   "outputs": [
    {
     "data": {
      "text/plain": [
       "{'0': 0,\n",
       " '1': 1,\n",
       " '2': 4,\n",
       " '3': 9,\n",
       " '4': 16,\n",
       " '5': 25,\n",
       " '6': 36,\n",
       " '7': 49,\n",
       " '8': 64,\n",
       " '9': 81}"
      ]
     },
     "execution_count": 130,
     "metadata": {},
     "output_type": "execute_result"
    }
   ],
   "source": [
    "{str(num): num ** 2 for num in range(10)}"
   ]
  },
  {
   "cell_type": "code",
   "execution_count": 131,
   "id": "6c784a30",
   "metadata": {},
   "outputs": [
    {
     "data": {
      "text/plain": [
       "{'sPAm': 'EGGs', 'fOO': 'BAR', 'fiZZ': 'BUzZ'}"
      ]
     },
     "execution_count": 131,
     "metadata": {},
     "output_type": "execute_result"
    }
   ],
   "source": [
    "dict_with_strings_only = {\n",
    "    \"sPAm\": \"EGGs\",\n",
    "    \"fOO\": \"BAR\",\n",
    "    \"fiZZ\": \"BUzZ\",\n",
    "}\n",
    "dict_with_strings_only"
   ]
  },
  {
   "cell_type": "code",
   "execution_count": 132,
   "id": "5dc1cda6",
   "metadata": {},
   "outputs": [
    {
     "data": {
      "text/plain": [
       "{'spam': 'eggs', 'foo': 'bar', 'fizz': 'buzz'}"
      ]
     },
     "execution_count": 132,
     "metadata": {},
     "output_type": "execute_result"
    }
   ],
   "source": [
    "dict_lower = {\n",
    "    key.lower(): value.lower()\n",
    "    for key, value in dict_with_strings_only.items()\n",
    "}\n",
    "dict_lower"
   ]
  },
  {
   "cell_type": "code",
   "execution_count": 133,
   "id": "f21f6eee",
   "metadata": {},
   "outputs": [
    {
     "data": {
      "text/plain": [
       "{0, 1, 2}"
      ]
     },
     "execution_count": 133,
     "metadata": {},
     "output_type": "execute_result"
    }
   ],
   "source": [
    "{num for num in range(3)}"
   ]
  },
  {
   "cell_type": "code",
   "execution_count": 134,
   "id": "265e1e88",
   "metadata": {},
   "outputs": [
    {
     "data": {
      "text/plain": [
       "{0, 1, 2}"
      ]
     },
     "execution_count": 134,
     "metadata": {},
     "output_type": "execute_result"
    }
   ],
   "source": [
    "set(range(3))"
   ]
  },
  {
   "cell_type": "code",
   "execution_count": 135,
   "id": "ca133559",
   "metadata": {},
   "outputs": [
    {
     "data": {
      "text/plain": [
       "{0, 1, 4}"
      ]
     },
     "execution_count": 135,
     "metadata": {},
     "output_type": "execute_result"
    }
   ],
   "source": [
    "{num ** 2 for num in range(3)}"
   ]
  },
  {
   "cell_type": "code",
   "execution_count": 136,
   "id": "99c1639d",
   "metadata": {},
   "outputs": [
    {
     "data": {
      "text/plain": [
       "'hello world!'"
      ]
     },
     "execution_count": 136,
     "metadata": {},
     "output_type": "execute_result"
    }
   ],
   "source": [
    "hello_string"
   ]
  },
  {
   "cell_type": "code",
   "execution_count": 137,
   "id": "b9ca298e",
   "metadata": {},
   "outputs": [
    {
     "data": {
      "text/plain": [
       "{' ', '!', 'd', 'e', 'h', 'l', 'o', 'r', 'w'}"
      ]
     },
     "execution_count": 137,
     "metadata": {},
     "output_type": "execute_result"
    }
   ],
   "source": [
    "set(hello_string)"
   ]
  },
  {
   "cell_type": "code",
   "execution_count": 138,
   "id": "e3d70905",
   "metadata": {},
   "outputs": [
    {
     "data": {
      "text/plain": [
       "{'!', 'd', 'e', 'h', 'l', 'o', 'r', 'w'}"
      ]
     },
     "execution_count": 138,
     "metadata": {},
     "output_type": "execute_result"
    }
   ],
   "source": [
    "{s for s in hello_string if s.strip()}"
   ]
  },
  {
   "cell_type": "code",
   "execution_count": 139,
   "id": "1884746d",
   "metadata": {},
   "outputs": [
    {
     "data": {
      "text/plain": [
       "{'!', 'D', 'E', 'H', 'L', 'O', 'R', 'W'}"
      ]
     },
     "execution_count": 139,
     "metadata": {},
     "output_type": "execute_result"
    }
   ],
   "source": [
    "{s.upper() for s in hello_string if s.strip()}"
   ]
  },
  {
   "cell_type": "code",
   "execution_count": 140,
   "id": "716b6262",
   "metadata": {},
   "outputs": [
    {
     "data": {
      "text/plain": [
       "{'!', 'D', 'E', 'H', 'L', 'O', 'R', 'W'}"
      ]
     },
     "execution_count": 140,
     "metadata": {},
     "output_type": "execute_result"
    }
   ],
   "source": [
    "{s for s in hello_string.upper() if s.strip()}"
   ]
  },
  {
   "cell_type": "code",
   "execution_count": 141,
   "id": "83650b1c",
   "metadata": {},
   "outputs": [
    {
     "data": {
      "text/plain": [
       "<generator object <genexpr> at 0x107958e40>"
      ]
     },
     "execution_count": 141,
     "metadata": {},
     "output_type": "execute_result"
    }
   ],
   "source": [
    "(num for num in range(3))"
   ]
  },
  {
   "cell_type": "code",
   "execution_count": 142,
   "id": "77823c3d",
   "metadata": {},
   "outputs": [
    {
     "data": {
      "text/plain": [
       "(0, 1, 2)"
      ]
     },
     "execution_count": 142,
     "metadata": {},
     "output_type": "execute_result"
    }
   ],
   "source": [
    "tuple(num for num in range(3))"
   ]
  },
  {
   "cell_type": "code",
   "execution_count": 143,
   "id": "419c8a86",
   "metadata": {},
   "outputs": [
    {
     "data": {
      "text/plain": [
       "range(1, 1000000000000000)"
      ]
     },
     "execution_count": 143,
     "metadata": {},
     "output_type": "execute_result"
    }
   ],
   "source": [
    "range(1, 100000000*10000000)"
   ]
  },
  {
   "cell_type": "code",
   "execution_count": 144,
   "id": "3d60e4b3",
   "metadata": {},
   "outputs": [],
   "source": [
    "g = range(1, 100000000*10000000)"
   ]
  },
  {
   "cell_type": "code",
   "execution_count": 145,
   "id": "26e963f2",
   "metadata": {},
   "outputs": [
    {
     "data": {
      "text/plain": [
       "range(1, 1000000000000000)"
      ]
     },
     "execution_count": 145,
     "metadata": {},
     "output_type": "execute_result"
    }
   ],
   "source": [
    "g"
   ]
  },
  {
   "cell_type": "code",
   "execution_count": 147,
   "id": "fc84e95f",
   "metadata": {},
   "outputs": [
    {
     "name": "stdout",
     "output_type": "stream",
     "text": [
      "1\n",
      "2\n",
      "3\n",
      "4\n",
      "5\n",
      "6\n"
     ]
    }
   ],
   "source": [
    "for i in g:\n",
    "    print(i)\n",
    "    if i > 5:\n",
    "        break"
   ]
  },
  {
   "cell_type": "code",
   "execution_count": 148,
   "id": "1146565d",
   "metadata": {},
   "outputs": [],
   "source": [
    "g = (i for i in range(7))"
   ]
  },
  {
   "cell_type": "code",
   "execution_count": 149,
   "id": "14b1a12e",
   "metadata": {},
   "outputs": [
    {
     "data": {
      "text/plain": [
       "<generator object <genexpr> at 0x10795f430>"
      ]
     },
     "execution_count": 149,
     "metadata": {},
     "output_type": "execute_result"
    }
   ],
   "source": [
    "g"
   ]
  },
  {
   "cell_type": "code",
   "execution_count": 150,
   "id": "cc93ed9d",
   "metadata": {},
   "outputs": [
    {
     "data": {
      "text/plain": [
       "0"
      ]
     },
     "execution_count": 150,
     "metadata": {},
     "output_type": "execute_result"
    }
   ],
   "source": [
    "next(g)"
   ]
  },
  {
   "cell_type": "code",
   "execution_count": 151,
   "id": "93b13dc5",
   "metadata": {},
   "outputs": [
    {
     "data": {
      "text/plain": [
       "1"
      ]
     },
     "execution_count": 151,
     "metadata": {},
     "output_type": "execute_result"
    }
   ],
   "source": [
    "next(g)"
   ]
  },
  {
   "cell_type": "code",
   "execution_count": 152,
   "id": "dbad3f02",
   "metadata": {},
   "outputs": [
    {
     "data": {
      "text/plain": [
       "2"
      ]
     },
     "execution_count": 152,
     "metadata": {},
     "output_type": "execute_result"
    }
   ],
   "source": [
    "next(g)"
   ]
  },
  {
   "cell_type": "code",
   "execution_count": 153,
   "id": "b6a6bb06",
   "metadata": {},
   "outputs": [
    {
     "name": "stdout",
     "output_type": "stream",
     "text": [
      "3\n",
      "4\n",
      "5\n",
      "6\n"
     ]
    }
   ],
   "source": [
    "for i in g:\n",
    "    print(i)"
   ]
  },
  {
   "cell_type": "code",
   "execution_count": 154,
   "id": "21d3552c",
   "metadata": {},
   "outputs": [],
   "source": [
    "for i in g:\n",
    "    print(i)"
   ]
  },
  {
   "cell_type": "code",
   "execution_count": 155,
   "id": "2b92d8cd",
   "metadata": {},
   "outputs": [
    {
     "name": "stdout",
     "output_type": "stream",
     "text": [
      "0\n",
      "1\n",
      "2\n",
      "3\n"
     ]
    }
   ],
   "source": [
    "g = (i for i in range(4))\n",
    "for i in g:\n",
    "    print(i)"
   ]
  },
  {
   "cell_type": "code",
   "execution_count": 156,
   "id": "1170746d",
   "metadata": {},
   "outputs": [],
   "source": [
    "for i in g:\n",
    "    print(i)"
   ]
  },
  {
   "cell_type": "code",
   "execution_count": 162,
   "id": "e67671df",
   "metadata": {},
   "outputs": [],
   "source": [
    "def gen_squares(numbers):\n",
    "    for num in numbers:\n",
    "        print(\"process and yield\", num)\n",
    "        yield num ** 2\n",
    "        print(\"next line after yield, last line in cycle\")"
   ]
  },
  {
   "cell_type": "code",
   "execution_count": 159,
   "id": "a11b9bc4",
   "metadata": {},
   "outputs": [
    {
     "data": {
      "text/plain": [
       "<generator object gen_squares at 0x10795feb0>"
      ]
     },
     "execution_count": 159,
     "metadata": {},
     "output_type": "execute_result"
    }
   ],
   "source": [
    "gen_squares([1,2,3])"
   ]
  },
  {
   "cell_type": "code",
   "execution_count": 163,
   "id": "a21a6fa9",
   "metadata": {},
   "outputs": [],
   "source": [
    "g = gen_squares([1,2,3])"
   ]
  },
  {
   "cell_type": "code",
   "execution_count": 164,
   "id": "bb1ab815",
   "metadata": {},
   "outputs": [
    {
     "name": "stdout",
     "output_type": "stream",
     "text": [
      "process and yield 1\n"
     ]
    },
    {
     "data": {
      "text/plain": [
       "1"
      ]
     },
     "execution_count": 164,
     "metadata": {},
     "output_type": "execute_result"
    }
   ],
   "source": [
    "next(g)"
   ]
  },
  {
   "cell_type": "code",
   "execution_count": 165,
   "id": "99a2a138",
   "metadata": {},
   "outputs": [
    {
     "name": "stdout",
     "output_type": "stream",
     "text": [
      "next line after yield, last line in cycle\n",
      "process and yield 2\n"
     ]
    },
    {
     "data": {
      "text/plain": [
       "4"
      ]
     },
     "execution_count": 165,
     "metadata": {},
     "output_type": "execute_result"
    }
   ],
   "source": [
    "next(g)"
   ]
  },
  {
   "cell_type": "code",
   "execution_count": 166,
   "id": "8b68fb31",
   "metadata": {},
   "outputs": [
    {
     "name": "stdout",
     "output_type": "stream",
     "text": [
      "next line after yield, last line in cycle\n",
      "process and yield 3\n"
     ]
    },
    {
     "data": {
      "text/plain": [
       "9"
      ]
     },
     "execution_count": 166,
     "metadata": {},
     "output_type": "execute_result"
    }
   ],
   "source": [
    "next(g)"
   ]
  },
  {
   "cell_type": "code",
   "execution_count": 167,
   "id": "dfc2e8c8",
   "metadata": {},
   "outputs": [
    {
     "name": "stdout",
     "output_type": "stream",
     "text": [
      "next line after yield, last line in cycle\n"
     ]
    },
    {
     "ename": "StopIteration",
     "evalue": "",
     "output_type": "error",
     "traceback": [
      "\u001b[0;31m---------------------------------------------------------------------------\u001b[0m",
      "\u001b[0;31mStopIteration\u001b[0m                             Traceback (most recent call last)",
      "\u001b[0;32m/var/folders/fj/49hkzfz15_zcq5jwvzbzk6fm0000gn/T/ipykernel_92204/4253931490.py\u001b[0m in \u001b[0;36m<module>\u001b[0;34m\u001b[0m\n\u001b[0;32m----> 1\u001b[0;31m \u001b[0mnext\u001b[0m\u001b[0;34m(\u001b[0m\u001b[0mg\u001b[0m\u001b[0;34m)\u001b[0m\u001b[0;34m\u001b[0m\u001b[0;34m\u001b[0m\u001b[0m\n\u001b[0m",
      "\u001b[0;31mStopIteration\u001b[0m: "
     ]
    }
   ],
   "source": [
    "next(g)"
   ]
  },
  {
   "cell_type": "code",
   "execution_count": 168,
   "id": "05cce165",
   "metadata": {},
   "outputs": [
    {
     "name": "stdout",
     "output_type": "stream",
     "text": [
      "process and yield 2\n",
      "4\n",
      "next line after yield, last line in cycle\n",
      "process and yield 3\n",
      "9\n",
      "next line after yield, last line in cycle\n",
      "process and yield 5\n",
      "25\n",
      "next line after yield, last line in cycle\n",
      "process and yield 8\n",
      "64\n",
      "next line after yield, last line in cycle\n"
     ]
    }
   ],
   "source": [
    "for i in gen_squares([2,3, 5, 8]):\n",
    "    print(i)"
   ]
  },
  {
   "cell_type": "code",
   "execution_count": null,
   "id": "2a67b566",
   "metadata": {},
   "outputs": [],
   "source": []
  }
 ],
 "metadata": {
  "kernelspec": {
   "display_name": "Python 3 (ipykernel)",
   "language": "python",
   "name": "python3"
  },
  "language_info": {
   "codemirror_mode": {
    "name": "ipython",
    "version": 3
   },
   "file_extension": ".py",
   "mimetype": "text/x-python",
   "name": "python",
   "nbconvert_exporter": "python",
   "pygments_lexer": "ipython3",
   "version": "3.9.1"
  }
 },
 "nbformat": 4,
 "nbformat_minor": 5
}
