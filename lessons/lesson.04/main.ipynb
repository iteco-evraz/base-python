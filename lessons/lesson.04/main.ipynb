{
 "cells": [
  {
   "cell_type": "code",
   "execution_count": 1,
   "id": "ecc71adf",
   "metadata": {},
   "outputs": [],
   "source": [
    "def power_number(number, power=2):\n",
    "    return number ** power"
   ]
  },
  {
   "cell_type": "code",
   "execution_count": 2,
   "id": "758f754b",
   "metadata": {},
   "outputs": [
    {
     "data": {
      "text/plain": [
       "9"
      ]
     },
     "execution_count": 2,
     "metadata": {},
     "output_type": "execute_result"
    }
   ],
   "source": [
    "power_number(3, 2)"
   ]
  },
  {
   "cell_type": "code",
   "execution_count": 3,
   "id": "543baf94",
   "metadata": {},
   "outputs": [
    {
     "data": {
      "text/plain": [
       "64"
      ]
     },
     "execution_count": 3,
     "metadata": {},
     "output_type": "execute_result"
    }
   ],
   "source": [
    "power_number(4, power=3)"
   ]
  },
  {
   "cell_type": "code",
   "execution_count": 4,
   "id": "0ae767c1",
   "metadata": {},
   "outputs": [
    {
     "data": {
      "text/plain": [
       "100"
      ]
     },
     "execution_count": 4,
     "metadata": {},
     "output_type": "execute_result"
    }
   ],
   "source": [
    "power_number(number=10, power=2)"
   ]
  },
  {
   "cell_type": "code",
   "execution_count": 5,
   "id": "149a2ab3",
   "metadata": {},
   "outputs": [
    {
     "data": {
      "text/plain": [
       "1024"
      ]
     },
     "execution_count": 5,
     "metadata": {},
     "output_type": "execute_result"
    }
   ],
   "source": [
    "power_number(power=10, number=2)"
   ]
  },
  {
   "cell_type": "code",
   "execution_count": 6,
   "id": "701e842d",
   "metadata": {},
   "outputs": [
    {
     "data": {
      "text/plain": [
       "343"
      ]
     },
     "execution_count": 6,
     "metadata": {},
     "output_type": "execute_result"
    }
   ],
   "source": [
    "a = 3\n",
    "b = 7\n",
    "power_number(number=b, power=a)"
   ]
  },
  {
   "cell_type": "code",
   "execution_count": 7,
   "id": "1ba482dc",
   "metadata": {},
   "outputs": [
    {
     "data": {
      "text/plain": [
       "343"
      ]
     },
     "execution_count": 7,
     "metadata": {},
     "output_type": "execute_result"
    }
   ],
   "source": [
    "power_number(power=a, number=b)"
   ]
  },
  {
   "cell_type": "code",
   "execution_count": 8,
   "id": "56525803",
   "metadata": {},
   "outputs": [
    {
     "data": {
      "text/plain": [
       "2187"
      ]
     },
     "execution_count": 8,
     "metadata": {},
     "output_type": "execute_result"
    }
   ],
   "source": [
    "power_number(a, b)"
   ]
  },
  {
   "cell_type": "code",
   "execution_count": 9,
   "id": "df33c203",
   "metadata": {},
   "outputs": [
    {
     "data": {
      "text/plain": [
       "343"
      ]
     },
     "execution_count": 9,
     "metadata": {},
     "output_type": "execute_result"
    }
   ],
   "source": [
    "power_number(b, a)"
   ]
  },
  {
   "cell_type": "code",
   "execution_count": 10,
   "id": "217d49f8",
   "metadata": {},
   "outputs": [
    {
     "name": "stdout",
     "output_type": "stream",
     "text": [
      "{'number': 7, 'power': 3}\n"
     ]
    }
   ],
   "source": [
    "params = {\n",
    "    \"number\": b,\n",
    "    \"power\": a,\n",
    "}\n",
    "print(params)"
   ]
  },
  {
   "cell_type": "code",
   "execution_count": 11,
   "id": "95d98c87",
   "metadata": {},
   "outputs": [
    {
     "data": {
      "text/plain": [
       "343"
      ]
     },
     "execution_count": 11,
     "metadata": {},
     "output_type": "execute_result"
    }
   ],
   "source": [
    "power_number(**params)"
   ]
  },
  {
   "cell_type": "code",
   "execution_count": 12,
   "id": "3c12e4b0",
   "metadata": {},
   "outputs": [
    {
     "data": {
      "text/plain": [
       "1048576"
      ]
     },
     "execution_count": 12,
     "metadata": {},
     "output_type": "execute_result"
    }
   ],
   "source": [
    "params[\"power\"] = 10\n",
    "params[\"number\"] = 4\n",
    "power_number(**params)"
   ]
  },
  {
   "cell_type": "code",
   "execution_count": 13,
   "id": "5da2578b",
   "metadata": {},
   "outputs": [
    {
     "data": {
      "text/plain": [
       "4096"
      ]
     },
     "execution_count": 13,
     "metadata": {},
     "output_type": "execute_result"
    }
   ],
   "source": [
    "params[\"power\"] = 6\n",
    "power_number(**params)"
   ]
  },
  {
   "cell_type": "code",
   "execution_count": 14,
   "id": "68218b86",
   "metadata": {},
   "outputs": [],
   "source": [
    "def accept_any_kwargs(**kwargs):\n",
    "    print(\"got kwargs\", kwargs, \"show then by one:\")\n",
    "    for key, value in kwargs.items():\n",
    "        print(key, value)"
   ]
  },
  {
   "cell_type": "code",
   "execution_count": 15,
   "id": "314ad89a",
   "metadata": {},
   "outputs": [
    {
     "name": "stdout",
     "output_type": "stream",
     "text": [
      "got kwargs {'number': 4, 'power': 6} show then by one:\n",
      "number 4\n",
      "power 6\n"
     ]
    }
   ],
   "source": [
    "accept_any_kwargs(**params)"
   ]
  },
  {
   "cell_type": "code",
   "execution_count": 16,
   "id": "26ed22eb",
   "metadata": {},
   "outputs": [
    {
     "name": "stdout",
     "output_type": "stream",
     "text": [
      "got kwargs {'key': 'value', 'foo': 'bar', 'fizz': 'buzz', 'nums': [1, 2, 3]} show then by one:\n",
      "key value\n",
      "foo bar\n",
      "fizz buzz\n",
      "nums [1, 2, 3]\n"
     ]
    }
   ],
   "source": [
    "accept_any_kwargs(key=\"value\", foo=\"bar\", fizz=\"buzz\", nums=[1,2,3])"
   ]
  },
  {
   "cell_type": "code",
   "execution_count": 17,
   "id": "3d89258d",
   "metadata": {},
   "outputs": [
    {
     "name": "stdout",
     "output_type": "stream",
     "text": [
      "got kwargs {'spam': 'eggs', 'number': 4, 'power': 6} show then by one:\n",
      "spam eggs\n",
      "number 4\n",
      "power 6\n"
     ]
    }
   ],
   "source": [
    "accept_any_kwargs(spam=\"eggs\", **params)"
   ]
  },
  {
   "cell_type": "code",
   "execution_count": 18,
   "id": "65720d3a",
   "metadata": {},
   "outputs": [
    {
     "name": "stdout",
     "output_type": "stream",
     "text": [
      "got kwargs {} show then by one:\n"
     ]
    }
   ],
   "source": [
    "accept_any_kwargs()"
   ]
  },
  {
   "cell_type": "code",
   "execution_count": 19,
   "id": "feb7d807",
   "metadata": {},
   "outputs": [
    {
     "name": "stdout",
     "output_type": "stream",
     "text": [
      "got kwargs {'spam': 'eggs'} show then by one:\n",
      "spam eggs\n"
     ]
    }
   ],
   "source": [
    "accept_any_kwargs(spam=\"eggs\")"
   ]
  },
  {
   "cell_type": "code",
   "execution_count": 20,
   "id": "247aa083",
   "metadata": {},
   "outputs": [],
   "source": [
    "def show_cubes(*numbers):\n",
    "    print(\"process numbers\", numbers)\n",
    "    for num in numbers:\n",
    "        print(num ** 3)"
   ]
  },
  {
   "cell_type": "code",
   "execution_count": 21,
   "id": "e39565ce",
   "metadata": {},
   "outputs": [
    {
     "name": "stdout",
     "output_type": "stream",
     "text": [
      "process numbers ()\n"
     ]
    }
   ],
   "source": [
    "show_cubes()"
   ]
  },
  {
   "cell_type": "code",
   "execution_count": 22,
   "id": "4ff35a0f",
   "metadata": {},
   "outputs": [
    {
     "name": "stdout",
     "output_type": "stream",
     "text": [
      "process numbers (2, 3)\n",
      "8\n",
      "27\n"
     ]
    }
   ],
   "source": [
    "show_cubes(2, 3)"
   ]
  },
  {
   "cell_type": "code",
   "execution_count": 23,
   "id": "f8de667a",
   "metadata": {},
   "outputs": [
    {
     "name": "stdout",
     "output_type": "stream",
     "text": [
      "process numbers (2,)\n",
      "8\n"
     ]
    }
   ],
   "source": [
    "show_cubes(2)"
   ]
  },
  {
   "cell_type": "code",
   "execution_count": 24,
   "id": "bb0af25c",
   "metadata": {},
   "outputs": [
    {
     "name": "stdout",
     "output_type": "stream",
     "text": [
      "process numbers (1, 2, 3, 4)\n",
      "1\n",
      "8\n",
      "27\n",
      "64\n"
     ]
    }
   ],
   "source": [
    "show_cubes(1,2,3,4)"
   ]
  },
  {
   "cell_type": "code",
   "execution_count": 25,
   "id": "cb59f273",
   "metadata": {},
   "outputs": [
    {
     "name": "stdout",
     "output_type": "stream",
     "text": [
      "[1, 4, 6, 7]\n"
     ]
    }
   ],
   "source": [
    "list_of_nums = [1,4,6,7]\n",
    "print(list_of_nums)"
   ]
  },
  {
   "cell_type": "code",
   "execution_count": 27,
   "id": "edd7435e",
   "metadata": {},
   "outputs": [
    {
     "name": "stdout",
     "output_type": "stream",
     "text": [
      "process numbers (1, 4, 6, 7)\n",
      "1\n",
      "64\n",
      "216\n",
      "343\n"
     ]
    }
   ],
   "source": [
    "# show_cubes(1, 4, 6, 7)\n",
    "show_cubes(*list_of_nums)"
   ]
  },
  {
   "cell_type": "code",
   "execution_count": 28,
   "id": "d4ef3361",
   "metadata": {},
   "outputs": [
    {
     "name": "stdout",
     "output_type": "stream",
     "text": [
      "3 4\n"
     ]
    }
   ],
   "source": [
    "a, b = (3, 4)\n",
    "print(a, b)"
   ]
  },
  {
   "cell_type": "code",
   "execution_count": 29,
   "id": "de18528c",
   "metadata": {
    "scrolled": true
   },
   "outputs": [
    {
     "name": "stdout",
     "output_type": "stream",
     "text": [
      "1 7\n",
      "[4, 6]\n"
     ]
    }
   ],
   "source": [
    "a, *others, b = list_of_nums\n",
    "print(a, b)\n",
    "print(others)"
   ]
  },
  {
   "cell_type": "code",
   "execution_count": 30,
   "id": "296605f0",
   "metadata": {},
   "outputs": [
    {
     "name": "stdout",
     "output_type": "stream",
     "text": [
      "process numbers (1, 4, 6, 7, 8, 9, 10)\n",
      "1\n",
      "64\n",
      "216\n",
      "343\n",
      "512\n",
      "729\n",
      "1000\n"
     ]
    }
   ],
   "source": [
    "show_cubes(*list_of_nums, *range(8, 11))"
   ]
  },
  {
   "cell_type": "code",
   "execution_count": 31,
   "id": "d104829f",
   "metadata": {},
   "outputs": [],
   "source": [
    "def find_by_key(key, **kwargs):\n",
    "    print(\"find key\", repr(key), \"in kwargs\", kwargs)\n",
    "    if key in kwargs:\n",
    "        print(\"key is in kwargs\")\n",
    "        return kwargs[key]\n",
    "    print(\"key not found\")"
   ]
  },
  {
   "cell_type": "code",
   "execution_count": 32,
   "id": "aaceb29f",
   "metadata": {},
   "outputs": [
    {
     "name": "stdout",
     "output_type": "stream",
     "text": [
      "find key 'key' in kwargs {'number': 4, 'power': 6}\n",
      "key not found\n"
     ]
    }
   ],
   "source": [
    "find_by_key(\"key\", **params)"
   ]
  },
  {
   "cell_type": "code",
   "execution_count": 33,
   "id": "ad9b4ec9",
   "metadata": {},
   "outputs": [
    {
     "name": "stdout",
     "output_type": "stream",
     "text": [
      "find key 'number' in kwargs {'number': 4, 'power': 6}\n",
      "key is in kwargs\n"
     ]
    },
    {
     "data": {
      "text/plain": [
       "4"
      ]
     },
     "execution_count": 33,
     "metadata": {},
     "output_type": "execute_result"
    }
   ],
   "source": [
    "find_by_key(\"number\", **params)"
   ]
  },
  {
   "cell_type": "code",
   "execution_count": 34,
   "id": "6f3be4e0",
   "metadata": {},
   "outputs": [
    {
     "name": "stdout",
     "output_type": "stream",
     "text": [
      "find key 'power' in kwargs {'number': 4, 'power': 6}\n",
      "key is in kwargs\n"
     ]
    },
    {
     "data": {
      "text/plain": [
       "6"
      ]
     },
     "execution_count": 34,
     "metadata": {},
     "output_type": "execute_result"
    }
   ],
   "source": [
    "find_by_key(\"power\", **params)"
   ]
  },
  {
   "cell_type": "code",
   "execution_count": 35,
   "id": "48dcee5f",
   "metadata": {},
   "outputs": [
    {
     "name": "stdout",
     "output_type": "stream",
     "text": [
      "find key 'foo' in kwargs {'spam': 'eggs'}\n",
      "key not found\n"
     ]
    }
   ],
   "source": [
    "find_by_key(\"foo\", spam=\"eggs\")"
   ]
  },
  {
   "cell_type": "code",
   "execution_count": 36,
   "id": "0aea1333",
   "metadata": {},
   "outputs": [
    {
     "name": "stdout",
     "output_type": "stream",
     "text": [
      "find key 'foo' in kwargs {'spam': 'eggs', 'foo': 'bar'}\n",
      "key is in kwargs\n"
     ]
    },
    {
     "data": {
      "text/plain": [
       "'bar'"
      ]
     },
     "execution_count": 36,
     "metadata": {},
     "output_type": "execute_result"
    }
   ],
   "source": [
    "find_by_key(\"foo\", spam=\"eggs\", foo=\"bar\")"
   ]
  },
  {
   "cell_type": "code",
   "execution_count": 37,
   "id": "8d4d3e2f",
   "metadata": {},
   "outputs": [
    {
     "name": "stdout",
     "output_type": "stream",
     "text": [
      "find key 'foo' in kwargs {'spam': 'eggs', 'foo': 'bar', 'number': 4, 'power': 6}\n",
      "key is in kwargs\n"
     ]
    },
    {
     "data": {
      "text/plain": [
       "'bar'"
      ]
     },
     "execution_count": 37,
     "metadata": {},
     "output_type": "execute_result"
    }
   ],
   "source": [
    "find_by_key(\"foo\", spam=\"eggs\", foo=\"bar\", **params)"
   ]
  },
  {
   "cell_type": "code",
   "execution_count": 38,
   "id": "ad4c5bda",
   "metadata": {},
   "outputs": [
    {
     "name": "stdout",
     "output_type": "stream",
     "text": [
      "find key 'number' in kwargs {'spam': 'eggs', 'foo': 'bar', 'number': 4, 'power': 6}\n",
      "key is in kwargs\n"
     ]
    },
    {
     "data": {
      "text/plain": [
       "4"
      ]
     },
     "execution_count": 38,
     "metadata": {},
     "output_type": "execute_result"
    }
   ],
   "source": [
    "find_by_key(\"number\", spam=\"eggs\", foo=\"bar\", **params)"
   ]
  },
  {
   "cell_type": "code",
   "execution_count": 39,
   "id": "bb75e358",
   "metadata": {},
   "outputs": [
    {
     "name": "stdout",
     "output_type": "stream",
     "text": [
      "find key 'fizz' in kwargs {'spam': 'eggs', 'foo': 'bar'}\n",
      "key not found\n"
     ]
    }
   ],
   "source": [
    "find_by_key(key=\"fizz\", spam=\"eggs\", foo=\"bar\")"
   ]
  },
  {
   "cell_type": "code",
   "execution_count": 40,
   "id": "a066bb4e",
   "metadata": {},
   "outputs": [
    {
     "name": "stdout",
     "output_type": "stream",
     "text": [
      "find key 'fizz' in kwargs {'spam': 'eggs', 'foo': 'bar', 'fizz': 'buzz'}\n",
      "key is in kwargs\n"
     ]
    },
    {
     "data": {
      "text/plain": [
       "'buzz'"
      ]
     },
     "execution_count": 40,
     "metadata": {},
     "output_type": "execute_result"
    }
   ],
   "source": [
    "find_by_key(key=\"fizz\", spam=\"eggs\", foo=\"bar\", fizz=\"buzz\")"
   ]
  },
  {
   "cell_type": "code",
   "execution_count": 41,
   "id": "857adf88",
   "metadata": {},
   "outputs": [
    {
     "name": "stdout",
     "output_type": "stream",
     "text": [
      "{'number': 4, 'power': 6, 'key': 'power'}\n"
     ]
    }
   ],
   "source": [
    "new_params = {\n",
    "    **params,\n",
    "    \"key\": \"power\",\n",
    "}\n",
    "print(new_params)"
   ]
  },
  {
   "cell_type": "code",
   "execution_count": 42,
   "id": "5c54b062",
   "metadata": {},
   "outputs": [
    {
     "name": "stdout",
     "output_type": "stream",
     "text": [
      "find key 'power' in kwargs {'number': 4, 'power': 6}\n",
      "key is in kwargs\n"
     ]
    },
    {
     "data": {
      "text/plain": [
       "6"
      ]
     },
     "execution_count": 42,
     "metadata": {},
     "output_type": "execute_result"
    }
   ],
   "source": [
    "find_by_key(**new_params)"
   ]
  },
  {
   "cell_type": "code",
   "execution_count": 43,
   "id": "34053ecd",
   "metadata": {},
   "outputs": [
    {
     "name": "stdout",
     "output_type": "stream",
     "text": [
      "{'key': 'qwe', 'spam': 'eggs', 'data': {'1': 'one'}, 'items': [1, 2, 3]}\n"
     ]
    }
   ],
   "source": [
    "data = {\n",
    "    \"key\": \"qwe\",\n",
    "    \"spam\": \"eggs\",\n",
    "    \"data\": {\"1\": \"one\"},\n",
    "    \"items\": [1,2,3],\n",
    "}\n",
    "print(data)"
   ]
  },
  {
   "cell_type": "code",
   "execution_count": 44,
   "id": "ecbaa8f9",
   "metadata": {},
   "outputs": [
    {
     "name": "stdout",
     "output_type": "stream",
     "text": [
      "find key 'qwe' in kwargs {'spam': 'eggs', 'data': {'1': 'one'}, 'items': [1, 2, 3]}\n",
      "key not found\n"
     ]
    }
   ],
   "source": [
    "find_by_key(**data)"
   ]
  },
  {
   "cell_type": "code",
   "execution_count": 45,
   "id": "a605c61b",
   "metadata": {},
   "outputs": [
    {
     "data": {
      "text/plain": [
       "{'key': 'qwe',\n",
       " 'spam': 'eggs',\n",
       " 'data': {'1': 'one'},\n",
       " 'items': [1, 2, 3],\n",
       " 'qwe': 'abc'}"
      ]
     },
     "execution_count": 45,
     "metadata": {},
     "output_type": "execute_result"
    }
   ],
   "source": [
    "data[\"qwe\"] = \"abc\"\n",
    "data"
   ]
  },
  {
   "cell_type": "code",
   "execution_count": 46,
   "id": "cd98ebc7",
   "metadata": {},
   "outputs": [
    {
     "name": "stdout",
     "output_type": "stream",
     "text": [
      "find key 'qwe' in kwargs {'spam': 'eggs', 'data': {'1': 'one'}, 'items': [1, 2, 3], 'qwe': 'abc'}\n",
      "key is in kwargs\n"
     ]
    },
    {
     "data": {
      "text/plain": [
       "'abc'"
      ]
     },
     "execution_count": 46,
     "metadata": {},
     "output_type": "execute_result"
    }
   ],
   "source": [
    "find_by_key(**data)"
   ]
  },
  {
   "cell_type": "code",
   "execution_count": 47,
   "id": "2176fce2",
   "metadata": {},
   "outputs": [],
   "source": [
    "def my_function():\n",
    "    print(\"простая функция выполняется\")"
   ]
  },
  {
   "cell_type": "code",
   "execution_count": 48,
   "id": "515d7f86",
   "metadata": {},
   "outputs": [
    {
     "data": {
      "text/plain": [
       "<function __main__.my_function()>"
      ]
     },
     "execution_count": 48,
     "metadata": {},
     "output_type": "execute_result"
    }
   ],
   "source": [
    "my_function"
   ]
  },
  {
   "cell_type": "code",
   "execution_count": 49,
   "id": "d8d8f46a",
   "metadata": {},
   "outputs": [
    {
     "name": "stdout",
     "output_type": "stream",
     "text": [
      "простая функция выполняется\n"
     ]
    }
   ],
   "source": [
    "my_function()"
   ]
  },
  {
   "cell_type": "code",
   "execution_count": 50,
   "id": "5931d79f",
   "metadata": {},
   "outputs": [],
   "source": [
    "def my_decorator(func_to_decorate):\n",
    "    print(\"мы внутри функции по созданию новой функции\")\n",
    "    \n",
    "    def replacement_function():\n",
    "        print(\"мы внутри функции-замены, сейчас выполним оригинальную функцию\")\n",
    "        func_to_decorate()\n",
    "        print(\"функция-замена выполнила оригинальную функцию\")\n",
    "    \n",
    "    print(\"мы создали новую функцию, возвращаем\")\n",
    "    return replacement_function"
   ]
  },
  {
   "cell_type": "code",
   "execution_count": 51,
   "id": "a9d888ae",
   "metadata": {},
   "outputs": [
    {
     "data": {
      "text/plain": [
       "<function __main__.my_function()>"
      ]
     },
     "execution_count": 51,
     "metadata": {},
     "output_type": "execute_result"
    }
   ],
   "source": [
    "my_function"
   ]
  },
  {
   "cell_type": "code",
   "execution_count": 52,
   "id": "8eef28fc",
   "metadata": {},
   "outputs": [
    {
     "name": "stdout",
     "output_type": "stream",
     "text": [
      "простая функция выполняется\n"
     ]
    }
   ],
   "source": [
    "my_function()"
   ]
  },
  {
   "cell_type": "code",
   "execution_count": 53,
   "id": "d3c54a88",
   "metadata": {},
   "outputs": [
    {
     "name": "stdout",
     "output_type": "stream",
     "text": [
      "мы внутри функции по созданию новой функции\n",
      "мы создали новую функцию, возвращаем\n"
     ]
    }
   ],
   "source": [
    "my_function = my_decorator(my_function)"
   ]
  },
  {
   "cell_type": "code",
   "execution_count": 54,
   "id": "3f5af7e6",
   "metadata": {},
   "outputs": [
    {
     "data": {
      "text/plain": [
       "<function __main__.my_decorator.<locals>.replacement_function()>"
      ]
     },
     "execution_count": 54,
     "metadata": {},
     "output_type": "execute_result"
    }
   ],
   "source": [
    "my_function"
   ]
  },
  {
   "cell_type": "code",
   "execution_count": 55,
   "id": "4c0dd14c",
   "metadata": {},
   "outputs": [
    {
     "name": "stdout",
     "output_type": "stream",
     "text": [
      "мы внутри функции-замены, сейчас выполним оригинальную функцию\n",
      "простая функция выполняется\n",
      "функция-замена выполнила оригинальную функцию\n"
     ]
    }
   ],
   "source": [
    "my_function()"
   ]
  },
  {
   "cell_type": "code",
   "execution_count": 56,
   "id": "6628410d",
   "metadata": {},
   "outputs": [
    {
     "name": "stdout",
     "output_type": "stream",
     "text": [
      "мы внутри функции по созданию новой функции\n",
      "мы создали новую функцию, возвращаем\n"
     ]
    }
   ],
   "source": [
    "@my_decorator\n",
    "def small_func():\n",
    "    print(\"привет, я маленькая функция\")"
   ]
  },
  {
   "cell_type": "code",
   "execution_count": 57,
   "id": "cbc21ec2",
   "metadata": {},
   "outputs": [
    {
     "name": "stdout",
     "output_type": "stream",
     "text": [
      "мы внутри функции-замены, сейчас выполним оригинальную функцию\n",
      "привет, я маленькая функция\n",
      "функция-замена выполнила оригинальную функцию\n"
     ]
    }
   ],
   "source": [
    "small_func()"
   ]
  },
  {
   "cell_type": "code",
   "execution_count": 58,
   "id": "141ff21b",
   "metadata": {},
   "outputs": [
    {
     "data": {
      "text/plain": [
       "<function __main__.my_decorator.<locals>.replacement_function()>"
      ]
     },
     "execution_count": 58,
     "metadata": {},
     "output_type": "execute_result"
    }
   ],
   "source": [
    "small_func"
   ]
  },
  {
   "cell_type": "code",
   "execution_count": 59,
   "id": "c74ff947",
   "metadata": {},
   "outputs": [
    {
     "data": {
      "text/plain": [
       "<function __main__.my_decorator.<locals>.replacement_function()>"
      ]
     },
     "execution_count": 59,
     "metadata": {},
     "output_type": "execute_result"
    }
   ],
   "source": [
    "my_function"
   ]
  },
  {
   "cell_type": "code",
   "execution_count": 60,
   "id": "5c0615b8",
   "metadata": {},
   "outputs": [
    {
     "name": "stdout",
     "output_type": "stream",
     "text": [
      "мы внутри функции-замены, сейчас выполним оригинальную функцию\n",
      "простая функция выполняется\n",
      "функция-замена выполнила оригинальную функцию\n"
     ]
    }
   ],
   "source": [
    "my_function()"
   ]
  },
  {
   "cell_type": "code",
   "execution_count": 61,
   "id": "f82f023f",
   "metadata": {},
   "outputs": [
    {
     "data": {
      "text/plain": [
       "True"
      ]
     },
     "execution_count": 61,
     "metadata": {},
     "output_type": "execute_result"
    }
   ],
   "source": [
    "bool(1)"
   ]
  },
  {
   "cell_type": "code",
   "execution_count": 62,
   "id": "5d3ff012",
   "metadata": {},
   "outputs": [],
   "source": [
    "from functools import wraps"
   ]
  },
  {
   "cell_type": "code",
   "execution_count": 63,
   "id": "99308b49",
   "metadata": {},
   "outputs": [],
   "source": [
    "def my_dec(func):\n",
    "    \n",
    "    @wraps(func)\n",
    "    def wrapper():\n",
    "        print(\"вызываю исходную функцию\", func)\n",
    "        func()\n",
    "        print(\"выхожу из функции\")\n",
    "    \n",
    "    return wrapper"
   ]
  },
  {
   "cell_type": "code",
   "execution_count": 64,
   "id": "04940448",
   "metadata": {},
   "outputs": [],
   "source": [
    "@my_dec\n",
    "def some_func():\n",
    "    print(\"выполняю тело фукнции\")"
   ]
  },
  {
   "cell_type": "code",
   "execution_count": 65,
   "id": "80d82a25",
   "metadata": {},
   "outputs": [
    {
     "data": {
      "text/plain": [
       "<function __main__.some_func()>"
      ]
     },
     "execution_count": 65,
     "metadata": {},
     "output_type": "execute_result"
    }
   ],
   "source": [
    "some_func"
   ]
  },
  {
   "cell_type": "code",
   "execution_count": 66,
   "id": "4480a06d",
   "metadata": {},
   "outputs": [
    {
     "name": "stdout",
     "output_type": "stream",
     "text": [
      "вызываю исходную функцию <function some_func at 0x10327a310>\n",
      "выполняю тело фукнции\n",
      "выхожу из функции\n"
     ]
    }
   ],
   "source": [
    "some_func()"
   ]
  },
  {
   "cell_type": "code",
   "execution_count": 70,
   "id": "beb2df62",
   "metadata": {},
   "outputs": [],
   "source": [
    "def dec_foo(func):\n",
    "    print(\"decorating func\", func)\n",
    "    \n",
    "    @wraps(func)\n",
    "    def wrapper():\n",
    "        print(\"foo выполняется\")\n",
    "        func()\n",
    "        print(\"foo завершается\")\n",
    "    \n",
    "    return wrapper"
   ]
  },
  {
   "cell_type": "code",
   "execution_count": 71,
   "id": "c1b193ad",
   "metadata": {},
   "outputs": [
    {
     "name": "stdout",
     "output_type": "stream",
     "text": [
      "decorating func <function my_func at 0x10327ac10>\n"
     ]
    }
   ],
   "source": [
    "@dec_foo\n",
    "@my_dec\n",
    "def my_func():\n",
    "    print(\"выполняется исходная функция\")"
   ]
  },
  {
   "cell_type": "code",
   "execution_count": 72,
   "id": "15bf8736",
   "metadata": {},
   "outputs": [
    {
     "name": "stdout",
     "output_type": "stream",
     "text": [
      "foo выполняется\n",
      "вызываю исходную функцию <function my_func at 0x10327a4c0>\n",
      "выполняется исходная функция\n",
      "выхожу из функции\n",
      "foo завершается\n"
     ]
    }
   ],
   "source": [
    "my_func()"
   ]
  },
  {
   "cell_type": "code",
   "execution_count": 73,
   "id": "a1cf8444",
   "metadata": {},
   "outputs": [
    {
     "data": {
      "text/plain": [
       "<function __main__.my_func()>"
      ]
     },
     "execution_count": 73,
     "metadata": {},
     "output_type": "execute_result"
    }
   ],
   "source": [
    "my_func"
   ]
  },
  {
   "cell_type": "code",
   "execution_count": 74,
   "id": "621b6626",
   "metadata": {},
   "outputs": [],
   "source": [
    "def square(num):\n",
    "    return num ** 2"
   ]
  },
  {
   "cell_type": "code",
   "execution_count": 75,
   "id": "af410942",
   "metadata": {},
   "outputs": [
    {
     "data": {
      "text/plain": [
       "<function __main__.square(num)>"
      ]
     },
     "execution_count": 75,
     "metadata": {},
     "output_type": "execute_result"
    }
   ],
   "source": [
    "square"
   ]
  },
  {
   "cell_type": "code",
   "execution_count": 76,
   "id": "f325a1b0",
   "metadata": {},
   "outputs": [
    {
     "data": {
      "text/plain": [
       "9"
      ]
     },
     "execution_count": 76,
     "metadata": {},
     "output_type": "execute_result"
    }
   ],
   "source": [
    "square(3)"
   ]
  },
  {
   "cell_type": "code",
   "execution_count": 77,
   "id": "b3ee6c95",
   "metadata": {},
   "outputs": [],
   "source": [
    "def dec_with_one_arg(func):\n",
    "    \n",
    "    @wraps(func)\n",
    "    def wrapper(arg):\n",
    "        print(\"вызываю функцию\", func, \"с аргументом\", arg)\n",
    "        result = func(arg)\n",
    "        print(\"результат выполнения:\", result)\n",
    "        return result\n",
    "    \n",
    "    return wrapper"
   ]
  },
  {
   "cell_type": "code",
   "execution_count": 78,
   "id": "e359d3e3",
   "metadata": {},
   "outputs": [],
   "source": [
    "@dec_with_one_arg\n",
    "def cube(num):\n",
    "    return num ** 3"
   ]
  },
  {
   "cell_type": "code",
   "execution_count": 79,
   "id": "b0867959",
   "metadata": {},
   "outputs": [
    {
     "data": {
      "text/plain": [
       "<function __main__.cube(num)>"
      ]
     },
     "execution_count": 79,
     "metadata": {},
     "output_type": "execute_result"
    }
   ],
   "source": [
    "cube"
   ]
  },
  {
   "cell_type": "code",
   "execution_count": 80,
   "id": "b77e613b",
   "metadata": {},
   "outputs": [
    {
     "name": "stdout",
     "output_type": "stream",
     "text": [
      "вызываю функцию <function cube at 0x103258b80> с аргументом 2\n",
      "результат выполнения: 8\n"
     ]
    },
    {
     "data": {
      "text/plain": [
       "8"
      ]
     },
     "execution_count": 80,
     "metadata": {},
     "output_type": "execute_result"
    }
   ],
   "source": [
    "cube(2)"
   ]
  },
  {
   "cell_type": "code",
   "execution_count": 81,
   "id": "33c365e9",
   "metadata": {},
   "outputs": [
    {
     "name": "stdout",
     "output_type": "stream",
     "text": [
      "вызываю функцию <function cube at 0x103258b80> с аргументом 3\n",
      "результат выполнения: 27\n"
     ]
    },
    {
     "data": {
      "text/plain": [
       "27"
      ]
     },
     "execution_count": 81,
     "metadata": {},
     "output_type": "execute_result"
    }
   ],
   "source": [
    "cube(3)"
   ]
  },
  {
   "cell_type": "code",
   "execution_count": 82,
   "id": "28cef756",
   "metadata": {},
   "outputs": [
    {
     "name": "stdout",
     "output_type": "stream",
     "text": [
      "вызываю функцию <function cube at 0x103258b80> с аргументом 4\n",
      "результат выполнения: 64\n"
     ]
    },
    {
     "data": {
      "text/plain": [
       "64"
      ]
     },
     "execution_count": 82,
     "metadata": {},
     "output_type": "execute_result"
    }
   ],
   "source": [
    "cube(4)"
   ]
  },
  {
   "cell_type": "code",
   "execution_count": 83,
   "id": "0f6f4ca6",
   "metadata": {},
   "outputs": [],
   "source": [
    "@dec_with_one_arg\n",
    "def multiply_by_2(value):\n",
    "    return value * 2"
   ]
  },
  {
   "cell_type": "code",
   "execution_count": 84,
   "id": "7d6c7135",
   "metadata": {},
   "outputs": [
    {
     "name": "stdout",
     "output_type": "stream",
     "text": [
      "вызываю функцию <function multiply_by_2 at 0x1031860d0> с аргументом 4\n",
      "результат выполнения: 8\n"
     ]
    },
    {
     "data": {
      "text/plain": [
       "8"
      ]
     },
     "execution_count": 84,
     "metadata": {},
     "output_type": "execute_result"
    }
   ],
   "source": [
    "multiply_by_2(4)"
   ]
  },
  {
   "cell_type": "code",
   "execution_count": 85,
   "id": "b83895d9",
   "metadata": {},
   "outputs": [
    {
     "name": "stdout",
     "output_type": "stream",
     "text": [
      "вызываю функцию <function multiply_by_2 at 0x1031860d0> с аргументом foo\n",
      "результат выполнения: foofoo\n"
     ]
    },
    {
     "data": {
      "text/plain": [
       "'foofoo'"
      ]
     },
     "execution_count": 85,
     "metadata": {},
     "output_type": "execute_result"
    }
   ],
   "source": [
    "multiply_by_2(\"foo\")"
   ]
  },
  {
   "cell_type": "code",
   "execution_count": 86,
   "id": "b271a15b",
   "metadata": {},
   "outputs": [
    {
     "name": "stdout",
     "output_type": "stream",
     "text": [
      "вызываю функцию <function multiply_by_2 at 0x1031860d0> с аргументом [123]\n",
      "результат выполнения: [123, 123]\n"
     ]
    },
    {
     "data": {
      "text/plain": [
       "[123, 123]"
      ]
     },
     "execution_count": 86,
     "metadata": {},
     "output_type": "execute_result"
    }
   ],
   "source": [
    "multiply_by_2([123])"
   ]
  },
  {
   "cell_type": "code",
   "execution_count": 87,
   "id": "63abb136",
   "metadata": {},
   "outputs": [
    {
     "name": "stdout",
     "output_type": "stream",
     "text": [
      "вызываю функцию <function multiply_by_2 at 0x1031860d0> с аргументом [1, 2, 3]\n",
      "результат выполнения: [1, 2, 3, 1, 2, 3]\n"
     ]
    },
    {
     "data": {
      "text/plain": [
       "[1, 2, 3, 1, 2, 3]"
      ]
     },
     "execution_count": 87,
     "metadata": {},
     "output_type": "execute_result"
    }
   ],
   "source": [
    "multiply_by_2([1,2,3])"
   ]
  },
  {
   "cell_type": "code",
   "execution_count": 88,
   "id": "e1153eb5",
   "metadata": {},
   "outputs": [
    {
     "data": {
      "text/plain": [
       "3493.603479833"
      ]
     },
     "execution_count": 88,
     "metadata": {},
     "output_type": "execute_result"
    }
   ],
   "source": [
    "from timeit import default_timer\n",
    "\n",
    "default_timer()"
   ]
  },
  {
   "cell_type": "code",
   "execution_count": 89,
   "id": "68a9c08b",
   "metadata": {},
   "outputs": [
    {
     "data": {
      "text/plain": [
       "3498.020810041"
      ]
     },
     "execution_count": 89,
     "metadata": {},
     "output_type": "execute_result"
    }
   ],
   "source": [
    "default_timer()"
   ]
  },
  {
   "cell_type": "code",
   "execution_count": 90,
   "id": "61f8e55d",
   "metadata": {},
   "outputs": [
    {
     "data": {
      "text/plain": [
       "3502.3540375"
      ]
     },
     "execution_count": 90,
     "metadata": {},
     "output_type": "execute_result"
    }
   ],
   "source": [
    "default_timer()"
   ]
  },
  {
   "cell_type": "code",
   "execution_count": 91,
   "id": "7984ef29",
   "metadata": {},
   "outputs": [],
   "source": [
    "def show_timing(func):\n",
    "    \n",
    "    @wraps(func)\n",
    "    def wrapper(*args, **kwargs):\n",
    "        start_time = default_timer()\n",
    "        result = func(*args, **kwargs)\n",
    "        amount = default_timer() - start_time\n",
    "        print(\n",
    "            \"выполнили функцию\",\n",
    "            func,\n",
    "            \"время выполнения {:.10f} сек.\".format(amount),\n",
    "            \"и получили результат\",\n",
    "            result\n",
    "        )\n",
    "        return result\n",
    "    \n",
    "    return wrapper"
   ]
  },
  {
   "cell_type": "code",
   "execution_count": 92,
   "id": "41a734cf",
   "metadata": {},
   "outputs": [
    {
     "data": {
      "text/plain": [
       "'значение 1.0000000000'"
      ]
     },
     "execution_count": 92,
     "metadata": {},
     "output_type": "execute_result"
    }
   ],
   "source": [
    "\"значение {:.10f}\".format(1)"
   ]
  },
  {
   "cell_type": "code",
   "execution_count": 93,
   "id": "98279b41",
   "metadata": {},
   "outputs": [
    {
     "data": {
      "text/plain": [
       "'значение 1.5000000000'"
      ]
     },
     "execution_count": 93,
     "metadata": {},
     "output_type": "execute_result"
    }
   ],
   "source": [
    "\"значение {:.10f}\".format(1.5)"
   ]
  },
  {
   "cell_type": "code",
   "execution_count": 95,
   "id": "b405055c",
   "metadata": {},
   "outputs": [
    {
     "data": {
      "text/plain": [
       "'значение 2.1428571429'"
      ]
     },
     "execution_count": 95,
     "metadata": {},
     "output_type": "execute_result"
    }
   ],
   "source": [
    "\"значение {:.10f}\".format(15/7)"
   ]
  },
  {
   "cell_type": "code",
   "execution_count": 96,
   "id": "af8a44c6",
   "metadata": {},
   "outputs": [],
   "source": [
    "@show_timing\n",
    "def power_nums(*nums, power=2):\n",
    "    return [num ** power for num in nums]"
   ]
  },
  {
   "cell_type": "code",
   "execution_count": 97,
   "id": "490ea0b6",
   "metadata": {},
   "outputs": [
    {
     "data": {
      "text/plain": [
       "<function __main__.power_nums(*nums, power=2)>"
      ]
     },
     "execution_count": 97,
     "metadata": {},
     "output_type": "execute_result"
    }
   ],
   "source": [
    "power_nums"
   ]
  },
  {
   "cell_type": "code",
   "execution_count": 98,
   "id": "a0d9ce36",
   "metadata": {},
   "outputs": [
    {
     "name": "stdout",
     "output_type": "stream",
     "text": [
      "выполнили функцию <function power_nums at 0x1032913a0> время выполнения 0.0000053750 сек. и получили результат [1, 4, 9]\n"
     ]
    },
    {
     "data": {
      "text/plain": [
       "[1, 4, 9]"
      ]
     },
     "execution_count": 98,
     "metadata": {},
     "output_type": "execute_result"
    }
   ],
   "source": [
    "power_nums(1, 2, 3)"
   ]
  },
  {
   "cell_type": "code",
   "execution_count": 99,
   "id": "61d518af",
   "metadata": {},
   "outputs": [
    {
     "name": "stdout",
     "output_type": "stream",
     "text": [
      "выполнили функцию <function power_nums at 0x1032913a0> время выполнения 0.0000087080 сек. и получили результат [1073741824, 30517578125, 470184984576, 4747561509943, 35184372088832, 205891132094649]\n"
     ]
    },
    {
     "data": {
      "text/plain": [
       "[1073741824,\n",
       " 30517578125,\n",
       " 470184984576,\n",
       " 4747561509943,\n",
       " 35184372088832,\n",
       " 205891132094649]"
      ]
     },
     "execution_count": 99,
     "metadata": {},
     "output_type": "execute_result"
    }
   ],
   "source": [
    "power_nums(*range(4, 10), power=15)"
   ]
  },
  {
   "cell_type": "code",
   "execution_count": 100,
   "id": "7aa9ee94",
   "metadata": {},
   "outputs": [
    {
     "data": {
      "text/plain": [
       "[0, 1, 2]"
      ]
     },
     "execution_count": 100,
     "metadata": {},
     "output_type": "execute_result"
    }
   ],
   "source": [
    "[i for i in range(3)]"
   ]
  },
  {
   "cell_type": "code",
   "execution_count": 101,
   "id": "c91173dc",
   "metadata": {},
   "outputs": [
    {
     "data": {
      "text/plain": [
       "[0, 1, 2]"
      ]
     },
     "execution_count": 101,
     "metadata": {},
     "output_type": "execute_result"
    }
   ],
   "source": [
    "list(range(3))"
   ]
  },
  {
   "cell_type": "code",
   "execution_count": 102,
   "id": "37d33dc2",
   "metadata": {},
   "outputs": [
    {
     "data": {
      "text/plain": [
       "[0, 1, 4]"
      ]
     },
     "execution_count": 102,
     "metadata": {},
     "output_type": "execute_result"
    }
   ],
   "source": [
    "[i ** 2 for i in range(3)]"
   ]
  },
  {
   "cell_type": "code",
   "execution_count": 103,
   "id": "5d6ffaf4",
   "metadata": {},
   "outputs": [
    {
     "data": {
      "text/plain": [
       "[1, 4, 16, 25, 49, 64, 100, 121]"
      ]
     },
     "execution_count": 103,
     "metadata": {},
     "output_type": "execute_result"
    }
   ],
   "source": [
    "[i ** 2 for i in range(13) if i % 3]"
   ]
  },
  {
   "cell_type": "code",
   "execution_count": 104,
   "id": "a6e3971a",
   "metadata": {},
   "outputs": [
    {
     "data": {
      "text/plain": [
       "[0, 1, 8, 9, 64, 25, 216, 49, 512, 81, 1000, 121, 1728]"
      ]
     },
     "execution_count": 104,
     "metadata": {},
     "output_type": "execute_result"
    }
   ],
   "source": [
    "[i ** 2 if i % 2 else i ** 3 \n",
    " for i in range(13)]"
   ]
  },
  {
   "cell_type": "code",
   "execution_count": 105,
   "id": "3be28ce1",
   "metadata": {},
   "outputs": [
    {
     "data": {
      "text/plain": [
       "['h', 'e', 'l', 'l', 'o', ' ', 'w', 'o', 'r', 'l', 'd', '!']"
      ]
     },
     "execution_count": 105,
     "metadata": {},
     "output_type": "execute_result"
    }
   ],
   "source": [
    "[s for s in \"hello world!\"]"
   ]
  },
  {
   "cell_type": "code",
   "execution_count": 106,
   "id": "6f7f4d06",
   "metadata": {},
   "outputs": [
    {
     "name": "stdout",
     "output_type": "stream",
     "text": [
      "hello world!\n"
     ]
    }
   ],
   "source": [
    "hello_string = \"hello world!\"\n",
    "print(hello_string)"
   ]
  },
  {
   "cell_type": "code",
   "execution_count": 107,
   "id": "bfbaed98",
   "metadata": {},
   "outputs": [
    {
     "data": {
      "text/plain": [
       "['h', 'e', 'l', 'l', 'o', ' ', 'w', 'o', 'r', 'l', 'd', '!']"
      ]
     },
     "execution_count": 107,
     "metadata": {},
     "output_type": "execute_result"
    }
   ],
   "source": [
    "[s for s in hello_string]"
   ]
  },
  {
   "cell_type": "code",
   "execution_count": 108,
   "id": "9519ca66",
   "metadata": {},
   "outputs": [
    {
     "data": {
      "text/plain": [
       "['h', 'e', 'l', 'l', 'o', ' ', 'w', 'o', 'r', 'l', 'd', '!']"
      ]
     },
     "execution_count": 108,
     "metadata": {},
     "output_type": "execute_result"
    }
   ],
   "source": [
    "list(hello_string)"
   ]
  },
  {
   "cell_type": "code",
   "execution_count": 109,
   "id": "595048a2",
   "metadata": {},
   "outputs": [
    {
     "data": {
      "text/plain": [
       "['H', 'E', 'L', 'L', 'O', ' ', 'W', 'O', 'R', 'L', 'D', '!']"
      ]
     },
     "execution_count": 109,
     "metadata": {},
     "output_type": "execute_result"
    }
   ],
   "source": [
    "[s.upper() for s in hello_string]"
   ]
  },
  {
   "cell_type": "code",
   "execution_count": 110,
   "id": "19982609",
   "metadata": {},
   "outputs": [
    {
     "data": {
      "text/plain": [
       "'HELLO WORLD!'"
      ]
     },
     "execution_count": 110,
     "metadata": {},
     "output_type": "execute_result"
    }
   ],
   "source": [
    "hello_string.upper()"
   ]
  },
  {
   "cell_type": "code",
   "execution_count": 111,
   "id": "8b985b99",
   "metadata": {},
   "outputs": [
    {
     "data": {
      "text/plain": [
       "['H', 'E', 'L', 'L', 'O', ' ', 'W', 'O', 'R', 'L', 'D', '!']"
      ]
     },
     "execution_count": 111,
     "metadata": {},
     "output_type": "execute_result"
    }
   ],
   "source": [
    "list(hello_string.upper())"
   ]
  },
  {
   "cell_type": "code",
   "execution_count": 112,
   "id": "2e23d4f7",
   "metadata": {},
   "outputs": [
    {
     "data": {
      "text/plain": [
       "['H', 'E', 'L', 'L', 'O', 'W', 'O', 'R', 'L', 'D', '!']"
      ]
     },
     "execution_count": 112,
     "metadata": {},
     "output_type": "execute_result"
    }
   ],
   "source": [
    "[s.upper() for s in hello_string if s.strip()]"
   ]
  },
  {
   "cell_type": "code",
   "execution_count": 113,
   "id": "a428c4a6",
   "metadata": {},
   "outputs": [
    {
     "data": {
      "text/plain": [
       "''"
      ]
     },
     "execution_count": 113,
     "metadata": {},
     "output_type": "execute_result"
    }
   ],
   "source": [
    "\" \".strip()"
   ]
  },
  {
   "cell_type": "code",
   "execution_count": 114,
   "id": "85098cc3",
   "metadata": {},
   "outputs": [
    {
     "data": {
      "text/plain": [
       "False"
      ]
     },
     "execution_count": 114,
     "metadata": {},
     "output_type": "execute_result"
    }
   ],
   "source": [
    "bool(\"\")"
   ]
  },
  {
   "cell_type": "code",
   "execution_count": 115,
   "id": "e1ae5680",
   "metadata": {},
   "outputs": [
    {
     "data": {
      "text/plain": [
       "{0: '0', 1: '1', 2: '2', 3: '3', 4: '4'}"
      ]
     },
     "execution_count": 115,
     "metadata": {},
     "output_type": "execute_result"
    }
   ],
   "source": [
    "{num: str(num) for num in range(5)}"
   ]
  },
  {
   "cell_type": "code",
   "execution_count": 116,
   "id": "ea679d75",
   "metadata": {},
   "outputs": [
    {
     "data": {
      "text/plain": [
       "{0: 0,\n",
       " 1: 1,\n",
       " 2: 8,\n",
       " 3: 9,\n",
       " 4: 64,\n",
       " 5: 25,\n",
       " 6: 216,\n",
       " 7: 49,\n",
       " 8: 512,\n",
       " 9: 81,\n",
       " 10: 1000,\n",
       " 11: 121,\n",
       " 12: 1728}"
      ]
     },
     "execution_count": 116,
     "metadata": {},
     "output_type": "execute_result"
    }
   ],
   "source": [
    "{i: (i ** 2 if i % 2 else i ** 3)\n",
    " for i in range(13)}"
   ]
  },
  {
   "cell_type": "code",
   "execution_count": 117,
   "id": "366d0164",
   "metadata": {},
   "outputs": [
    {
     "data": {
      "text/plain": [
       "{'SPam': 'EgGs', 'Foo': 'BaR', 'FiZZ': 'BuZz'}"
      ]
     },
     "execution_count": 117,
     "metadata": {},
     "output_type": "execute_result"
    }
   ],
   "source": [
    "dict_with_strings_only = {\n",
    "    \"SPam\": \"EgGs\",\n",
    "    \"Foo\": \"BaR\",\n",
    "    \"FiZZ\": \"BuZz\",\n",
    "}\n",
    "dict_with_strings_only"
   ]
  },
  {
   "cell_type": "code",
   "execution_count": 118,
   "id": "2d38a379",
   "metadata": {},
   "outputs": [
    {
     "data": {
      "text/plain": [
       "{'spam': 'eggs', 'foo': 'bar', 'fizz': 'buzz'}"
      ]
     },
     "execution_count": 118,
     "metadata": {},
     "output_type": "execute_result"
    }
   ],
   "source": [
    "dict_lower = {\n",
    "    key.lower(): value.lower()\n",
    "    for key, value in dict_with_strings_only.items()\n",
    "}\n",
    "dict_lower"
   ]
  },
  {
   "cell_type": "code",
   "execution_count": 119,
   "id": "bce6274c",
   "metadata": {},
   "outputs": [
    {
     "data": {
      "text/plain": [
       "{'!', 'D', 'E', 'H', 'L', 'O', 'R', 'W'}"
      ]
     },
     "execution_count": 119,
     "metadata": {},
     "output_type": "execute_result"
    }
   ],
   "source": [
    "{s.upper() for s in hello_string if s.strip()}"
   ]
  },
  {
   "cell_type": "code",
   "execution_count": 120,
   "id": "50b7913f",
   "metadata": {},
   "outputs": [
    {
     "data": {
      "text/plain": [
       "0"
      ]
     },
     "execution_count": 120,
     "metadata": {},
     "output_type": "execute_result"
    }
   ],
   "source": [
    "2 % 2"
   ]
  },
  {
   "cell_type": "code",
   "execution_count": 121,
   "id": "11f559a1",
   "metadata": {},
   "outputs": [
    {
     "data": {
      "text/plain": [
       "1"
      ]
     },
     "execution_count": 121,
     "metadata": {},
     "output_type": "execute_result"
    }
   ],
   "source": [
    "3 % 2"
   ]
  },
  {
   "cell_type": "code",
   "execution_count": 122,
   "id": "136d4936",
   "metadata": {},
   "outputs": [
    {
     "data": {
      "text/plain": [
       "1"
      ]
     },
     "execution_count": 122,
     "metadata": {},
     "output_type": "execute_result"
    }
   ],
   "source": [
    "15 % 2"
   ]
  },
  {
   "cell_type": "code",
   "execution_count": 123,
   "id": "5f1885ca",
   "metadata": {},
   "outputs": [
    {
     "data": {
      "text/plain": [
       "0"
      ]
     },
     "execution_count": 123,
     "metadata": {},
     "output_type": "execute_result"
    }
   ],
   "source": [
    "16 % 2"
   ]
  },
  {
   "cell_type": "code",
   "execution_count": 124,
   "id": "0ad67fe9",
   "metadata": {},
   "outputs": [
    {
     "data": {
      "text/plain": [
       "{0: 0,\n",
       " 1: 1,\n",
       " 2: 4,\n",
       " 3: 27,\n",
       " 4: 16,\n",
       " 5: 125,\n",
       " 6: 36,\n",
       " 7: 343,\n",
       " 8: 64,\n",
       " 9: 729,\n",
       " 10: 100,\n",
       " 11: 1331,\n",
       " 12: 144}"
      ]
     },
     "execution_count": 124,
     "metadata": {},
     "output_type": "execute_result"
    }
   ],
   "source": [
    "{i: (i ** 2 if i % 2 == 0 else i ** 3)\n",
    " for i in range(13)}"
   ]
  },
  {
   "cell_type": "code",
   "execution_count": 125,
   "id": "0fd9e5f8",
   "metadata": {},
   "outputs": [
    {
     "data": {
      "text/plain": [
       "{0: 0,\n",
       " 1: 1,\n",
       " 2: 8,\n",
       " 3: 9,\n",
       " 4: 64,\n",
       " 5: 25,\n",
       " 6: 216,\n",
       " 7: 49,\n",
       " 8: 512,\n",
       " 9: 81,\n",
       " 10: 1000,\n",
       " 11: 121,\n",
       " 12: 1728}"
      ]
     },
     "execution_count": 125,
     "metadata": {},
     "output_type": "execute_result"
    }
   ],
   "source": [
    "{i: (i ** 2 if i % 2 != 0 else i ** 3)\n",
    " for i in range(13)}"
   ]
  },
  {
   "cell_type": "code",
   "execution_count": 126,
   "id": "2a98335a",
   "metadata": {},
   "outputs": [
    {
     "data": {
      "text/plain": [
       "<generator object <genexpr> at 0x10328b510>"
      ]
     },
     "execution_count": 126,
     "metadata": {},
     "output_type": "execute_result"
    }
   ],
   "source": [
    "(i for i in range(5))"
   ]
  },
  {
   "cell_type": "code",
   "execution_count": 127,
   "id": "e840809f",
   "metadata": {},
   "outputs": [
    {
     "data": {
      "text/plain": [
       "(0, 1, 2, 3, 4)"
      ]
     },
     "execution_count": 127,
     "metadata": {},
     "output_type": "execute_result"
    }
   ],
   "source": [
    "tuple(i for i in range(5))"
   ]
  },
  {
   "cell_type": "code",
   "execution_count": 128,
   "id": "f4d51f82",
   "metadata": {},
   "outputs": [
    {
     "name": "stdout",
     "output_type": "stream",
     "text": [
      "0\n",
      "1\n",
      "2\n"
     ]
    }
   ],
   "source": [
    "g = (i for i in range(3))\n",
    "\n",
    "for k in g:\n",
    "    print(k)"
   ]
  },
  {
   "cell_type": "code",
   "execution_count": 129,
   "id": "2f4757c1",
   "metadata": {},
   "outputs": [
    {
     "data": {
      "text/plain": [
       "<generator object <genexpr> at 0x1031ee430>"
      ]
     },
     "execution_count": 129,
     "metadata": {},
     "output_type": "execute_result"
    }
   ],
   "source": [
    "g"
   ]
  },
  {
   "cell_type": "code",
   "execution_count": 130,
   "id": "2095c820",
   "metadata": {},
   "outputs": [],
   "source": [
    "for k in g:\n",
    "    print(k)"
   ]
  },
  {
   "cell_type": "code",
   "execution_count": 131,
   "id": "c9264823",
   "metadata": {},
   "outputs": [],
   "source": [
    "g = (i for i in range(3))"
   ]
  },
  {
   "cell_type": "code",
   "execution_count": 132,
   "id": "43729f72",
   "metadata": {},
   "outputs": [
    {
     "data": {
      "text/plain": [
       "0"
      ]
     },
     "execution_count": 132,
     "metadata": {},
     "output_type": "execute_result"
    }
   ],
   "source": [
    "next(g)"
   ]
  },
  {
   "cell_type": "code",
   "execution_count": 133,
   "id": "fc9f4f5d",
   "metadata": {},
   "outputs": [
    {
     "data": {
      "text/plain": [
       "1"
      ]
     },
     "execution_count": 133,
     "metadata": {},
     "output_type": "execute_result"
    }
   ],
   "source": [
    "next(g)"
   ]
  },
  {
   "cell_type": "code",
   "execution_count": 136,
   "id": "0a86d397",
   "metadata": {},
   "outputs": [],
   "source": [
    "def generate_squares(numbers):\n",
    "    for number in numbers:\n",
    "        print(\"process and yield\", number)\n",
    "        yield number ** 2\n",
    "        print(\"go to next iteration..\")"
   ]
  },
  {
   "cell_type": "code",
   "execution_count": 137,
   "id": "1be52916",
   "metadata": {},
   "outputs": [
    {
     "data": {
      "text/plain": [
       "<generator object generate_squares at 0x1032940b0>"
      ]
     },
     "execution_count": 137,
     "metadata": {},
     "output_type": "execute_result"
    }
   ],
   "source": [
    "generate_squares([1,2,3])"
   ]
  },
  {
   "cell_type": "code",
   "execution_count": 138,
   "id": "b0df9be4",
   "metadata": {},
   "outputs": [
    {
     "name": "stdout",
     "output_type": "stream",
     "text": [
      "<generator object generate_squares at 0x1032a1040>\n"
     ]
    }
   ],
   "source": [
    "g = generate_squares([1,2,3,4])\n",
    "print(g)"
   ]
  },
  {
   "cell_type": "code",
   "execution_count": 139,
   "id": "b68cda62",
   "metadata": {},
   "outputs": [
    {
     "name": "stdout",
     "output_type": "stream",
     "text": [
      "process and yield 1\n"
     ]
    },
    {
     "data": {
      "text/plain": [
       "1"
      ]
     },
     "execution_count": 139,
     "metadata": {},
     "output_type": "execute_result"
    }
   ],
   "source": [
    "next(g)"
   ]
  },
  {
   "cell_type": "code",
   "execution_count": 140,
   "id": "254dc5e0",
   "metadata": {},
   "outputs": [
    {
     "name": "stdout",
     "output_type": "stream",
     "text": [
      "go to next iteration..\n",
      "process and yield 2\n"
     ]
    },
    {
     "data": {
      "text/plain": [
       "4"
      ]
     },
     "execution_count": 140,
     "metadata": {},
     "output_type": "execute_result"
    }
   ],
   "source": [
    "next(g)"
   ]
  },
  {
   "cell_type": "code",
   "execution_count": 141,
   "id": "fc4c11b5",
   "metadata": {},
   "outputs": [
    {
     "name": "stdout",
     "output_type": "stream",
     "text": [
      "go to next iteration..\n",
      "process and yield 3\n",
      "9\n",
      "go to next iteration..\n",
      "process and yield 4\n",
      "16\n",
      "go to next iteration..\n"
     ]
    }
   ],
   "source": [
    "for i in g:\n",
    "    print(i)"
   ]
  },
  {
   "cell_type": "code",
   "execution_count": 142,
   "id": "05638fb0",
   "metadata": {},
   "outputs": [
    {
     "data": {
      "text/plain": [
       "range(100, 10000000)"
      ]
     },
     "execution_count": 142,
     "metadata": {},
     "output_type": "execute_result"
    }
   ],
   "source": [
    "range(100, 10000*1000)"
   ]
  },
  {
   "cell_type": "code",
   "execution_count": 143,
   "id": "a84639bd",
   "metadata": {},
   "outputs": [
    {
     "name": "stdout",
     "output_type": "stream",
     "text": [
      "100\n",
      "101\n",
      "102\n",
      "103\n",
      "104\n",
      "105\n",
      "106\n",
      "107\n",
      "108\n",
      "109\n",
      "110\n",
      "111\n"
     ]
    }
   ],
   "source": [
    "for i in range(100, 150):\n",
    "    print(i)\n",
    "    if i > 110:\n",
    "        break"
   ]
  },
  {
   "cell_type": "code",
   "execution_count": 144,
   "id": "81fa368e",
   "metadata": {},
   "outputs": [
    {
     "data": {
      "text/plain": [
       "<generator object generate_squares at 0x1032a1040>"
      ]
     },
     "execution_count": 144,
     "metadata": {},
     "output_type": "execute_result"
    }
   ],
   "source": [
    "g"
   ]
  },
  {
   "cell_type": "code",
   "execution_count": 145,
   "id": "19b19f41",
   "metadata": {},
   "outputs": [],
   "source": [
    "for i in g:\n",
    "    print(g)"
   ]
  },
  {
   "cell_type": "code",
   "execution_count": 150,
   "id": "3ccb727a",
   "metadata": {},
   "outputs": [],
   "source": [
    "g = generate_squares([2,3,4])"
   ]
  },
  {
   "cell_type": "code",
   "execution_count": 151,
   "id": "5f02c7fe",
   "metadata": {},
   "outputs": [
    {
     "name": "stdout",
     "output_type": "stream",
     "text": [
      "process and yield 2\n",
      "4\n",
      "go to next iteration..\n",
      "process and yield 3\n",
      "9\n",
      "go to next iteration..\n",
      "process and yield 4\n",
      "16\n",
      "go to next iteration..\n"
     ]
    }
   ],
   "source": [
    "for i in g:\n",
    "    print(i)"
   ]
  },
  {
   "cell_type": "code",
   "execution_count": 152,
   "id": "39e85c04",
   "metadata": {},
   "outputs": [],
   "source": [
    "for i in g:\n",
    "    print(i)"
   ]
  },
  {
   "cell_type": "code",
   "execution_count": null,
   "id": "28c89d00",
   "metadata": {},
   "outputs": [],
   "source": []
  }
 ],
 "metadata": {
  "kernelspec": {
   "display_name": "Python 3 (ipykernel)",
   "language": "python",
   "name": "python3"
  },
  "language_info": {
   "codemirror_mode": {
    "name": "ipython",
    "version": 3
   },
   "file_extension": ".py",
   "mimetype": "text/x-python",
   "name": "python",
   "nbconvert_exporter": "python",
   "pygments_lexer": "ipython3",
   "version": "3.9.1"
  }
 },
 "nbformat": 4,
 "nbformat_minor": 5
}
