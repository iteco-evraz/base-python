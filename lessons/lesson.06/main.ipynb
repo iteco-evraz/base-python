{
 "cells": [
  {
   "cell_type": "code",
   "execution_count": 1,
   "id": "60990404",
   "metadata": {},
   "outputs": [
    {
     "name": "stdout",
     "output_type": "stream",
     "text": [
      "Hello World!\n"
     ]
    }
   ],
   "source": [
    "hello_str = \"Hello World!\"\n",
    "print(hello_str)"
   ]
  },
  {
   "cell_type": "code",
   "execution_count": 2,
   "id": "0a1e616a",
   "metadata": {},
   "outputs": [
    {
     "name": "stdout",
     "output_type": "stream",
     "text": [
      "<built-in method isupper of str object at 0x105e7c670>\n"
     ]
    }
   ],
   "source": [
    "print(hello_str.isupper)"
   ]
  },
  {
   "cell_type": "code",
   "execution_count": 3,
   "id": "fac96375",
   "metadata": {},
   "outputs": [
    {
     "name": "stdout",
     "output_type": "stream",
     "text": [
      "<class 'str'>\n"
     ]
    }
   ],
   "source": [
    "print(type(hello_str))"
   ]
  },
  {
   "cell_type": "code",
   "execution_count": 4,
   "id": "4472bf8a",
   "metadata": {},
   "outputs": [
    {
     "data": {
      "text/plain": [
       "<method 'isupper' of 'str' objects>"
      ]
     },
     "execution_count": 4,
     "metadata": {},
     "output_type": "execute_result"
    }
   ],
   "source": [
    "str.isupper"
   ]
  },
  {
   "cell_type": "code",
   "execution_count": 5,
   "id": "ca4a45d0",
   "metadata": {},
   "outputs": [
    {
     "data": {
      "text/plain": [
       "False"
      ]
     },
     "execution_count": 5,
     "metadata": {},
     "output_type": "execute_result"
    }
   ],
   "source": [
    "hello_str.isupper()"
   ]
  },
  {
   "cell_type": "code",
   "execution_count": 6,
   "id": "475f9588",
   "metadata": {},
   "outputs": [
    {
     "data": {
      "text/plain": [
       "['__add__',\n",
       " '__class__',\n",
       " '__contains__',\n",
       " '__delattr__',\n",
       " '__dir__',\n",
       " '__doc__',\n",
       " '__eq__',\n",
       " '__format__',\n",
       " '__ge__',\n",
       " '__getattribute__',\n",
       " '__getitem__',\n",
       " '__getnewargs__',\n",
       " '__gt__',\n",
       " '__hash__',\n",
       " '__init__',\n",
       " '__init_subclass__',\n",
       " '__iter__',\n",
       " '__le__',\n",
       " '__len__',\n",
       " '__lt__',\n",
       " '__mod__',\n",
       " '__mul__',\n",
       " '__ne__',\n",
       " '__new__',\n",
       " '__reduce__',\n",
       " '__reduce_ex__',\n",
       " '__repr__',\n",
       " '__rmod__',\n",
       " '__rmul__',\n",
       " '__setattr__',\n",
       " '__sizeof__',\n",
       " '__str__',\n",
       " '__subclasshook__',\n",
       " 'capitalize',\n",
       " 'casefold',\n",
       " 'center',\n",
       " 'count',\n",
       " 'encode',\n",
       " 'endswith',\n",
       " 'expandtabs',\n",
       " 'find',\n",
       " 'format',\n",
       " 'format_map',\n",
       " 'index',\n",
       " 'isalnum',\n",
       " 'isalpha',\n",
       " 'isascii',\n",
       " 'isdecimal',\n",
       " 'isdigit',\n",
       " 'isidentifier',\n",
       " 'islower',\n",
       " 'isnumeric',\n",
       " 'isprintable',\n",
       " 'isspace',\n",
       " 'istitle',\n",
       " 'isupper',\n",
       " 'join',\n",
       " 'ljust',\n",
       " 'lower',\n",
       " 'lstrip',\n",
       " 'maketrans',\n",
       " 'partition',\n",
       " 'removeprefix',\n",
       " 'removesuffix',\n",
       " 'replace',\n",
       " 'rfind',\n",
       " 'rindex',\n",
       " 'rjust',\n",
       " 'rpartition',\n",
       " 'rsplit',\n",
       " 'rstrip',\n",
       " 'split',\n",
       " 'splitlines',\n",
       " 'startswith',\n",
       " 'strip',\n",
       " 'swapcase',\n",
       " 'title',\n",
       " 'translate',\n",
       " 'upper',\n",
       " 'zfill']"
      ]
     },
     "execution_count": 6,
     "metadata": {},
     "output_type": "execute_result"
    }
   ],
   "source": [
    "dir(str)"
   ]
  },
  {
   "cell_type": "code",
   "execution_count": 7,
   "id": "c782b5d7",
   "metadata": {},
   "outputs": [
    {
     "data": {
      "text/plain": [
       "['__add__',\n",
       " '__class__',\n",
       " '__contains__',\n",
       " '__delattr__',\n",
       " '__dir__',\n",
       " '__doc__',\n",
       " '__eq__',\n",
       " '__format__',\n",
       " '__ge__',\n",
       " '__getattribute__',\n",
       " '__getitem__',\n",
       " '__getnewargs__',\n",
       " '__gt__',\n",
       " '__hash__',\n",
       " '__init__',\n",
       " '__init_subclass__',\n",
       " '__iter__',\n",
       " '__le__',\n",
       " '__len__',\n",
       " '__lt__',\n",
       " '__mod__',\n",
       " '__mul__',\n",
       " '__ne__',\n",
       " '__new__',\n",
       " '__reduce__',\n",
       " '__reduce_ex__',\n",
       " '__repr__',\n",
       " '__rmod__',\n",
       " '__rmul__',\n",
       " '__setattr__',\n",
       " '__sizeof__',\n",
       " '__str__',\n",
       " '__subclasshook__',\n",
       " 'capitalize',\n",
       " 'casefold',\n",
       " 'center',\n",
       " 'count',\n",
       " 'encode',\n",
       " 'endswith',\n",
       " 'expandtabs',\n",
       " 'find',\n",
       " 'format',\n",
       " 'format_map',\n",
       " 'index',\n",
       " 'isalnum',\n",
       " 'isalpha',\n",
       " 'isascii',\n",
       " 'isdecimal',\n",
       " 'isdigit',\n",
       " 'isidentifier',\n",
       " 'islower',\n",
       " 'isnumeric',\n",
       " 'isprintable',\n",
       " 'isspace',\n",
       " 'istitle',\n",
       " 'isupper',\n",
       " 'join',\n",
       " 'ljust',\n",
       " 'lower',\n",
       " 'lstrip',\n",
       " 'maketrans',\n",
       " 'partition',\n",
       " 'removeprefix',\n",
       " 'removesuffix',\n",
       " 'replace',\n",
       " 'rfind',\n",
       " 'rindex',\n",
       " 'rjust',\n",
       " 'rpartition',\n",
       " 'rsplit',\n",
       " 'rstrip',\n",
       " 'split',\n",
       " 'splitlines',\n",
       " 'startswith',\n",
       " 'strip',\n",
       " 'swapcase',\n",
       " 'title',\n",
       " 'translate',\n",
       " 'upper',\n",
       " 'zfill']"
      ]
     },
     "execution_count": 7,
     "metadata": {},
     "output_type": "execute_result"
    }
   ],
   "source": [
    "dir(hello_str)"
   ]
  },
  {
   "cell_type": "code",
   "execution_count": 8,
   "id": "3e70bee9",
   "metadata": {},
   "outputs": [
    {
     "data": {
      "text/plain": [
       "'HELLO WORLD!'"
      ]
     },
     "execution_count": 8,
     "metadata": {},
     "output_type": "execute_result"
    }
   ],
   "source": [
    "hello_str.upper()"
   ]
  },
  {
   "cell_type": "code",
   "execution_count": 9,
   "id": "49425444",
   "metadata": {},
   "outputs": [
    {
     "data": {
      "text/plain": [
       "False"
      ]
     },
     "execution_count": 9,
     "metadata": {},
     "output_type": "execute_result"
    }
   ],
   "source": [
    "hello_str.isupper()"
   ]
  },
  {
   "cell_type": "code",
   "execution_count": 10,
   "id": "1ffb4584",
   "metadata": {},
   "outputs": [
    {
     "data": {
      "text/plain": [
       "'Hello World!'"
      ]
     },
     "execution_count": 10,
     "metadata": {},
     "output_type": "execute_result"
    }
   ],
   "source": [
    "hello_str"
   ]
  },
  {
   "cell_type": "code",
   "execution_count": 11,
   "id": "3e104981",
   "metadata": {},
   "outputs": [
    {
     "data": {
      "text/plain": [
       "True"
      ]
     },
     "execution_count": 11,
     "metadata": {},
     "output_type": "execute_result"
    }
   ],
   "source": [
    "(hello_str.upper()).isupper()"
   ]
  },
  {
   "cell_type": "code",
   "execution_count": 12,
   "id": "ee799b5e",
   "metadata": {},
   "outputs": [
    {
     "data": {
      "text/plain": [
       "<method 'upper' of 'str' objects>"
      ]
     },
     "execution_count": 12,
     "metadata": {},
     "output_type": "execute_result"
    }
   ],
   "source": [
    "str.upper"
   ]
  },
  {
   "cell_type": "code",
   "execution_count": 13,
   "id": "d6b9b4f1",
   "metadata": {},
   "outputs": [
    {
     "data": {
      "text/plain": [
       "'HELLO WORLD!'"
      ]
     },
     "execution_count": 13,
     "metadata": {},
     "output_type": "execute_result"
    }
   ],
   "source": [
    "str.upper(hello_str)"
   ]
  },
  {
   "cell_type": "code",
   "execution_count": 14,
   "id": "4885d540",
   "metadata": {},
   "outputs": [
    {
     "data": {
      "text/plain": [
       "False"
      ]
     },
     "execution_count": 14,
     "metadata": {},
     "output_type": "execute_result"
    }
   ],
   "source": [
    "str.isupper(hello_str)"
   ]
  },
  {
   "cell_type": "code",
   "execution_count": 15,
   "id": "74b0897c",
   "metadata": {},
   "outputs": [
    {
     "data": {
      "text/plain": [
       "dict"
      ]
     },
     "execution_count": 15,
     "metadata": {},
     "output_type": "execute_result"
    }
   ],
   "source": [
    "dict"
   ]
  },
  {
   "cell_type": "code",
   "execution_count": 16,
   "id": "5e027560",
   "metadata": {},
   "outputs": [
    {
     "data": {
      "text/plain": [
       "['__class__',\n",
       " '__class_getitem__',\n",
       " '__contains__',\n",
       " '__delattr__',\n",
       " '__delitem__',\n",
       " '__dir__',\n",
       " '__doc__',\n",
       " '__eq__',\n",
       " '__format__',\n",
       " '__ge__',\n",
       " '__getattribute__',\n",
       " '__getitem__',\n",
       " '__gt__',\n",
       " '__hash__',\n",
       " '__init__',\n",
       " '__init_subclass__',\n",
       " '__ior__',\n",
       " '__iter__',\n",
       " '__le__',\n",
       " '__len__',\n",
       " '__lt__',\n",
       " '__ne__',\n",
       " '__new__',\n",
       " '__or__',\n",
       " '__reduce__',\n",
       " '__reduce_ex__',\n",
       " '__repr__',\n",
       " '__reversed__',\n",
       " '__ror__',\n",
       " '__setattr__',\n",
       " '__setitem__',\n",
       " '__sizeof__',\n",
       " '__str__',\n",
       " '__subclasshook__',\n",
       " 'clear',\n",
       " 'copy',\n",
       " 'fromkeys',\n",
       " 'get',\n",
       " 'items',\n",
       " 'keys',\n",
       " 'pop',\n",
       " 'popitem',\n",
       " 'setdefault',\n",
       " 'update',\n",
       " 'values']"
      ]
     },
     "execution_count": 16,
     "metadata": {},
     "output_type": "execute_result"
    }
   ],
   "source": [
    "dir(dict)"
   ]
  },
  {
   "cell_type": "code",
   "execution_count": 17,
   "id": "88969a49",
   "metadata": {},
   "outputs": [
    {
     "name": "stdout",
     "output_type": "stream",
     "text": [
      "<built-in method fromkeys of type object at 0x1029a0bb0>\n"
     ]
    }
   ],
   "source": [
    "print(dict.fromkeys)"
   ]
  },
  {
   "cell_type": "code",
   "execution_count": 18,
   "id": "8acc0d6f",
   "metadata": {},
   "outputs": [
    {
     "name": "stdout",
     "output_type": "stream",
     "text": [
      "Help on built-in function fromkeys:\n",
      "\n",
      "fromkeys(iterable, value=None, /) method of builtins.type instance\n",
      "    Create a new dictionary with keys from iterable and values set to value.\n",
      "\n"
     ]
    }
   ],
   "source": [
    "help(dict.fromkeys)"
   ]
  },
  {
   "cell_type": "code",
   "execution_count": 19,
   "id": "30f0ee32",
   "metadata": {},
   "outputs": [
    {
     "data": {
      "text/plain": [
       "{'spam': None, 'eggs': None}"
      ]
     },
     "execution_count": 19,
     "metadata": {},
     "output_type": "execute_result"
    }
   ],
   "source": [
    "dict.fromkeys([\"spam\", \"eggs\"])"
   ]
  },
  {
   "cell_type": "code",
   "execution_count": 20,
   "id": "f73ebe84",
   "metadata": {},
   "outputs": [
    {
     "data": {
      "text/plain": [
       "{'q': 0, 'w': 0, 'e': 0, 'r': 0, 't': 0, 'y': 0}"
      ]
     },
     "execution_count": 20,
     "metadata": {},
     "output_type": "execute_result"
    }
   ],
   "source": [
    "dict.fromkeys(\"qwerty\", 0)"
   ]
  },
  {
   "cell_type": "code",
   "execution_count": 21,
   "id": "f3603d6b",
   "metadata": {},
   "outputs": [
    {
     "data": {
      "text/plain": [
       "{'spam': 'eggs', 'foo': 'bar'}"
      ]
     },
     "execution_count": 21,
     "metadata": {},
     "output_type": "execute_result"
    }
   ],
   "source": [
    "dict(spam=\"eggs\", foo=\"bar\")"
   ]
  },
  {
   "cell_type": "code",
   "execution_count": 22,
   "id": "b3030874",
   "metadata": {},
   "outputs": [
    {
     "name": "stdout",
     "output_type": "stream",
     "text": [
      "<built-in method fromkeys of type object at 0x1029a0bb0>\n"
     ]
    }
   ],
   "source": [
    "d = {}\n",
    "print(d.fromkeys)"
   ]
  },
  {
   "cell_type": "code",
   "execution_count": 23,
   "id": "7c58b336",
   "metadata": {},
   "outputs": [
    {
     "data": {
      "text/plain": [
       "{'a': None, 'b': None}"
      ]
     },
     "execution_count": 23,
     "metadata": {},
     "output_type": "execute_result"
    }
   ],
   "source": [
    "d.fromkeys({\"a\", \"b\"})"
   ]
  },
  {
   "cell_type": "code",
   "execution_count": 24,
   "id": "6c7905ee",
   "metadata": {},
   "outputs": [
    {
     "data": {
      "text/plain": [
       "{'q': 0, 'w': 0, 'e': 0, 'r': 0, 't': 0, 'y': 0}"
      ]
     },
     "execution_count": 24,
     "metadata": {},
     "output_type": "execute_result"
    }
   ],
   "source": [
    "{k: 0 for k in \"qwerty\"}"
   ]
  },
  {
   "cell_type": "code",
   "execution_count": 25,
   "id": "2330ee77",
   "metadata": {},
   "outputs": [],
   "source": [
    "# d = {}\n",
    "# for k in \"qwe\""
   ]
  },
  {
   "cell_type": "code",
   "execution_count": 26,
   "id": "22c4c306",
   "metadata": {},
   "outputs": [
    {
     "data": {
      "text/plain": [
       "['abc']"
      ]
     },
     "execution_count": 26,
     "metadata": {},
     "output_type": "execute_result"
    }
   ],
   "source": [
    "\"abc\".split('-')"
   ]
  },
  {
   "cell_type": "code",
   "execution_count": 27,
   "id": "1a292f13",
   "metadata": {},
   "outputs": [
    {
     "data": {
      "text/plain": [
       "['abc', 'qwe', 'foo', 'bar']"
      ]
     },
     "execution_count": 27,
     "metadata": {},
     "output_type": "execute_result"
    }
   ],
   "source": [
    "\"abc-qwe-foo-bar\".split('-')"
   ]
  },
  {
   "cell_type": "code",
   "execution_count": 28,
   "id": "0ec00b04",
   "metadata": {},
   "outputs": [
    {
     "data": {
      "text/plain": [
       "['2021', '12', '8']"
      ]
     },
     "execution_count": 28,
     "metadata": {},
     "output_type": "execute_result"
    }
   ],
   "source": [
    "'2021-12-8'.split(\"-\")"
   ]
  },
  {
   "cell_type": "code",
   "execution_count": 29,
   "id": "4d0203cd",
   "metadata": {},
   "outputs": [],
   "source": [
    "class Date:\n",
    "    \n",
    "    def __init__(self, year=0, month=0, day=0):\n",
    "        self.year = year\n",
    "        self.month = month\n",
    "        self.day = day\n",
    "    \n",
    "    @classmethod\n",
    "    def from_string(cls, date_string):\n",
    "        \"\"\"\n",
    "        Accept dates like '2021-12-8'\n",
    "        \"\"\"\n",
    "        year, month, day = map(int, date_string.split('-'))\n",
    "        date = cls(year=year, month=month, day=day)\n",
    "        return date\n",
    "    \n",
    "    @staticmethod\n",
    "    def is_date_string_valid(date_string):\n",
    "        if date_string.count(\"-\") != 2:\n",
    "            return False\n",
    "        year, month, day = map(int, date_string.split('-'))\n",
    "        return year <= 3999 and month <= 12 and day <= 31\n",
    "    \n",
    "    def copy(self):\n",
    "        return self.__class__(year=self.year, month=self.month, day=self.day)\n",
    "\n",
    "    def __str__(self):\n",
    "        return (\n",
    "            f\"{self.__class__.__name__}(year={self.year},\"\n",
    "            f\" month={self.month}, day={self.day})\"\n",
    "        )"
   ]
  },
  {
   "cell_type": "code",
   "execution_count": 30,
   "id": "76704501",
   "metadata": {},
   "outputs": [
    {
     "name": "stdout",
     "output_type": "stream",
     "text": [
      "Date(year=2021, month=12, day=8)\n"
     ]
    }
   ],
   "source": [
    "date = Date(2021, 12, 8)\n",
    "print(date)"
   ]
  },
  {
   "cell_type": "code",
   "execution_count": 31,
   "id": "5a37ada3",
   "metadata": {},
   "outputs": [
    {
     "data": {
      "text/plain": [
       "True"
      ]
     },
     "execution_count": 31,
     "metadata": {},
     "output_type": "execute_result"
    }
   ],
   "source": [
    "date2 = date\n",
    "date is date2"
   ]
  },
  {
   "cell_type": "code",
   "execution_count": 32,
   "id": "319777f0",
   "metadata": {},
   "outputs": [
    {
     "name": "stdout",
     "output_type": "stream",
     "text": [
      "Date(year=2020, month=12, day=13)\n",
      "Date(year=2020, month=12, day=13)\n"
     ]
    }
   ],
   "source": [
    "date.year -= 1\n",
    "date2.day += 5\n",
    "\n",
    "print(date)\n",
    "print(date2)"
   ]
  },
  {
   "cell_type": "code",
   "execution_count": 33,
   "id": "00c01d2f",
   "metadata": {},
   "outputs": [
    {
     "name": "stdout",
     "output_type": "stream",
     "text": [
      "Date(year=2021, month=11, day=15)\n"
     ]
    }
   ],
   "source": [
    "date3 = Date.from_string(\"2021-11-15\")\n",
    "print(date3)"
   ]
  },
  {
   "cell_type": "code",
   "execution_count": 34,
   "id": "d3389ca6",
   "metadata": {},
   "outputs": [
    {
     "data": {
      "text/plain": [
       "False"
      ]
     },
     "execution_count": 34,
     "metadata": {},
     "output_type": "execute_result"
    }
   ],
   "source": [
    "Date.is_date_string_valid(\"\")"
   ]
  },
  {
   "cell_type": "code",
   "execution_count": 35,
   "id": "001a8ca7",
   "metadata": {},
   "outputs": [
    {
     "data": {
      "text/plain": [
       "False"
      ]
     },
     "execution_count": 35,
     "metadata": {},
     "output_type": "execute_result"
    }
   ],
   "source": [
    "Date.is_date_string_valid(\"2021-44-13\")"
   ]
  },
  {
   "cell_type": "code",
   "execution_count": 36,
   "id": "b1d3966e",
   "metadata": {},
   "outputs": [
    {
     "name": "stdout",
     "output_type": "stream",
     "text": [
      "Date(year=2021, month=11, day=15)\n",
      "Date(year=2021, month=11, day=15)\n"
     ]
    }
   ],
   "source": [
    "date4 = date3.copy()\n",
    "print(date4)\n",
    "print(date3)"
   ]
  },
  {
   "cell_type": "code",
   "execution_count": 37,
   "id": "44ecdc57",
   "metadata": {},
   "outputs": [
    {
     "name": "stdout",
     "output_type": "stream",
     "text": [
      "Date(year=2021, month=12, day=15)\n",
      "Date(year=2021, month=11, day=12)\n"
     ]
    }
   ],
   "source": [
    "date4.month += 1\n",
    "date3.day -= 3\n",
    "\n",
    "print(date4)\n",
    "print(date3)"
   ]
  },
  {
   "cell_type": "code",
   "execution_count": 38,
   "id": "f6eb8dc7",
   "metadata": {},
   "outputs": [],
   "source": [
    "class Shape:\n",
    "    def get_area(self):\n",
    "        print(\"не получить площадь, нет атрибутов\")"
   ]
  },
  {
   "cell_type": "code",
   "execution_count": 39,
   "id": "46244a69",
   "metadata": {},
   "outputs": [],
   "source": [
    "class Rectangle(Shape):\n",
    "    def __init__(self, a, b):\n",
    "        self.a = a\n",
    "        self.b = b\n",
    "    \n",
    "    def get_area(self):\n",
    "        return self.a * self.b"
   ]
  },
  {
   "cell_type": "code",
   "execution_count": 40,
   "id": "3d078b1a",
   "metadata": {},
   "outputs": [
    {
     "data": {
      "text/plain": [
       "12"
      ]
     },
     "execution_count": 40,
     "metadata": {},
     "output_type": "execute_result"
    }
   ],
   "source": [
    "rectangle = Rectangle(3, 4)\n",
    "rectangle.get_area()"
   ]
  },
  {
   "cell_type": "code",
   "execution_count": 41,
   "id": "d8fc0ea4",
   "metadata": {},
   "outputs": [
    {
     "data": {
      "text/plain": [
       "20"
      ]
     },
     "execution_count": 41,
     "metadata": {},
     "output_type": "execute_result"
    }
   ],
   "source": [
    "rectangle.a = 5\n",
    "rectangle.get_area()"
   ]
  },
  {
   "cell_type": "code",
   "execution_count": 42,
   "id": "c255d202",
   "metadata": {},
   "outputs": [
    {
     "data": {
      "text/plain": [
       "20"
      ]
     },
     "execution_count": 42,
     "metadata": {},
     "output_type": "execute_result"
    }
   ],
   "source": [
    "rectangle.get_area()"
   ]
  },
  {
   "cell_type": "code",
   "execution_count": 44,
   "id": "b90a17a1",
   "metadata": {},
   "outputs": [],
   "source": [
    "class Rectangle(Shape):\n",
    "    def __init__(self, a, b):\n",
    "        self.a = a\n",
    "        self.b = b\n",
    "  \n",
    "    @property\n",
    "    def area(self):\n",
    "        return self.a * self.b"
   ]
  },
  {
   "cell_type": "code",
   "execution_count": 45,
   "id": "922400e9",
   "metadata": {},
   "outputs": [
    {
     "name": "stdout",
     "output_type": "stream",
     "text": [
      "30\n"
     ]
    }
   ],
   "source": [
    "rectangle = Rectangle(5, 6)\n",
    "print(rectangle.area)"
   ]
  },
  {
   "cell_type": "code",
   "execution_count": 46,
   "id": "23b12f3f",
   "metadata": {},
   "outputs": [
    {
     "name": "stdout",
     "output_type": "stream",
     "text": [
      "35\n"
     ]
    }
   ],
   "source": [
    "rectangle.b = 7\n",
    "print(rectangle.area)"
   ]
  },
  {
   "cell_type": "code",
   "execution_count": 47,
   "id": "9a2efe57",
   "metadata": {},
   "outputs": [],
   "source": [
    "class Square(Rectangle):\n",
    "    def __init__(self, a):\n",
    "        super().__init__(a, a)"
   ]
  },
  {
   "cell_type": "code",
   "execution_count": 48,
   "id": "911af50b",
   "metadata": {},
   "outputs": [
    {
     "data": {
      "text/plain": [
       "25"
      ]
     },
     "execution_count": 48,
     "metadata": {},
     "output_type": "execute_result"
    }
   ],
   "source": [
    "square = Square(5)\n",
    "square.area"
   ]
  },
  {
   "cell_type": "code",
   "execution_count": 49,
   "id": "bce2a154",
   "metadata": {},
   "outputs": [
    {
     "data": {
      "text/plain": [
       "30"
      ]
     },
     "execution_count": 49,
     "metadata": {},
     "output_type": "execute_result"
    }
   ],
   "source": [
    "square.a = 6\n",
    "square.area"
   ]
  },
  {
   "cell_type": "code",
   "execution_count": 50,
   "id": "891cff58",
   "metadata": {},
   "outputs": [],
   "source": [
    "class Square(Rectangle):\n",
    "    def __init__(self, a):\n",
    "        self.a = a\n",
    "    \n",
    "    @property\n",
    "    def b(self):\n",
    "        return self.a"
   ]
  },
  {
   "cell_type": "code",
   "execution_count": 51,
   "id": "8180e952",
   "metadata": {},
   "outputs": [
    {
     "data": {
      "text/plain": [
       "49"
      ]
     },
     "execution_count": 51,
     "metadata": {},
     "output_type": "execute_result"
    }
   ],
   "source": [
    "square = Square(7)\n",
    "square.area"
   ]
  },
  {
   "cell_type": "code",
   "execution_count": 52,
   "id": "fa1e6441",
   "metadata": {},
   "outputs": [
    {
     "data": {
      "text/plain": [
       "16"
      ]
     },
     "execution_count": 52,
     "metadata": {},
     "output_type": "execute_result"
    }
   ],
   "source": [
    "square.a = 4\n",
    "square.area"
   ]
  },
  {
   "cell_type": "code",
   "execution_count": 53,
   "id": "fcab87db",
   "metadata": {},
   "outputs": [
    {
     "data": {
      "text/plain": [
       "[__main__.Square, __main__.Rectangle, __main__.Shape, object]"
      ]
     },
     "execution_count": 53,
     "metadata": {},
     "output_type": "execute_result"
    }
   ],
   "source": [
    "Square.mro()"
   ]
  },
  {
   "cell_type": "code",
   "execution_count": 54,
   "id": "afd0c2e6",
   "metadata": {},
   "outputs": [
    {
     "data": {
      "text/plain": [
       "[__main__.Rectangle, __main__.Shape, object]"
      ]
     },
     "execution_count": 54,
     "metadata": {},
     "output_type": "execute_result"
    }
   ],
   "source": [
    "Rectangle.mro()"
   ]
  },
  {
   "cell_type": "code",
   "execution_count": 55,
   "id": "edafbaeb",
   "metadata": {},
   "outputs": [],
   "source": [
    "class VehicleBase:\n",
    "    def __init__(self, color):\n",
    "        self.color = color\n",
    "    \n",
    "    def make_sound(self):\n",
    "        print(\"no sound yet\")"
   ]
  },
  {
   "cell_type": "code",
   "execution_count": 59,
   "id": "e8b49b77",
   "metadata": {},
   "outputs": [],
   "source": [
    "class Car(VehicleBase):\n",
    "    def __init__(self, color, wheels):\n",
    "        self.color = color\n",
    "        self.wheels = wheels\n",
    "    \n",
    "    def make_sound(self):\n",
    "        print(\"beeeep\")\n",
    "    \n",
    "    def open_trunk(self):\n",
    "        print(\"opened trunk\")"
   ]
  },
  {
   "cell_type": "code",
   "execution_count": 57,
   "id": "c1cc6a10",
   "metadata": {},
   "outputs": [],
   "source": [
    "class Ship(VehicleBase):\n",
    "    def __init__(self, color, cabins):\n",
    "        self.color = color\n",
    "        self.cabins = cabins\n",
    "    \n",
    "    def make_sound(self):\n",
    "        print(\"booop\")\n",
    "    \n",
    "    def set_sail(self):\n",
    "        print(\"set sail done\")"
   ]
  },
  {
   "cell_type": "code",
   "execution_count": 60,
   "id": "732d5a4e",
   "metadata": {},
   "outputs": [
    {
     "name": "stdout",
     "output_type": "stream",
     "text": [
      "white\n"
     ]
    }
   ],
   "source": [
    "car = Car(\"white\", 4)\n",
    "print(car.color)"
   ]
  },
  {
   "cell_type": "code",
   "execution_count": 61,
   "id": "7f8ae332",
   "metadata": {},
   "outputs": [
    {
     "name": "stdout",
     "output_type": "stream",
     "text": [
      "beeeep\n"
     ]
    }
   ],
   "source": [
    "car.make_sound()"
   ]
  },
  {
   "cell_type": "code",
   "execution_count": 62,
   "id": "1b1af303",
   "metadata": {},
   "outputs": [
    {
     "name": "stdout",
     "output_type": "stream",
     "text": [
      "opened trunk\n"
     ]
    }
   ],
   "source": [
    "car.open_trunk()"
   ]
  },
  {
   "cell_type": "code",
   "execution_count": 63,
   "id": "5f90d9a3",
   "metadata": {},
   "outputs": [
    {
     "name": "stdout",
     "output_type": "stream",
     "text": [
      "Black\n"
     ]
    }
   ],
   "source": [
    "ship = Ship(\"Black\", 5)\n",
    "print(ship.color)\n"
   ]
  },
  {
   "cell_type": "code",
   "execution_count": 64,
   "id": "45953348",
   "metadata": {},
   "outputs": [
    {
     "name": "stdout",
     "output_type": "stream",
     "text": [
      "booop\n"
     ]
    }
   ],
   "source": [
    "ship.make_sound()"
   ]
  },
  {
   "cell_type": "code",
   "execution_count": 65,
   "id": "a86e97f5",
   "metadata": {},
   "outputs": [
    {
     "name": "stdout",
     "output_type": "stream",
     "text": [
      "set sail done\n"
     ]
    }
   ],
   "source": [
    "ship.set_sail()"
   ]
  },
  {
   "cell_type": "code",
   "execution_count": 66,
   "id": "a1256f52",
   "metadata": {},
   "outputs": [],
   "source": [
    "class Amphibian(Car, Ship):\n",
    "    def __init__(self, color, wheels):\n",
    "        self.cabins = 0\n",
    "        self.color = color\n",
    "        self.wheels = wheels\n",
    "    \n",
    "    def toggle_mode(self):\n",
    "        print(\"mode toggled\")"
   ]
  },
  {
   "cell_type": "code",
   "execution_count": 67,
   "id": "5e28251c",
   "metadata": {},
   "outputs": [],
   "source": [
    "amphibian = Amphibian(\"green\", 4)"
   ]
  },
  {
   "cell_type": "code",
   "execution_count": 68,
   "id": "cbb731be",
   "metadata": {},
   "outputs": [
    {
     "data": {
      "text/plain": [
       "['__class__',\n",
       " '__delattr__',\n",
       " '__dict__',\n",
       " '__dir__',\n",
       " '__doc__',\n",
       " '__eq__',\n",
       " '__format__',\n",
       " '__ge__',\n",
       " '__getattribute__',\n",
       " '__gt__',\n",
       " '__hash__',\n",
       " '__init__',\n",
       " '__init_subclass__',\n",
       " '__le__',\n",
       " '__lt__',\n",
       " '__module__',\n",
       " '__ne__',\n",
       " '__new__',\n",
       " '__reduce__',\n",
       " '__reduce_ex__',\n",
       " '__repr__',\n",
       " '__setattr__',\n",
       " '__sizeof__',\n",
       " '__str__',\n",
       " '__subclasshook__',\n",
       " '__weakref__',\n",
       " 'cabins',\n",
       " 'color',\n",
       " 'make_sound',\n",
       " 'open_trunk',\n",
       " 'set_sail',\n",
       " 'toggle_mode',\n",
       " 'wheels']"
      ]
     },
     "execution_count": 68,
     "metadata": {},
     "output_type": "execute_result"
    }
   ],
   "source": [
    "dir(amphibian)"
   ]
  },
  {
   "cell_type": "code",
   "execution_count": 69,
   "id": "9b4439b6",
   "metadata": {},
   "outputs": [
    {
     "data": {
      "text/plain": [
       "'green'"
      ]
     },
     "execution_count": 69,
     "metadata": {},
     "output_type": "execute_result"
    }
   ],
   "source": [
    "amphibian.color"
   ]
  },
  {
   "cell_type": "code",
   "execution_count": 70,
   "id": "7e37e22d",
   "metadata": {},
   "outputs": [
    {
     "data": {
      "text/plain": [
       "0"
      ]
     },
     "execution_count": 70,
     "metadata": {},
     "output_type": "execute_result"
    }
   ],
   "source": [
    "amphibian.cabins"
   ]
  },
  {
   "cell_type": "code",
   "execution_count": 71,
   "id": "67a94568",
   "metadata": {},
   "outputs": [
    {
     "data": {
      "text/plain": [
       "4"
      ]
     },
     "execution_count": 71,
     "metadata": {},
     "output_type": "execute_result"
    }
   ],
   "source": [
    "amphibian.wheels"
   ]
  },
  {
   "cell_type": "code",
   "execution_count": 72,
   "id": "065cb042",
   "metadata": {},
   "outputs": [
    {
     "name": "stdout",
     "output_type": "stream",
     "text": [
      "mode toggled\n"
     ]
    }
   ],
   "source": [
    "amphibian.toggle_mode()"
   ]
  },
  {
   "cell_type": "code",
   "execution_count": 73,
   "id": "64231c76",
   "metadata": {},
   "outputs": [
    {
     "name": "stdout",
     "output_type": "stream",
     "text": [
      "opened trunk\n"
     ]
    }
   ],
   "source": [
    "amphibian.open_trunk()"
   ]
  },
  {
   "cell_type": "code",
   "execution_count": 74,
   "id": "8c867511",
   "metadata": {},
   "outputs": [
    {
     "data": {
      "text/plain": [
       "<bound method Car.open_trunk of <__main__.Amphibian object at 0x105ef9070>>"
      ]
     },
     "execution_count": 74,
     "metadata": {},
     "output_type": "execute_result"
    }
   ],
   "source": [
    "amphibian.open_trunk"
   ]
  },
  {
   "cell_type": "code",
   "execution_count": 75,
   "id": "a1437bdc",
   "metadata": {},
   "outputs": [
    {
     "data": {
      "text/plain": [
       "<bound method Ship.set_sail of <__main__.Amphibian object at 0x105ef9070>>"
      ]
     },
     "execution_count": 75,
     "metadata": {},
     "output_type": "execute_result"
    }
   ],
   "source": [
    "amphibian.set_sail"
   ]
  },
  {
   "cell_type": "code",
   "execution_count": 76,
   "id": "d53e43f6",
   "metadata": {},
   "outputs": [
    {
     "name": "stdout",
     "output_type": "stream",
     "text": [
      "set sail done\n"
     ]
    }
   ],
   "source": [
    "amphibian.set_sail()"
   ]
  },
  {
   "cell_type": "code",
   "execution_count": 77,
   "id": "e1e67d84",
   "metadata": {},
   "outputs": [
    {
     "name": "stdout",
     "output_type": "stream",
     "text": [
      "beeeep\n"
     ]
    }
   ],
   "source": [
    "amphibian.make_sound()"
   ]
  },
  {
   "cell_type": "code",
   "execution_count": 78,
   "id": "20e69011",
   "metadata": {},
   "outputs": [
    {
     "data": {
      "text/plain": [
       "[__main__.Amphibian, __main__.Car, __main__.Ship, __main__.VehicleBase, object]"
      ]
     },
     "execution_count": 78,
     "metadata": {},
     "output_type": "execute_result"
    }
   ],
   "source": [
    "Amphibian.mro()"
   ]
  },
  {
   "cell_type": "code",
   "execution_count": 79,
   "id": "31d58bbd",
   "metadata": {},
   "outputs": [],
   "source": [
    "class AnotherAmphibian(Ship, Car):\n",
    "    def __init__(self, color, wheels):\n",
    "        self.cabins = 0\n",
    "        self.color = color\n",
    "        self.wheels = wheels"
   ]
  },
  {
   "cell_type": "code",
   "execution_count": 80,
   "id": "3aa1178e",
   "metadata": {},
   "outputs": [
    {
     "name": "stdout",
     "output_type": "stream",
     "text": [
      "green\n"
     ]
    }
   ],
   "source": [
    "amph2 = AnotherAmphibian(\"green\", 4)\n",
    "print(amph2.color)"
   ]
  },
  {
   "cell_type": "code",
   "execution_count": 81,
   "id": "416e851d",
   "metadata": {},
   "outputs": [
    {
     "name": "stdout",
     "output_type": "stream",
     "text": [
      "booop\n"
     ]
    }
   ],
   "source": [
    "amph2.make_sound()"
   ]
  },
  {
   "cell_type": "code",
   "execution_count": 82,
   "id": "7e68928c",
   "metadata": {},
   "outputs": [
    {
     "data": {
      "text/plain": [
       "[__main__.AnotherAmphibian,\n",
       " __main__.Ship,\n",
       " __main__.Car,\n",
       " __main__.VehicleBase,\n",
       " object]"
      ]
     },
     "execution_count": 82,
     "metadata": {},
     "output_type": "execute_result"
    }
   ],
   "source": [
    "AnotherAmphibian.mro()"
   ]
  },
  {
   "cell_type": "code",
   "execution_count": 83,
   "id": "eb0a37b9",
   "metadata": {},
   "outputs": [
    {
     "data": {
      "text/plain": [
       "<__main__.Ship at 0x105ef5df0>"
      ]
     },
     "execution_count": 83,
     "metadata": {},
     "output_type": "execute_result"
    }
   ],
   "source": [
    "ship"
   ]
  },
  {
   "cell_type": "code",
   "execution_count": 84,
   "id": "95775adf",
   "metadata": {},
   "outputs": [
    {
     "data": {
      "text/plain": [
       "5"
      ]
     },
     "execution_count": 84,
     "metadata": {},
     "output_type": "execute_result"
    }
   ],
   "source": [
    "ship.cabins"
   ]
  },
  {
   "cell_type": "code",
   "execution_count": 86,
   "id": "b95e9baf",
   "metadata": {},
   "outputs": [
    {
     "data": {
      "text/plain": [
       "True"
      ]
     },
     "execution_count": 86,
     "metadata": {},
     "output_type": "execute_result"
    }
   ],
   "source": [
    "isinstance(amph2, Ship)"
   ]
  },
  {
   "cell_type": "code",
   "execution_count": 87,
   "id": "0f4f3c43",
   "metadata": {},
   "outputs": [
    {
     "data": {
      "text/plain": [
       "0"
      ]
     },
     "execution_count": 87,
     "metadata": {},
     "output_type": "execute_result"
    }
   ],
   "source": [
    "amph2.cabins"
   ]
  },
  {
   "cell_type": "code",
   "execution_count": 88,
   "id": "070e6be8",
   "metadata": {},
   "outputs": [],
   "source": [
    "class YetAnotherAmphibian(Ship, Car):\n",
    "    def __init__(self, color, wheels):\n",
    "        # Car.__init__(self, color, wheels)\n",
    "        # Ship.__init__(self, color, 0)\n",
    "        self.cabins = 0\n",
    "        self.color = color\n",
    "        self.wheels = wheels\n",
    "    \n",
    "    def make_sound(self):\n",
    "        # return \n",
    "        Car.make_sound(self)"
   ]
  },
  {
   "cell_type": "code",
   "execution_count": 89,
   "id": "4514143b",
   "metadata": {},
   "outputs": [
    {
     "name": "stdout",
     "output_type": "stream",
     "text": [
      "beeeep\n"
     ]
    }
   ],
   "source": [
    "amph3 = YetAnotherAmphibian(\"green\", 6)\n",
    "amph3.make_sound()"
   ]
  },
  {
   "cell_type": "code",
   "execution_count": 91,
   "id": "256b83cb",
   "metadata": {},
   "outputs": [
    {
     "data": {
      "text/plain": [
       "<bound method YetAnotherAmphibian.make_sound of <__main__.YetAnotherAmphibian object at 0x105ef5f10>>"
      ]
     },
     "execution_count": 91,
     "metadata": {},
     "output_type": "execute_result"
    }
   ],
   "source": [
    "amph3.make_sound"
   ]
  },
  {
   "cell_type": "code",
   "execution_count": 92,
   "id": "f301a217",
   "metadata": {},
   "outputs": [
    {
     "data": {
      "text/plain": [
       "<bound method Ship.make_sound of <__main__.AnotherAmphibian object at 0x105ef5fd0>>"
      ]
     },
     "execution_count": 92,
     "metadata": {},
     "output_type": "execute_result"
    }
   ],
   "source": [
    "amph2.make_sound"
   ]
  },
  {
   "cell_type": "code",
   "execution_count": 93,
   "id": "18c27d74",
   "metadata": {},
   "outputs": [
    {
     "data": {
      "text/plain": [
       "<bound method Car.make_sound of <__main__.Amphibian object at 0x105ef9070>>"
      ]
     },
     "execution_count": 93,
     "metadata": {},
     "output_type": "execute_result"
    }
   ],
   "source": [
    "amphibian.make_sound"
   ]
  },
  {
   "cell_type": "code",
   "execution_count": 94,
   "id": "601747be",
   "metadata": {},
   "outputs": [],
   "source": [
    "class Car:\n",
    "    def ride(self):\n",
    "        print(\"riding a car\")\n",
    "    \n",
    "    def play_music(self, name):\n",
    "        print(\"Now playing:\", name)"
   ]
  },
  {
   "cell_type": "code",
   "execution_count": 95,
   "id": "dc473bb2",
   "metadata": {},
   "outputs": [],
   "source": [
    "car = Car()"
   ]
  },
  {
   "cell_type": "code",
   "execution_count": 96,
   "id": "33d073d7",
   "metadata": {},
   "outputs": [
    {
     "name": "stdout",
     "output_type": "stream",
     "text": [
      "riding a car\n"
     ]
    }
   ],
   "source": [
    "car.ride()"
   ]
  },
  {
   "cell_type": "code",
   "execution_count": 97,
   "id": "994dc206",
   "metadata": {},
   "outputs": [
    {
     "name": "stdout",
     "output_type": "stream",
     "text": [
      "Now playing: Track 1\n"
     ]
    }
   ],
   "source": [
    "car.play_music(\"Track 1\")"
   ]
  },
  {
   "cell_type": "code",
   "execution_count": 98,
   "id": "2d23ce75",
   "metadata": {},
   "outputs": [],
   "source": [
    "class MusicPlayerMixin:\n",
    "\n",
    "    def play_music(self, name):\n",
    "        print(\"Now playing:\", name)"
   ]
  },
  {
   "cell_type": "code",
   "execution_count": 99,
   "id": "ebf5ec8f",
   "metadata": {},
   "outputs": [],
   "source": [
    "class Smartphone(MusicPlayerMixin):\n",
    "    pass"
   ]
  },
  {
   "cell_type": "code",
   "execution_count": 100,
   "id": "737f76d6",
   "metadata": {},
   "outputs": [],
   "source": [
    "class Radio(MusicPlayerMixin):\n",
    "    pass"
   ]
  },
  {
   "cell_type": "code",
   "execution_count": 101,
   "id": "1e38ea4b",
   "metadata": {},
   "outputs": [],
   "source": [
    "class MusicalAmphibian(Amphibian, MusicPlayerMixin):\n",
    "    pass"
   ]
  },
  {
   "cell_type": "code",
   "execution_count": 102,
   "id": "d9acc9a6",
   "metadata": {},
   "outputs": [
    {
     "name": "stdout",
     "output_type": "stream",
     "text": [
      "Now playing: Track 2\n"
     ]
    }
   ],
   "source": [
    "smartphone = Smartphone()\n",
    "smartphone.play_music(\"Track 2\")"
   ]
  },
  {
   "cell_type": "code",
   "execution_count": 103,
   "id": "fad52444",
   "metadata": {},
   "outputs": [
    {
     "name": "stdout",
     "output_type": "stream",
     "text": [
      "Now playing: Station 101\n"
     ]
    }
   ],
   "source": [
    "radio = Radio()\n",
    "radio.play_music(\"Station 101\")"
   ]
  },
  {
   "cell_type": "code",
   "execution_count": 105,
   "id": "3150eec3",
   "metadata": {},
   "outputs": [
    {
     "name": "stdout",
     "output_type": "stream",
     "text": [
      "mode toggled\n"
     ]
    }
   ],
   "source": [
    "amph5 = MusicalAmphibian(\"green\", 4)\n",
    "amph5.toggle_mode()"
   ]
  },
  {
   "cell_type": "code",
   "execution_count": 106,
   "id": "0418743c",
   "metadata": {},
   "outputs": [
    {
     "name": "stdout",
     "output_type": "stream",
     "text": [
      "Now playing: Lost Sailor\n"
     ]
    }
   ],
   "source": [
    "amph5.play_music(\"Lost Sailor\")"
   ]
  },
  {
   "cell_type": "code",
   "execution_count": 107,
   "id": "2c237a1c",
   "metadata": {},
   "outputs": [
    {
     "ename": "ZeroDivisionError",
     "evalue": "division by zero",
     "output_type": "error",
     "traceback": [
      "\u001b[0;31m---------------------------------------------------------------------------\u001b[0m",
      "\u001b[0;31mZeroDivisionError\u001b[0m                         Traceback (most recent call last)",
      "\u001b[0;32m/var/folders/fj/49hkzfz15_zcq5jwvzbzk6fm0000gn/T/ipykernel_1984/3599633117.py\u001b[0m in \u001b[0;36m<module>\u001b[0;34m\u001b[0m\n\u001b[0;32m----> 1\u001b[0;31m \u001b[0;36m42\u001b[0m \u001b[0;34m/\u001b[0m \u001b[0;36m0\u001b[0m\u001b[0;34m\u001b[0m\u001b[0;34m\u001b[0m\u001b[0m\n\u001b[0m",
      "\u001b[0;31mZeroDivisionError\u001b[0m: division by zero"
     ]
    }
   ],
   "source": [
    "42 / 0"
   ]
  },
  {
   "cell_type": "code",
   "execution_count": 108,
   "id": "e1753e0a",
   "metadata": {},
   "outputs": [
    {
     "ename": "TypeError",
     "evalue": "unsupported operand type(s) for +: 'int' and 'str'",
     "output_type": "error",
     "traceback": [
      "\u001b[0;31m---------------------------------------------------------------------------\u001b[0m",
      "\u001b[0;31mTypeError\u001b[0m                                 Traceback (most recent call last)",
      "\u001b[0;32m/var/folders/fj/49hkzfz15_zcq5jwvzbzk6fm0000gn/T/ipykernel_1984/54392328.py\u001b[0m in \u001b[0;36m<module>\u001b[0;34m\u001b[0m\n\u001b[0;32m----> 1\u001b[0;31m \u001b[0;36m1\u001b[0m \u001b[0;34m+\u001b[0m \u001b[0;34m\"2\"\u001b[0m\u001b[0;34m\u001b[0m\u001b[0;34m\u001b[0m\u001b[0m\n\u001b[0m",
      "\u001b[0;31mTypeError\u001b[0m: unsupported operand type(s) for +: 'int' and 'str'"
     ]
    }
   ],
   "source": [
    "1 + \"2\""
   ]
  },
  {
   "cell_type": "code",
   "execution_count": 109,
   "id": "402f7bed",
   "metadata": {},
   "outputs": [
    {
     "ename": "ValueError",
     "evalue": "invalid literal for int() with base 10: 'qwe'",
     "output_type": "error",
     "traceback": [
      "\u001b[0;31m---------------------------------------------------------------------------\u001b[0m",
      "\u001b[0;31mValueError\u001b[0m                                Traceback (most recent call last)",
      "\u001b[0;32m/var/folders/fj/49hkzfz15_zcq5jwvzbzk6fm0000gn/T/ipykernel_1984/3693347314.py\u001b[0m in \u001b[0;36m<module>\u001b[0;34m\u001b[0m\n\u001b[0;32m----> 1\u001b[0;31m \u001b[0mint\u001b[0m\u001b[0;34m(\u001b[0m\u001b[0;34m\"qwe\"\u001b[0m\u001b[0;34m)\u001b[0m\u001b[0;34m\u001b[0m\u001b[0;34m\u001b[0m\u001b[0m\n\u001b[0m",
      "\u001b[0;31mValueError\u001b[0m: invalid literal for int() with base 10: 'qwe'"
     ]
    }
   ],
   "source": [
    "int(\"qwe\")"
   ]
  },
  {
   "cell_type": "code",
   "execution_count": 110,
   "id": "8c44f0d2",
   "metadata": {},
   "outputs": [
    {
     "ename": "ZeroDivisionError",
     "evalue": "division by zero",
     "output_type": "error",
     "traceback": [
      "\u001b[0;31m---------------------------------------------------------------------------\u001b[0m",
      "\u001b[0;31mZeroDivisionError\u001b[0m                         Traceback (most recent call last)",
      "\u001b[0;32m/var/folders/fj/49hkzfz15_zcq5jwvzbzk6fm0000gn/T/ipykernel_1984/1455669704.py\u001b[0m in \u001b[0;36m<module>\u001b[0;34m\u001b[0m\n\u001b[0;32m----> 1\u001b[0;31m \u001b[0;36m1\u001b[0m \u001b[0;34m/\u001b[0m \u001b[0;36m0\u001b[0m\u001b[0;34m\u001b[0m\u001b[0;34m\u001b[0m\u001b[0m\n\u001b[0m",
      "\u001b[0;31mZeroDivisionError\u001b[0m: division by zero"
     ]
    }
   ],
   "source": [
    "1 / 0"
   ]
  },
  {
   "cell_type": "code",
   "execution_count": 111,
   "id": "3f124857",
   "metadata": {},
   "outputs": [
    {
     "name": "stdout",
     "output_type": "stream",
     "text": [
      "oops, divizion by zero\n"
     ]
    }
   ],
   "source": [
    "try:\n",
    "    1 / 0 \n",
    "except ZeroDivisionError:\n",
    "    print(\"oops, divizion by zero\")"
   ]
  },
  {
   "cell_type": "code",
   "execution_count": 113,
   "id": "6ae4682b",
   "metadata": {},
   "outputs": [],
   "source": [
    "def divide(a, b):\n",
    "    try:\n",
    "        c = a / b\n",
    "    except ZeroDivisionError as e:\n",
    "        print(\"oops:\", e, \"| don't divide by zero\")\n",
    "        c = None\n",
    "    \n",
    "    return c"
   ]
  },
  {
   "cell_type": "code",
   "execution_count": 115,
   "id": "b6e33450",
   "metadata": {},
   "outputs": [
    {
     "name": "stdout",
     "output_type": "stream",
     "text": [
      "1.5\n"
     ]
    }
   ],
   "source": [
    "print(divide(3, 2))"
   ]
  },
  {
   "cell_type": "code",
   "execution_count": 117,
   "id": "e8365865",
   "metadata": {},
   "outputs": [
    {
     "name": "stdout",
     "output_type": "stream",
     "text": [
      "0.6\n"
     ]
    }
   ],
   "source": [
    "print(divide(3, 5))"
   ]
  },
  {
   "cell_type": "code",
   "execution_count": 118,
   "id": "c6fc9928",
   "metadata": {},
   "outputs": [
    {
     "name": "stdout",
     "output_type": "stream",
     "text": [
      "oops: division by zero | don't divide by zero\n",
      "None\n"
     ]
    }
   ],
   "source": [
    "print(divide(3, 0))"
   ]
  },
  {
   "cell_type": "code",
   "execution_count": 122,
   "id": "528e5a8b",
   "metadata": {},
   "outputs": [],
   "source": [
    "def divide(a, b):\n",
    "    try:\n",
    "        return a / b\n",
    "    except ZeroDivisionError:\n",
    "        print(\"pls don't divide by zero\")\n",
    "    except TypeError as e:\n",
    "        print(\"oops\", e)"
   ]
  },
  {
   "cell_type": "code",
   "execution_count": 120,
   "id": "80080f8c",
   "metadata": {},
   "outputs": [
    {
     "name": "stdout",
     "output_type": "stream",
     "text": [
      "2.0\n"
     ]
    }
   ],
   "source": [
    "print(divide(4, 2))"
   ]
  },
  {
   "cell_type": "code",
   "execution_count": 123,
   "id": "a9d93baf",
   "metadata": {},
   "outputs": [
    {
     "name": "stdout",
     "output_type": "stream",
     "text": [
      "pls don't divide by zero\n",
      "None\n"
     ]
    }
   ],
   "source": [
    "print(divide(4, 0))"
   ]
  },
  {
   "cell_type": "code",
   "execution_count": 124,
   "id": "81b558a6",
   "metadata": {},
   "outputs": [
    {
     "name": "stdout",
     "output_type": "stream",
     "text": [
      "oops unsupported operand type(s) for /: 'int' and 'str'\n",
      "None\n"
     ]
    }
   ],
   "source": [
    "print(divide(4, \"2\"))"
   ]
  },
  {
   "cell_type": "code",
   "execution_count": 125,
   "id": "d1bf0811",
   "metadata": {},
   "outputs": [],
   "source": [
    "def divide(a, b):\n",
    "    try:\n",
    "        return a / b\n",
    "    except ZeroDivisionError:\n",
    "        print(\"pls don't divide by zero\")\n",
    "    except TypeError as e:\n",
    "        print(\"oops\", e)\n",
    "    finally:\n",
    "        print(\"leaving func divide\")"
   ]
  },
  {
   "cell_type": "code",
   "execution_count": 126,
   "id": "4a6f1987",
   "metadata": {},
   "outputs": [
    {
     "name": "stdout",
     "output_type": "stream",
     "text": [
      "leaving func divide\n"
     ]
    },
    {
     "data": {
      "text/plain": [
       "0.5"
      ]
     },
     "execution_count": 126,
     "metadata": {},
     "output_type": "execute_result"
    }
   ],
   "source": [
    "divide(1, 2)"
   ]
  },
  {
   "cell_type": "code",
   "execution_count": 127,
   "id": "8220a17f",
   "metadata": {},
   "outputs": [
    {
     "name": "stdout",
     "output_type": "stream",
     "text": [
      "oops unsupported operand type(s) for /: 'int' and 'str'\n",
      "leaving func divide\n"
     ]
    }
   ],
   "source": [
    "divide(1, \"2\")"
   ]
  },
  {
   "cell_type": "code",
   "execution_count": 128,
   "id": "0c84df2c",
   "metadata": {},
   "outputs": [],
   "source": [
    "def divide(a, b):\n",
    "    try:\n",
    "        c = a / b\n",
    "    except (ZeroDivisionError, TypeError) as e:\n",
    "        print(\"ooops\", e)\n",
    "    else:\n",
    "        print(\"got result\", c, \"and returning it\")\n",
    "        return c\n",
    "    finally:\n",
    "        print(\"leaving div func\")"
   ]
  },
  {
   "cell_type": "code",
   "execution_count": 129,
   "id": "56015337",
   "metadata": {},
   "outputs": [
    {
     "name": "stdout",
     "output_type": "stream",
     "text": [
      "got result 0.75 and returning it\n",
      "leaving div func\n"
     ]
    },
    {
     "data": {
      "text/plain": [
       "0.75"
      ]
     },
     "execution_count": 129,
     "metadata": {},
     "output_type": "execute_result"
    }
   ],
   "source": [
    "divide(3, 4)"
   ]
  },
  {
   "cell_type": "code",
   "execution_count": 130,
   "id": "ba4d75f5",
   "metadata": {},
   "outputs": [
    {
     "name": "stdout",
     "output_type": "stream",
     "text": [
      "ooops division by zero\n",
      "leaving div func\n"
     ]
    }
   ],
   "source": [
    "divide(1, 0)"
   ]
  },
  {
   "cell_type": "code",
   "execution_count": 131,
   "id": "403cdcee",
   "metadata": {},
   "outputs": [
    {
     "name": "stdout",
     "output_type": "stream",
     "text": [
      "ooops unsupported operand type(s) for /: 'int' and 'str'\n",
      "leaving div func\n"
     ]
    }
   ],
   "source": [
    "divide(1, '0')"
   ]
  },
  {
   "cell_type": "code",
   "execution_count": 132,
   "id": "1fb10e75",
   "metadata": {},
   "outputs": [],
   "source": [
    "class MyException(Exception):\n",
    "    pass"
   ]
  },
  {
   "cell_type": "code",
   "execution_count": 133,
   "id": "344e5247",
   "metadata": {},
   "outputs": [
    {
     "name": "stdout",
     "output_type": "stream",
     "text": [
      "<class '__main__.MyException'>\n"
     ]
    }
   ],
   "source": [
    "print(MyException)"
   ]
  },
  {
   "cell_type": "code",
   "execution_count": 134,
   "id": "b85bd741",
   "metadata": {},
   "outputs": [
    {
     "data": {
      "text/plain": [
       "[__main__.MyException, Exception, BaseException, object]"
      ]
     },
     "execution_count": 134,
     "metadata": {},
     "output_type": "execute_result"
    }
   ],
   "source": [
    "MyException.mro()"
   ]
  },
  {
   "cell_type": "code",
   "execution_count": 135,
   "id": "cd430f16",
   "metadata": {},
   "outputs": [
    {
     "ename": "MyException",
     "evalue": "",
     "output_type": "error",
     "traceback": [
      "\u001b[0;31m---------------------------------------------------------------------------\u001b[0m",
      "\u001b[0;31mMyException\u001b[0m                               Traceback (most recent call last)",
      "\u001b[0;32m/var/folders/fj/49hkzfz15_zcq5jwvzbzk6fm0000gn/T/ipykernel_1984/3492595984.py\u001b[0m in \u001b[0;36m<module>\u001b[0;34m\u001b[0m\n\u001b[0;32m----> 1\u001b[0;31m \u001b[0;32mraise\u001b[0m \u001b[0mMyException\u001b[0m\u001b[0;34m\u001b[0m\u001b[0;34m\u001b[0m\u001b[0m\n\u001b[0m",
      "\u001b[0;31mMyException\u001b[0m: "
     ]
    }
   ],
   "source": [
    "raise MyException"
   ]
  },
  {
   "cell_type": "code",
   "execution_count": 136,
   "id": "c4ee42e8",
   "metadata": {},
   "outputs": [
    {
     "ename": "MyException",
     "evalue": "some error",
     "output_type": "error",
     "traceback": [
      "\u001b[0;31m---------------------------------------------------------------------------\u001b[0m",
      "\u001b[0;31mMyException\u001b[0m                               Traceback (most recent call last)",
      "\u001b[0;32m/var/folders/fj/49hkzfz15_zcq5jwvzbzk6fm0000gn/T/ipykernel_1984/3029206488.py\u001b[0m in \u001b[0;36m<module>\u001b[0;34m\u001b[0m\n\u001b[0;32m----> 1\u001b[0;31m \u001b[0;32mraise\u001b[0m \u001b[0mMyException\u001b[0m\u001b[0;34m(\u001b[0m\u001b[0;34m\"some error\"\u001b[0m\u001b[0;34m)\u001b[0m\u001b[0;34m\u001b[0m\u001b[0;34m\u001b[0m\u001b[0m\n\u001b[0m",
      "\u001b[0;31mMyException\u001b[0m: some error"
     ]
    }
   ],
   "source": [
    "raise MyException(\"some error\")"
   ]
  },
  {
   "cell_type": "code",
   "execution_count": 137,
   "id": "3f410737",
   "metadata": {},
   "outputs": [],
   "source": [
    "def divide(a, b):\n",
    "    try:\n",
    "        c = a / b\n",
    "    except (ZeroDivisionError, TypeError) as e:\n",
    "        print(\"ooops\", e)\n",
    "    else:\n",
    "        if c == 42:\n",
    "            raise MyException(\"before dividing make sure that result is not 42\")\n",
    "        print(\"got result\", c, \"and returning it\")\n",
    "        return c\n",
    "    finally:\n",
    "        print(\"leaving div func\")"
   ]
  },
  {
   "cell_type": "code",
   "execution_count": 138,
   "id": "ce688ab2",
   "metadata": {},
   "outputs": [
    {
     "name": "stdout",
     "output_type": "stream",
     "text": [
      "got result 0.5 and returning it\n",
      "leaving div func\n"
     ]
    },
    {
     "data": {
      "text/plain": [
       "0.5"
      ]
     },
     "execution_count": 138,
     "metadata": {},
     "output_type": "execute_result"
    }
   ],
   "source": [
    "divide(1, 2)"
   ]
  },
  {
   "cell_type": "code",
   "execution_count": 139,
   "id": "d2fc878a",
   "metadata": {},
   "outputs": [
    {
     "name": "stdout",
     "output_type": "stream",
     "text": [
      "ooops unsupported operand type(s) for /: 'int' and 'str'\n",
      "leaving div func\n"
     ]
    }
   ],
   "source": [
    "divide(1, \"2\")"
   ]
  },
  {
   "cell_type": "code",
   "execution_count": 140,
   "id": "6a93142e",
   "metadata": {},
   "outputs": [
    {
     "name": "stdout",
     "output_type": "stream",
     "text": [
      "got result 41.0 and returning it\n",
      "leaving div func\n"
     ]
    },
    {
     "data": {
      "text/plain": [
       "41.0"
      ]
     },
     "execution_count": 140,
     "metadata": {},
     "output_type": "execute_result"
    }
   ],
   "source": [
    "divide(82, 2)"
   ]
  },
  {
   "cell_type": "code",
   "execution_count": 141,
   "id": "cb2bd275",
   "metadata": {},
   "outputs": [
    {
     "name": "stdout",
     "output_type": "stream",
     "text": [
      "leaving div func\n"
     ]
    },
    {
     "ename": "MyException",
     "evalue": "before dividing make sure that result is not 42",
     "output_type": "error",
     "traceback": [
      "\u001b[0;31m---------------------------------------------------------------------------\u001b[0m",
      "\u001b[0;31mMyException\u001b[0m                               Traceback (most recent call last)",
      "\u001b[0;32m/var/folders/fj/49hkzfz15_zcq5jwvzbzk6fm0000gn/T/ipykernel_1984/4073394236.py\u001b[0m in \u001b[0;36m<module>\u001b[0;34m\u001b[0m\n\u001b[0;32m----> 1\u001b[0;31m \u001b[0mdivide\u001b[0m\u001b[0;34m(\u001b[0m\u001b[0;36m84\u001b[0m\u001b[0;34m,\u001b[0m \u001b[0;36m2\u001b[0m\u001b[0;34m)\u001b[0m\u001b[0;34m\u001b[0m\u001b[0;34m\u001b[0m\u001b[0m\n\u001b[0m",
      "\u001b[0;32m/var/folders/fj/49hkzfz15_zcq5jwvzbzk6fm0000gn/T/ipykernel_1984/634807557.py\u001b[0m in \u001b[0;36mdivide\u001b[0;34m(a, b)\u001b[0m\n\u001b[1;32m      6\u001b[0m     \u001b[0;32melse\u001b[0m\u001b[0;34m:\u001b[0m\u001b[0;34m\u001b[0m\u001b[0;34m\u001b[0m\u001b[0m\n\u001b[1;32m      7\u001b[0m         \u001b[0;32mif\u001b[0m \u001b[0mc\u001b[0m \u001b[0;34m==\u001b[0m \u001b[0;36m42\u001b[0m\u001b[0;34m:\u001b[0m\u001b[0;34m\u001b[0m\u001b[0;34m\u001b[0m\u001b[0m\n\u001b[0;32m----> 8\u001b[0;31m             \u001b[0;32mraise\u001b[0m \u001b[0mMyException\u001b[0m\u001b[0;34m(\u001b[0m\u001b[0;34m\"before dividing make sure that result is not 42\"\u001b[0m\u001b[0;34m)\u001b[0m\u001b[0;34m\u001b[0m\u001b[0;34m\u001b[0m\u001b[0m\n\u001b[0m\u001b[1;32m      9\u001b[0m         \u001b[0mprint\u001b[0m\u001b[0;34m(\u001b[0m\u001b[0;34m\"got result\"\u001b[0m\u001b[0;34m,\u001b[0m \u001b[0mc\u001b[0m\u001b[0;34m,\u001b[0m \u001b[0;34m\"and returning it\"\u001b[0m\u001b[0;34m)\u001b[0m\u001b[0;34m\u001b[0m\u001b[0;34m\u001b[0m\u001b[0m\n\u001b[1;32m     10\u001b[0m         \u001b[0;32mreturn\u001b[0m \u001b[0mc\u001b[0m\u001b[0;34m\u001b[0m\u001b[0;34m\u001b[0m\u001b[0m\n",
      "\u001b[0;31mMyException\u001b[0m: before dividing make sure that result is not 42"
     ]
    }
   ],
   "source": [
    "divide(84, 2)"
   ]
  },
  {
   "cell_type": "code",
   "execution_count": 142,
   "id": "beeb60ba",
   "metadata": {},
   "outputs": [
    {
     "name": "stdout",
     "output_type": "stream",
     "text": [
      "got check exc\n"
     ]
    }
   ],
   "source": [
    "try:\n",
    "    raise MyException(\"check exc\")\n",
    "except MyException as e:\n",
    "    print(\"got\", e)"
   ]
  },
  {
   "cell_type": "code",
   "execution_count": 143,
   "id": "885fd26c",
   "metadata": {},
   "outputs": [
    {
     "name": "stdout",
     "output_type": "stream",
     "text": [
      "oops\n"
     ]
    },
    {
     "ename": "MyException",
     "evalue": "not now",
     "output_type": "error",
     "traceback": [
      "\u001b[0;31m---------------------------------------------------------------------------\u001b[0m",
      "\u001b[0;31mMyException\u001b[0m                               Traceback (most recent call last)",
      "\u001b[0;32m/var/folders/fj/49hkzfz15_zcq5jwvzbzk6fm0000gn/T/ipykernel_1984/1361225621.py\u001b[0m in \u001b[0;36m<module>\u001b[0;34m\u001b[0m\n\u001b[1;32m      4\u001b[0m     \u001b[0mprint\u001b[0m\u001b[0;34m(\u001b[0m\u001b[0;34m\"oops\"\u001b[0m\u001b[0;34m)\u001b[0m\u001b[0;34m\u001b[0m\u001b[0;34m\u001b[0m\u001b[0m\n\u001b[1;32m      5\u001b[0m \u001b[0;32mfinally\u001b[0m\u001b[0;34m:\u001b[0m\u001b[0;34m\u001b[0m\u001b[0;34m\u001b[0m\u001b[0m\n\u001b[0;32m----> 6\u001b[0;31m     \u001b[0;32mraise\u001b[0m \u001b[0mMyException\u001b[0m\u001b[0;34m(\u001b[0m\u001b[0;34m\"not now\"\u001b[0m\u001b[0;34m)\u001b[0m\u001b[0;34m\u001b[0m\u001b[0;34m\u001b[0m\u001b[0m\n\u001b[0m",
      "\u001b[0;31mMyException\u001b[0m: not now"
     ]
    }
   ],
   "source": [
    "try:\n",
    "    1 / 0\n",
    "except ZeroDivisionError:\n",
    "    print(\"oops\")\n",
    "finally:\n",
    "    raise MyException(\"not now\")"
   ]
  },
  {
   "cell_type": "code",
   "execution_count": null,
   "id": "4aaaa41c",
   "metadata": {},
   "outputs": [],
   "source": []
  }
 ],
 "metadata": {
  "kernelspec": {
   "display_name": "Python 3 (ipykernel)",
   "language": "python",
   "name": "python3"
  },
  "language_info": {
   "codemirror_mode": {
    "name": "ipython",
    "version": 3
   },
   "file_extension": ".py",
   "mimetype": "text/x-python",
   "name": "python",
   "nbconvert_exporter": "python",
   "pygments_lexer": "ipython3",
   "version": "3.9.7"
  }
 },
 "nbformat": 4,
 "nbformat_minor": 5
}
