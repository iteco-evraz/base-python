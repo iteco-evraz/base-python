{
 "cells": [
  {
   "cell_type": "code",
   "execution_count": 1,
   "id": "f17905bc",
   "metadata": {},
   "outputs": [
    {
     "name": "stdout",
     "output_type": "stream",
     "text": [
      "Hello World!\n"
     ]
    }
   ],
   "source": [
    "hello_str = \"Hello World!\"\n",
    "print(hello_str)"
   ]
  },
  {
   "cell_type": "code",
   "execution_count": 2,
   "id": "49e41a3f",
   "metadata": {},
   "outputs": [
    {
     "name": "stdout",
     "output_type": "stream",
     "text": [
      "<class 'str'>\n"
     ]
    }
   ],
   "source": [
    "print(type(hello_str))"
   ]
  },
  {
   "cell_type": "code",
   "execution_count": 3,
   "id": "56113cc5",
   "metadata": {},
   "outputs": [
    {
     "data": {
      "text/plain": [
       "True"
      ]
     },
     "execution_count": 3,
     "metadata": {},
     "output_type": "execute_result"
    }
   ],
   "source": [
    "isinstance(hello_str, str)"
   ]
  },
  {
   "cell_type": "code",
   "execution_count": 4,
   "id": "31f54ac5",
   "metadata": {},
   "outputs": [
    {
     "name": "stdout",
     "output_type": "stream",
     "text": [
      "<method 'upper' of 'str' objects>\n"
     ]
    }
   ],
   "source": [
    "print(str.upper)"
   ]
  },
  {
   "cell_type": "code",
   "execution_count": 5,
   "id": "d490112a",
   "metadata": {},
   "outputs": [
    {
     "name": "stdout",
     "output_type": "stream",
     "text": [
      "<built-in method upper of str object at 0x11079dcf0>\n"
     ]
    }
   ],
   "source": [
    "print(hello_str.upper)"
   ]
  },
  {
   "cell_type": "code",
   "execution_count": 6,
   "id": "c86caf66",
   "metadata": {},
   "outputs": [
    {
     "data": {
      "text/plain": [
       "'HELLO WORLD!'"
      ]
     },
     "execution_count": 6,
     "metadata": {},
     "output_type": "execute_result"
    }
   ],
   "source": [
    "hello_str.upper()"
   ]
  },
  {
   "cell_type": "code",
   "execution_count": 7,
   "id": "b28a5fd8",
   "metadata": {},
   "outputs": [
    {
     "data": {
      "text/plain": [
       "'Hello World!'"
      ]
     },
     "execution_count": 7,
     "metadata": {},
     "output_type": "execute_result"
    }
   ],
   "source": [
    "hello_str"
   ]
  },
  {
   "cell_type": "code",
   "execution_count": 8,
   "id": "19972207",
   "metadata": {},
   "outputs": [
    {
     "data": {
      "text/plain": [
       "['__add__',\n",
       " '__class__',\n",
       " '__contains__',\n",
       " '__delattr__',\n",
       " '__dir__',\n",
       " '__doc__',\n",
       " '__eq__',\n",
       " '__format__',\n",
       " '__ge__',\n",
       " '__getattribute__',\n",
       " '__getitem__',\n",
       " '__getnewargs__',\n",
       " '__gt__',\n",
       " '__hash__',\n",
       " '__init__',\n",
       " '__init_subclass__',\n",
       " '__iter__',\n",
       " '__le__',\n",
       " '__len__',\n",
       " '__lt__',\n",
       " '__mod__',\n",
       " '__mul__',\n",
       " '__ne__',\n",
       " '__new__',\n",
       " '__reduce__',\n",
       " '__reduce_ex__',\n",
       " '__repr__',\n",
       " '__rmod__',\n",
       " '__rmul__',\n",
       " '__setattr__',\n",
       " '__sizeof__',\n",
       " '__str__',\n",
       " '__subclasshook__',\n",
       " 'capitalize',\n",
       " 'casefold',\n",
       " 'center',\n",
       " 'count',\n",
       " 'encode',\n",
       " 'endswith',\n",
       " 'expandtabs',\n",
       " 'find',\n",
       " 'format',\n",
       " 'format_map',\n",
       " 'index',\n",
       " 'isalnum',\n",
       " 'isalpha',\n",
       " 'isascii',\n",
       " 'isdecimal',\n",
       " 'isdigit',\n",
       " 'isidentifier',\n",
       " 'islower',\n",
       " 'isnumeric',\n",
       " 'isprintable',\n",
       " 'isspace',\n",
       " 'istitle',\n",
       " 'isupper',\n",
       " 'join',\n",
       " 'ljust',\n",
       " 'lower',\n",
       " 'lstrip',\n",
       " 'maketrans',\n",
       " 'partition',\n",
       " 'removeprefix',\n",
       " 'removesuffix',\n",
       " 'replace',\n",
       " 'rfind',\n",
       " 'rindex',\n",
       " 'rjust',\n",
       " 'rpartition',\n",
       " 'rsplit',\n",
       " 'rstrip',\n",
       " 'split',\n",
       " 'splitlines',\n",
       " 'startswith',\n",
       " 'strip',\n",
       " 'swapcase',\n",
       " 'title',\n",
       " 'translate',\n",
       " 'upper',\n",
       " 'zfill']"
      ]
     },
     "execution_count": 8,
     "metadata": {},
     "output_type": "execute_result"
    }
   ],
   "source": [
    "dir(str)"
   ]
  },
  {
   "cell_type": "code",
   "execution_count": 9,
   "id": "a7989fc6",
   "metadata": {},
   "outputs": [
    {
     "data": {
      "text/plain": [
       "<function str.isupper()>"
      ]
     },
     "execution_count": 9,
     "metadata": {},
     "output_type": "execute_result"
    }
   ],
   "source": [
    "hello_str.isupper"
   ]
  },
  {
   "cell_type": "code",
   "execution_count": 10,
   "id": "34e66511",
   "metadata": {},
   "outputs": [
    {
     "name": "stdout",
     "output_type": "stream",
     "text": [
      "<built-in method isupper of str object at 0x11079dcf0>\n"
     ]
    }
   ],
   "source": [
    "print(hello_str.isupper)"
   ]
  },
  {
   "cell_type": "code",
   "execution_count": 11,
   "id": "59569d76",
   "metadata": {},
   "outputs": [
    {
     "data": {
      "text/plain": [
       "False"
      ]
     },
     "execution_count": 11,
     "metadata": {},
     "output_type": "execute_result"
    }
   ],
   "source": [
    "hello_str.isupper()"
   ]
  },
  {
   "cell_type": "code",
   "execution_count": 12,
   "id": "4fc456d2",
   "metadata": {},
   "outputs": [
    {
     "data": {
      "text/plain": [
       "'Hello World!'"
      ]
     },
     "execution_count": 12,
     "metadata": {},
     "output_type": "execute_result"
    }
   ],
   "source": [
    "hello_str"
   ]
  },
  {
   "cell_type": "code",
   "execution_count": 13,
   "id": "e6b1eda1",
   "metadata": {},
   "outputs": [
    {
     "data": {
      "text/plain": [
       "True"
      ]
     },
     "execution_count": 13,
     "metadata": {},
     "output_type": "execute_result"
    }
   ],
   "source": [
    "(hello_str.upper()).isupper()"
   ]
  },
  {
   "cell_type": "code",
   "execution_count": 14,
   "id": "d74e16f3",
   "metadata": {},
   "outputs": [
    {
     "data": {
      "text/plain": [
       "'HELLO WORLD!'"
      ]
     },
     "execution_count": 14,
     "metadata": {},
     "output_type": "execute_result"
    }
   ],
   "source": [
    "hello_str.upper()"
   ]
  },
  {
   "cell_type": "code",
   "execution_count": 15,
   "id": "db1fdf61",
   "metadata": {},
   "outputs": [
    {
     "data": {
      "text/plain": [
       "'HELLO WORLD!'"
      ]
     },
     "execution_count": 15,
     "metadata": {},
     "output_type": "execute_result"
    }
   ],
   "source": [
    "str.upper(hello_str)"
   ]
  },
  {
   "cell_type": "code",
   "execution_count": 16,
   "id": "3edf76a0",
   "metadata": {},
   "outputs": [
    {
     "data": {
      "text/plain": [
       "False"
      ]
     },
     "execution_count": 16,
     "metadata": {},
     "output_type": "execute_result"
    }
   ],
   "source": [
    "str.isupper(hello_str)"
   ]
  },
  {
   "cell_type": "code",
   "execution_count": 17,
   "id": "a5406e16",
   "metadata": {},
   "outputs": [
    {
     "data": {
      "text/plain": [
       "{'spam': 'eggs', 'foo': 'bar'}"
      ]
     },
     "execution_count": 17,
     "metadata": {},
     "output_type": "execute_result"
    }
   ],
   "source": [
    "dict(spam=\"eggs\", foo=\"bar\")"
   ]
  },
  {
   "cell_type": "code",
   "execution_count": 18,
   "id": "6295dcc5",
   "metadata": {},
   "outputs": [
    {
     "data": {
      "text/plain": [
       "{'spam': 'eggs', 'foo': 'bar'}"
      ]
     },
     "execution_count": 18,
     "metadata": {},
     "output_type": "execute_result"
    }
   ],
   "source": [
    "{'spam': 'eggs', 'foo': 'bar'}"
   ]
  },
  {
   "cell_type": "code",
   "execution_count": 19,
   "id": "259668c8",
   "metadata": {},
   "outputs": [
    {
     "data": {
      "text/plain": [
       "['__class__',\n",
       " '__class_getitem__',\n",
       " '__contains__',\n",
       " '__delattr__',\n",
       " '__delitem__',\n",
       " '__dir__',\n",
       " '__doc__',\n",
       " '__eq__',\n",
       " '__format__',\n",
       " '__ge__',\n",
       " '__getattribute__',\n",
       " '__getitem__',\n",
       " '__gt__',\n",
       " '__hash__',\n",
       " '__init__',\n",
       " '__init_subclass__',\n",
       " '__ior__',\n",
       " '__iter__',\n",
       " '__le__',\n",
       " '__len__',\n",
       " '__lt__',\n",
       " '__ne__',\n",
       " '__new__',\n",
       " '__or__',\n",
       " '__reduce__',\n",
       " '__reduce_ex__',\n",
       " '__repr__',\n",
       " '__reversed__',\n",
       " '__ror__',\n",
       " '__setattr__',\n",
       " '__setitem__',\n",
       " '__sizeof__',\n",
       " '__str__',\n",
       " '__subclasshook__',\n",
       " 'clear',\n",
       " 'copy',\n",
       " 'fromkeys',\n",
       " 'get',\n",
       " 'items',\n",
       " 'keys',\n",
       " 'pop',\n",
       " 'popitem',\n",
       " 'setdefault',\n",
       " 'update',\n",
       " 'values']"
      ]
     },
     "execution_count": 19,
     "metadata": {},
     "output_type": "execute_result"
    }
   ],
   "source": [
    "dir(dict)"
   ]
  },
  {
   "cell_type": "code",
   "execution_count": 20,
   "id": "554ff847",
   "metadata": {},
   "outputs": [
    {
     "name": "stdout",
     "output_type": "stream",
     "text": [
      "<built-in method fromkeys of type object at 0x1030e8b78>\n"
     ]
    }
   ],
   "source": [
    "print(dict.fromkeys)"
   ]
  },
  {
   "cell_type": "code",
   "execution_count": 21,
   "id": "3f0cd156",
   "metadata": {},
   "outputs": [
    {
     "name": "stdout",
     "output_type": "stream",
     "text": [
      "<built-in method fromkeys of type object at 0x1030e8b78>\n"
     ]
    }
   ],
   "source": [
    "print(({}).fromkeys)"
   ]
  },
  {
   "cell_type": "code",
   "execution_count": 22,
   "id": "d3d84ae8",
   "metadata": {},
   "outputs": [
    {
     "name": "stdout",
     "output_type": "stream",
     "text": [
      "Help on built-in function fromkeys:\n",
      "\n",
      "fromkeys(iterable, value=None, /) method of builtins.type instance\n",
      "    Create a new dictionary with keys from iterable and values set to value.\n",
      "\n"
     ]
    }
   ],
   "source": [
    "help(dict.fromkeys)"
   ]
  },
  {
   "cell_type": "code",
   "execution_count": 23,
   "id": "438dc848",
   "metadata": {},
   "outputs": [
    {
     "data": {
      "text/plain": [
       "{'spam': None, 'eggs': None}"
      ]
     },
     "execution_count": 23,
     "metadata": {},
     "output_type": "execute_result"
    }
   ],
   "source": [
    "dict.fromkeys([\"spam\", \"eggs\"])"
   ]
  },
  {
   "cell_type": "code",
   "execution_count": 24,
   "id": "97ad1410",
   "metadata": {},
   "outputs": [
    {
     "data": {
      "text/plain": [
       "{'a': None, 'b': None, 'c': None}"
      ]
     },
     "execution_count": 24,
     "metadata": {},
     "output_type": "execute_result"
    }
   ],
   "source": [
    "dict.fromkeys(\"abc\")"
   ]
  },
  {
   "cell_type": "code",
   "execution_count": 25,
   "id": "644eaf45",
   "metadata": {},
   "outputs": [
    {
     "data": {
      "text/plain": [
       "{'q': 0, 'w': 0, 'e': 0}"
      ]
     },
     "execution_count": 25,
     "metadata": {},
     "output_type": "execute_result"
    }
   ],
   "source": [
    "dict.fromkeys(\"qwe\", 0)"
   ]
  },
  {
   "cell_type": "code",
   "execution_count": 26,
   "id": "bb9900e0",
   "metadata": {},
   "outputs": [
    {
     "data": {
      "text/plain": [
       "{'q': 0, 'w': 0, 'e': 0}"
      ]
     },
     "execution_count": 26,
     "metadata": {},
     "output_type": "execute_result"
    }
   ],
   "source": [
    "{i: 0 for i in \"qwe\"}"
   ]
  },
  {
   "cell_type": "code",
   "execution_count": 27,
   "id": "2c6daeef",
   "metadata": {},
   "outputs": [
    {
     "data": {
      "text/plain": [
       "{0: '0', 1: '1', 2: '2', 3: '3', 4: '4'}"
      ]
     },
     "execution_count": 27,
     "metadata": {},
     "output_type": "execute_result"
    }
   ],
   "source": [
    "{i: str(i) for i in range(5)}"
   ]
  },
  {
   "cell_type": "code",
   "execution_count": 28,
   "id": "ccc1fbd9",
   "metadata": {},
   "outputs": [
    {
     "data": {
      "text/plain": [
       "{'i': None, 'j': None, 'k': None}"
      ]
     },
     "execution_count": 28,
     "metadata": {},
     "output_type": "execute_result"
    }
   ],
   "source": [
    "{}.fromkeys(\"ijk\")"
   ]
  },
  {
   "cell_type": "code",
   "execution_count": 29,
   "id": "12b9d6da",
   "metadata": {},
   "outputs": [
    {
     "data": {
      "text/plain": [
       "['2021', '11', '15']"
      ]
     },
     "execution_count": 29,
     "metadata": {},
     "output_type": "execute_result"
    }
   ],
   "source": [
    "d_string = \"2021-11-15\"\n",
    "d_string.split(\"-\")"
   ]
  },
  {
   "cell_type": "code",
   "execution_count": 30,
   "id": "569bffc4",
   "metadata": {},
   "outputs": [
    {
     "data": {
      "text/plain": [
       "['d_string']"
      ]
     },
     "execution_count": 30,
     "metadata": {},
     "output_type": "execute_result"
    }
   ],
   "source": [
    "\"d_string\".split(\"-\")"
   ]
  },
  {
   "cell_type": "code",
   "execution_count": 31,
   "id": "c304f785",
   "metadata": {},
   "outputs": [
    {
     "data": {
      "text/plain": [
       "[2021, 11, 15]"
      ]
     },
     "execution_count": 31,
     "metadata": {},
     "output_type": "execute_result"
    }
   ],
   "source": [
    "list(map(int, d_string.split(\"-\")))"
   ]
  },
  {
   "cell_type": "code",
   "execution_count": 32,
   "id": "5b3410d3",
   "metadata": {},
   "outputs": [
    {
     "name": "stdout",
     "output_type": "stream",
     "text": [
      "2021 11 15\n"
     ]
    }
   ],
   "source": [
    "y, m, d = map(int, d_string.split(\"-\"))\n",
    "print(y, m, d)"
   ]
  },
  {
   "cell_type": "code",
   "execution_count": 33,
   "id": "a46f5c64",
   "metadata": {},
   "outputs": [],
   "source": [
    "class Date:\n",
    "    \n",
    "    def __init__(self, year=0, month=0, day=0):\n",
    "        self.year = year\n",
    "        self.month = month\n",
    "        self.day = day\n",
    "    \n",
    "    def copy(self):\n",
    "        # date = self.__class__(...)\n",
    "        date = Date(year=self.year, month=self.month, day=self.day)\n",
    "        return date\n",
    "    \n",
    "    @classmethod\n",
    "    def from_date_string(cls, date_string):\n",
    "        \"\"\"\n",
    "        Accept date string like 2021-11-15\n",
    "        \"\"\"\n",
    "        year, month, day = map(int, date_string.split(\"-\"))\n",
    "        date = cls(year=year, month=month, day=day)\n",
    "        return date\n",
    "    \n",
    "    @staticmethod\n",
    "    def is_date_string_valid(date_string):\n",
    "        if date_string.count(\"-\") != 2:\n",
    "            return False\n",
    "\n",
    "        year, month, day = map(int, date_string.split(\"-\"))\n",
    "        return day <= 31 and month <= 12 and year <= 3999\n",
    "    \n",
    "    def __str__(self):\n",
    "        return (\n",
    "            f\"Date(year={self.year}, \"\n",
    "            f\"month={self.month}, day={self.day})\"\n",
    "        )\n",
    "\n",
    "    def __repr__(self):\n",
    "        return str(self)"
   ]
  },
  {
   "cell_type": "code",
   "execution_count": 34,
   "id": "db870afe",
   "metadata": {},
   "outputs": [
    {
     "data": {
      "text/plain": [
       "Date(year=2021, month=12, day=9)"
      ]
     },
     "execution_count": 34,
     "metadata": {},
     "output_type": "execute_result"
    }
   ],
   "source": [
    "year_today = 2021\n",
    "month_today = 12\n",
    "day_today = 9\n",
    "Date(year_today, month=month_today, day=day_today)"
   ]
  },
  {
   "cell_type": "code",
   "execution_count": 35,
   "id": "d41efefe",
   "metadata": {},
   "outputs": [
    {
     "data": {
      "text/plain": [
       "Date(year=2021, month=12, day=9)"
      ]
     },
     "execution_count": 35,
     "metadata": {},
     "output_type": "execute_result"
    }
   ],
   "source": [
    "year_today = 2021\n",
    "month_today = 12\n",
    "day_today = 9\n",
    "Date(year_today, month_today, day_today)"
   ]
  },
  {
   "cell_type": "code",
   "execution_count": 36,
   "id": "446d1470",
   "metadata": {},
   "outputs": [
    {
     "data": {
      "text/plain": [
       "Date(year=2021, month=12, day=9)"
      ]
     },
     "execution_count": 36,
     "metadata": {},
     "output_type": "execute_result"
    }
   ],
   "source": [
    "year_today = 2021\n",
    "month_today = 12\n",
    "day_today = 9\n",
    "Date(year=year_today, month=month_today, day=day_today)"
   ]
  },
  {
   "cell_type": "code",
   "execution_count": 37,
   "id": "c04bfb6e",
   "metadata": {},
   "outputs": [
    {
     "data": {
      "text/plain": [
       "Date(year=2020, month=10, day=7)"
      ]
     },
     "execution_count": 37,
     "metadata": {},
     "output_type": "execute_result"
    }
   ],
   "source": [
    "Date.from_date_string(\"2020-10-7\")"
   ]
  },
  {
   "cell_type": "code",
   "execution_count": 38,
   "id": "b6862968",
   "metadata": {},
   "outputs": [
    {
     "name": "stdout",
     "output_type": "stream",
     "text": [
      "Date(year=2020, month=10, day=7)\n"
     ]
    }
   ],
   "source": [
    "date = Date.from_date_string(\"2020-10-7\")\n",
    "print(date)"
   ]
  },
  {
   "cell_type": "code",
   "execution_count": 39,
   "id": "467e4ca2",
   "metadata": {},
   "outputs": [
    {
     "name": "stdout",
     "output_type": "stream",
     "text": [
      "True\n",
      "False\n"
     ]
    }
   ],
   "source": [
    "date2 = date\n",
    "date3 = date.copy()\n",
    "\n",
    "print(date2 is date)\n",
    "print(date3 is date)"
   ]
  },
  {
   "cell_type": "code",
   "execution_count": 40,
   "id": "6f450306",
   "metadata": {},
   "outputs": [
    {
     "data": {
      "text/plain": [
       "Date(year=2020, month=10, day=7)"
      ]
     },
     "execution_count": 40,
     "metadata": {},
     "output_type": "execute_result"
    }
   ],
   "source": [
    "date"
   ]
  },
  {
   "cell_type": "code",
   "execution_count": 41,
   "id": "ee263fa2",
   "metadata": {},
   "outputs": [
    {
     "data": {
      "text/plain": [
       "Date(year=2020, month=10, day=7)"
      ]
     },
     "execution_count": 41,
     "metadata": {},
     "output_type": "execute_result"
    }
   ],
   "source": [
    "date2"
   ]
  },
  {
   "cell_type": "code",
   "execution_count": 42,
   "id": "0bf335f5",
   "metadata": {},
   "outputs": [
    {
     "data": {
      "text/plain": [
       "Date(year=2020, month=10, day=7)"
      ]
     },
     "execution_count": 42,
     "metadata": {},
     "output_type": "execute_result"
    }
   ],
   "source": [
    "date3"
   ]
  },
  {
   "cell_type": "code",
   "execution_count": 43,
   "id": "e1f09948",
   "metadata": {},
   "outputs": [
    {
     "name": "stdout",
     "output_type": "stream",
     "text": [
      "Date(year=2021, month=12, day=12)\n",
      "Date(year=2021, month=12, day=12)\n"
     ]
    }
   ],
   "source": [
    "date.year += 1\n",
    "date2.month += 2\n",
    "date.day += 5\n",
    "print(date)\n",
    "print(date2)"
   ]
  },
  {
   "cell_type": "code",
   "execution_count": 44,
   "id": "af6ae227",
   "metadata": {},
   "outputs": [
    {
     "data": {
      "text/plain": [
       "Date(year=2020, month=10, day=7)"
      ]
     },
     "execution_count": 44,
     "metadata": {},
     "output_type": "execute_result"
    }
   ],
   "source": [
    "date3"
   ]
  },
  {
   "cell_type": "code",
   "execution_count": 45,
   "id": "f365897a",
   "metadata": {},
   "outputs": [
    {
     "data": {
      "text/plain": [
       "Date(year=2020, month=7, day=7)"
      ]
     },
     "execution_count": 45,
     "metadata": {},
     "output_type": "execute_result"
    }
   ],
   "source": [
    "date3.month -= 3\n",
    "date3"
   ]
  },
  {
   "cell_type": "code",
   "execution_count": 46,
   "id": "d0d9c597",
   "metadata": {},
   "outputs": [
    {
     "data": {
      "text/plain": [
       "Date(year=2021, month=12, day=12)"
      ]
     },
     "execution_count": 46,
     "metadata": {},
     "output_type": "execute_result"
    }
   ],
   "source": [
    "date2"
   ]
  },
  {
   "cell_type": "code",
   "execution_count": 47,
   "id": "c7badbb1",
   "metadata": {},
   "outputs": [
    {
     "data": {
      "text/plain": [
       "False"
      ]
     },
     "execution_count": 47,
     "metadata": {},
     "output_type": "execute_result"
    }
   ],
   "source": [
    "Date.is_date_string_valid(\"\")"
   ]
  },
  {
   "cell_type": "code",
   "execution_count": 48,
   "id": "2b23b416",
   "metadata": {},
   "outputs": [
    {
     "data": {
      "text/plain": [
       "False"
      ]
     },
     "execution_count": 48,
     "metadata": {},
     "output_type": "execute_result"
    }
   ],
   "source": [
    "Date.is_date_string_valid(\"2021-12\")"
   ]
  },
  {
   "cell_type": "code",
   "execution_count": 49,
   "id": "92dc768d",
   "metadata": {},
   "outputs": [
    {
     "data": {
      "text/plain": [
       "False"
      ]
     },
     "execution_count": 49,
     "metadata": {},
     "output_type": "execute_result"
    }
   ],
   "source": [
    "Date.is_date_string_valid(\"2021-12-41\")"
   ]
  },
  {
   "cell_type": "code",
   "execution_count": 50,
   "id": "d1eadba7",
   "metadata": {},
   "outputs": [
    {
     "data": {
      "text/plain": [
       "True"
      ]
     },
     "execution_count": 50,
     "metadata": {},
     "output_type": "execute_result"
    }
   ],
   "source": [
    "Date.is_date_string_valid(\"2021-12-31\")"
   ]
  },
  {
   "cell_type": "code",
   "execution_count": 51,
   "id": "ec320327",
   "metadata": {},
   "outputs": [
    {
     "data": {
      "text/plain": [
       "Date(year=2021, month=12, day=31)"
      ]
     },
     "execution_count": 51,
     "metadata": {},
     "output_type": "execute_result"
    }
   ],
   "source": [
    "Date.from_date_string(\"2021-12-31\")"
   ]
  },
  {
   "cell_type": "code",
   "execution_count": 52,
   "id": "3f9d775f",
   "metadata": {},
   "outputs": [],
   "source": [
    "class Shape:\n",
    "    def get_area(self):\n",
    "        print(\"нет данных для получения площади\")"
   ]
  },
  {
   "cell_type": "code",
   "execution_count": 53,
   "id": "eb7a3980",
   "metadata": {},
   "outputs": [],
   "source": [
    "class Rectangle(Shape):\n",
    "    def __init__(self, a, b):\n",
    "        self.a = a\n",
    "        self.b = b\n",
    "        \n",
    "    def get_area(self):\n",
    "        return self.a * self.b"
   ]
  },
  {
   "cell_type": "code",
   "execution_count": 54,
   "id": "07359594",
   "metadata": {},
   "outputs": [
    {
     "data": {
      "text/plain": [
       "12"
      ]
     },
     "execution_count": 54,
     "metadata": {},
     "output_type": "execute_result"
    }
   ],
   "source": [
    "rectangle = Rectangle(3, 4)\n",
    "rectangle.get_area()"
   ]
  },
  {
   "cell_type": "code",
   "execution_count": 55,
   "id": "9ce83227",
   "metadata": {},
   "outputs": [
    {
     "data": {
      "text/plain": [
       "15"
      ]
     },
     "execution_count": 55,
     "metadata": {},
     "output_type": "execute_result"
    }
   ],
   "source": [
    "rectangle.b = 5\n",
    "rectangle.get_area()"
   ]
  },
  {
   "cell_type": "code",
   "execution_count": 57,
   "id": "7b948385",
   "metadata": {},
   "outputs": [],
   "source": [
    "class Rectangle(Shape):\n",
    "    def __init__(self, a, b):\n",
    "        self.a = a\n",
    "        self.b = b\n",
    "    \n",
    "    @property\n",
    "    def area(self):\n",
    "        return self.a * self.b"
   ]
  },
  {
   "cell_type": "code",
   "execution_count": 58,
   "id": "caede648",
   "metadata": {},
   "outputs": [
    {
     "data": {
      "text/plain": [
       "20"
      ]
     },
     "execution_count": 58,
     "metadata": {},
     "output_type": "execute_result"
    }
   ],
   "source": [
    "rectangle = Rectangle(4, 5)\n",
    "rectangle.area"
   ]
  },
  {
   "cell_type": "code",
   "execution_count": 59,
   "id": "f985c150",
   "metadata": {},
   "outputs": [
    {
     "data": {
      "text/plain": [
       "30"
      ]
     },
     "execution_count": 59,
     "metadata": {},
     "output_type": "execute_result"
    }
   ],
   "source": [
    "rectangle.a = 6\n",
    "rectangle.area"
   ]
  },
  {
   "cell_type": "code",
   "execution_count": 60,
   "id": "5c579f99",
   "metadata": {},
   "outputs": [],
   "source": [
    "class Square(Rectangle):\n",
    "    def __init__(self, a):\n",
    "        super().__init__(a, a)"
   ]
  },
  {
   "cell_type": "code",
   "execution_count": 61,
   "id": "50a245a3",
   "metadata": {},
   "outputs": [
    {
     "data": {
      "text/plain": [
       "25"
      ]
     },
     "execution_count": 61,
     "metadata": {},
     "output_type": "execute_result"
    }
   ],
   "source": [
    "square = Square(5)\n",
    "square.area"
   ]
  },
  {
   "cell_type": "code",
   "execution_count": 63,
   "id": "a4338e7b",
   "metadata": {},
   "outputs": [
    {
     "data": {
      "text/plain": [
       "30"
      ]
     },
     "execution_count": 63,
     "metadata": {},
     "output_type": "execute_result"
    }
   ],
   "source": [
    "square.a = 6\n",
    "square.area"
   ]
  },
  {
   "cell_type": "code",
   "execution_count": 64,
   "id": "b8267695",
   "metadata": {},
   "outputs": [
    {
     "data": {
      "text/plain": [
       "5"
      ]
     },
     "execution_count": 64,
     "metadata": {},
     "output_type": "execute_result"
    }
   ],
   "source": [
    "square.b"
   ]
  },
  {
   "cell_type": "code",
   "execution_count": 65,
   "id": "b0be8a19",
   "metadata": {},
   "outputs": [],
   "source": [
    "class Square(Rectangle):\n",
    "    def __init__(self, a):\n",
    "        self.a = a\n",
    "    \n",
    "    @property\n",
    "    def b(self):\n",
    "        return self.a"
   ]
  },
  {
   "cell_type": "code",
   "execution_count": 66,
   "id": "656c4cd2",
   "metadata": {},
   "outputs": [
    {
     "data": {
      "text/plain": [
       "16"
      ]
     },
     "execution_count": 66,
     "metadata": {},
     "output_type": "execute_result"
    }
   ],
   "source": [
    "square = Square(4)\n",
    "square.area"
   ]
  },
  {
   "cell_type": "code",
   "execution_count": 67,
   "id": "f5bdde60",
   "metadata": {},
   "outputs": [
    {
     "data": {
      "text/plain": [
       "25"
      ]
     },
     "execution_count": 67,
     "metadata": {},
     "output_type": "execute_result"
    }
   ],
   "source": [
    "square.a = 5\n",
    "square.area"
   ]
  },
  {
   "cell_type": "code",
   "execution_count": 68,
   "id": "9b388697",
   "metadata": {},
   "outputs": [
    {
     "data": {
      "text/plain": [
       "5"
      ]
     },
     "execution_count": 68,
     "metadata": {},
     "output_type": "execute_result"
    }
   ],
   "source": [
    "square.b"
   ]
  },
  {
   "cell_type": "code",
   "execution_count": 69,
   "id": "0153594f",
   "metadata": {},
   "outputs": [
    {
     "data": {
      "text/plain": [
       "[__main__.Square, __main__.Rectangle, __main__.Shape, object]"
      ]
     },
     "execution_count": 69,
     "metadata": {},
     "output_type": "execute_result"
    }
   ],
   "source": [
    "Square.mro()"
   ]
  },
  {
   "cell_type": "code",
   "execution_count": 70,
   "id": "2d792876",
   "metadata": {},
   "outputs": [
    {
     "name": "stdout",
     "output_type": "stream",
     "text": [
      "<function Shape.get_area at 0x110871820>\n"
     ]
    }
   ],
   "source": [
    "print(Square.get_area)"
   ]
  },
  {
   "cell_type": "code",
   "execution_count": 71,
   "id": "f13c625a",
   "metadata": {},
   "outputs": [],
   "source": [
    "class VehicleBase:\n",
    "    def __init__(self, color):\n",
    "        self.color = color\n",
    "    \n",
    "    def make_sound(self):\n",
    "        print(\"no sound yet\")"
   ]
  },
  {
   "cell_type": "code",
   "execution_count": 72,
   "id": "8e48046c",
   "metadata": {},
   "outputs": [],
   "source": [
    "class Car(VehicleBase):\n",
    "    def __init__(self, color, wheels):\n",
    "        self.color = color\n",
    "        self.wheels = wheels\n",
    "    \n",
    "    def make_sound(self):\n",
    "        print(\"beeeep\")\n",
    "    \n",
    "    def open_trunk(self):\n",
    "        print(\"opened trunk\")"
   ]
  },
  {
   "cell_type": "code",
   "execution_count": 73,
   "id": "1ce4d46a",
   "metadata": {},
   "outputs": [],
   "source": [
    "class Ship(VehicleBase):\n",
    "    def __init__(self, color, cabins):\n",
    "        self.color = color\n",
    "        self.cabins = cabins\n",
    "    \n",
    "    def make_sound(self):\n",
    "        print(\"booop\")\n",
    "    \n",
    "    def set_sail(self):\n",
    "        print(\"set sail done\")"
   ]
  },
  {
   "cell_type": "code",
   "execution_count": 74,
   "id": "398edcc4",
   "metadata": {},
   "outputs": [
    {
     "name": "stdout",
     "output_type": "stream",
     "text": [
      "4\n",
      "beeeep\n"
     ]
    }
   ],
   "source": [
    "car = Car(\"black\", 4)\n",
    "print(car.wheels)\n",
    "car.make_sound()"
   ]
  },
  {
   "cell_type": "code",
   "execution_count": 75,
   "id": "0c4d4f5d",
   "metadata": {},
   "outputs": [
    {
     "name": "stdout",
     "output_type": "stream",
     "text": [
      "opened trunk\n"
     ]
    }
   ],
   "source": [
    "car.open_trunk()"
   ]
  },
  {
   "cell_type": "code",
   "execution_count": 76,
   "id": "dd1e92bf",
   "metadata": {},
   "outputs": [
    {
     "name": "stdout",
     "output_type": "stream",
     "text": [
      "5\n",
      "booop\n"
     ]
    }
   ],
   "source": [
    "ship = Ship(\"white\", 5)\n",
    "print(ship.cabins)\n",
    "ship.make_sound()"
   ]
  },
  {
   "cell_type": "code",
   "execution_count": 77,
   "id": "6b6d870e",
   "metadata": {},
   "outputs": [
    {
     "name": "stdout",
     "output_type": "stream",
     "text": [
      "set sail done\n"
     ]
    }
   ],
   "source": [
    "ship.set_sail()"
   ]
  },
  {
   "cell_type": "code",
   "execution_count": 78,
   "id": "73deb35b",
   "metadata": {},
   "outputs": [
    {
     "data": {
      "text/plain": [
       "'white'"
      ]
     },
     "execution_count": 78,
     "metadata": {},
     "output_type": "execute_result"
    }
   ],
   "source": [
    "ship.color"
   ]
  },
  {
   "cell_type": "code",
   "execution_count": 79,
   "id": "9a459e56",
   "metadata": {},
   "outputs": [],
   "source": [
    "class Amphibian(Car, Ship):\n",
    "    def __init__(self, color, wheels):\n",
    "        self.color = color\n",
    "        self.wheels = wheels\n",
    "        self.cabins = 0\n",
    "    \n",
    "    def toggle_mode(self):\n",
    "        print(\"toggled mode\")"
   ]
  },
  {
   "cell_type": "code",
   "execution_count": 80,
   "id": "f6cab28a",
   "metadata": {},
   "outputs": [
    {
     "data": {
      "text/plain": [
       "['__class__',\n",
       " '__delattr__',\n",
       " '__dict__',\n",
       " '__dir__',\n",
       " '__doc__',\n",
       " '__eq__',\n",
       " '__format__',\n",
       " '__ge__',\n",
       " '__getattribute__',\n",
       " '__gt__',\n",
       " '__hash__',\n",
       " '__init__',\n",
       " '__init_subclass__',\n",
       " '__le__',\n",
       " '__lt__',\n",
       " '__module__',\n",
       " '__ne__',\n",
       " '__new__',\n",
       " '__reduce__',\n",
       " '__reduce_ex__',\n",
       " '__repr__',\n",
       " '__setattr__',\n",
       " '__sizeof__',\n",
       " '__str__',\n",
       " '__subclasshook__',\n",
       " '__weakref__',\n",
       " 'make_sound',\n",
       " 'open_trunk',\n",
       " 'set_sail',\n",
       " 'toggle_mode']"
      ]
     },
     "execution_count": 80,
     "metadata": {},
     "output_type": "execute_result"
    }
   ],
   "source": [
    "dir(Amphibian)"
   ]
  },
  {
   "cell_type": "code",
   "execution_count": 81,
   "id": "bba76fc3",
   "metadata": {},
   "outputs": [
    {
     "name": "stdout",
     "output_type": "stream",
     "text": [
      "<__main__.Amphibian object at 0x110897c10>\n"
     ]
    },
    {
     "data": {
      "text/plain": [
       "['__class__',\n",
       " '__delattr__',\n",
       " '__dict__',\n",
       " '__dir__',\n",
       " '__doc__',\n",
       " '__eq__',\n",
       " '__format__',\n",
       " '__ge__',\n",
       " '__getattribute__',\n",
       " '__gt__',\n",
       " '__hash__',\n",
       " '__init__',\n",
       " '__init_subclass__',\n",
       " '__le__',\n",
       " '__lt__',\n",
       " '__module__',\n",
       " '__ne__',\n",
       " '__new__',\n",
       " '__reduce__',\n",
       " '__reduce_ex__',\n",
       " '__repr__',\n",
       " '__setattr__',\n",
       " '__sizeof__',\n",
       " '__str__',\n",
       " '__subclasshook__',\n",
       " '__weakref__',\n",
       " 'cabins',\n",
       " 'color',\n",
       " 'make_sound',\n",
       " 'open_trunk',\n",
       " 'set_sail',\n",
       " 'toggle_mode',\n",
       " 'wheels']"
      ]
     },
     "execution_count": 81,
     "metadata": {},
     "output_type": "execute_result"
    }
   ],
   "source": [
    "amph = Amphibian(\"green\", 4)\n",
    "print(amph)\n",
    "dir(amph)"
   ]
  },
  {
   "cell_type": "code",
   "execution_count": 82,
   "id": "9c03b1f9",
   "metadata": {},
   "outputs": [
    {
     "data": {
      "text/plain": [
       "True"
      ]
     },
     "execution_count": 82,
     "metadata": {},
     "output_type": "execute_result"
    }
   ],
   "source": [
    "isinstance(amph, Car)"
   ]
  },
  {
   "cell_type": "code",
   "execution_count": 83,
   "id": "6d3015b1",
   "metadata": {},
   "outputs": [
    {
     "data": {
      "text/plain": [
       "True"
      ]
     },
     "execution_count": 83,
     "metadata": {},
     "output_type": "execute_result"
    }
   ],
   "source": [
    "isinstance(amph, Ship)"
   ]
  },
  {
   "cell_type": "code",
   "execution_count": 84,
   "id": "892cbf82",
   "metadata": {},
   "outputs": [
    {
     "data": {
      "text/plain": [
       "True"
      ]
     },
     "execution_count": 84,
     "metadata": {},
     "output_type": "execute_result"
    }
   ],
   "source": [
    "isinstance(amph, Amphibian)"
   ]
  },
  {
   "cell_type": "code",
   "execution_count": 85,
   "id": "ed7fb60d",
   "metadata": {},
   "outputs": [
    {
     "data": {
      "text/plain": [
       "[__main__.Amphibian, __main__.Car, __main__.Ship, __main__.VehicleBase, object]"
      ]
     },
     "execution_count": 85,
     "metadata": {},
     "output_type": "execute_result"
    }
   ],
   "source": [
    "Amphibian.mro()"
   ]
  },
  {
   "cell_type": "code",
   "execution_count": 86,
   "id": "f3fc919b",
   "metadata": {},
   "outputs": [
    {
     "name": "stdout",
     "output_type": "stream",
     "text": [
      "beeeep\n"
     ]
    }
   ],
   "source": [
    "amph.make_sound()"
   ]
  },
  {
   "cell_type": "code",
   "execution_count": 87,
   "id": "094ae658",
   "metadata": {},
   "outputs": [
    {
     "name": "stdout",
     "output_type": "stream",
     "text": [
      "set sail done\n"
     ]
    }
   ],
   "source": [
    "amph.set_sail()"
   ]
  },
  {
   "cell_type": "code",
   "execution_count": 88,
   "id": "56443899",
   "metadata": {},
   "outputs": [
    {
     "name": "stdout",
     "output_type": "stream",
     "text": [
      "opened trunk\n"
     ]
    }
   ],
   "source": [
    "amph.open_trunk()"
   ]
  },
  {
   "cell_type": "code",
   "execution_count": 89,
   "id": "07a6475f",
   "metadata": {},
   "outputs": [
    {
     "name": "stdout",
     "output_type": "stream",
     "text": [
      "toggled mode\n"
     ]
    }
   ],
   "source": [
    "amph.toggle_mode()"
   ]
  },
  {
   "cell_type": "code",
   "execution_count": 90,
   "id": "11cb50e1",
   "metadata": {},
   "outputs": [],
   "source": [
    "class AnotherAmphibian(Ship, Car):\n",
    "    def __init__(self, color, wheels):\n",
    "        self.color = color\n",
    "        self.wheels = wheels\n",
    "        self.cabins = 0"
   ]
  },
  {
   "cell_type": "code",
   "execution_count": 91,
   "id": "96786fe4",
   "metadata": {},
   "outputs": [
    {
     "data": {
      "text/plain": [
       "[__main__.AnotherAmphibian,\n",
       " __main__.Ship,\n",
       " __main__.Car,\n",
       " __main__.VehicleBase,\n",
       " object]"
      ]
     },
     "execution_count": 91,
     "metadata": {},
     "output_type": "execute_result"
    }
   ],
   "source": [
    "AnotherAmphibian.mro()"
   ]
  },
  {
   "cell_type": "code",
   "execution_count": 92,
   "id": "cfa17ea1",
   "metadata": {},
   "outputs": [
    {
     "name": "stdout",
     "output_type": "stream",
     "text": [
      "booop\n"
     ]
    }
   ],
   "source": [
    "amph2 = AnotherAmphibian(\"green\", 4)\n",
    "amph2.make_sound()"
   ]
  },
  {
   "cell_type": "code",
   "execution_count": 93,
   "id": "2444a1e5",
   "metadata": {},
   "outputs": [
    {
     "name": "stdout",
     "output_type": "stream",
     "text": [
      "<bound method Car.make_sound of <__main__.Amphibian object at 0x110897c10>>\n"
     ]
    }
   ],
   "source": [
    "print(amph.make_sound)"
   ]
  },
  {
   "cell_type": "code",
   "execution_count": 94,
   "id": "c9673b64",
   "metadata": {},
   "outputs": [
    {
     "name": "stdout",
     "output_type": "stream",
     "text": [
      "<bound method Ship.make_sound of <__main__.AnotherAmphibian object at 0x110879ac0>>\n"
     ]
    }
   ],
   "source": [
    "print(amph2.make_sound)"
   ]
  },
  {
   "cell_type": "code",
   "execution_count": 95,
   "id": "cf4e1500",
   "metadata": {},
   "outputs": [],
   "source": [
    "class YetAnotherAmphibian(Ship, Car):\n",
    "    def __init__(self, color, wheels):\n",
    "        self.color = color\n",
    "        self.wheels = wheels\n",
    "        self.cabins = 0\n",
    "    \n",
    "    def make_sound(self):\n",
    "        Car.make_sound(self)"
   ]
  },
  {
   "cell_type": "code",
   "execution_count": 96,
   "id": "7e36b5a8",
   "metadata": {},
   "outputs": [
    {
     "data": {
      "text/plain": [
       "[__main__.YetAnotherAmphibian,\n",
       " __main__.Ship,\n",
       " __main__.Car,\n",
       " __main__.VehicleBase,\n",
       " object]"
      ]
     },
     "execution_count": 96,
     "metadata": {},
     "output_type": "execute_result"
    }
   ],
   "source": [
    "YetAnotherAmphibian.mro()"
   ]
  },
  {
   "cell_type": "code",
   "execution_count": 97,
   "id": "0c2f5b0d",
   "metadata": {},
   "outputs": [
    {
     "name": "stdout",
     "output_type": "stream",
     "text": [
      "<function YetAnotherAmphibian.make_sound at 0x110a09310>\n"
     ]
    }
   ],
   "source": [
    "print(YetAnotherAmphibian.make_sound)"
   ]
  },
  {
   "cell_type": "code",
   "execution_count": 98,
   "id": "50bb2258",
   "metadata": {},
   "outputs": [
    {
     "name": "stdout",
     "output_type": "stream",
     "text": [
      "beeeep\n"
     ]
    }
   ],
   "source": [
    "amph3 = YetAnotherAmphibian('green', 4)\n",
    "amph3.make_sound()"
   ]
  },
  {
   "cell_type": "code",
   "execution_count": 100,
   "id": "ada29b49",
   "metadata": {},
   "outputs": [],
   "source": [
    "class Car(VehicleBase):\n",
    "    def ride(self):\n",
    "        print(\"riding a car\", self)\n",
    "    \n",
    "    def play_music(self, music):\n",
    "        print(\"Now playing:\", music)"
   ]
  },
  {
   "cell_type": "code",
   "execution_count": 102,
   "id": "dc8845c1",
   "metadata": {},
   "outputs": [],
   "source": [
    "car = Car(\"gray\")"
   ]
  },
  {
   "cell_type": "code",
   "execution_count": 103,
   "id": "48e666f9",
   "metadata": {},
   "outputs": [
    {
     "name": "stdout",
     "output_type": "stream",
     "text": [
      "riding a car <__main__.Car object at 0x110879820>\n"
     ]
    }
   ],
   "source": [
    "car.ride()"
   ]
  },
  {
   "cell_type": "code",
   "execution_count": 104,
   "id": "31ff05d8",
   "metadata": {},
   "outputs": [
    {
     "name": "stdout",
     "output_type": "stream",
     "text": [
      "Now playing: Track 1\n"
     ]
    }
   ],
   "source": [
    "car.play_music(\"Track 1\")"
   ]
  },
  {
   "cell_type": "code",
   "execution_count": 105,
   "id": "6bd206b3",
   "metadata": {},
   "outputs": [],
   "source": [
    "class MusicPlayerMixin:\n",
    "    \n",
    "    def play_music(self, music):\n",
    "        print(\"Now playing:\", music)"
   ]
  },
  {
   "cell_type": "code",
   "execution_count": 106,
   "id": "765eab04",
   "metadata": {},
   "outputs": [],
   "source": [
    "class Car(VehicleBase, MusicPlayerMixin):\n",
    "    def ride(self):\n",
    "        print(\"riding a car\", self)"
   ]
  },
  {
   "cell_type": "code",
   "execution_count": 107,
   "id": "d9b07e82",
   "metadata": {},
   "outputs": [
    {
     "name": "stdout",
     "output_type": "stream",
     "text": [
      "riding a car <__main__.Car object at 0x11087cd60>\n",
      "Now playing: Track 2\n"
     ]
    }
   ],
   "source": [
    "car = Car(\"gray\")\n",
    "car.ride()\n",
    "car.play_music(\"Track 2\")"
   ]
  },
  {
   "cell_type": "code",
   "execution_count": 108,
   "id": "5e8ff98e",
   "metadata": {},
   "outputs": [],
   "source": [
    "class Smartphone(MusicPlayerMixin):\n",
    "    pass"
   ]
  },
  {
   "cell_type": "code",
   "execution_count": 109,
   "id": "64b6d6b7",
   "metadata": {},
   "outputs": [
    {
     "name": "stdout",
     "output_type": "stream",
     "text": [
      "Now playing: Track 3\n"
     ]
    }
   ],
   "source": [
    "smartphone = Smartphone()\n",
    "smartphone.play_music(\"Track 3\")"
   ]
  },
  {
   "cell_type": "code",
   "execution_count": 110,
   "id": "b1f96f1d",
   "metadata": {},
   "outputs": [],
   "source": [
    "class Radio(MusicPlayerMixin):\n",
    "    pass"
   ]
  },
  {
   "cell_type": "code",
   "execution_count": 111,
   "id": "ae17c92b",
   "metadata": {},
   "outputs": [
    {
     "name": "stdout",
     "output_type": "stream",
     "text": [
      "Now playing: Station 101\n"
     ]
    }
   ],
   "source": [
    "radio = Radio()\n",
    "radio.play_music(\"Station 101\")"
   ]
  },
  {
   "cell_type": "code",
   "execution_count": 112,
   "id": "3dba025b",
   "metadata": {},
   "outputs": [],
   "source": [
    "class MusicalAmphibian(Amphibian, MusicPlayerMixin):\n",
    "    pass"
   ]
  },
  {
   "cell_type": "code",
   "execution_count": 113,
   "id": "de50ee49",
   "metadata": {},
   "outputs": [
    {
     "name": "stdout",
     "output_type": "stream",
     "text": [
      "toggled mode\n",
      "beeeep\n",
      "Now playing: Lost Sailor\n"
     ]
    }
   ],
   "source": [
    "mus_amph = MusicalAmphibian(\"green\", 6)\n",
    "mus_amph.toggle_mode()\n",
    "mus_amph.make_sound()\n",
    "mus_amph.play_music(\"Lost Sailor\")"
   ]
  },
  {
   "cell_type": "code",
   "execution_count": 115,
   "id": "329a4d59",
   "metadata": {},
   "outputs": [
    {
     "ename": "ZeroDivisionError",
     "evalue": "division by zero",
     "output_type": "error",
     "traceback": [
      "\u001b[0;31m---------------------------------------------------------------------------\u001b[0m",
      "\u001b[0;31mZeroDivisionError\u001b[0m                         Traceback (most recent call last)",
      "\u001b[0;32m/var/folders/fj/49hkzfz15_zcq5jwvzbzk6fm0000gn/T/ipykernel_16562/3281153135.py\u001b[0m in \u001b[0;36m<module>\u001b[0;34m\u001b[0m\n\u001b[0;32m----> 1\u001b[0;31m \u001b[0;36m42\u001b[0m \u001b[0;34m/\u001b[0m \u001b[0;36m0\u001b[0m\u001b[0;34m\u001b[0m\u001b[0;34m\u001b[0m\u001b[0m\n\u001b[0m\u001b[1;32m      2\u001b[0m \u001b[0mprint\u001b[0m\u001b[0;34m(\u001b[0m\u001b[0;34m\"ok\"\u001b[0m\u001b[0;34m)\u001b[0m\u001b[0;34m\u001b[0m\u001b[0;34m\u001b[0m\u001b[0m\n",
      "\u001b[0;31mZeroDivisionError\u001b[0m: division by zero"
     ]
    }
   ],
   "source": [
    "42 / 0\n",
    "print(\"ok\")"
   ]
  },
  {
   "cell_type": "code",
   "execution_count": 116,
   "id": "dd4b300d",
   "metadata": {},
   "outputs": [
    {
     "ename": "TypeError",
     "evalue": "unsupported operand type(s) for +: 'int' and 'str'",
     "output_type": "error",
     "traceback": [
      "\u001b[0;31m---------------------------------------------------------------------------\u001b[0m",
      "\u001b[0;31mTypeError\u001b[0m                                 Traceback (most recent call last)",
      "\u001b[0;32m/var/folders/fj/49hkzfz15_zcq5jwvzbzk6fm0000gn/T/ipykernel_16562/2438138205.py\u001b[0m in \u001b[0;36m<module>\u001b[0;34m\u001b[0m\n\u001b[0;32m----> 1\u001b[0;31m \u001b[0;36m2\u001b[0m \u001b[0;34m+\u001b[0m \u001b[0;34m\"1\"\u001b[0m\u001b[0;34m\u001b[0m\u001b[0;34m\u001b[0m\u001b[0m\n\u001b[0m",
      "\u001b[0;31mTypeError\u001b[0m: unsupported operand type(s) for +: 'int' and 'str'"
     ]
    }
   ],
   "source": [
    "2 + \"1\""
   ]
  },
  {
   "cell_type": "code",
   "execution_count": 117,
   "id": "39949122",
   "metadata": {},
   "outputs": [
    {
     "ename": "ValueError",
     "evalue": "invalid literal for int() with base 10: 'qwe'",
     "output_type": "error",
     "traceback": [
      "\u001b[0;31m---------------------------------------------------------------------------\u001b[0m",
      "\u001b[0;31mValueError\u001b[0m                                Traceback (most recent call last)",
      "\u001b[0;32m/var/folders/fj/49hkzfz15_zcq5jwvzbzk6fm0000gn/T/ipykernel_16562/3693347314.py\u001b[0m in \u001b[0;36m<module>\u001b[0;34m\u001b[0m\n\u001b[0;32m----> 1\u001b[0;31m \u001b[0mint\u001b[0m\u001b[0;34m(\u001b[0m\u001b[0;34m\"qwe\"\u001b[0m\u001b[0;34m)\u001b[0m\u001b[0;34m\u001b[0m\u001b[0;34m\u001b[0m\u001b[0m\n\u001b[0m",
      "\u001b[0;31mValueError\u001b[0m: invalid literal for int() with base 10: 'qwe'"
     ]
    }
   ],
   "source": [
    "int(\"qwe\")"
   ]
  },
  {
   "cell_type": "code",
   "execution_count": 119,
   "id": "d038a507",
   "metadata": {},
   "outputs": [
    {
     "ename": "ZeroDivisionError",
     "evalue": "division by zero",
     "output_type": "error",
     "traceback": [
      "\u001b[0;31m---------------------------------------------------------------------------\u001b[0m",
      "\u001b[0;31mZeroDivisionError\u001b[0m                         Traceback (most recent call last)",
      "\u001b[0;32m/var/folders/fj/49hkzfz15_zcq5jwvzbzk6fm0000gn/T/ipykernel_16562/1711169560.py\u001b[0m in \u001b[0;36m<module>\u001b[0;34m\u001b[0m\n\u001b[0;32m----> 1\u001b[0;31m \u001b[0;36m1\u001b[0m \u001b[0;34m/\u001b[0m \u001b[0;36m0\u001b[0m\u001b[0;34m\u001b[0m\u001b[0;34m\u001b[0m\u001b[0m\n\u001b[0m\u001b[1;32m      2\u001b[0m \u001b[0mprint\u001b[0m\u001b[0;34m(\u001b[0m\u001b[0;34m\"ok\"\u001b[0m\u001b[0;34m)\u001b[0m\u001b[0;34m\u001b[0m\u001b[0;34m\u001b[0m\u001b[0m\n",
      "\u001b[0;31mZeroDivisionError\u001b[0m: division by zero"
     ]
    }
   ],
   "source": [
    "1 / 0\n",
    "print(\"ok\")"
   ]
  },
  {
   "cell_type": "code",
   "execution_count": 121,
   "id": "03caf54b",
   "metadata": {},
   "outputs": [
    {
     "name": "stdout",
     "output_type": "stream",
     "text": [
      "oops division by zero\n",
      "ok\n"
     ]
    }
   ],
   "source": [
    "try:\n",
    "    42 / 0\n",
    "    print(\"not ok\")\n",
    "except ZeroDivisionError as e:\n",
    "    print(\"oops\", e)\n",
    "\n",
    "print(\"ok\")"
   ]
  },
  {
   "cell_type": "code",
   "execution_count": 122,
   "id": "c1e6e434",
   "metadata": {},
   "outputs": [],
   "source": [
    "def divide(a, b):\n",
    "    try:\n",
    "        c = a / b\n",
    "    except ZeroDivisionError:\n",
    "        c = None\n",
    "        \n",
    "    return c"
   ]
  },
  {
   "cell_type": "code",
   "execution_count": 123,
   "id": "6dfb4945",
   "metadata": {},
   "outputs": [
    {
     "name": "stdout",
     "output_type": "stream",
     "text": [
      "1.5\n"
     ]
    }
   ],
   "source": [
    "print(divide(3, 2))"
   ]
  },
  {
   "cell_type": "code",
   "execution_count": 124,
   "id": "ffe8583a",
   "metadata": {},
   "outputs": [
    {
     "name": "stdout",
     "output_type": "stream",
     "text": [
      "None\n"
     ]
    }
   ],
   "source": [
    "print(divide(3, 0))"
   ]
  },
  {
   "cell_type": "code",
   "execution_count": 125,
   "id": "6bf1d76e",
   "metadata": {},
   "outputs": [],
   "source": [
    "def divide(a, b):\n",
    "    try:\n",
    "        return a / b\n",
    "    except ZeroDivisionError:\n",
    "        print(\"pls don't divide by zero\")\n",
    "    except TypeError as e:\n",
    "        print(\"oops\", e)"
   ]
  },
  {
   "cell_type": "code",
   "execution_count": 126,
   "id": "d6bfab68",
   "metadata": {},
   "outputs": [
    {
     "name": "stdout",
     "output_type": "stream",
     "text": [
      "0.6666666666666666\n"
     ]
    }
   ],
   "source": [
    "print(divide(2, 3))"
   ]
  },
  {
   "cell_type": "code",
   "execution_count": 127,
   "id": "ce6bc98c",
   "metadata": {},
   "outputs": [
    {
     "name": "stdout",
     "output_type": "stream",
     "text": [
      "0.5\n"
     ]
    }
   ],
   "source": [
    "print(divide(2, 4))"
   ]
  },
  {
   "cell_type": "code",
   "execution_count": 128,
   "id": "4a36f687",
   "metadata": {},
   "outputs": [
    {
     "name": "stdout",
     "output_type": "stream",
     "text": [
      "pls don't divide by zero\n",
      "None\n"
     ]
    }
   ],
   "source": [
    "print(divide(2, 0))"
   ]
  },
  {
   "cell_type": "code",
   "execution_count": 129,
   "id": "e682d51c",
   "metadata": {},
   "outputs": [
    {
     "name": "stdout",
     "output_type": "stream",
     "text": [
      "oops unsupported operand type(s) for /: 'int' and 'str'\n",
      "None\n"
     ]
    }
   ],
   "source": [
    "print(divide(2, \"0\"))"
   ]
  },
  {
   "cell_type": "code",
   "execution_count": 130,
   "id": "cbd21271",
   "metadata": {},
   "outputs": [],
   "source": [
    "def divide(a, b):\n",
    "    try:\n",
    "        c = a / b\n",
    "    except ZeroDivisionError:\n",
    "        print(\"pls don't divide by zero\")\n",
    "    except TypeError as e:\n",
    "        print(\"oops\", e)\n",
    "    else:\n",
    "        print(\"got result c =\", c, \"and returning it\")\n",
    "        return c\n",
    "    finally:\n",
    "        print(\"leaving div function\")"
   ]
  },
  {
   "cell_type": "code",
   "execution_count": 131,
   "id": "8498219d",
   "metadata": {},
   "outputs": [
    {
     "name": "stdout",
     "output_type": "stream",
     "text": [
      "got result c = 0.5 and returning it\n",
      "leaving div function\n",
      "0.5\n"
     ]
    }
   ],
   "source": [
    "print(divide(2, 4))"
   ]
  },
  {
   "cell_type": "code",
   "execution_count": 132,
   "id": "a2f03713",
   "metadata": {},
   "outputs": [
    {
     "name": "stdout",
     "output_type": "stream",
     "text": [
      "oops unsupported operand type(s) for /: 'int' and 'str'\n",
      "leaving div function\n",
      "None\n"
     ]
    }
   ],
   "source": [
    "print(divide(2, \"4\"))"
   ]
  },
  {
   "cell_type": "code",
   "execution_count": 133,
   "id": "607975a0",
   "metadata": {},
   "outputs": [
    {
     "name": "stdout",
     "output_type": "stream",
     "text": [
      "pls don't divide by zero\n",
      "leaving div function\n",
      "None\n"
     ]
    }
   ],
   "source": [
    "print(divide(2, 0))"
   ]
  },
  {
   "cell_type": "code",
   "execution_count": 134,
   "id": "9ee36b98",
   "metadata": {},
   "outputs": [],
   "source": [
    "class MyException(Exception):\n",
    "    pass"
   ]
  },
  {
   "cell_type": "code",
   "execution_count": 135,
   "id": "ba0bd53d",
   "metadata": {},
   "outputs": [
    {
     "ename": "MyException",
     "evalue": "",
     "output_type": "error",
     "traceback": [
      "\u001b[0;31m---------------------------------------------------------------------------\u001b[0m",
      "\u001b[0;31mMyException\u001b[0m                               Traceback (most recent call last)",
      "\u001b[0;32m/var/folders/fj/49hkzfz15_zcq5jwvzbzk6fm0000gn/T/ipykernel_16562/3492595984.py\u001b[0m in \u001b[0;36m<module>\u001b[0;34m\u001b[0m\n\u001b[0;32m----> 1\u001b[0;31m \u001b[0;32mraise\u001b[0m \u001b[0mMyException\u001b[0m\u001b[0;34m\u001b[0m\u001b[0;34m\u001b[0m\u001b[0m\n\u001b[0m",
      "\u001b[0;31mMyException\u001b[0m: "
     ]
    }
   ],
   "source": [
    "raise MyException"
   ]
  },
  {
   "cell_type": "code",
   "execution_count": 136,
   "id": "f1ad3910",
   "metadata": {},
   "outputs": [
    {
     "ename": "MyException",
     "evalue": "some error",
     "output_type": "error",
     "traceback": [
      "\u001b[0;31m---------------------------------------------------------------------------\u001b[0m",
      "\u001b[0;31mMyException\u001b[0m                               Traceback (most recent call last)",
      "\u001b[0;32m/var/folders/fj/49hkzfz15_zcq5jwvzbzk6fm0000gn/T/ipykernel_16562/3029206488.py\u001b[0m in \u001b[0;36m<module>\u001b[0;34m\u001b[0m\n\u001b[0;32m----> 1\u001b[0;31m \u001b[0;32mraise\u001b[0m \u001b[0mMyException\u001b[0m\u001b[0;34m(\u001b[0m\u001b[0;34m\"some error\"\u001b[0m\u001b[0;34m)\u001b[0m\u001b[0;34m\u001b[0m\u001b[0;34m\u001b[0m\u001b[0m\n\u001b[0m",
      "\u001b[0;31mMyException\u001b[0m: some error"
     ]
    }
   ],
   "source": [
    "raise MyException(\"some error\")"
   ]
  },
  {
   "cell_type": "code",
   "execution_count": 137,
   "id": "96ed02d0",
   "metadata": {},
   "outputs": [],
   "source": [
    "def divide(a, b):\n",
    "    try:\n",
    "        c = a / b\n",
    "    except (ZeroDivisionError, TypeError) as e:\n",
    "        print(\"oops\", e)\n",
    "    else:\n",
    "        if c == 42:\n",
    "            raise MyException(\"before dividing pls check that result is not 42\")\n",
    "        print(\"got result c =\", c, \"and returning it\")\n",
    "        return c\n",
    "    finally:\n",
    "        print(\"leaving div function\")"
   ]
  },
  {
   "cell_type": "code",
   "execution_count": 138,
   "id": "7dfa539d",
   "metadata": {},
   "outputs": [
    {
     "name": "stdout",
     "output_type": "stream",
     "text": [
      "got result c = 2.0 and returning it\n",
      "leaving div function\n",
      "2.0\n"
     ]
    }
   ],
   "source": [
    "print(divide(2, 1))"
   ]
  },
  {
   "cell_type": "code",
   "execution_count": 139,
   "id": "90f8ef3b",
   "metadata": {},
   "outputs": [
    {
     "name": "stdout",
     "output_type": "stream",
     "text": [
      "oops unsupported operand type(s) for /: 'int' and 'str'\n",
      "leaving div function\n",
      "None\n"
     ]
    }
   ],
   "source": [
    "print(divide(2, \"0\"))"
   ]
  },
  {
   "cell_type": "code",
   "execution_count": 140,
   "id": "51a93cc7",
   "metadata": {},
   "outputs": [
    {
     "name": "stdout",
     "output_type": "stream",
     "text": [
      "oops division by zero\n",
      "leaving div function\n",
      "None\n"
     ]
    }
   ],
   "source": [
    "print(divide(2, 0))"
   ]
  },
  {
   "cell_type": "code",
   "execution_count": 144,
   "id": "16c35715",
   "metadata": {},
   "outputs": [
    {
     "name": "stdout",
     "output_type": "stream",
     "text": [
      "leaving div function\n"
     ]
    },
    {
     "ename": "MyException",
     "evalue": "before dividing pls check that result is not 42",
     "output_type": "error",
     "traceback": [
      "\u001b[0;31m---------------------------------------------------------------------------\u001b[0m",
      "\u001b[0;31mMyException\u001b[0m                               Traceback (most recent call last)",
      "\u001b[0;32m/var/folders/fj/49hkzfz15_zcq5jwvzbzk6fm0000gn/T/ipykernel_16562/2949252393.py\u001b[0m in \u001b[0;36m<module>\u001b[0;34m\u001b[0m\n\u001b[0;32m----> 1\u001b[0;31m \u001b[0mprint\u001b[0m\u001b[0;34m(\u001b[0m\u001b[0mdivide\u001b[0m\u001b[0;34m(\u001b[0m\u001b[0;36m84\u001b[0m\u001b[0;34m,\u001b[0m \u001b[0;36m2\u001b[0m\u001b[0;34m)\u001b[0m\u001b[0;34m)\u001b[0m\u001b[0;34m\u001b[0m\u001b[0;34m\u001b[0m\u001b[0m\n\u001b[0m\u001b[1;32m      2\u001b[0m \u001b[0mprint\u001b[0m\u001b[0;34m(\u001b[0m\u001b[0;34m\"ok?\"\u001b[0m\u001b[0;34m)\u001b[0m\u001b[0;34m\u001b[0m\u001b[0;34m\u001b[0m\u001b[0m\n",
      "\u001b[0;32m/var/folders/fj/49hkzfz15_zcq5jwvzbzk6fm0000gn/T/ipykernel_16562/37508938.py\u001b[0m in \u001b[0;36mdivide\u001b[0;34m(a, b)\u001b[0m\n\u001b[1;32m      6\u001b[0m     \u001b[0;32melse\u001b[0m\u001b[0;34m:\u001b[0m\u001b[0;34m\u001b[0m\u001b[0;34m\u001b[0m\u001b[0m\n\u001b[1;32m      7\u001b[0m         \u001b[0;32mif\u001b[0m \u001b[0mc\u001b[0m \u001b[0;34m==\u001b[0m \u001b[0;36m42\u001b[0m\u001b[0;34m:\u001b[0m\u001b[0;34m\u001b[0m\u001b[0;34m\u001b[0m\u001b[0m\n\u001b[0;32m----> 8\u001b[0;31m             \u001b[0;32mraise\u001b[0m \u001b[0mMyException\u001b[0m\u001b[0;34m(\u001b[0m\u001b[0;34m\"before dividing pls check that result is not 42\"\u001b[0m\u001b[0;34m)\u001b[0m\u001b[0;34m\u001b[0m\u001b[0;34m\u001b[0m\u001b[0m\n\u001b[0m\u001b[1;32m      9\u001b[0m         \u001b[0mprint\u001b[0m\u001b[0;34m(\u001b[0m\u001b[0;34m\"got result c =\"\u001b[0m\u001b[0;34m,\u001b[0m \u001b[0mc\u001b[0m\u001b[0;34m,\u001b[0m \u001b[0;34m\"and returning it\"\u001b[0m\u001b[0;34m)\u001b[0m\u001b[0;34m\u001b[0m\u001b[0;34m\u001b[0m\u001b[0m\n\u001b[1;32m     10\u001b[0m         \u001b[0;32mreturn\u001b[0m \u001b[0mc\u001b[0m\u001b[0;34m\u001b[0m\u001b[0;34m\u001b[0m\u001b[0m\n",
      "\u001b[0;31mMyException\u001b[0m: before dividing pls check that result is not 42"
     ]
    }
   ],
   "source": [
    "print(divide(84, 2))\n",
    "print(\"ok?\")"
   ]
  },
  {
   "cell_type": "code",
   "execution_count": 143,
   "id": "831ed965",
   "metadata": {},
   "outputs": [
    {
     "name": "stdout",
     "output_type": "stream",
     "text": [
      "leaving div function\n",
      "error: before dividing pls check that result is not 42\n",
      "ok\n"
     ]
    }
   ],
   "source": [
    "try:\n",
    "    print(divide(84, 2))\n",
    "except MyException as e:\n",
    "    print(\"error:\", e)\n",
    "\n",
    "print(\"ok\")"
   ]
  },
  {
   "cell_type": "code",
   "execution_count": null,
   "id": "cf6a9677",
   "metadata": {},
   "outputs": [],
   "source": []
  }
 ],
 "metadata": {
  "kernelspec": {
   "display_name": "Python 3 (ipykernel)",
   "language": "python",
   "name": "python3"
  },
  "language_info": {
   "codemirror_mode": {
    "name": "ipython",
    "version": 3
   },
   "file_extension": ".py",
   "mimetype": "text/x-python",
   "name": "python",
   "nbconvert_exporter": "python",
   "pygments_lexer": "ipython3",
   "version": "3.9.1"
  }
 },
 "nbformat": 4,
 "nbformat_minor": 5
}
