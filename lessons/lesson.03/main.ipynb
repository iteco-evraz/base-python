{
 "cells": [
  {
   "cell_type": "code",
   "execution_count": 1,
   "id": "7049b8bb",
   "metadata": {},
   "outputs": [
    {
     "name": "stdout",
     "output_type": "stream",
     "text": [
      "['Москва', 'Анапа', 'Сочи', 'Санкт-Петербург']\n"
     ]
    }
   ],
   "source": [
    "cities = [\"Москва\", \"Анапа\", \"Сочи\", \"Санкт-Петербург\"]\n",
    "print(cities)"
   ]
  },
  {
   "cell_type": "code",
   "execution_count": 2,
   "id": "02ac44ba",
   "metadata": {},
   "outputs": [
    {
     "name": "stdout",
     "output_type": "stream",
     "text": [
      "Москва\n",
      "Анапа\n",
      "Сочи\n",
      "Санкт-Петербург\n"
     ]
    }
   ],
   "source": [
    "for city in cities:\n",
    "    print(city)"
   ]
  },
  {
   "cell_type": "code",
   "execution_count": 3,
   "id": "ec4422cb",
   "metadata": {},
   "outputs": [
    {
     "name": "stdout",
     "output_type": "stream",
     "text": [
      "process city Москва\n",
      "next iteration..\n",
      "process city Анапа\n",
      "next iteration..\n",
      "process city Сочи\n",
      "city < 5 Сочи\n"
     ]
    }
   ],
   "source": [
    "for city in cities:\n",
    "    print(\"process city\", city)\n",
    "    if len(city) < 5:\n",
    "        print(\"city < 5\", city)\n",
    "        break\n",
    "    print(\"next iteration..\")"
   ]
  },
  {
   "cell_type": "code",
   "execution_count": 4,
   "id": "c7179909",
   "metadata": {},
   "outputs": [
    {
     "name": "stdout",
     "output_type": "stream",
     "text": [
      "['apples', 'bananas', 'oranges']\n"
     ]
    }
   ],
   "source": [
    "fruits = [\"apples\", \"bananas\", \"oranges\"]\n",
    "print(fruits)"
   ]
  },
  {
   "cell_type": "code",
   "execution_count": 5,
   "id": "2876858a",
   "metadata": {},
   "outputs": [
    {
     "name": "stdout",
     "output_type": "stream",
     "text": [
      "process fruit apples\n",
      "next iteration..\n",
      "process fruit bananas\n",
      "next iteration..\n",
      "process fruit oranges\n",
      "next iteration..\n"
     ]
    }
   ],
   "source": [
    "for fruit in fruits:\n",
    "    print(\"process fruit\", fruit)\n",
    "    if len(fruit) < 5:\n",
    "        print(\"breaking on\", fruit)\n",
    "        break\n",
    "    print(\"next iteration..\")"
   ]
  },
  {
   "cell_type": "code",
   "execution_count": 6,
   "id": "a3d09cfe",
   "metadata": {},
   "outputs": [
    {
     "name": "stdout",
     "output_type": "stream",
     "text": [
      "['apples', 'bananas', 'oranges', 'figs']\n"
     ]
    }
   ],
   "source": [
    "fruits.append(\"figs\")\n",
    "print(fruits)"
   ]
  },
  {
   "cell_type": "code",
   "execution_count": 7,
   "id": "43c22ec7",
   "metadata": {},
   "outputs": [
    {
     "name": "stdout",
     "output_type": "stream",
     "text": [
      "process fruit apples\n",
      "next iteration..\n",
      "process fruit bananas\n",
      "next iteration..\n",
      "process fruit oranges\n",
      "next iteration..\n",
      "process fruit figs\n",
      "breaking on figs\n"
     ]
    }
   ],
   "source": [
    "for fruit in fruits:\n",
    "    print(\"process fruit\", fruit)\n",
    "    if len(fruit) < 5:\n",
    "        print(\"breaking on\", fruit)\n",
    "        break\n",
    "    print(\"next iteration..\")"
   ]
  },
  {
   "cell_type": "code",
   "execution_count": 8,
   "id": "3a28b14a",
   "metadata": {},
   "outputs": [
    {
     "name": "stdout",
     "output_type": "stream",
     "text": [
      "process fruit apples\n",
      "process fruit bananas\n",
      "process fruit oranges\n",
      "process fruit figs\n"
     ]
    }
   ],
   "source": [
    "for fruit in fruits:\n",
    "    print(\"process fruit\", fruit)\n",
    "    if len(fruit) < 5:\n",
    "        break\n",
    "else:\n",
    "    print(\"end of loop, no break\")"
   ]
  },
  {
   "cell_type": "code",
   "execution_count": 9,
   "id": "5162d906",
   "metadata": {},
   "outputs": [
    {
     "name": "stdout",
     "output_type": "stream",
     "text": [
      "process fruit apples\n",
      "process fruit bananas\n",
      "process fruit oranges\n",
      "process fruit figs\n",
      "end of loop, no break\n"
     ]
    }
   ],
   "source": [
    "for fruit in fruits:\n",
    "    print(\"process fruit\", fruit)\n",
    "    if len(fruit) < 4:\n",
    "        break\n",
    "else:\n",
    "    print(\"end of loop, no break\")"
   ]
  },
  {
   "cell_type": "code",
   "execution_count": 10,
   "id": "99be62ca",
   "metadata": {},
   "outputs": [
    {
     "name": "stdout",
     "output_type": "stream",
     "text": [
      "city Москва\n",
      "city Анапа\n",
      "city Сочи\n"
     ]
    }
   ],
   "source": [
    "for city in cities:\n",
    "    print(\"city\", city)\n",
    "    if len(city) < 5:\n",
    "        break\n",
    "else:\n",
    "    print(\"no city < 5\")"
   ]
  },
  {
   "cell_type": "code",
   "execution_count": 11,
   "id": "3f0a4b8b",
   "metadata": {},
   "outputs": [
    {
     "name": "stdout",
     "output_type": "stream",
     "text": [
      "city Москва\n",
      "city Анапа\n",
      "city Сочи\n",
      "city Санкт-Петербург\n"
     ]
    }
   ],
   "source": [
    "for city in cities:\n",
    "    print(\"city\", city)\n",
    "    if len(city) > 10:\n",
    "        break\n",
    "else:\n",
    "    print(\"no city > 10\")"
   ]
  },
  {
   "cell_type": "code",
   "execution_count": 12,
   "id": "c4d5351c",
   "metadata": {},
   "outputs": [
    {
     "name": "stdout",
     "output_type": "stream",
     "text": [
      "city Москва\n",
      "city Анапа\n",
      "city Сочи\n",
      "city Санкт-Петербург\n",
      "no city > 20\n"
     ]
    }
   ],
   "source": [
    "for city in cities:\n",
    "    print(\"city\", city)\n",
    "    if len(city) > 20:\n",
    "        break\n",
    "else:\n",
    "    print(\"no city > 20\")"
   ]
  },
  {
   "cell_type": "code",
   "execution_count": 13,
   "id": "ff25efb6",
   "metadata": {},
   "outputs": [
    {
     "name": "stdout",
     "output_type": "stream",
     "text": [
      "0\n",
      "1\n",
      "2\n",
      "3\n",
      "4\n",
      "done\n"
     ]
    }
   ],
   "source": [
    "for i in range(5):\n",
    "    print(i)\n",
    "else:\n",
    "    print(\"done\")"
   ]
  },
  {
   "cell_type": "code",
   "execution_count": 14,
   "id": "765814e6",
   "metadata": {},
   "outputs": [
    {
     "name": "stdout",
     "output_type": "stream",
     "text": [
      "0\n",
      "1\n",
      "2\n",
      "3\n",
      "4\n",
      "done\n"
     ]
    }
   ],
   "source": [
    "for i in range(5):\n",
    "    print(i)\n",
    "\n",
    "print(\"done\")"
   ]
  },
  {
   "cell_type": "code",
   "execution_count": 15,
   "id": "bf98a978",
   "metadata": {},
   "outputs": [
    {
     "name": "stdout",
     "output_type": "stream",
     "text": [
      "value = 2 when power is 1\n",
      "value = 4 when power is 2\n",
      "value = 8 when power is 3\n",
      "value = 16 when power is 4\n",
      "value = 32 when power is 5\n",
      "value = 64 when power is 6\n",
      "value = 128 when power is 7\n",
      "value = 256 when power is 8\n",
      "value = 512 when power is 9\n",
      "value = 1024 when power is 10\n",
      "value = 2048 when power is 11\n",
      "value = 4096 when power is 12\n",
      "value = 8192 when power is 13\n",
      "value = 16384 when power is 14\n",
      "result 2 ^ 14 = 16384\n"
     ]
    }
   ],
   "source": [
    "power = 0\n",
    "value = 0\n",
    "\n",
    "while value < 10000:\n",
    "    # power = power + 1\n",
    "    power += 1\n",
    "    value = 2 ** power\n",
    "    print(\"value =\", value, \"when power is\", power)\n",
    "\n",
    "print(\"result 2 ^\", power, \"=\", value)"
   ]
  },
  {
   "cell_type": "code",
   "execution_count": 16,
   "id": "082ab62b",
   "metadata": {},
   "outputs": [
    {
     "data": {
      "text/plain": [
       "16384"
      ]
     },
     "execution_count": 16,
     "metadata": {},
     "output_type": "execute_result"
    }
   ],
   "source": [
    "2 ** 14"
   ]
  },
  {
   "cell_type": "code",
   "execution_count": 17,
   "id": "6dd8cfa0",
   "metadata": {},
   "outputs": [
    {
     "name": "stdout",
     "output_type": "stream",
     "text": [
      "1 : amount is 1\n",
      "2 : amount is 3\n",
      "3 : amount is 6\n",
      "4 : amount is 10\n",
      "5 : amount is 15\n",
      "6 : amount is 21\n",
      "7 : amount is 28\n",
      "8 : amount is 36\n",
      "9 : amount is 45\n",
      "10 : amount is 55\n",
      "11 : amount is 66\n",
      "12 : amount is 78\n",
      "13 : amount is 91\n",
      "14 : amount is 105\n",
      "loop finished by condition\n"
     ]
    }
   ],
   "source": [
    "i = 0\n",
    "total_amount = 0\n",
    "\n",
    "while total_amount < 100:\n",
    "    i += 1\n",
    "    total_amount += i\n",
    "    print(i, \": amount is\", total_amount)\n",
    "else:\n",
    "    print(\"loop finished by condition\")"
   ]
  },
  {
   "cell_type": "code",
   "execution_count": 18,
   "id": "b91e6361",
   "metadata": {},
   "outputs": [
    {
     "name": "stdout",
     "output_type": "stream",
     "text": [
      "1 : amount is 1\n",
      "2 : amount is 3\n",
      "3 : amount is 6\n",
      "4 : amount is 10\n",
      "5 : amount is 15\n",
      "6 : amount is 21\n",
      "7 : amount is 28\n"
     ]
    }
   ],
   "source": [
    "i = 0\n",
    "total_amount = 0\n",
    "\n",
    "while total_amount < 100:\n",
    "    i += 1\n",
    "    total_amount += i\n",
    "    print(i, \": amount is\", total_amount)\n",
    "    if i == 7:\n",
    "        break\n",
    "else:\n",
    "    print(\"loop finished by condition\")"
   ]
  },
  {
   "cell_type": "code",
   "execution_count": 19,
   "id": "dd66f3cf",
   "metadata": {},
   "outputs": [
    {
     "name": "stdout",
     "output_type": "stream",
     "text": [
      "2 : amount is 2\n",
      "4 : amount is 6\n",
      "6 : amount is 12\n",
      "8 : amount is 20\n",
      "10 : amount is 30\n",
      "12 : amount is 42\n",
      "14 : amount is 56\n",
      "16 : amount is 72\n",
      "18 : amount is 90\n",
      "20 : amount is 110\n",
      "loop finished by condition\n"
     ]
    }
   ],
   "source": [
    "i = 0\n",
    "total_amount = 0\n",
    "\n",
    "while total_amount < 100:\n",
    "    i += 2\n",
    "    total_amount += i\n",
    "    print(i, \": amount is\", total_amount)\n",
    "    if i == 7:\n",
    "        break\n",
    "else:\n",
    "    print(\"loop finished by condition\")"
   ]
  },
  {
   "cell_type": "code",
   "execution_count": 20,
   "id": "2df7c4ac",
   "metadata": {},
   "outputs": [
    {
     "name": "stdout",
     "output_type": "stream",
     "text": [
      "2 : amount is 2\n",
      "4 : amount is 6\n",
      "6 : amount is 12\n",
      "8 : amount is 20\n"
     ]
    }
   ],
   "source": [
    "i = 0\n",
    "total_amount = 0\n",
    "\n",
    "while total_amount < 100:\n",
    "    i += 2\n",
    "    total_amount += i\n",
    "    print(i, \": amount is\", total_amount)\n",
    "    if i >= 7:\n",
    "        break\n",
    "else:\n",
    "    print(\"loop finished by condition\")"
   ]
  },
  {
   "cell_type": "code",
   "execution_count": 21,
   "id": "d96d3a6b",
   "metadata": {},
   "outputs": [
    {
     "name": "stdout",
     "output_type": "stream",
     "text": [
      "1 : amount is 1\n",
      "2 : amount is 3\n",
      "3 : amount is 6\n",
      "4 : amount is 10\n",
      "5 : amount is 15\n",
      "6 : amount is 21\n",
      "7 : amount is 28\n"
     ]
    }
   ],
   "source": [
    "i = 0\n",
    "total_amount = 0\n",
    "\n",
    "while total_amount < 100:\n",
    "    i += 1\n",
    "    total_amount += i\n",
    "    print(i, \": amount is\", total_amount)\n",
    "    if i >= 7:\n",
    "        break\n",
    "else:\n",
    "    print(\"loop finished by condition\")"
   ]
  },
  {
   "cell_type": "code",
   "execution_count": 22,
   "id": "bd96b03c",
   "metadata": {},
   "outputs": [
    {
     "name": "stdout",
     "output_type": "stream",
     "text": [
      "0 0\n",
      "0 1\n",
      "0 2\n",
      "1 0\n",
      "1 1\n",
      "1 2\n",
      "2 0\n",
      "2 1\n",
      "2 2\n",
      "3 0\n",
      "3 1\n",
      "3 2\n",
      "4 0\n",
      "4 1\n",
      "4 2\n"
     ]
    }
   ],
   "source": [
    "for k in range(5):\n",
    "    for j in range(3):\n",
    "        print(k, j)"
   ]
  },
  {
   "cell_type": "code",
   "execution_count": 23,
   "id": "be5f1fa1",
   "metadata": {},
   "outputs": [
    {
     "name": "stdout",
     "output_type": "stream",
     "text": [
      "0 0\n",
      "0 1\n",
      "1 0\n",
      "1 1\n",
      "2 0\n",
      "2 1\n",
      "3 0\n",
      "3 1\n",
      "4 0\n",
      "4 1\n"
     ]
    }
   ],
   "source": [
    "for k in range(5):\n",
    "    for j in range(3):\n",
    "        if j == 2:\n",
    "            break\n",
    "        print(k, j)"
   ]
  },
  {
   "cell_type": "code",
   "execution_count": 24,
   "id": "09112f08",
   "metadata": {},
   "outputs": [
    {
     "name": "stdout",
     "output_type": "stream",
     "text": [
      "['hello world', 'apple', 'spam and eggs', 'apple', 'foo bar', 'foo bar', 'oranges', 'fizzbuzz', 'oranges', 'hello world']\n"
     ]
    }
   ],
   "source": [
    "strings_list = [\n",
    "    \"hello world\",\n",
    "    \"apple\",\n",
    "    \"spam and eggs\",\n",
    "    \"apple\",\n",
    "    \"foo bar\",\n",
    "    \"foo bar\",\n",
    "    \"oranges\",\n",
    "    \"fizzbuzz\",\n",
    "    \"oranges\",\n",
    "    \"hello world\",\n",
    "]\n",
    "\n",
    "print(strings_list)"
   ]
  },
  {
   "cell_type": "code",
   "execution_count": 25,
   "id": "0526ffae",
   "metadata": {},
   "outputs": [
    {
     "name": "stdout",
     "output_type": "stream",
     "text": [
      "['oranges', 'spam and eggs', 'foo bar', 'hello world', 'fizzbuzz', 'apple']\n"
     ]
    }
   ],
   "source": [
    "print(list(set(strings_list)))"
   ]
  },
  {
   "cell_type": "code",
   "execution_count": 27,
   "id": "8c3fad6c",
   "metadata": {},
   "outputs": [
    {
     "data": {
      "text/plain": [
       "{'apple', 'fizzbuzz', 'foo bar', 'hello world', 'oranges', 'spam and eggs'}"
      ]
     },
     "execution_count": 27,
     "metadata": {},
     "output_type": "execute_result"
    }
   ],
   "source": [
    "set(strings_list)"
   ]
  },
  {
   "cell_type": "code",
   "execution_count": 28,
   "id": "d71b45a4",
   "metadata": {},
   "outputs": [
    {
     "name": "stdout",
     "output_type": "stream",
     "text": [
      "found a new string: hello world\n",
      "found a new string: apple\n",
      "found a new string: spam and eggs\n",
      "found a new string: foo bar\n",
      "found a new string: oranges\n",
      "found a new string: fizzbuzz\n"
     ]
    }
   ],
   "source": [
    "known_strings = set()\n",
    "\n",
    "for string in strings_list:\n",
    "    if string in known_strings:\n",
    "        continue\n",
    "    print(\"found a new string:\", string)\n",
    "    known_strings.add(string)"
   ]
  },
  {
   "cell_type": "code",
   "execution_count": 29,
   "id": "528d962a",
   "metadata": {},
   "outputs": [
    {
     "name": "stdout",
     "output_type": "stream",
     "text": [
      "found a new string: hello world\n",
      "found a new string: apple\n",
      "found a new string: spam and eggs\n",
      "found a new string: foo bar\n",
      "found a new string: oranges\n",
      "found a new string: fizzbuzz\n",
      "all items processed\n"
     ]
    }
   ],
   "source": [
    "known_strings = set()\n",
    "\n",
    "for string in strings_list:\n",
    "    if string in known_strings:\n",
    "        continue\n",
    "    print(\"found a new string:\", string)\n",
    "    known_strings.add(string)\n",
    "else:\n",
    "    print(\"all items processed\")"
   ]
  },
  {
   "cell_type": "code",
   "execution_count": 32,
   "id": "9adc0c7f",
   "metadata": {},
   "outputs": [
    {
     "name": "stdout",
     "output_type": "stream",
     "text": [
      "1 1\n",
      "even number 2\n",
      "2 8\n",
      "3 9\n",
      "even number 4\n",
      "4 64\n",
      "5 25\n",
      "even number 6\n",
      "6 216\n",
      "7 49\n",
      "even number 8\n",
      "8 512\n",
      "9 81\n",
      "even number 10\n",
      "10 1000\n",
      "finished by condition\n"
     ]
    }
   ],
   "source": [
    "i = 0\n",
    "while i < 10:\n",
    "    i += 1\n",
    "    if i % 2:\n",
    "        print(i, i ** 2)\n",
    "        continue\n",
    "    print(\"even number\", i)\n",
    "    print(i, i ** 3)\n",
    "else:\n",
    "    print(\"finished by condition\")"
   ]
  },
  {
   "cell_type": "code",
   "execution_count": 33,
   "id": "f1d9fe4f",
   "metadata": {},
   "outputs": [
    {
     "name": "stdout",
     "output_type": "stream",
     "text": [
      "defined my func: <function my_func at 0x1055b9940>\n"
     ]
    }
   ],
   "source": [
    "def my_func():\n",
    "    pass\n",
    "\n",
    "print(\"defined my func:\", my_func)"
   ]
  },
  {
   "cell_type": "code",
   "execution_count": 34,
   "id": "6dc1233a",
   "metadata": {},
   "outputs": [],
   "source": [
    "my_func()"
   ]
  },
  {
   "cell_type": "code",
   "execution_count": 35,
   "id": "e850d62f",
   "metadata": {},
   "outputs": [
    {
     "name": "stdout",
     "output_type": "stream",
     "text": [
      "None\n"
     ]
    }
   ],
   "source": [
    "print(my_func())"
   ]
  },
  {
   "cell_type": "code",
   "execution_count": 36,
   "id": "6c291977",
   "metadata": {},
   "outputs": [
    {
     "data": {
      "text/plain": [
       "2"
      ]
     },
     "execution_count": 36,
     "metadata": {},
     "output_type": "execute_result"
    }
   ],
   "source": [
    "def f(x):\n",
    "    return x * 2\n",
    "f(1)"
   ]
  },
  {
   "cell_type": "code",
   "execution_count": 37,
   "id": "e22944fc",
   "metadata": {},
   "outputs": [
    {
     "data": {
      "text/plain": [
       "4"
      ]
     },
     "execution_count": 37,
     "metadata": {},
     "output_type": "execute_result"
    }
   ],
   "source": [
    "f(2)"
   ]
  },
  {
   "cell_type": "code",
   "execution_count": 38,
   "id": "358b250e",
   "metadata": {},
   "outputs": [
    {
     "data": {
      "text/plain": [
       "6"
      ]
     },
     "execution_count": 38,
     "metadata": {},
     "output_type": "execute_result"
    }
   ],
   "source": [
    "f(3)"
   ]
  },
  {
   "cell_type": "code",
   "execution_count": 39,
   "id": "68f66eb3",
   "metadata": {},
   "outputs": [
    {
     "data": {
      "text/plain": [
       "'barbar'"
      ]
     },
     "execution_count": 39,
     "metadata": {},
     "output_type": "execute_result"
    }
   ],
   "source": [
    "f(\"bar\")"
   ]
  },
  {
   "cell_type": "code",
   "execution_count": 40,
   "id": "56028bda",
   "metadata": {},
   "outputs": [
    {
     "data": {
      "text/plain": [
       "246"
      ]
     },
     "execution_count": 40,
     "metadata": {},
     "output_type": "execute_result"
    }
   ],
   "source": [
    "f(123)"
   ]
  },
  {
   "cell_type": "code",
   "execution_count": 41,
   "id": "d7fbc360",
   "metadata": {},
   "outputs": [],
   "source": [
    "def hello(name=\"world\"):\n",
    "    print(\"Hello\", name)"
   ]
  },
  {
   "cell_type": "code",
   "execution_count": 42,
   "id": "adf48c0b",
   "metadata": {},
   "outputs": [
    {
     "data": {
      "text/plain": [
       "<function __main__.hello(name='world')>"
      ]
     },
     "execution_count": 42,
     "metadata": {},
     "output_type": "execute_result"
    }
   ],
   "source": [
    "hello"
   ]
  },
  {
   "cell_type": "code",
   "execution_count": 43,
   "id": "f7ff3116",
   "metadata": {},
   "outputs": [
    {
     "name": "stdout",
     "output_type": "stream",
     "text": [
      "Hello world\n"
     ]
    }
   ],
   "source": [
    "hello()"
   ]
  },
  {
   "cell_type": "code",
   "execution_count": 44,
   "id": "c4ae8b9c",
   "metadata": {},
   "outputs": [
    {
     "name": "stdout",
     "output_type": "stream",
     "text": [
      "Hello Suren\n"
     ]
    }
   ],
   "source": [
    "hello(\"Suren\")"
   ]
  },
  {
   "cell_type": "code",
   "execution_count": 45,
   "id": "3fce01b4",
   "metadata": {},
   "outputs": [
    {
     "name": "stdout",
     "output_type": "stream",
     "text": [
      "Hello Ivan\n"
     ]
    }
   ],
   "source": [
    "hello(name=\"Ivan\")"
   ]
  },
  {
   "cell_type": "code",
   "execution_count": 46,
   "id": "53ac7d6b",
   "metadata": {},
   "outputs": [],
   "source": [
    "def get_sum(a, b):\n",
    "    return a + b"
   ]
  },
  {
   "cell_type": "code",
   "execution_count": 48,
   "id": "d7d0b7b3",
   "metadata": {},
   "outputs": [
    {
     "data": {
      "text/plain": [
       "3"
      ]
     },
     "execution_count": 48,
     "metadata": {},
     "output_type": "execute_result"
    }
   ],
   "source": [
    "get_sum(1, 2)"
   ]
  },
  {
   "cell_type": "code",
   "execution_count": 49,
   "id": "0a53d81b",
   "metadata": {},
   "outputs": [
    {
     "data": {
      "text/plain": [
       "'spam and eggs'"
      ]
     },
     "execution_count": 49,
     "metadata": {},
     "output_type": "execute_result"
    }
   ],
   "source": [
    "get_sum(\"spam\", \" and eggs\")"
   ]
  },
  {
   "cell_type": "code",
   "execution_count": 50,
   "id": "3c4d622c",
   "metadata": {},
   "outputs": [],
   "source": [
    "def get_pow(*numbers, power=2):\n",
    "    print(\"process numbers\", numbers, \"with power\", power)\n",
    "    results = []\n",
    "    for num in numbers:\n",
    "        results.append(num ** power)\n",
    "    return results"
   ]
  },
  {
   "cell_type": "code",
   "execution_count": 51,
   "id": "92690b47",
   "metadata": {},
   "outputs": [
    {
     "name": "stdout",
     "output_type": "stream",
     "text": [
      "process numbers (1,) with power 2\n"
     ]
    },
    {
     "data": {
      "text/plain": [
       "[1]"
      ]
     },
     "execution_count": 51,
     "metadata": {},
     "output_type": "execute_result"
    }
   ],
   "source": [
    "get_pow(1)"
   ]
  },
  {
   "cell_type": "code",
   "execution_count": 52,
   "id": "a9628003",
   "metadata": {},
   "outputs": [
    {
     "name": "stdout",
     "output_type": "stream",
     "text": [
      "process numbers (1, 2, 3) with power 2\n"
     ]
    },
    {
     "data": {
      "text/plain": [
       "[1, 4, 9]"
      ]
     },
     "execution_count": 52,
     "metadata": {},
     "output_type": "execute_result"
    }
   ],
   "source": [
    "get_pow(1, 2, 3)"
   ]
  },
  {
   "cell_type": "code",
   "execution_count": 53,
   "id": "c952120b",
   "metadata": {},
   "outputs": [
    {
     "name": "stdout",
     "output_type": "stream",
     "text": [
      "process numbers (1, 2, 3, 4, 5, 6) with power 2\n"
     ]
    },
    {
     "data": {
      "text/plain": [
       "[1, 4, 9, 16, 25, 36]"
      ]
     },
     "execution_count": 53,
     "metadata": {},
     "output_type": "execute_result"
    }
   ],
   "source": [
    "get_pow(1, 2, 3, 4, 5, 6)"
   ]
  },
  {
   "cell_type": "code",
   "execution_count": 54,
   "id": "a7b24fbf",
   "metadata": {},
   "outputs": [
    {
     "name": "stdout",
     "output_type": "stream",
     "text": [
      "process numbers (1, 2, 3, 4, 5, 6) with power 3\n"
     ]
    },
    {
     "data": {
      "text/plain": [
       "[1, 8, 27, 64, 125, 216]"
      ]
     },
     "execution_count": 54,
     "metadata": {},
     "output_type": "execute_result"
    }
   ],
   "source": [
    "get_pow(1, 2, 3, 4, 5, 6, power=3)"
   ]
  },
  {
   "cell_type": "code",
   "execution_count": 55,
   "id": "e6fc4aab",
   "metadata": {},
   "outputs": [
    {
     "name": "stdout",
     "output_type": "stream",
     "text": [
      "process numbers (1, 2, 3, 4) with power 2\n",
      "[1, 4, 9, 16]\n"
     ]
    }
   ],
   "source": [
    "results = get_pow(1, 2, 3, 4)\n",
    "print(results)"
   ]
  },
  {
   "cell_type": "code",
   "execution_count": 57,
   "id": "cc5e31ca",
   "metadata": {},
   "outputs": [
    {
     "name": "stdout",
     "output_type": "stream",
     "text": [
      "process numbers (1, 4, 9, 16) with power 2\n"
     ]
    },
    {
     "data": {
      "text/plain": [
       "[1, 16, 81, 256]"
      ]
     },
     "execution_count": 57,
     "metadata": {},
     "output_type": "execute_result"
    }
   ],
   "source": [
    "get_pow(*results)"
   ]
  },
  {
   "cell_type": "code",
   "execution_count": 58,
   "id": "6f8793c3",
   "metadata": {},
   "outputs": [
    {
     "name": "stdout",
     "output_type": "stream",
     "text": [
      "process numbers (1, 4, 9, 16, 3) with power 2\n"
     ]
    },
    {
     "data": {
      "text/plain": [
       "[1, 16, 81, 256, 9]"
      ]
     },
     "execution_count": 58,
     "metadata": {},
     "output_type": "execute_result"
    }
   ],
   "source": [
    "get_pow(*results, 3)"
   ]
  },
  {
   "cell_type": "code",
   "execution_count": 59,
   "id": "d7bc4f82",
   "metadata": {},
   "outputs": [
    {
     "name": "stdout",
     "output_type": "stream",
     "text": [
      "process numbers (1, 4, 9, 16) with power 3\n"
     ]
    },
    {
     "data": {
      "text/plain": [
       "[1, 64, 729, 4096]"
      ]
     },
     "execution_count": 59,
     "metadata": {},
     "output_type": "execute_result"
    }
   ],
   "source": [
    "get_pow(*results, power=3)"
   ]
  },
  {
   "cell_type": "code",
   "execution_count": 60,
   "id": "640b61a2",
   "metadata": {},
   "outputs": [],
   "source": [
    "def new_sequence_with(element, seq=[]):\n",
    "    seq.append(element)\n",
    "    return seq"
   ]
  },
  {
   "cell_type": "code",
   "execution_count": 61,
   "id": "7f9243d3",
   "metadata": {},
   "outputs": [
    {
     "data": {
      "text/plain": [
       "[123, 456]"
      ]
     },
     "execution_count": 61,
     "metadata": {},
     "output_type": "execute_result"
    }
   ],
   "source": [
    "new_sequence_with(456, [123])"
   ]
  },
  {
   "cell_type": "code",
   "execution_count": 62,
   "id": "0dbd8595",
   "metadata": {},
   "outputs": [
    {
     "data": {
      "text/plain": [
       "['qwe']"
      ]
     },
     "execution_count": 62,
     "metadata": {},
     "output_type": "execute_result"
    }
   ],
   "source": [
    "new_sequence_with(\"qwe\")"
   ]
  },
  {
   "cell_type": "code",
   "execution_count": 63,
   "id": "41766a81",
   "metadata": {},
   "outputs": [
    {
     "data": {
      "text/plain": [
       "['qwe', 'foobar']"
      ]
     },
     "execution_count": 63,
     "metadata": {},
     "output_type": "execute_result"
    }
   ],
   "source": [
    "new_sequence_with(\"foobar\")"
   ]
  },
  {
   "cell_type": "code",
   "execution_count": 64,
   "id": "dddde339",
   "metadata": {},
   "outputs": [
    {
     "data": {
      "text/plain": [
       "['qwe', 'foobar', 'fizzbuzz']"
      ]
     },
     "execution_count": 64,
     "metadata": {},
     "output_type": "execute_result"
    }
   ],
   "source": [
    "new_sequence_with(\"fizzbuzz\")"
   ]
  },
  {
   "cell_type": "code",
   "execution_count": 65,
   "id": "d1c537f7",
   "metadata": {},
   "outputs": [],
   "source": [
    "def new_seq_with(element, seq=None):\n",
    "    if seq is None:\n",
    "        seq = []\n",
    "    seq.append(element)\n",
    "    return seq"
   ]
  },
  {
   "cell_type": "code",
   "execution_count": 66,
   "id": "51d75f8f",
   "metadata": {},
   "outputs": [
    {
     "data": {
      "text/plain": [
       "['qwe']"
      ]
     },
     "execution_count": 66,
     "metadata": {},
     "output_type": "execute_result"
    }
   ],
   "source": [
    "new_seq_with(\"qwe\")"
   ]
  },
  {
   "cell_type": "code",
   "execution_count": 67,
   "id": "3802880e",
   "metadata": {},
   "outputs": [
    {
     "data": {
      "text/plain": [
       "['foo']"
      ]
     },
     "execution_count": 67,
     "metadata": {},
     "output_type": "execute_result"
    }
   ],
   "source": [
    "new_seq_with(\"foo\")"
   ]
  },
  {
   "cell_type": "code",
   "execution_count": 68,
   "id": "3772ae46",
   "metadata": {},
   "outputs": [
    {
     "data": {
      "text/plain": [
       "['bar']"
      ]
     },
     "execution_count": 68,
     "metadata": {},
     "output_type": "execute_result"
    }
   ],
   "source": [
    "new_seq_with(\"bar\")"
   ]
  },
  {
   "cell_type": "code",
   "execution_count": 69,
   "id": "43d5299a",
   "metadata": {},
   "outputs": [
    {
     "data": {
      "text/plain": [
       "[789, 543]"
      ]
     },
     "execution_count": 69,
     "metadata": {},
     "output_type": "execute_result"
    }
   ],
   "source": [
    "new_seq_with(543, [789])"
   ]
  },
  {
   "cell_type": "code",
   "execution_count": 70,
   "id": "68fa9bf3",
   "metadata": {},
   "outputs": [
    {
     "data": {
      "text/plain": [
       "['abc']"
      ]
     },
     "execution_count": 70,
     "metadata": {},
     "output_type": "execute_result"
    }
   ],
   "source": [
    "new_seq_with(\"abc\")"
   ]
  },
  {
   "cell_type": "code",
   "execution_count": 71,
   "id": "571cfc61",
   "metadata": {},
   "outputs": [],
   "source": [
    "x = 123\n",
    "\n",
    "def show_x():\n",
    "    print(x)"
   ]
  },
  {
   "cell_type": "code",
   "execution_count": 72,
   "id": "397a43c8",
   "metadata": {},
   "outputs": [
    {
     "name": "stdout",
     "output_type": "stream",
     "text": [
      "123\n"
     ]
    }
   ],
   "source": [
    "show_x()"
   ]
  },
  {
   "cell_type": "code",
   "execution_count": 73,
   "id": "3e2f7c00",
   "metadata": {},
   "outputs": [
    {
     "name": "stdout",
     "output_type": "stream",
     "text": [
      "456\n"
     ]
    }
   ],
   "source": [
    "x = 456\n",
    "show_x()"
   ]
  },
  {
   "cell_type": "code",
   "execution_count": 74,
   "id": "55969e7b",
   "metadata": {},
   "outputs": [],
   "source": [
    "def show_x(x):\n",
    "    print(x)"
   ]
  },
  {
   "cell_type": "code",
   "execution_count": 75,
   "id": "4a6e9932",
   "metadata": {},
   "outputs": [
    {
     "name": "stdout",
     "output_type": "stream",
     "text": [
      "123\n"
     ]
    }
   ],
   "source": [
    "x = 123\n",
    "\n",
    "show_x(x)"
   ]
  },
  {
   "cell_type": "code",
   "execution_count": 76,
   "id": "72264d88",
   "metadata": {},
   "outputs": [
    {
     "name": "stdout",
     "output_type": "stream",
     "text": [
      "456\n"
     ]
    }
   ],
   "source": [
    "show_x(\"456\")"
   ]
  },
  {
   "cell_type": "code",
   "execution_count": 77,
   "id": "dbb06572",
   "metadata": {},
   "outputs": [
    {
     "data": {
      "text/plain": [
       "123"
      ]
     },
     "execution_count": 77,
     "metadata": {},
     "output_type": "execute_result"
    }
   ],
   "source": [
    "x"
   ]
  },
  {
   "cell_type": "code",
   "execution_count": 78,
   "id": "86f2a145",
   "metadata": {},
   "outputs": [],
   "source": [
    "def create_and_show_x():\n",
    "    x = \"abc\"\n",
    "    print(x)\n",
    "    return x"
   ]
  },
  {
   "cell_type": "code",
   "execution_count": 79,
   "id": "6a9644ee",
   "metadata": {},
   "outputs": [
    {
     "name": "stdout",
     "output_type": "stream",
     "text": [
      "abc\n"
     ]
    },
    {
     "data": {
      "text/plain": [
       "'abc'"
      ]
     },
     "execution_count": 79,
     "metadata": {},
     "output_type": "execute_result"
    }
   ],
   "source": [
    "create_and_show_x()"
   ]
  },
  {
   "cell_type": "code",
   "execution_count": 80,
   "id": "c2d2c5a5",
   "metadata": {},
   "outputs": [
    {
     "data": {
      "text/plain": [
       "123"
      ]
     },
     "execution_count": 80,
     "metadata": {},
     "output_type": "execute_result"
    }
   ],
   "source": [
    "x"
   ]
  },
  {
   "cell_type": "code",
   "execution_count": 85,
   "id": "2129f761",
   "metadata": {},
   "outputs": [],
   "source": [
    "def show_x():\n",
    "    print(\"x in global scope:\", x)\n",
    "    return x"
   ]
  },
  {
   "cell_type": "code",
   "execution_count": 86,
   "id": "ee846db6",
   "metadata": {},
   "outputs": [
    {
     "name": "stdout",
     "output_type": "stream",
     "text": [
      "x in global scope: 123\n"
     ]
    },
    {
     "data": {
      "text/plain": [
       "123"
      ]
     },
     "execution_count": 86,
     "metadata": {},
     "output_type": "execute_result"
    }
   ],
   "source": [
    "show_x()"
   ]
  },
  {
   "cell_type": "code",
   "execution_count": 87,
   "id": "cc41e812",
   "metadata": {},
   "outputs": [],
   "source": [
    "def create_and_show_x():\n",
    "    x = \"qwe\"\n",
    "    print(x)\n",
    "    return x"
   ]
  },
  {
   "cell_type": "code",
   "execution_count": 88,
   "id": "549e3606",
   "metadata": {},
   "outputs": [
    {
     "name": "stdout",
     "output_type": "stream",
     "text": [
      "qwe\n"
     ]
    },
    {
     "data": {
      "text/plain": [
       "'qwe'"
      ]
     },
     "execution_count": 88,
     "metadata": {},
     "output_type": "execute_result"
    }
   ],
   "source": [
    "create_and_show_x()"
   ]
  },
  {
   "cell_type": "code",
   "execution_count": 89,
   "id": "109b8f24",
   "metadata": {},
   "outputs": [
    {
     "name": "stdout",
     "output_type": "stream",
     "text": [
      "x in global scope: 123\n"
     ]
    },
    {
     "data": {
      "text/plain": [
       "123"
      ]
     },
     "execution_count": 89,
     "metadata": {},
     "output_type": "execute_result"
    }
   ],
   "source": [
    "show_x()"
   ]
  },
  {
   "cell_type": "code",
   "execution_count": 90,
   "id": "773bc872",
   "metadata": {},
   "outputs": [],
   "source": [
    "x = 567"
   ]
  },
  {
   "cell_type": "code",
   "execution_count": 91,
   "id": "a4bf8825",
   "metadata": {},
   "outputs": [
    {
     "name": "stdout",
     "output_type": "stream",
     "text": [
      "x in global scope: 567\n"
     ]
    },
    {
     "data": {
      "text/plain": [
       "567"
      ]
     },
     "execution_count": 91,
     "metadata": {},
     "output_type": "execute_result"
    }
   ],
   "source": [
    "show_x()"
   ]
  },
  {
   "cell_type": "code",
   "execution_count": 92,
   "id": "95b4c137",
   "metadata": {},
   "outputs": [],
   "source": [
    "def create_and_show_x(value):\n",
    "    x = \"qwe\" * value\n",
    "    print(x)\n",
    "    return x"
   ]
  },
  {
   "cell_type": "code",
   "execution_count": 93,
   "id": "77d84802",
   "metadata": {},
   "outputs": [
    {
     "name": "stdout",
     "output_type": "stream",
     "text": [
      "qweqwe\n"
     ]
    },
    {
     "data": {
      "text/plain": [
       "'qweqwe'"
      ]
     },
     "execution_count": 93,
     "metadata": {},
     "output_type": "execute_result"
    }
   ],
   "source": [
    "create_and_show_x(2)"
   ]
  },
  {
   "cell_type": "code",
   "execution_count": 94,
   "id": "a0c7ae8a",
   "metadata": {},
   "outputs": [
    {
     "data": {
      "text/plain": [
       "567"
      ]
     },
     "execution_count": 94,
     "metadata": {},
     "output_type": "execute_result"
    }
   ],
   "source": [
    "x"
   ]
  },
  {
   "cell_type": "code",
   "execution_count": 95,
   "id": "fec2208e",
   "metadata": {},
   "outputs": [
    {
     "name": "stdout",
     "output_type": "stream",
     "text": [
      "['John', 'Sam', 'Kate', 'Bob']\n"
     ]
    }
   ],
   "source": [
    "names = [\"John\", \"Sam\", \"Kate\", \"Bob\"]\n",
    "print(names)"
   ]
  },
  {
   "cell_type": "code",
   "execution_count": 96,
   "id": "4e10ca09",
   "metadata": {},
   "outputs": [],
   "source": [
    "def find_str_starting_with(starts_with_str, list_of_strings):\n",
    "    text = starts_with_str.lower()\n",
    "    for string in list_of_strings:\n",
    "        if string.lower().startswith(text):\n",
    "            return string"
   ]
  },
  {
   "cell_type": "code",
   "execution_count": 97,
   "id": "336d6510",
   "metadata": {},
   "outputs": [
    {
     "data": {
      "text/plain": [
       "'Sam'"
      ]
     },
     "execution_count": 97,
     "metadata": {},
     "output_type": "execute_result"
    }
   ],
   "source": [
    "find_str_starting_with('s', names)"
   ]
  },
  {
   "cell_type": "code",
   "execution_count": 98,
   "id": "b3b66b79",
   "metadata": {},
   "outputs": [
    {
     "data": {
      "text/plain": [
       "'Kate'"
      ]
     },
     "execution_count": 98,
     "metadata": {},
     "output_type": "execute_result"
    }
   ],
   "source": [
    "find_str_starting_with('kA', names)"
   ]
  },
  {
   "cell_type": "code",
   "execution_count": 99,
   "id": "e756020e",
   "metadata": {},
   "outputs": [
    {
     "name": "stdout",
     "output_type": "stream",
     "text": [
      "['John', 'Sam', 'Kate', 'Bob', 'Sara']\n"
     ]
    }
   ],
   "source": [
    "names.append(\"Sara\")\n",
    "print(names)"
   ]
  },
  {
   "cell_type": "code",
   "execution_count": 100,
   "id": "23cdd6f6",
   "metadata": {},
   "outputs": [
    {
     "data": {
      "text/plain": [
       "'Sam'"
      ]
     },
     "execution_count": 100,
     "metadata": {},
     "output_type": "execute_result"
    }
   ],
   "source": [
    "find_str_starting_with('s', names)"
   ]
  },
  {
   "cell_type": "code",
   "execution_count": 101,
   "id": "3d68c4d0",
   "metadata": {},
   "outputs": [
    {
     "data": {
      "text/plain": [
       "'Sara'"
      ]
     },
     "execution_count": 101,
     "metadata": {},
     "output_type": "execute_result"
    }
   ],
   "source": [
    "find_str_starting_with('sar', names)"
   ]
  },
  {
   "cell_type": "code",
   "execution_count": 102,
   "id": "9b35535f",
   "metadata": {},
   "outputs": [
    {
     "data": {
      "text/plain": [
       "True"
      ]
     },
     "execution_count": 102,
     "metadata": {},
     "output_type": "execute_result"
    }
   ],
   "source": [
    "baz = \"foobar\"\n",
    "baz.startswith(\"f\")"
   ]
  },
  {
   "cell_type": "code",
   "execution_count": 103,
   "id": "b7463f99",
   "metadata": {},
   "outputs": [
    {
     "data": {
      "text/plain": [
       "True"
      ]
     },
     "execution_count": 103,
     "metadata": {},
     "output_type": "execute_result"
    }
   ],
   "source": [
    "baz.startswith(\"foo\")"
   ]
  },
  {
   "cell_type": "code",
   "execution_count": 104,
   "id": "35e070db",
   "metadata": {},
   "outputs": [
    {
     "data": {
      "text/plain": [
       "True"
      ]
     },
     "execution_count": 104,
     "metadata": {},
     "output_type": "execute_result"
    }
   ],
   "source": [
    "baz.startswith(\"foobar\")"
   ]
  },
  {
   "cell_type": "code",
   "execution_count": 105,
   "id": "37a7eebe",
   "metadata": {},
   "outputs": [
    {
     "data": {
      "text/plain": [
       "'foobar'"
      ]
     },
     "execution_count": 105,
     "metadata": {},
     "output_type": "execute_result"
    }
   ],
   "source": [
    "baz"
   ]
  },
  {
   "cell_type": "code",
   "execution_count": 107,
   "id": "53b9c7db",
   "metadata": {},
   "outputs": [
    {
     "data": {
      "text/plain": [
       "True"
      ]
     },
     "execution_count": 107,
     "metadata": {},
     "output_type": "execute_result"
    }
   ],
   "source": [
    "baz[0] == \"f\""
   ]
  },
  {
   "cell_type": "code",
   "execution_count": 108,
   "id": "acf05f8f",
   "metadata": {},
   "outputs": [
    {
     "data": {
      "text/plain": [
       "'fo'"
      ]
     },
     "execution_count": 108,
     "metadata": {},
     "output_type": "execute_result"
    }
   ],
   "source": [
    "baz[:2]"
   ]
  },
  {
   "cell_type": "code",
   "execution_count": 109,
   "id": "ae9a1546",
   "metadata": {},
   "outputs": [
    {
     "data": {
      "text/plain": [
       "True"
      ]
     },
     "execution_count": 109,
     "metadata": {},
     "output_type": "execute_result"
    }
   ],
   "source": [
    "baz[:2] == \"fo\""
   ]
  },
  {
   "cell_type": "code",
   "execution_count": 110,
   "id": "9802aa5c",
   "metadata": {},
   "outputs": [
    {
     "data": {
      "text/plain": [
       "True"
      ]
     },
     "execution_count": 110,
     "metadata": {},
     "output_type": "execute_result"
    }
   ],
   "source": [
    "baz.startswith(\"fo\")"
   ]
  },
  {
   "cell_type": "code",
   "execution_count": 111,
   "id": "463bf1d3",
   "metadata": {},
   "outputs": [],
   "source": [
    "def find_value(numbers):\n",
    "    for number in numbers:\n",
    "        if number % 3 == 0 and number % 5 == 0:\n",
    "            return \"FizzBuzz\", number\n",
    "        if number % 5 == 0:\n",
    "            return \"Fizz\", number\n",
    "        if number % 3 == 0:\n",
    "            return \"Buzz\", number"
   ]
  },
  {
   "cell_type": "code",
   "execution_count": 112,
   "id": "13dc188d",
   "metadata": {},
   "outputs": [
    {
     "data": {
      "text/plain": [
       "('FizzBuzz', 0)"
      ]
     },
     "execution_count": 112,
     "metadata": {},
     "output_type": "execute_result"
    }
   ],
   "source": [
    "find_value(list(range(10)))"
   ]
  },
  {
   "cell_type": "code",
   "execution_count": 113,
   "id": "92456ab1",
   "metadata": {},
   "outputs": [],
   "source": [
    "def find_value(numbers):\n",
    "    for number in numbers:\n",
    "        if number == 0:\n",
    "            continue\n",
    "        if number % 3 == 0 and number % 5 == 0:\n",
    "            return \"FizzBuzz\", number\n",
    "        if number % 5 == 0:\n",
    "            return \"Fizz\", number\n",
    "        if number % 3 == 0:\n",
    "            return \"Buzz\", number"
   ]
  },
  {
   "cell_type": "code",
   "execution_count": 114,
   "id": "f6f20064",
   "metadata": {},
   "outputs": [
    {
     "data": {
      "text/plain": [
       "('Buzz', 3)"
      ]
     },
     "execution_count": 114,
     "metadata": {},
     "output_type": "execute_result"
    }
   ],
   "source": [
    "find_value(range(10))"
   ]
  },
  {
   "cell_type": "code",
   "execution_count": 115,
   "id": "1b70c95c",
   "metadata": {},
   "outputs": [
    {
     "data": {
      "text/plain": [
       "('Buzz', 3)"
      ]
     },
     "execution_count": 115,
     "metadata": {},
     "output_type": "execute_result"
    }
   ],
   "source": [
    "find_value(range(1, 10, 2))"
   ]
  },
  {
   "cell_type": "code",
   "execution_count": 116,
   "id": "de7d80df",
   "metadata": {},
   "outputs": [
    {
     "data": {
      "text/plain": [
       "('Buzz', 6)"
      ]
     },
     "execution_count": 116,
     "metadata": {},
     "output_type": "execute_result"
    }
   ],
   "source": [
    "find_value(range(2, 10, 2))"
   ]
  },
  {
   "cell_type": "code",
   "execution_count": 117,
   "id": "16e7eaf4",
   "metadata": {},
   "outputs": [
    {
     "data": {
      "text/plain": [
       "('Fizz', 5)"
      ]
     },
     "execution_count": 117,
     "metadata": {},
     "output_type": "execute_result"
    }
   ],
   "source": [
    "find_value(range(2, 10, 3))"
   ]
  },
  {
   "cell_type": "code",
   "execution_count": null,
   "id": "b67d011c",
   "metadata": {},
   "outputs": [],
   "source": []
  }
 ],
 "metadata": {
  "kernelspec": {
   "display_name": "Python 3 (ipykernel)",
   "language": "python",
   "name": "python3"
  },
  "language_info": {
   "codemirror_mode": {
    "name": "ipython",
    "version": 3
   },
   "file_extension": ".py",
   "mimetype": "text/x-python",
   "name": "python",
   "nbconvert_exporter": "python",
   "pygments_lexer": "ipython3",
   "version": "3.9.1"
  }
 },
 "nbformat": 4,
 "nbformat_minor": 5
}
