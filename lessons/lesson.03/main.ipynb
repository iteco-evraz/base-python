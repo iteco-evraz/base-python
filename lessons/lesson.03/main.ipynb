{
 "cells": [
  {
   "cell_type": "code",
   "execution_count": 1,
   "id": "0cbc7b72",
   "metadata": {},
   "outputs": [
    {
     "name": "stdout",
     "output_type": "stream",
     "text": [
      "['Москва', 'Анапа', 'Сочи', 'Санкт-Петербург']\n"
     ]
    }
   ],
   "source": [
    "cities = [\"Москва\", \"Анапа\", \"Сочи\", \"Санкт-Петербург\"]\n",
    "print(cities)"
   ]
  },
  {
   "cell_type": "code",
   "execution_count": 2,
   "id": "ea3a3bf3",
   "metadata": {},
   "outputs": [
    {
     "name": "stdout",
     "output_type": "stream",
     "text": [
      "Москва\n",
      "Анапа\n",
      "Сочи\n",
      "Санкт-Петербург\n"
     ]
    }
   ],
   "source": [
    "for city in cities:\n",
    "    print(city)"
   ]
  },
  {
   "cell_type": "code",
   "execution_count": 3,
   "id": "041114a5",
   "metadata": {},
   "outputs": [
    {
     "name": "stdout",
     "output_type": "stream",
     "text": [
      "process city Москва\n",
      "next iteration..\n",
      "process city Анапа\n",
      "next iteration..\n",
      "process city Сочи\n",
      "city with less than 5 symbols: Сочи\n"
     ]
    }
   ],
   "source": [
    "for city in cities:\n",
    "    print(\"process city\", city)\n",
    "    if len(city) < 5:\n",
    "        print(\"city with less than 5 symbols:\", city)\n",
    "        break\n",
    "    print(\"next iteration..\")"
   ]
  },
  {
   "cell_type": "code",
   "execution_count": 4,
   "id": "c756fa9b",
   "metadata": {},
   "outputs": [
    {
     "name": "stdout",
     "output_type": "stream",
     "text": [
      "['apples', 'bananas', 'oranges']\n"
     ]
    }
   ],
   "source": [
    "fruits = [\"apples\", \"bananas\", \"oranges\"]\n",
    "print(fruits)"
   ]
  },
  {
   "cell_type": "code",
   "execution_count": 5,
   "id": "401b7a28",
   "metadata": {},
   "outputs": [
    {
     "name": "stdout",
     "output_type": "stream",
     "text": [
      "process fruit apples\n",
      "next iteration..\n",
      "process fruit bananas\n",
      "next iteration..\n",
      "process fruit oranges\n",
      "next iteration..\n",
      "finished cycle for\n"
     ]
    }
   ],
   "source": [
    "for fruit in fruits:\n",
    "    print(\"process fruit\", fruit)\n",
    "\n",
    "    if len(fruit) < 5:\n",
    "        print(\"breaking on\", fruit)\n",
    "        break\n",
    "    \n",
    "    print(\"next iteration..\")\n",
    "print(\"finished cycle for\")"
   ]
  },
  {
   "cell_type": "code",
   "execution_count": 6,
   "id": "ec1fc12b",
   "metadata": {},
   "outputs": [],
   "source": [
    "fruits.append(\"figs\")"
   ]
  },
  {
   "cell_type": "code",
   "execution_count": 7,
   "id": "7973e82e",
   "metadata": {},
   "outputs": [
    {
     "data": {
      "text/plain": [
       "['apples', 'bananas', 'oranges', 'figs']"
      ]
     },
     "execution_count": 7,
     "metadata": {},
     "output_type": "execute_result"
    }
   ],
   "source": [
    "fruits"
   ]
  },
  {
   "cell_type": "code",
   "execution_count": 10,
   "id": "9d8b0c12",
   "metadata": {},
   "outputs": [
    {
     "name": "stdout",
     "output_type": "stream",
     "text": [
      "process fruit apples\n",
      "process fruit bananas\n",
      "process fruit oranges\n",
      "process fruit figs\n"
     ]
    }
   ],
   "source": [
    "for fruit in fruits:\n",
    "    print(\"process fruit\", fruit)\n",
    "    if len(fruit) < 5:\n",
    "        break\n",
    "else:\n",
    "    print(\"end of loop. no break\")"
   ]
  },
  {
   "cell_type": "code",
   "execution_count": 11,
   "id": "a1aca0e8",
   "metadata": {},
   "outputs": [
    {
     "name": "stdout",
     "output_type": "stream",
     "text": [
      "process fruit apples\n",
      "process fruit bananas\n",
      "process fruit oranges\n",
      "process fruit figs\n",
      "end of loop. no break\n"
     ]
    }
   ],
   "source": [
    "for fruit in fruits:\n",
    "    print(\"process fruit\", fruit)\n",
    "    if len(fruit) < 4:\n",
    "        break\n",
    "else:\n",
    "    print(\"end of loop. no break\")"
   ]
  },
  {
   "cell_type": "code",
   "execution_count": 12,
   "id": "279bd504",
   "metadata": {},
   "outputs": [
    {
     "name": "stdout",
     "output_type": "stream",
     "text": [
      "process city Москва\n",
      "process city Анапа\n",
      "process city Сочи\n"
     ]
    }
   ],
   "source": [
    "for city in cities:\n",
    "    print(\"process city\", city)\n",
    "    if len(city) < 5:\n",
    "        break\n",
    "else:\n",
    "    print(\"finished w/o break\")"
   ]
  },
  {
   "cell_type": "code",
   "execution_count": 13,
   "id": "d859604e",
   "metadata": {},
   "outputs": [
    {
     "name": "stdout",
     "output_type": "stream",
     "text": [
      "process city Москва\n",
      "process city Анапа\n",
      "process city Сочи\n",
      "process city Санкт-Петербург\n",
      "finished w/o break\n"
     ]
    }
   ],
   "source": [
    "for city in cities:\n",
    "    print(\"process city\", city)\n",
    "    if len(city) < 4:\n",
    "        break\n",
    "else:\n",
    "    print(\"finished w/o break\")"
   ]
  },
  {
   "cell_type": "code",
   "execution_count": 14,
   "id": "8ed081cc",
   "metadata": {},
   "outputs": [
    {
     "name": "stdout",
     "output_type": "stream",
     "text": [
      "0\n",
      "1\n",
      "2\n",
      "3\n",
      "4\n",
      "done\n"
     ]
    }
   ],
   "source": [
    "for i in range(5):\n",
    "    print(i)\n",
    "else:\n",
    "    print(\"done\")"
   ]
  },
  {
   "cell_type": "code",
   "execution_count": 15,
   "id": "a38ba5da",
   "metadata": {},
   "outputs": [
    {
     "name": "stdout",
     "output_type": "stream",
     "text": [
      "0\n",
      "1\n",
      "2\n",
      "3\n",
      "4\n",
      "done\n"
     ]
    }
   ],
   "source": [
    "for i in range(5):\n",
    "    print(i)\n",
    "print(\"done\")"
   ]
  },
  {
   "cell_type": "code",
   "execution_count": 16,
   "id": "c525c6a7",
   "metadata": {},
   "outputs": [
    {
     "name": "stdout",
     "output_type": "stream",
     "text": [
      "['Москва', 'Анапа', 'Сочи', 'Санкт-Петербург']\n"
     ]
    }
   ],
   "source": [
    "# for <new_variable> in <iterable>:\n",
    "#     pass\n",
    "\n",
    "print(cities)"
   ]
  },
  {
   "cell_type": "code",
   "execution_count": 17,
   "id": "2019deed",
   "metadata": {},
   "outputs": [
    {
     "data": {
      "text/plain": [
       "'Москва'"
      ]
     },
     "execution_count": 17,
     "metadata": {},
     "output_type": "execute_result"
    }
   ],
   "source": [
    "cities[0]"
   ]
  },
  {
   "cell_type": "code",
   "execution_count": 18,
   "id": "9fe1b823",
   "metadata": {},
   "outputs": [
    {
     "data": {
      "text/plain": [
       "'Анапа'"
      ]
     },
     "execution_count": 18,
     "metadata": {},
     "output_type": "execute_result"
    }
   ],
   "source": [
    "cities[1]"
   ]
  },
  {
   "cell_type": "code",
   "execution_count": 19,
   "id": "4507dff0",
   "metadata": {},
   "outputs": [
    {
     "data": {
      "text/plain": [
       "4"
      ]
     },
     "execution_count": 19,
     "metadata": {},
     "output_type": "execute_result"
    }
   ],
   "source": [
    "len(cities)"
   ]
  },
  {
   "cell_type": "code",
   "execution_count": 20,
   "id": "7762a78c",
   "metadata": {},
   "outputs": [
    {
     "data": {
      "text/plain": [
       "'Санкт-Петербург'"
      ]
     },
     "execution_count": 20,
     "metadata": {},
     "output_type": "execute_result"
    }
   ],
   "source": [
    "cities[3]"
   ]
  },
  {
   "cell_type": "code",
   "execution_count": 21,
   "id": "bfcc0eb5",
   "metadata": {},
   "outputs": [
    {
     "name": "stdout",
     "output_type": "stream",
     "text": [
      "no break\n"
     ]
    }
   ],
   "source": [
    "for my_city in []:\n",
    "    print(\"my city\", my_city)\n",
    "    break\n",
    "else:\n",
    "    print(\"no break\")"
   ]
  },
  {
   "cell_type": "code",
   "execution_count": 23,
   "id": "5e6ead45",
   "metadata": {},
   "outputs": [
    {
     "name": "stdout",
     "output_type": "stream",
     "text": [
      "my city NY\n"
     ]
    }
   ],
   "source": [
    "for my_city in [\"NY\", \"NO\"]:\n",
    "    print(\"my city\", my_city)\n",
    "    break\n",
    "else:\n",
    "    print(\"no break\")"
   ]
  },
  {
   "cell_type": "code",
   "execution_count": 24,
   "id": "e16a1e1f",
   "metadata": {},
   "outputs": [
    {
     "data": {
      "text/plain": [
       "'NY'"
      ]
     },
     "execution_count": 24,
     "metadata": {},
     "output_type": "execute_result"
    }
   ],
   "source": [
    "my_city"
   ]
  },
  {
   "cell_type": "code",
   "execution_count": 25,
   "id": "f6a22bef",
   "metadata": {},
   "outputs": [
    {
     "name": "stdout",
     "output_type": "stream",
     "text": [
      "None\n"
     ]
    }
   ],
   "source": [
    "first_city = None\n",
    "print(first_city)"
   ]
  },
  {
   "cell_type": "code",
   "execution_count": 26,
   "id": "86d425a5",
   "metadata": {},
   "outputs": [
    {
     "name": "stdout",
     "output_type": "stream",
     "text": [
      "no break\n",
      "None\n"
     ]
    }
   ],
   "source": [
    "for another_city in []:\n",
    "    first_city = another_city\n",
    "    break\n",
    "else:\n",
    "    print(\"no break\")\n",
    "\n",
    "print(first_city)"
   ]
  },
  {
   "cell_type": "code",
   "execution_count": 27,
   "id": "48b58bb3",
   "metadata": {},
   "outputs": [
    {
     "name": "stdout",
     "output_type": "stream",
     "text": [
      "Moscow\n"
     ]
    }
   ],
   "source": [
    "for another_city in [\"Moscow\", \"Sochi\"]:\n",
    "    first_city = another_city\n",
    "    break\n",
    "else:\n",
    "    print(\"no break\")\n",
    "\n",
    "print(first_city)"
   ]
  },
  {
   "cell_type": "code",
   "execution_count": 28,
   "id": "54edbff0",
   "metadata": {},
   "outputs": [
    {
     "name": "stdout",
     "output_type": "stream",
     "text": [
      "no break\n",
      "Sochi\n"
     ]
    }
   ],
   "source": [
    "for another_city in [\"Moscow\", \"Sochi\"]:\n",
    "    first_city = another_city\n",
    "else:\n",
    "    print(\"no break\")\n",
    "\n",
    "print(first_city)"
   ]
  },
  {
   "cell_type": "code",
   "execution_count": 29,
   "id": "451652bb",
   "metadata": {},
   "outputs": [
    {
     "data": {
      "text/plain": [
       "32"
      ]
     },
     "execution_count": 29,
     "metadata": {},
     "output_type": "execute_result"
    }
   ],
   "source": [
    "2 ** 5"
   ]
  },
  {
   "cell_type": "code",
   "execution_count": 30,
   "id": "fc1586ee",
   "metadata": {},
   "outputs": [
    {
     "data": {
      "text/plain": [
       "64"
      ]
     },
     "execution_count": 30,
     "metadata": {},
     "output_type": "execute_result"
    }
   ],
   "source": [
    "2 ** 6"
   ]
  },
  {
   "cell_type": "code",
   "execution_count": 31,
   "id": "85a6ac87",
   "metadata": {},
   "outputs": [
    {
     "name": "stdout",
     "output_type": "stream",
     "text": [
      "value = 2 when power is 1\n",
      "value = 4 when power is 2\n",
      "value = 8 when power is 3\n",
      "value = 16 when power is 4\n",
      "value = 32 when power is 5\n",
      "value = 64 when power is 6\n",
      "value = 128 when power is 7\n",
      "value = 256 when power is 8\n",
      "value = 512 when power is 9\n",
      "value = 1024 when power is 10\n",
      "value = 2048 when power is 11\n",
      "value = 4096 when power is 12\n",
      "value = 8192 when power is 13\n",
      "value = 16384 when power is 14\n",
      "result 2 ^ 14 = 16384\n"
     ]
    }
   ],
   "source": [
    "power = 0\n",
    "value = 0\n",
    "\n",
    "while value < 10000:\n",
    "    # power = power + 1\n",
    "    power += 1\n",
    "    value = 2 ** power\n",
    "    print(\"value =\", value, \"when power is\", power)\n",
    "\n",
    "print(\"result 2 ^\", power, \"=\", value)"
   ]
  },
  {
   "cell_type": "code",
   "execution_count": 32,
   "id": "43a4af05",
   "metadata": {},
   "outputs": [
    {
     "data": {
      "text/plain": [
       "16384"
      ]
     },
     "execution_count": 32,
     "metadata": {},
     "output_type": "execute_result"
    }
   ],
   "source": [
    "2 ** 14"
   ]
  },
  {
   "cell_type": "code",
   "execution_count": 33,
   "id": "76811ae1",
   "metadata": {},
   "outputs": [
    {
     "name": "stdout",
     "output_type": "stream",
     "text": [
      "1 : amount is 1\n",
      "2 : amount is 3\n",
      "3 : amount is 6\n",
      "4 : amount is 10\n",
      "5 : amount is 15\n",
      "6 : amount is 21\n",
      "7 : amount is 28\n",
      "8 : amount is 36\n",
      "9 : amount is 45\n",
      "10 : amount is 55\n",
      "11 : amount is 66\n",
      "12 : amount is 78\n",
      "13 : amount is 91\n",
      "14 : amount is 105\n",
      "finished loop by condition\n"
     ]
    }
   ],
   "source": [
    "i = 0\n",
    "total_amount = 0\n",
    "\n",
    "while total_amount < 100:\n",
    "    i += 1\n",
    "    total_amount += i\n",
    "    print(i, \": amount is\", total_amount)\n",
    "else:\n",
    "    print(\"finished loop by condition\")"
   ]
  },
  {
   "cell_type": "code",
   "execution_count": 34,
   "id": "880963a4",
   "metadata": {},
   "outputs": [
    {
     "name": "stdout",
     "output_type": "stream",
     "text": [
      "14\n"
     ]
    }
   ],
   "source": [
    "print(i)"
   ]
  },
  {
   "cell_type": "code",
   "execution_count": 35,
   "id": "45dc6d46",
   "metadata": {},
   "outputs": [
    {
     "name": "stdout",
     "output_type": "stream",
     "text": [
      "1 : amount is 1\n",
      "2 : amount is 3\n",
      "3 : amount is 6\n",
      "4 : amount is 10\n",
      "5 : amount is 15\n",
      "6 : amount is 21\n",
      "7 : amount is 28\n",
      "total amount 28\n"
     ]
    }
   ],
   "source": [
    "i = 0\n",
    "total_amount = 0\n",
    "\n",
    "while total_amount < 100:\n",
    "    i += 1\n",
    "    total_amount += i\n",
    "    print(i, \": amount is\", total_amount)\n",
    "    if i == 7:\n",
    "        break\n",
    "else:\n",
    "    print(\"finished loop by condition\")\n",
    "\n",
    "print(\"total amount\", total_amount)"
   ]
  },
  {
   "cell_type": "code",
   "execution_count": 36,
   "id": "d4b475ec",
   "metadata": {},
   "outputs": [
    {
     "name": "stdout",
     "output_type": "stream",
     "text": [
      "2 : amount is 2\n",
      "4 : amount is 6\n",
      "6 : amount is 12\n",
      "8 : amount is 20\n",
      "10 : amount is 30\n",
      "12 : amount is 42\n",
      "14 : amount is 56\n",
      "16 : amount is 72\n",
      "18 : amount is 90\n",
      "20 : amount is 110\n",
      "finished loop by condition\n",
      "total amount 110\n"
     ]
    }
   ],
   "source": [
    "i = 0\n",
    "total_amount = 0\n",
    "\n",
    "while total_amount < 100:\n",
    "    i += 2\n",
    "    total_amount += i\n",
    "    print(i, \": amount is\", total_amount)\n",
    "    if i == 7:\n",
    "        break\n",
    "else:\n",
    "    print(\"finished loop by condition\")\n",
    "\n",
    "print(\"total amount\", total_amount)"
   ]
  },
  {
   "cell_type": "code",
   "execution_count": 37,
   "id": "1bb02b5b",
   "metadata": {},
   "outputs": [
    {
     "name": "stdout",
     "output_type": "stream",
     "text": [
      "2 : amount is 2\n",
      "4 : amount is 6\n",
      "6 : amount is 12\n",
      "8 : amount is 20\n",
      "total amount 20\n"
     ]
    }
   ],
   "source": [
    "i = 0\n",
    "total_amount = 0\n",
    "\n",
    "while total_amount < 100:\n",
    "    i += 2\n",
    "    total_amount += i\n",
    "    print(i, \": amount is\", total_amount)\n",
    "    if i >= 7:\n",
    "        break\n",
    "else:\n",
    "    print(\"finished loop by condition\")\n",
    "\n",
    "print(\"total amount\", total_amount)"
   ]
  },
  {
   "cell_type": "code",
   "execution_count": 38,
   "id": "e9c5cae4",
   "metadata": {},
   "outputs": [
    {
     "name": "stdout",
     "output_type": "stream",
     "text": [
      "0 0\n",
      "0 1\n",
      "0 2\n",
      "1 0\n",
      "1 1\n",
      "1 2\n",
      "2 0\n",
      "2 1\n",
      "2 2\n",
      "3 0\n",
      "3 1\n",
      "3 2\n",
      "4 0\n",
      "4 1\n",
      "4 2\n"
     ]
    }
   ],
   "source": [
    "for k in range(5):\n",
    "    for j in range(3):\n",
    "        print(k, j)"
   ]
  },
  {
   "cell_type": "code",
   "execution_count": 40,
   "id": "d9351163",
   "metadata": {},
   "outputs": [
    {
     "name": "stdout",
     "output_type": "stream",
     "text": [
      "0 0\n",
      "0 1\n",
      "1 0\n",
      "1 1\n",
      "2 0\n",
      "2 1\n",
      "3 0\n",
      "3 1\n",
      "4 0\n",
      "4 1\n"
     ]
    }
   ],
   "source": [
    "for k in range(5):\n",
    "    for j in range(3):\n",
    "        if j == 2:\n",
    "            break\n",
    "        print(k, j)"
   ]
  },
  {
   "cell_type": "code",
   "execution_count": 41,
   "id": "c07600ee",
   "metadata": {},
   "outputs": [
    {
     "name": "stdout",
     "output_type": "stream",
     "text": [
      "0 0\n",
      "0 1\n",
      "1 0\n",
      "1 1\n",
      "2 0\n",
      "2 1\n",
      "3 0\n",
      "3 1\n",
      "4 0\n",
      "4 1\n"
     ]
    }
   ],
   "source": [
    "for k in range(5):\n",
    "    for j in range(10):\n",
    "        if j == 2:\n",
    "            break\n",
    "        print(k, j)"
   ]
  },
  {
   "cell_type": "code",
   "execution_count": 42,
   "id": "b4cab641",
   "metadata": {},
   "outputs": [
    {
     "name": "stdout",
     "output_type": "stream",
     "text": [
      "['hello world', 'apples', 'oranges', 'apples', 'spam and eggs', 'spam', 'fizzbuzz', 'spam and eggs', 'oranges', 'spam']\n"
     ]
    }
   ],
   "source": [
    "strings_list = [\n",
    "    \"hello world\",\n",
    "    \"apples\",\n",
    "    \"oranges\",\n",
    "    \"apples\",\n",
    "    \"spam and eggs\",\n",
    "    \"spam\",\n",
    "    \"fizzbuzz\",\n",
    "    \"spam and eggs\",\n",
    "    \"oranges\",\n",
    "    \"spam\",\n",
    "]\n",
    "print(strings_list)"
   ]
  },
  {
   "cell_type": "code",
   "execution_count": 43,
   "id": "b3e3c888",
   "metadata": {},
   "outputs": [
    {
     "data": {
      "text/plain": [
       "{'apples', 'fizzbuzz', 'hello world', 'oranges', 'spam', 'spam and eggs'}"
      ]
     },
     "execution_count": 43,
     "metadata": {},
     "output_type": "execute_result"
    }
   ],
   "source": [
    "set(strings_list)"
   ]
  },
  {
   "cell_type": "code",
   "execution_count": 44,
   "id": "75bdc1a7",
   "metadata": {},
   "outputs": [
    {
     "data": {
      "text/plain": [
       "['spam and eggs', 'oranges', 'apples', 'fizzbuzz', 'spam', 'hello world']"
      ]
     },
     "execution_count": 44,
     "metadata": {},
     "output_type": "execute_result"
    }
   ],
   "source": [
    "list(set(strings_list))"
   ]
  },
  {
   "cell_type": "code",
   "execution_count": 45,
   "id": "da62af44",
   "metadata": {},
   "outputs": [
    {
     "name": "stdout",
     "output_type": "stream",
     "text": [
      "found a new string: hello world\n",
      "found a new string: apples\n",
      "found a new string: oranges\n",
      "found a new string: spam and eggs\n",
      "found a new string: spam\n",
      "found a new string: fizzbuzz\n"
     ]
    }
   ],
   "source": [
    "known_strings = set()\n",
    "\n",
    "for string in strings_list:\n",
    "    if string in known_strings:\n",
    "        continue\n",
    "    print(\"found a new string:\", string)\n",
    "    known_strings.add(string)"
   ]
  },
  {
   "cell_type": "code",
   "execution_count": 46,
   "id": "c91da2c0",
   "metadata": {},
   "outputs": [
    {
     "data": {
      "text/plain": [
       "{'apples', 'fizzbuzz', 'hello world', 'oranges', 'spam', 'spam and eggs'}"
      ]
     },
     "execution_count": 46,
     "metadata": {},
     "output_type": "execute_result"
    }
   ],
   "source": [
    "known_strings"
   ]
  },
  {
   "cell_type": "code",
   "execution_count": 47,
   "id": "249b302f",
   "metadata": {},
   "outputs": [
    {
     "data": {
      "text/plain": [
       "True"
      ]
     },
     "execution_count": 47,
     "metadata": {},
     "output_type": "execute_result"
    }
   ],
   "source": [
    "known_strings == set(strings_list)"
   ]
  },
  {
   "cell_type": "code",
   "execution_count": 48,
   "id": "2a12e1a5",
   "metadata": {},
   "outputs": [
    {
     "data": {
      "text/plain": [
       "False"
      ]
     },
     "execution_count": 48,
     "metadata": {},
     "output_type": "execute_result"
    }
   ],
   "source": [
    "known_strings is set(strings_list)"
   ]
  },
  {
   "cell_type": "code",
   "execution_count": 49,
   "id": "7205cda3",
   "metadata": {},
   "outputs": [
    {
     "name": "stdout",
     "output_type": "stream",
     "text": [
      "found a new string: hello world\n",
      "found a new string: apples\n",
      "found a new string: oranges\n",
      "found a new string: spam and eggs\n",
      "found a new string: spam\n",
      "found a new string: fizzbuzz\n",
      "processed all items\n"
     ]
    }
   ],
   "source": [
    "known_strings = set()\n",
    "\n",
    "for string in strings_list:\n",
    "    if string in known_strings:\n",
    "        continue\n",
    "    print(\"found a new string:\", string)\n",
    "    known_strings.add(string)\n",
    "else:\n",
    "    print(\"processed all items\")"
   ]
  },
  {
   "cell_type": "code",
   "execution_count": 50,
   "id": "d0e232ec",
   "metadata": {},
   "outputs": [
    {
     "name": "stdout",
     "output_type": "stream",
     "text": [
      "1 1\n",
      "even number 2\n",
      "8\n",
      "--\n",
      "3 9\n",
      "even number 4\n",
      "64\n",
      "--\n",
      "5 25\n",
      "even number 6\n",
      "216\n",
      "--\n",
      "7 49\n",
      "even number 8\n",
      "512\n",
      "--\n",
      "9 81\n",
      "even number 10\n",
      "1000\n",
      "--\n",
      "finished by condition\n"
     ]
    }
   ],
   "source": [
    "i = 0\n",
    "while i < 10:\n",
    "    i += 1\n",
    "    if i % 2:\n",
    "        print(i, i ** 2)\n",
    "        continue\n",
    "    print(\"even number\", i)\n",
    "    print(i ** 3)\n",
    "    print(\"--\")\n",
    "else:\n",
    "    print(\"finished by condition\")"
   ]
  },
  {
   "cell_type": "code",
   "execution_count": 51,
   "id": "e265832f",
   "metadata": {},
   "outputs": [
    {
     "name": "stdout",
     "output_type": "stream",
     "text": [
      "defined my func <function my_func at 0x10d956ca0>\n"
     ]
    }
   ],
   "source": [
    "def my_func():\n",
    "    print(\"hello my func\")\n",
    "print(\"defined my func\", my_func)"
   ]
  },
  {
   "cell_type": "code",
   "execution_count": 52,
   "id": "417d35ad",
   "metadata": {},
   "outputs": [
    {
     "data": {
      "text/plain": [
       "<function __main__.my_func()>"
      ]
     },
     "execution_count": 52,
     "metadata": {},
     "output_type": "execute_result"
    }
   ],
   "source": [
    "my_func"
   ]
  },
  {
   "cell_type": "code",
   "execution_count": 53,
   "id": "49fd1237",
   "metadata": {},
   "outputs": [
    {
     "name": "stdout",
     "output_type": "stream",
     "text": [
      "hello my func\n"
     ]
    }
   ],
   "source": [
    "my_func()"
   ]
  },
  {
   "cell_type": "code",
   "execution_count": 54,
   "id": "a1a3aece",
   "metadata": {},
   "outputs": [],
   "source": [
    "def foo():\n",
    "    1 + 2"
   ]
  },
  {
   "cell_type": "code",
   "execution_count": 55,
   "id": "60905cf1",
   "metadata": {},
   "outputs": [],
   "source": [
    "foo()"
   ]
  },
  {
   "cell_type": "code",
   "execution_count": 56,
   "id": "eca3d7fc",
   "metadata": {},
   "outputs": [],
   "source": [
    "def foo():\n",
    "    return 1 + 2"
   ]
  },
  {
   "cell_type": "code",
   "execution_count": 57,
   "id": "be0e89ca",
   "metadata": {},
   "outputs": [
    {
     "data": {
      "text/plain": [
       "3"
      ]
     },
     "execution_count": 57,
     "metadata": {},
     "output_type": "execute_result"
    }
   ],
   "source": [
    "foo()"
   ]
  },
  {
   "cell_type": "code",
   "execution_count": 58,
   "id": "89b89a10",
   "metadata": {},
   "outputs": [],
   "source": [
    "def f(x):\n",
    "    return x * 2"
   ]
  },
  {
   "cell_type": "code",
   "execution_count": 59,
   "id": "61875e71",
   "metadata": {},
   "outputs": [
    {
     "data": {
      "text/plain": [
       "4"
      ]
     },
     "execution_count": 59,
     "metadata": {},
     "output_type": "execute_result"
    }
   ],
   "source": [
    "f(2)"
   ]
  },
  {
   "cell_type": "code",
   "execution_count": 60,
   "id": "8f36a7ac",
   "metadata": {},
   "outputs": [
    {
     "data": {
      "text/plain": [
       "8"
      ]
     },
     "execution_count": 60,
     "metadata": {},
     "output_type": "execute_result"
    }
   ],
   "source": [
    "f(4)"
   ]
  },
  {
   "cell_type": "code",
   "execution_count": 61,
   "id": "1af041c5",
   "metadata": {},
   "outputs": [
    {
     "data": {
      "text/plain": [
       "'foofoo'"
      ]
     },
     "execution_count": 61,
     "metadata": {},
     "output_type": "execute_result"
    }
   ],
   "source": [
    "f(\"foo\")"
   ]
  },
  {
   "cell_type": "code",
   "execution_count": 62,
   "id": "06544b80",
   "metadata": {},
   "outputs": [
    {
     "data": {
      "text/plain": [
       "3.0"
      ]
     },
     "execution_count": 62,
     "metadata": {},
     "output_type": "execute_result"
    }
   ],
   "source": [
    "f(1.5)"
   ]
  },
  {
   "cell_type": "code",
   "execution_count": 63,
   "id": "3d00dab3",
   "metadata": {},
   "outputs": [],
   "source": [
    "def hello(name=\"World\"):\n",
    "    print(\"Hello\", name)"
   ]
  },
  {
   "cell_type": "code",
   "execution_count": 64,
   "id": "732de247",
   "metadata": {},
   "outputs": [
    {
     "name": "stdout",
     "output_type": "stream",
     "text": [
      "Hello World\n"
     ]
    }
   ],
   "source": [
    "hello()"
   ]
  },
  {
   "cell_type": "code",
   "execution_count": 65,
   "id": "b4014e14",
   "metadata": {},
   "outputs": [
    {
     "name": "stdout",
     "output_type": "stream",
     "text": [
      "Hello Suren\n"
     ]
    }
   ],
   "source": [
    "hello(\"Suren\")"
   ]
  },
  {
   "cell_type": "code",
   "execution_count": 66,
   "id": "1786822e",
   "metadata": {},
   "outputs": [
    {
     "name": "stdout",
     "output_type": "stream",
     "text": [
      "Hello World\n"
     ]
    }
   ],
   "source": [
    "hello()"
   ]
  },
  {
   "cell_type": "code",
   "execution_count": 67,
   "id": "5b3a0338",
   "metadata": {},
   "outputs": [
    {
     "name": "stdout",
     "output_type": "stream",
     "text": [
      "Hello John\n"
     ]
    }
   ],
   "source": [
    "hello(\"John\")"
   ]
  },
  {
   "cell_type": "code",
   "execution_count": 68,
   "id": "37dcf22f",
   "metadata": {},
   "outputs": [
    {
     "name": "stdout",
     "output_type": "stream",
     "text": [
      "Hello Sam\n"
     ]
    }
   ],
   "source": [
    "hello(name=\"Sam\")"
   ]
  },
  {
   "cell_type": "code",
   "execution_count": 69,
   "id": "a74fccae",
   "metadata": {},
   "outputs": [],
   "source": [
    "def get_sum(a, b):\n",
    "    return a + b"
   ]
  },
  {
   "cell_type": "code",
   "execution_count": 70,
   "id": "89883a11",
   "metadata": {},
   "outputs": [
    {
     "data": {
      "text/plain": [
       "3"
      ]
     },
     "execution_count": 70,
     "metadata": {},
     "output_type": "execute_result"
    }
   ],
   "source": [
    "get_sum(1, 2)"
   ]
  },
  {
   "cell_type": "code",
   "execution_count": 71,
   "id": "60993197",
   "metadata": {},
   "outputs": [
    {
     "data": {
      "text/plain": [
       "15"
      ]
     },
     "execution_count": 71,
     "metadata": {},
     "output_type": "execute_result"
    }
   ],
   "source": [
    "get_sum(5, 10)"
   ]
  },
  {
   "cell_type": "code",
   "execution_count": 72,
   "id": "d219945f",
   "metadata": {},
   "outputs": [
    {
     "data": {
      "text/plain": [
       "'foobar'"
      ]
     },
     "execution_count": 72,
     "metadata": {},
     "output_type": "execute_result"
    }
   ],
   "source": [
    "get_sum(\"foo\", \"bar\")"
   ]
  },
  {
   "cell_type": "code",
   "execution_count": 73,
   "id": "6ebe9ff6",
   "metadata": {},
   "outputs": [],
   "source": [
    "def get_pow(*numbers, power=2):\n",
    "    print(\"process numbers\", numbers, \"with power\", power)\n",
    "    results = []\n",
    "    for num in numbers:\n",
    "        results.append(num ** power)\n",
    "    return results"
   ]
  },
  {
   "cell_type": "code",
   "execution_count": 74,
   "id": "08d5aab7",
   "metadata": {},
   "outputs": [
    {
     "name": "stdout",
     "output_type": "stream",
     "text": [
      "process numbers (2,) with power 2\n"
     ]
    },
    {
     "data": {
      "text/plain": [
       "[4]"
      ]
     },
     "execution_count": 74,
     "metadata": {},
     "output_type": "execute_result"
    }
   ],
   "source": [
    "get_pow(2)"
   ]
  },
  {
   "cell_type": "code",
   "execution_count": 75,
   "id": "cb6b59a4",
   "metadata": {},
   "outputs": [
    {
     "name": "stdout",
     "output_type": "stream",
     "text": [
      "process numbers (3, 4, 5) with power 2\n"
     ]
    },
    {
     "data": {
      "text/plain": [
       "[9, 16, 25]"
      ]
     },
     "execution_count": 75,
     "metadata": {},
     "output_type": "execute_result"
    }
   ],
   "source": [
    "get_pow(3,4,5)"
   ]
  },
  {
   "cell_type": "code",
   "execution_count": 76,
   "id": "3853c22a",
   "metadata": {},
   "outputs": [
    {
     "name": "stdout",
     "output_type": "stream",
     "text": [
      "process numbers (3, 4, 5, 6, 7, 8, 9) with power 2\n"
     ]
    },
    {
     "data": {
      "text/plain": [
       "[9, 16, 25, 36, 49, 64, 81]"
      ]
     },
     "execution_count": 76,
     "metadata": {},
     "output_type": "execute_result"
    }
   ],
   "source": [
    "get_pow(3,4,5, 6,7,8,9)"
   ]
  },
  {
   "cell_type": "code",
   "execution_count": 77,
   "id": "f548bfdc",
   "metadata": {},
   "outputs": [
    {
     "name": "stdout",
     "output_type": "stream",
     "text": [
      "process numbers (3, 4, 5, 6, 7, 8, 9) with power 3\n"
     ]
    },
    {
     "data": {
      "text/plain": [
       "[27, 64, 125, 216, 343, 512, 729]"
      ]
     },
     "execution_count": 77,
     "metadata": {},
     "output_type": "execute_result"
    }
   ],
   "source": [
    "get_pow(3,4,5, 6,7,8,9, power=3)"
   ]
  },
  {
   "cell_type": "code",
   "execution_count": 78,
   "id": "b6a8a1ed",
   "metadata": {},
   "outputs": [
    {
     "name": "stdout",
     "output_type": "stream",
     "text": [
      "process numbers (3, 4, 5) with power 3\n"
     ]
    },
    {
     "data": {
      "text/plain": [
       "[27, 64, 125]"
      ]
     },
     "execution_count": 78,
     "metadata": {},
     "output_type": "execute_result"
    }
   ],
   "source": [
    "get_pow(3,4,5, power=3)"
   ]
  },
  {
   "cell_type": "code",
   "execution_count": 79,
   "id": "465964f8",
   "metadata": {},
   "outputs": [
    {
     "name": "stdout",
     "output_type": "stream",
     "text": [
      "process numbers (3, 4, 5) with power 3\n",
      "[27, 64, 125]\n"
     ]
    }
   ],
   "source": [
    "numbers = get_pow(3,4,5, power=3)\n",
    "print(numbers)"
   ]
  },
  {
   "cell_type": "code",
   "execution_count": 81,
   "id": "04e64fd7",
   "metadata": {},
   "outputs": [
    {
     "name": "stdout",
     "output_type": "stream",
     "text": [
      "process numbers (3, 4, 5, 6) with power 3\n",
      "[27, 64, 125, 216]\n",
      "process numbers (27, 64, 125, 216) with power 4\n"
     ]
    },
    {
     "data": {
      "text/plain": [
       "[531441, 16777216, 244140625, 2176782336]"
      ]
     },
     "execution_count": 81,
     "metadata": {},
     "output_type": "execute_result"
    }
   ],
   "source": [
    "nums = get_pow(3,4,5,6, power=3)\n",
    "print(nums)\n",
    "\n",
    "get_pow(*nums, power=4)"
   ]
  },
  {
   "cell_type": "code",
   "execution_count": 82,
   "id": "0769f515",
   "metadata": {},
   "outputs": [
    {
     "name": "stdout",
     "output_type": "stream",
     "text": [
      "process numbers (27, 64, 125, 216, 1, 2) with power 2\n"
     ]
    },
    {
     "data": {
      "text/plain": [
       "[729, 4096, 15625, 46656, 1, 4]"
      ]
     },
     "execution_count": 82,
     "metadata": {},
     "output_type": "execute_result"
    }
   ],
   "source": [
    "get_pow(*nums, 1, 2, power=2)"
   ]
  },
  {
   "cell_type": "code",
   "execution_count": 83,
   "id": "d86ad9e6",
   "metadata": {},
   "outputs": [
    {
     "name": "stdout",
     "output_type": "stream",
     "text": [
      "process numbers (0, 1, 2, 3, 4) with power 2\n"
     ]
    },
    {
     "data": {
      "text/plain": [
       "[0, 1, 4, 9, 16]"
      ]
     },
     "execution_count": 83,
     "metadata": {},
     "output_type": "execute_result"
    }
   ],
   "source": [
    "get_pow(*range(5))"
   ]
  },
  {
   "cell_type": "code",
   "execution_count": 84,
   "id": "e5882768",
   "metadata": {},
   "outputs": [
    {
     "name": "stdout",
     "output_type": "stream",
     "text": [
      "process numbers (0, 1, 2, 3, 4) with power 2\n",
      "[0, 1, 4, 9, 16]\n",
      "process numbers (0, 1, 2, 3, 4) with power 2\n",
      "[0, 1, 4, 9, 16]\n"
     ]
    }
   ],
   "source": [
    "print(get_pow(*range(5)))\n",
    "print(get_pow(0, 1, 2, 3, 4))"
   ]
  },
  {
   "cell_type": "code",
   "execution_count": 85,
   "id": "aa0ce180",
   "metadata": {},
   "outputs": [],
   "source": [
    "def new_sequence_with(element, seq=[]):\n",
    "    seq.append(element)\n",
    "    return seq"
   ]
  },
  {
   "cell_type": "code",
   "execution_count": 86,
   "id": "00c83b0e",
   "metadata": {},
   "outputs": [
    {
     "data": {
      "text/plain": [
       "[123, 456]"
      ]
     },
     "execution_count": 86,
     "metadata": {},
     "output_type": "execute_result"
    }
   ],
   "source": [
    "new_sequence_with(456, [123])"
   ]
  },
  {
   "cell_type": "code",
   "execution_count": 87,
   "id": "df6bb49a",
   "metadata": {},
   "outputs": [
    {
     "data": {
      "text/plain": [
       "['abc']"
      ]
     },
     "execution_count": 87,
     "metadata": {},
     "output_type": "execute_result"
    }
   ],
   "source": [
    "new_sequence_with(\"abc\")"
   ]
  },
  {
   "cell_type": "code",
   "execution_count": 88,
   "id": "5cdab9b2",
   "metadata": {},
   "outputs": [
    {
     "data": {
      "text/plain": [
       "['abc', 'foobar']"
      ]
     },
     "execution_count": 88,
     "metadata": {},
     "output_type": "execute_result"
    }
   ],
   "source": [
    "new_sequence_with(\"foobar\")"
   ]
  },
  {
   "cell_type": "code",
   "execution_count": 89,
   "id": "af5fadd4",
   "metadata": {},
   "outputs": [
    {
     "data": {
      "text/plain": [
       "['abc', 'foobar', 'spam and eggs']"
      ]
     },
     "execution_count": 89,
     "metadata": {},
     "output_type": "execute_result"
    }
   ],
   "source": [
    "new_sequence_with(\"spam and eggs\")"
   ]
  },
  {
   "cell_type": "code",
   "execution_count": 90,
   "id": "a0dc286e",
   "metadata": {},
   "outputs": [],
   "source": [
    "def new_seq_with(element, seq=None):\n",
    "    if seq is None:\n",
    "        seq = []\n",
    "    seq.append(element)\n",
    "    return seq"
   ]
  },
  {
   "cell_type": "code",
   "execution_count": 91,
   "id": "48a92f43",
   "metadata": {},
   "outputs": [
    {
     "data": {
      "text/plain": [
       "['qwe']"
      ]
     },
     "execution_count": 91,
     "metadata": {},
     "output_type": "execute_result"
    }
   ],
   "source": [
    "new_seq_with(\"qwe\")"
   ]
  },
  {
   "cell_type": "code",
   "execution_count": 92,
   "id": "cc693566",
   "metadata": {},
   "outputs": [
    {
     "data": {
      "text/plain": [
       "['abc']"
      ]
     },
     "execution_count": 92,
     "metadata": {},
     "output_type": "execute_result"
    }
   ],
   "source": [
    "new_seq_with(\"abc\")"
   ]
  },
  {
   "cell_type": "code",
   "execution_count": 93,
   "id": "2d5d4cae",
   "metadata": {},
   "outputs": [
    {
     "data": {
      "text/plain": [
       "['spam', 'eggs']"
      ]
     },
     "execution_count": 93,
     "metadata": {},
     "output_type": "execute_result"
    }
   ],
   "source": [
    "new_seq_with(\"eggs\", [\"spam\"])"
   ]
  },
  {
   "cell_type": "code",
   "execution_count": 94,
   "id": "c8be52d0",
   "metadata": {},
   "outputs": [
    {
     "data": {
      "text/plain": [
       "[543]"
      ]
     },
     "execution_count": 94,
     "metadata": {},
     "output_type": "execute_result"
    }
   ],
   "source": [
    "new_seq_with(543)"
   ]
  },
  {
   "cell_type": "code",
   "execution_count": 95,
   "id": "87d835d2",
   "metadata": {},
   "outputs": [],
   "source": [
    "x = 123\n",
    "\n",
    "def show_x():\n",
    "    print(x)"
   ]
  },
  {
   "cell_type": "code",
   "execution_count": 96,
   "id": "f45ffeea",
   "metadata": {},
   "outputs": [
    {
     "name": "stdout",
     "output_type": "stream",
     "text": [
      "123\n"
     ]
    }
   ],
   "source": [
    "show_x()"
   ]
  },
  {
   "cell_type": "code",
   "execution_count": 97,
   "id": "895c7d69",
   "metadata": {},
   "outputs": [
    {
     "name": "stdout",
     "output_type": "stream",
     "text": [
      "456\n"
     ]
    }
   ],
   "source": [
    "x = 456\n",
    "show_x()"
   ]
  },
  {
   "cell_type": "code",
   "execution_count": 98,
   "id": "02b1e9aa",
   "metadata": {},
   "outputs": [],
   "source": [
    "def show_x(x):\n",
    "    print(x * 2)"
   ]
  },
  {
   "cell_type": "code",
   "execution_count": 99,
   "id": "c7e4afad",
   "metadata": {},
   "outputs": [
    {
     "data": {
      "text/plain": [
       "456"
      ]
     },
     "execution_count": 99,
     "metadata": {},
     "output_type": "execute_result"
    }
   ],
   "source": [
    "x"
   ]
  },
  {
   "cell_type": "code",
   "execution_count": 100,
   "id": "fe989a22",
   "metadata": {},
   "outputs": [
    {
     "name": "stdout",
     "output_type": "stream",
     "text": [
      "246\n"
     ]
    }
   ],
   "source": [
    "show_x(123)"
   ]
  },
  {
   "cell_type": "code",
   "execution_count": 101,
   "id": "14e6101d",
   "metadata": {},
   "outputs": [
    {
     "name": "stdout",
     "output_type": "stream",
     "text": [
      "912\n"
     ]
    }
   ],
   "source": [
    "show_x(x)"
   ]
  },
  {
   "cell_type": "code",
   "execution_count": 102,
   "id": "ae43e063",
   "metadata": {},
   "outputs": [],
   "source": [
    "def show_x(x):\n",
    "    # x = x * 2\n",
    "    x *= 2\n",
    "    return x"
   ]
  },
  {
   "cell_type": "code",
   "execution_count": 103,
   "id": "1d12dac6",
   "metadata": {},
   "outputs": [
    {
     "data": {
      "text/plain": [
       "246"
      ]
     },
     "execution_count": 103,
     "metadata": {},
     "output_type": "execute_result"
    }
   ],
   "source": [
    "show_x(123)"
   ]
  },
  {
   "cell_type": "code",
   "execution_count": 104,
   "id": "16ee3eb5",
   "metadata": {},
   "outputs": [
    {
     "data": {
      "text/plain": [
       "456"
      ]
     },
     "execution_count": 104,
     "metadata": {},
     "output_type": "execute_result"
    }
   ],
   "source": [
    "x"
   ]
  },
  {
   "cell_type": "code",
   "execution_count": 105,
   "id": "bf1047ed",
   "metadata": {},
   "outputs": [
    {
     "data": {
      "text/plain": [
       "912"
      ]
     },
     "execution_count": 105,
     "metadata": {},
     "output_type": "execute_result"
    }
   ],
   "source": [
    "show_x(x)"
   ]
  },
  {
   "cell_type": "code",
   "execution_count": 106,
   "id": "c6393a50",
   "metadata": {},
   "outputs": [
    {
     "data": {
      "text/plain": [
       "456"
      ]
     },
     "execution_count": 106,
     "metadata": {},
     "output_type": "execute_result"
    }
   ],
   "source": [
    "x"
   ]
  },
  {
   "cell_type": "code",
   "execution_count": 107,
   "id": "47a72f53",
   "metadata": {},
   "outputs": [],
   "source": [
    "def create_x(power):\n",
    "    x = 2 ** power\n",
    "    return x"
   ]
  },
  {
   "cell_type": "code",
   "execution_count": 108,
   "id": "c308124e",
   "metadata": {},
   "outputs": [
    {
     "data": {
      "text/plain": [
       "456"
      ]
     },
     "execution_count": 108,
     "metadata": {},
     "output_type": "execute_result"
    }
   ],
   "source": [
    "x"
   ]
  },
  {
   "cell_type": "code",
   "execution_count": 109,
   "id": "3712d09a",
   "metadata": {},
   "outputs": [
    {
     "data": {
      "text/plain": [
       "4"
      ]
     },
     "execution_count": 109,
     "metadata": {},
     "output_type": "execute_result"
    }
   ],
   "source": [
    "create_x(2)"
   ]
  },
  {
   "cell_type": "code",
   "execution_count": 110,
   "id": "f55b1dac",
   "metadata": {},
   "outputs": [
    {
     "data": {
      "text/plain": [
       "456"
      ]
     },
     "execution_count": 110,
     "metadata": {},
     "output_type": "execute_result"
    }
   ],
   "source": [
    "x"
   ]
  },
  {
   "cell_type": "code",
   "execution_count": 111,
   "id": "77d11431",
   "metadata": {},
   "outputs": [
    {
     "name": "stdout",
     "output_type": "stream",
     "text": [
      "['John', 'Sam', 'Kate', 'Bob']\n"
     ]
    }
   ],
   "source": [
    "names = [\"John\", \"Sam\", \"Kate\", \"Bob\"]\n",
    "print(names)"
   ]
  },
  {
   "cell_type": "code",
   "execution_count": 112,
   "id": "9630aef6",
   "metadata": {},
   "outputs": [],
   "source": [
    "def find_string_starting_with(starts_with_str, list_of_strings):\n",
    "    text = starts_with_str.lower()\n",
    "    for string in list_of_strings:\n",
    "        if string.lower().startswith(text):\n",
    "            return string"
   ]
  },
  {
   "cell_type": "code",
   "execution_count": 113,
   "id": "3355ef96",
   "metadata": {},
   "outputs": [
    {
     "data": {
      "text/plain": [
       "'Kate'"
      ]
     },
     "execution_count": 113,
     "metadata": {},
     "output_type": "execute_result"
    }
   ],
   "source": [
    "find_string_starting_with(\"k\", names)"
   ]
  },
  {
   "cell_type": "code",
   "execution_count": 114,
   "id": "10dc4f16",
   "metadata": {},
   "outputs": [
    {
     "data": {
      "text/plain": [
       "'Kate'"
      ]
     },
     "execution_count": 114,
     "metadata": {},
     "output_type": "execute_result"
    }
   ],
   "source": [
    "find_string_starting_with(\"K\", names)"
   ]
  },
  {
   "cell_type": "code",
   "execution_count": 115,
   "id": "1bdc5e24",
   "metadata": {},
   "outputs": [
    {
     "data": {
      "text/plain": [
       "'Kate'"
      ]
     },
     "execution_count": 115,
     "metadata": {},
     "output_type": "execute_result"
    }
   ],
   "source": [
    "find_string_starting_with(\"kA\", names)"
   ]
  },
  {
   "cell_type": "code",
   "execution_count": 116,
   "id": "44f2b77f",
   "metadata": {},
   "outputs": [
    {
     "data": {
      "text/plain": [
       "'John'"
      ]
     },
     "execution_count": 116,
     "metadata": {},
     "output_type": "execute_result"
    }
   ],
   "source": [
    "find_string_starting_with(\"j\", names)"
   ]
  },
  {
   "cell_type": "code",
   "execution_count": 117,
   "id": "f4fcbd6f",
   "metadata": {},
   "outputs": [
    {
     "name": "stdout",
     "output_type": "stream",
     "text": [
      "['John', 'Sam', 'Kate', 'Bob', 'Sara']\n"
     ]
    }
   ],
   "source": [
    "names.append(\"Sara\")\n",
    "print(names)"
   ]
  },
  {
   "cell_type": "code",
   "execution_count": 118,
   "id": "b3577e42",
   "metadata": {},
   "outputs": [
    {
     "data": {
      "text/plain": [
       "'Sam'"
      ]
     },
     "execution_count": 118,
     "metadata": {},
     "output_type": "execute_result"
    }
   ],
   "source": [
    "find_string_starting_with(\"s\", names)"
   ]
  },
  {
   "cell_type": "code",
   "execution_count": 119,
   "id": "697704a3",
   "metadata": {},
   "outputs": [
    {
     "data": {
      "text/plain": [
       "'Sam'"
      ]
     },
     "execution_count": 119,
     "metadata": {},
     "output_type": "execute_result"
    }
   ],
   "source": [
    "find_string_starting_with(\"sa\", names)"
   ]
  },
  {
   "cell_type": "code",
   "execution_count": 120,
   "id": "e4c6bf3d",
   "metadata": {},
   "outputs": [
    {
     "data": {
      "text/plain": [
       "'Sara'"
      ]
     },
     "execution_count": 120,
     "metadata": {},
     "output_type": "execute_result"
    }
   ],
   "source": [
    "find_string_starting_with(\"sar\", names)"
   ]
  },
  {
   "cell_type": "code",
   "execution_count": 121,
   "id": "cf986d09",
   "metadata": {},
   "outputs": [],
   "source": [
    "baz = \"foobar\""
   ]
  },
  {
   "cell_type": "code",
   "execution_count": 122,
   "id": "4f2a146f",
   "metadata": {},
   "outputs": [
    {
     "data": {
      "text/plain": [
       "True"
      ]
     },
     "execution_count": 122,
     "metadata": {},
     "output_type": "execute_result"
    }
   ],
   "source": [
    "baz.startswith('foo')"
   ]
  },
  {
   "cell_type": "code",
   "execution_count": 123,
   "id": "d3e8ac3e",
   "metadata": {},
   "outputs": [
    {
     "data": {
      "text/plain": [
       "True"
      ]
     },
     "execution_count": 123,
     "metadata": {},
     "output_type": "execute_result"
    }
   ],
   "source": [
    "baz.startswith(\"foo\")"
   ]
  },
  {
   "cell_type": "code",
   "execution_count": 124,
   "id": "1498be64",
   "metadata": {},
   "outputs": [
    {
     "data": {
      "text/plain": [
       "True"
      ]
     },
     "execution_count": 124,
     "metadata": {},
     "output_type": "execute_result"
    }
   ],
   "source": [
    "baz.startswith(\"foobar\")"
   ]
  },
  {
   "cell_type": "code",
   "execution_count": 125,
   "id": "aba9219c",
   "metadata": {},
   "outputs": [
    {
     "data": {
      "text/plain": [
       "True"
      ]
     },
     "execution_count": 125,
     "metadata": {},
     "output_type": "execute_result"
    }
   ],
   "source": [
    "baz.startswith(\"f\")"
   ]
  },
  {
   "cell_type": "code",
   "execution_count": 126,
   "id": "75aa8f7a",
   "metadata": {},
   "outputs": [
    {
     "data": {
      "text/plain": [
       "'foobar'"
      ]
     },
     "execution_count": 126,
     "metadata": {},
     "output_type": "execute_result"
    }
   ],
   "source": [
    "baz"
   ]
  },
  {
   "cell_type": "code",
   "execution_count": 127,
   "id": "edfddc12",
   "metadata": {},
   "outputs": [
    {
     "data": {
      "text/plain": [
       "False"
      ]
     },
     "execution_count": 127,
     "metadata": {},
     "output_type": "execute_result"
    }
   ],
   "source": [
    "baz.startswith(\"oobar\")"
   ]
  },
  {
   "cell_type": "code",
   "execution_count": 128,
   "id": "e17744ca",
   "metadata": {},
   "outputs": [
    {
     "data": {
      "text/plain": [
       "False"
      ]
     },
     "execution_count": 128,
     "metadata": {},
     "output_type": "execute_result"
    }
   ],
   "source": [
    "baz.startswith(\"o\")"
   ]
  },
  {
   "cell_type": "code",
   "execution_count": 129,
   "id": "f6502b57",
   "metadata": {},
   "outputs": [],
   "source": [
    "name = \"Sara\""
   ]
  },
  {
   "cell_type": "code",
   "execution_count": 130,
   "id": "4f98d686",
   "metadata": {},
   "outputs": [
    {
     "data": {
      "text/plain": [
       "'Sara'"
      ]
     },
     "execution_count": 130,
     "metadata": {},
     "output_type": "execute_result"
    }
   ],
   "source": [
    "name"
   ]
  },
  {
   "cell_type": "code",
   "execution_count": 131,
   "id": "5d7c8d56",
   "metadata": {},
   "outputs": [
    {
     "data": {
      "text/plain": [
       "'sara'"
      ]
     },
     "execution_count": 131,
     "metadata": {},
     "output_type": "execute_result"
    }
   ],
   "source": [
    "name.lower()"
   ]
  },
  {
   "cell_type": "code",
   "execution_count": 132,
   "id": "f762b8dc",
   "metadata": {},
   "outputs": [
    {
     "data": {
      "text/plain": [
       "'S'"
      ]
     },
     "execution_count": 132,
     "metadata": {},
     "output_type": "execute_result"
    }
   ],
   "source": [
    "name[0]"
   ]
  },
  {
   "cell_type": "code",
   "execution_count": 133,
   "id": "900f1725",
   "metadata": {},
   "outputs": [
    {
     "data": {
      "text/plain": [
       "'Sar'"
      ]
     },
     "execution_count": 133,
     "metadata": {},
     "output_type": "execute_result"
    }
   ],
   "source": [
    "name[:3]"
   ]
  },
  {
   "cell_type": "code",
   "execution_count": 134,
   "id": "309bf353",
   "metadata": {},
   "outputs": [],
   "source": [
    "def find_value(numbers):\n",
    "    for number in numbers:\n",
    "        if number == 0:\n",
    "            continue\n",
    "        if number % 3 == 0 and number % 5 == 0:\n",
    "            return \"FizzBuzz\", number\n",
    "        if number % 5 == 0:\n",
    "            return \"Fizz\", number\n",
    "        if number % 3 == 0:\n",
    "            return \"Buzz\", number"
   ]
  },
  {
   "cell_type": "code",
   "execution_count": 135,
   "id": "1d4e6725",
   "metadata": {},
   "outputs": [],
   "source": [
    "find_value([1, 2, 4])"
   ]
  },
  {
   "cell_type": "code",
   "execution_count": 136,
   "id": "45f18164",
   "metadata": {},
   "outputs": [
    {
     "data": {
      "text/plain": [
       "('Buzz', 3)"
      ]
     },
     "execution_count": 136,
     "metadata": {},
     "output_type": "execute_result"
    }
   ],
   "source": [
    "find_value([1, 2, 3, 4])"
   ]
  },
  {
   "cell_type": "code",
   "execution_count": 137,
   "id": "cd3ab4ef",
   "metadata": {},
   "outputs": [
    {
     "data": {
      "text/plain": [
       "('Fizz', 5)"
      ]
     },
     "execution_count": 137,
     "metadata": {},
     "output_type": "execute_result"
    }
   ],
   "source": [
    "find_value([1, 2, 5, 4])"
   ]
  },
  {
   "cell_type": "code",
   "execution_count": 138,
   "id": "da2b98ff",
   "metadata": {},
   "outputs": [
    {
     "data": {
      "text/plain": [
       "('Fizz', 25)"
      ]
     },
     "execution_count": 138,
     "metadata": {},
     "output_type": "execute_result"
    }
   ],
   "source": [
    "find_value([1, 2, 25, 4])"
   ]
  },
  {
   "cell_type": "code",
   "execution_count": 139,
   "id": "6748f4dd",
   "metadata": {},
   "outputs": [
    {
     "data": {
      "text/plain": [
       "('FizzBuzz', 15)"
      ]
     },
     "execution_count": 139,
     "metadata": {},
     "output_type": "execute_result"
    }
   ],
   "source": [
    "find_value([1, 2, 15, 4])"
   ]
  },
  {
   "cell_type": "code",
   "execution_count": 140,
   "id": "5ac472df",
   "metadata": {},
   "outputs": [
    {
     "data": {
      "text/plain": [
       "('FizzBuzz', 15)"
      ]
     },
     "execution_count": 140,
     "metadata": {},
     "output_type": "execute_result"
    }
   ],
   "source": [
    "find_value([1, 0, 15, 4])"
   ]
  },
  {
   "cell_type": "code",
   "execution_count": null,
   "id": "7cc42487",
   "metadata": {},
   "outputs": [],
   "source": []
  }
 ],
 "metadata": {
  "kernelspec": {
   "display_name": "Python 3 (ipykernel)",
   "language": "python",
   "name": "python3"
  },
  "language_info": {
   "codemirror_mode": {
    "name": "ipython",
    "version": 3
   },
   "file_extension": ".py",
   "mimetype": "text/x-python",
   "name": "python",
   "nbconvert_exporter": "python",
   "pygments_lexer": "ipython3",
   "version": "3.9.1"
  }
 },
 "nbformat": 4,
 "nbformat_minor": 5
}
