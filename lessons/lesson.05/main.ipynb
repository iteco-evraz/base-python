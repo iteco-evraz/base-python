{
 "cells": [
  {
   "cell_type": "code",
   "execution_count": 1,
   "id": "4f1c1a98",
   "metadata": {},
   "outputs": [
    {
     "data": {
      "text/plain": [
       "<function __main__.<lambda>()>"
      ]
     },
     "execution_count": 1,
     "metadata": {},
     "output_type": "execute_result"
    }
   ],
   "source": [
    "lambda: 42"
   ]
  },
  {
   "cell_type": "code",
   "execution_count": 2,
   "id": "f3c4fe9c",
   "metadata": {},
   "outputs": [
    {
     "name": "stdout",
     "output_type": "stream",
     "text": [
      "<function <lambda> at 0x103a59700>\n"
     ]
    }
   ],
   "source": [
    "print((lambda: True))"
   ]
  },
  {
   "cell_type": "code",
   "execution_count": 3,
   "id": "9faaa9c0",
   "metadata": {},
   "outputs": [
    {
     "data": {
      "text/plain": [
       "True"
      ]
     },
     "execution_count": 3,
     "metadata": {},
     "output_type": "execute_result"
    }
   ],
   "source": [
    "(lambda: True)()"
   ]
  },
  {
   "cell_type": "code",
   "execution_count": 4,
   "id": "798d324f",
   "metadata": {},
   "outputs": [
    {
     "data": {
      "text/plain": [
       "42"
      ]
     },
     "execution_count": 4,
     "metadata": {},
     "output_type": "execute_result"
    }
   ],
   "source": [
    "(lambda: 42)()"
   ]
  },
  {
   "cell_type": "code",
   "execution_count": 5,
   "id": "c84675bd",
   "metadata": {},
   "outputs": [
    {
     "data": {
      "text/plain": [
       "<function __main__.<lambda>(x)>"
      ]
     },
     "execution_count": 5,
     "metadata": {},
     "output_type": "execute_result"
    }
   ],
   "source": [
    "(lambda x: x * 2)"
   ]
  },
  {
   "cell_type": "code",
   "execution_count": 6,
   "id": "d66b666c",
   "metadata": {},
   "outputs": [
    {
     "data": {
      "text/plain": [
       "28"
      ]
     },
     "execution_count": 6,
     "metadata": {},
     "output_type": "execute_result"
    }
   ],
   "source": [
    "(lambda x: x * 2)(14)"
   ]
  },
  {
   "cell_type": "code",
   "execution_count": 7,
   "id": "50a9e95c",
   "metadata": {},
   "outputs": [
    {
     "data": {
      "text/plain": [
       "28"
      ]
     },
     "execution_count": 7,
     "metadata": {},
     "output_type": "execute_result"
    }
   ],
   "source": [
    "def f(x):\n",
    "    return x * 2\n",
    "\n",
    "f(14)"
   ]
  },
  {
   "cell_type": "code",
   "execution_count": 8,
   "id": "7d97722f",
   "metadata": {},
   "outputs": [
    {
     "data": {
      "text/plain": [
       "26"
      ]
     },
     "execution_count": 8,
     "metadata": {},
     "output_type": "execute_result"
    }
   ],
   "source": [
    "f(13)"
   ]
  },
  {
   "cell_type": "code",
   "execution_count": 9,
   "id": "2d01dad6",
   "metadata": {},
   "outputs": [],
   "source": [
    "def square_num(x):\n",
    "    return x ** 2"
   ]
  },
  {
   "cell_type": "code",
   "execution_count": 10,
   "id": "5d0fb7ed",
   "metadata": {},
   "outputs": [
    {
     "data": {
      "text/plain": [
       "9"
      ]
     },
     "execution_count": 10,
     "metadata": {},
     "output_type": "execute_result"
    }
   ],
   "source": [
    "square_num(3)"
   ]
  },
  {
   "cell_type": "code",
   "execution_count": 11,
   "id": "ebc14645",
   "metadata": {},
   "outputs": [
    {
     "data": {
      "text/plain": [
       "[0, 1, 4, 9, 16]"
      ]
     },
     "execution_count": 11,
     "metadata": {},
     "output_type": "execute_result"
    }
   ],
   "source": [
    "[square_num(i) for i in range(5)]"
   ]
  },
  {
   "cell_type": "code",
   "execution_count": 12,
   "id": "e08b203c",
   "metadata": {},
   "outputs": [
    {
     "data": {
      "text/plain": [
       "<map at 0x103a4e730>"
      ]
     },
     "execution_count": 12,
     "metadata": {},
     "output_type": "execute_result"
    }
   ],
   "source": [
    "map(square_num, range(5))"
   ]
  },
  {
   "cell_type": "code",
   "execution_count": 13,
   "id": "958ce34c",
   "metadata": {},
   "outputs": [
    {
     "data": {
      "text/plain": [
       "[0, 1, 4, 9, 16]"
      ]
     },
     "execution_count": 13,
     "metadata": {},
     "output_type": "execute_result"
    }
   ],
   "source": [
    "list(map(square_num, range(5)))"
   ]
  },
  {
   "cell_type": "code",
   "execution_count": 15,
   "id": "fa8d1bc5",
   "metadata": {},
   "outputs": [
    {
     "name": "stdout",
     "output_type": "stream",
     "text": [
      "0\n",
      "1\n",
      "4\n",
      "9\n",
      "16\n",
      "25\n"
     ]
    }
   ],
   "source": [
    "for i in map(square_num, range(50)):\n",
    "    print(i)\n",
    "    if i > 20:\n",
    "        break"
   ]
  },
  {
   "cell_type": "code",
   "execution_count": 16,
   "id": "e2239f4d",
   "metadata": {},
   "outputs": [
    {
     "name": "stdout",
     "output_type": "stream",
     "text": [
      "0\n",
      "1\n",
      "4\n",
      "9\n",
      "16\n",
      "25\n"
     ]
    }
   ],
   "source": [
    "for i in map(lambda x: x ** 2, range(50)):\n",
    "    print(i)\n",
    "    if i > 20:\n",
    "        break"
   ]
  },
  {
   "cell_type": "code",
   "execution_count": 17,
   "id": "ca1614ac",
   "metadata": {},
   "outputs": [
    {
     "name": "stdout",
     "output_type": "stream",
     "text": [
      "0\n",
      "1\n",
      "8\n",
      "27\n"
     ]
    }
   ],
   "source": [
    "for i in map(lambda x: x ** 3, range(50)):\n",
    "    print(i)\n",
    "    if i > 20:\n",
    "        break"
   ]
  },
  {
   "cell_type": "code",
   "execution_count": 18,
   "id": "7f9ebe1f",
   "metadata": {},
   "outputs": [
    {
     "data": {
      "text/plain": [
       "[32, 27, 16]"
      ]
     },
     "execution_count": 18,
     "metadata": {},
     "output_type": "execute_result"
    }
   ],
   "source": [
    "list(\n",
    "    map(\n",
    "        lambda x, y: x ** y,\n",
    "        [2, 3, 4],\n",
    "        [5, 3, 2],\n",
    "    )\n",
    ")"
   ]
  },
  {
   "cell_type": "code",
   "execution_count": 19,
   "id": "431012be",
   "metadata": {},
   "outputs": [
    {
     "data": {
      "text/plain": [
       "[0, 2, 4, 6, 8]"
      ]
     },
     "execution_count": 19,
     "metadata": {},
     "output_type": "execute_result"
    }
   ],
   "source": [
    "[i for i in range(10) if i % 2 == 0]"
   ]
  },
  {
   "cell_type": "code",
   "execution_count": 20,
   "id": "58c35718",
   "metadata": {},
   "outputs": [
    {
     "data": {
      "text/plain": [
       "<generator object <genexpr> at 0x103a99890>"
      ]
     },
     "execution_count": 20,
     "metadata": {},
     "output_type": "execute_result"
    }
   ],
   "source": [
    "(i for i in range(10) if i % 2 == 0)"
   ]
  },
  {
   "cell_type": "code",
   "execution_count": 21,
   "id": "9dbb83a2",
   "metadata": {},
   "outputs": [
    {
     "data": {
      "text/plain": [
       "[0, 2, 4, 6, 8]"
      ]
     },
     "execution_count": 21,
     "metadata": {},
     "output_type": "execute_result"
    }
   ],
   "source": [
    "list((i for i in range(10) if i % 2 == 0))"
   ]
  },
  {
   "cell_type": "code",
   "execution_count": 22,
   "id": "860b4187",
   "metadata": {},
   "outputs": [
    {
     "data": {
      "text/plain": [
       "<filter at 0x103a97b50>"
      ]
     },
     "execution_count": 22,
     "metadata": {},
     "output_type": "execute_result"
    }
   ],
   "source": [
    "filter(lambda i: i % 2 == 0, range(10))"
   ]
  },
  {
   "cell_type": "code",
   "execution_count": 23,
   "id": "0647878c",
   "metadata": {},
   "outputs": [
    {
     "data": {
      "text/plain": [
       "[0, 2, 4, 6, 8]"
      ]
     },
     "execution_count": 23,
     "metadata": {},
     "output_type": "execute_result"
    }
   ],
   "source": [
    "list(filter(lambda i: i % 2 == 0, range(10)))"
   ]
  },
  {
   "cell_type": "code",
   "execution_count": 24,
   "id": "db1bfc25",
   "metadata": {},
   "outputs": [],
   "source": [
    "odds = list(filter(lambda i: i % 2 == 0, range(10)))"
   ]
  },
  {
   "cell_type": "code",
   "execution_count": 25,
   "id": "d905e97b",
   "metadata": {},
   "outputs": [
    {
     "name": "stdout",
     "output_type": "stream",
     "text": [
      "[0, 2, 4, 6, 8]\n"
     ]
    }
   ],
   "source": [
    "print(odds)"
   ]
  },
  {
   "cell_type": "code",
   "execution_count": 26,
   "id": "3e180170",
   "metadata": {},
   "outputs": [],
   "source": [
    "evens = list(filter(lambda i: i % 2 != 0, range(10)))"
   ]
  },
  {
   "cell_type": "code",
   "execution_count": 27,
   "id": "bde1b2ae",
   "metadata": {},
   "outputs": [
    {
     "name": "stdout",
     "output_type": "stream",
     "text": [
      "[1, 3, 5, 7, 9]\n"
     ]
    }
   ],
   "source": [
    "print(evens)"
   ]
  },
  {
   "cell_type": "code",
   "execution_count": 28,
   "id": "6f198d64",
   "metadata": {},
   "outputs": [
    {
     "data": {
      "text/plain": [
       "False"
      ]
     },
     "execution_count": 28,
     "metadata": {},
     "output_type": "execute_result"
    }
   ],
   "source": [
    "\"a\".isupper()"
   ]
  },
  {
   "cell_type": "code",
   "execution_count": 29,
   "id": "373a19ec",
   "metadata": {},
   "outputs": [
    {
     "data": {
      "text/plain": [
       "True"
      ]
     },
     "execution_count": 29,
     "metadata": {},
     "output_type": "execute_result"
    }
   ],
   "source": [
    "\"A\".isupper()"
   ]
  },
  {
   "cell_type": "code",
   "execution_count": 30,
   "id": "c47ba9c6",
   "metadata": {},
   "outputs": [
    {
     "name": "stdout",
     "output_type": "stream",
     "text": [
      "<class 'str'>\n"
     ]
    }
   ],
   "source": [
    "print(type(\"a\"))"
   ]
  },
  {
   "cell_type": "code",
   "execution_count": 31,
   "id": "2c4ddf99",
   "metadata": {},
   "outputs": [
    {
     "data": {
      "text/plain": [
       "<method 'isupper' of 'str' objects>"
      ]
     },
     "execution_count": 31,
     "metadata": {},
     "output_type": "execute_result"
    }
   ],
   "source": [
    "str.isupper"
   ]
  },
  {
   "cell_type": "code",
   "execution_count": 32,
   "id": "d71559b6",
   "metadata": {},
   "outputs": [
    {
     "data": {
      "text/plain": [
       "False"
      ]
     },
     "execution_count": 32,
     "metadata": {},
     "output_type": "execute_result"
    }
   ],
   "source": [
    "str.isupper(\"a\")"
   ]
  },
  {
   "cell_type": "code",
   "execution_count": 33,
   "id": "69b93881",
   "metadata": {},
   "outputs": [
    {
     "data": {
      "text/plain": [
       "True"
      ]
     },
     "execution_count": 33,
     "metadata": {},
     "output_type": "execute_result"
    }
   ],
   "source": [
    "str.isupper(\"A\")"
   ]
  },
  {
   "cell_type": "code",
   "execution_count": 34,
   "id": "c93c284d",
   "metadata": {},
   "outputs": [
    {
     "data": {
      "text/plain": [
       "['H', 'W']"
      ]
     },
     "execution_count": 34,
     "metadata": {},
     "output_type": "execute_result"
    }
   ],
   "source": [
    "list(\n",
    "    filter(str.isupper, \"Hello World!\")\n",
    ")"
   ]
  },
  {
   "cell_type": "code",
   "execution_count": 35,
   "id": "bd4847a1",
   "metadata": {},
   "outputs": [],
   "source": [
    "class User:\n",
    "    pass"
   ]
  },
  {
   "cell_type": "code",
   "execution_count": 36,
   "id": "7e3637e1",
   "metadata": {},
   "outputs": [
    {
     "name": "stdout",
     "output_type": "stream",
     "text": [
      "<class '__main__.User'>\n"
     ]
    }
   ],
   "source": [
    "print(User)"
   ]
  },
  {
   "cell_type": "code",
   "execution_count": 37,
   "id": "08837c92",
   "metadata": {},
   "outputs": [
    {
     "name": "stdout",
     "output_type": "stream",
     "text": [
      "<class 'str'>\n"
     ]
    }
   ],
   "source": [
    "print(str)"
   ]
  },
  {
   "cell_type": "code",
   "execution_count": 38,
   "id": "c441fa28",
   "metadata": {},
   "outputs": [],
   "source": [
    "u1 = User()"
   ]
  },
  {
   "cell_type": "code",
   "execution_count": 39,
   "id": "46d925c3",
   "metadata": {},
   "outputs": [
    {
     "name": "stdout",
     "output_type": "stream",
     "text": [
      "<__main__.User object at 0x103a970a0>\n"
     ]
    }
   ],
   "source": [
    "print(u1)"
   ]
  },
  {
   "cell_type": "code",
   "execution_count": 40,
   "id": "f649350e",
   "metadata": {},
   "outputs": [
    {
     "name": "stdout",
     "output_type": "stream",
     "text": [
      "<class '__main__.User'>\n"
     ]
    }
   ],
   "source": [
    "print(type(u1))"
   ]
  },
  {
   "cell_type": "code",
   "execution_count": 41,
   "id": "eec6297c",
   "metadata": {},
   "outputs": [
    {
     "data": {
      "text/plain": [
       "True"
      ]
     },
     "execution_count": 41,
     "metadata": {},
     "output_type": "execute_result"
    }
   ],
   "source": [
    "isinstance(u1, User)"
   ]
  },
  {
   "cell_type": "code",
   "execution_count": 42,
   "id": "ccd51c22",
   "metadata": {},
   "outputs": [
    {
     "name": "stdout",
     "output_type": "stream",
     "text": [
      "John\n"
     ]
    }
   ],
   "source": [
    "u1.name = \"John\"\n",
    "print(u1.name)"
   ]
  },
  {
   "cell_type": "code",
   "execution_count": 43,
   "id": "f07e3c87",
   "metadata": {},
   "outputs": [
    {
     "name": "stdout",
     "output_type": "stream",
     "text": [
      "Sam\n",
      "John\n"
     ]
    }
   ],
   "source": [
    "u2 = User()\n",
    "u2.name = \"Sam\"\n",
    "print(u2.name)\n",
    "print(u1.name)"
   ]
  },
  {
   "cell_type": "code",
   "execution_count": 44,
   "id": "e6ddab9c",
   "metadata": {},
   "outputs": [],
   "source": [
    "class User:\n",
    "    def __init__(self, name):\n",
    "        self.name = name"
   ]
  },
  {
   "cell_type": "code",
   "execution_count": 45,
   "id": "eadf064b",
   "metadata": {},
   "outputs": [
    {
     "name": "stdout",
     "output_type": "stream",
     "text": [
      "john user: John\n"
     ]
    }
   ],
   "source": [
    "j = User(\"John\")\n",
    "print(\"john user:\", j.name)"
   ]
  },
  {
   "cell_type": "code",
   "execution_count": 46,
   "id": "19cfbbc1",
   "metadata": {},
   "outputs": [
    {
     "name": "stdout",
     "output_type": "stream",
     "text": [
      "<__main__.User object at 0x103a97c70>\n"
     ]
    }
   ],
   "source": [
    "print(j)"
   ]
  },
  {
   "cell_type": "code",
   "execution_count": 47,
   "id": "a22c01da",
   "metadata": {},
   "outputs": [
    {
     "name": "stdout",
     "output_type": "stream",
     "text": [
      "sam <__main__.User object at 0x103a97d60> Sam\n"
     ]
    }
   ],
   "source": [
    "sam = User(\"Sam\")\n",
    "print(\"sam\", sam, sam.name)"
   ]
  },
  {
   "cell_type": "code",
   "execution_count": 48,
   "id": "38da6057",
   "metadata": {},
   "outputs": [
    {
     "name": "stdout",
     "output_type": "stream",
     "text": [
      "<__main__.User object at 0x103a97c70>\n",
      "<__main__.User object at 0x103a97c70>\n",
      "True\n"
     ]
    }
   ],
   "source": [
    "john = j\n",
    "print(j)\n",
    "print(john)\n",
    "print(j is john)"
   ]
  },
  {
   "cell_type": "code",
   "execution_count": 49,
   "id": "02218d83",
   "metadata": {},
   "outputs": [
    {
     "name": "stdout",
     "output_type": "stream",
     "text": [
      "<__main__.User object at 0x103a97c70> Jonathan\n",
      "<__main__.User object at 0x103a97c70> Jonathan\n"
     ]
    }
   ],
   "source": [
    "john.name = \"Jonathan\"\n",
    "print(john, john.name)\n",
    "print(j, j.name)"
   ]
  },
  {
   "cell_type": "code",
   "execution_count": 50,
   "id": "9139a0a6",
   "metadata": {},
   "outputs": [
    {
     "name": "stdout",
     "output_type": "stream",
     "text": [
      "<__main__.User object at 0x103a97d60> Sam\n"
     ]
    }
   ],
   "source": [
    "print(sam, sam.name)"
   ]
  },
  {
   "cell_type": "code",
   "execution_count": 51,
   "id": "486080f4",
   "metadata": {},
   "outputs": [],
   "source": [
    "def qwe():\n",
    "    pass"
   ]
  },
  {
   "cell_type": "code",
   "execution_count": 52,
   "id": "ee7e782a",
   "metadata": {},
   "outputs": [
    {
     "name": "stdout",
     "output_type": "stream",
     "text": [
      "None\n"
     ]
    }
   ],
   "source": [
    "print(qwe())"
   ]
  },
  {
   "cell_type": "code",
   "execution_count": 53,
   "id": "cd720ab9",
   "metadata": {},
   "outputs": [
    {
     "name": "stdout",
     "output_type": "stream",
     "text": [
      "nothing returned\n"
     ]
    }
   ],
   "source": [
    "if qwe():\n",
    "    print(\"some data\")\n",
    "else:\n",
    "    print(\"nothing returned\")"
   ]
  },
  {
   "cell_type": "code",
   "execution_count": 54,
   "id": "2133c243",
   "metadata": {},
   "outputs": [
    {
     "data": {
      "text/plain": [
       "<__main__.User at 0x103a97c70>"
      ]
     },
     "execution_count": 54,
     "metadata": {},
     "output_type": "execute_result"
    }
   ],
   "source": [
    "john"
   ]
  },
  {
   "cell_type": "code",
   "execution_count": 55,
   "id": "0fa437e9",
   "metadata": {},
   "outputs": [
    {
     "data": {
      "text/plain": [
       "__main__.User"
      ]
     },
     "execution_count": 55,
     "metadata": {},
     "output_type": "execute_result"
    }
   ],
   "source": [
    "john.__class__"
   ]
  },
  {
   "cell_type": "code",
   "execution_count": 56,
   "id": "12c27678",
   "metadata": {},
   "outputs": [
    {
     "data": {
      "text/plain": [
       "'User'"
      ]
     },
     "execution_count": 56,
     "metadata": {},
     "output_type": "execute_result"
    }
   ],
   "source": [
    "john.__class__.__name__"
   ]
  },
  {
   "cell_type": "code",
   "execution_count": 57,
   "id": "0dc2e5f0",
   "metadata": {},
   "outputs": [],
   "source": [
    "class Point:\n",
    "    def __init__(self, x, y):\n",
    "        self.x = x\n",
    "        self.y = y\n",
    "    \n",
    "    def __str__(self):\n",
    "        return f\"{self.__class__.__name__}(x={self.x}, y={self.y})\""
   ]
  },
  {
   "cell_type": "code",
   "execution_count": 58,
   "id": "c5f77d68",
   "metadata": {},
   "outputs": [
    {
     "name": "stdout",
     "output_type": "stream",
     "text": [
      "Point(x=1, y=2)\n",
      "Point(x=3, y=4)\n"
     ]
    }
   ],
   "source": [
    "p1 = Point(1, 2)\n",
    "p2 = Point(3, 4)\n",
    "print(p1)\n",
    "print(p2)"
   ]
  },
  {
   "cell_type": "code",
   "execution_count": 59,
   "id": "659157b6",
   "metadata": {},
   "outputs": [
    {
     "name": "stdout",
     "output_type": "stream",
     "text": [
      "Point(x=2, y=1)\n"
     ]
    }
   ],
   "source": [
    "p3 = Point(2, 1)\n",
    "print(p3)"
   ]
  },
  {
   "cell_type": "code",
   "execution_count": 60,
   "id": "e7f53d54",
   "metadata": {},
   "outputs": [],
   "source": [
    "p4 = Point(y=2, x=1)"
   ]
  },
  {
   "cell_type": "code",
   "execution_count": 61,
   "id": "08ae0c89",
   "metadata": {},
   "outputs": [
    {
     "name": "stdout",
     "output_type": "stream",
     "text": [
      "Point(x=1, y=2)\n"
     ]
    }
   ],
   "source": [
    "print(p4)"
   ]
  },
  {
   "cell_type": "code",
   "execution_count": 62,
   "id": "cd76a535",
   "metadata": {},
   "outputs": [
    {
     "name": "stdout",
     "output_type": "stream",
     "text": [
      "Point(x=1, y=2)\n"
     ]
    }
   ],
   "source": [
    "print(p1)"
   ]
  },
  {
   "cell_type": "code",
   "execution_count": 63,
   "id": "a9c58124",
   "metadata": {},
   "outputs": [
    {
     "data": {
      "text/plain": [
       "False"
      ]
     },
     "execution_count": 63,
     "metadata": {},
     "output_type": "execute_result"
    }
   ],
   "source": [
    "p1 == p4"
   ]
  },
  {
   "cell_type": "code",
   "execution_count": 64,
   "id": "14883624",
   "metadata": {},
   "outputs": [
    {
     "name": "stdout",
     "output_type": "stream",
     "text": [
      "True\n"
     ]
    }
   ],
   "source": [
    "p5 = p1\n",
    "print(p1 is p5)"
   ]
  },
  {
   "cell_type": "code",
   "execution_count": 65,
   "id": "65b4974d",
   "metadata": {},
   "outputs": [
    {
     "name": "stdout",
     "output_type": "stream",
     "text": [
      "Point(x=3, y=2)\n",
      "Point(x=3, y=2)\n"
     ]
    }
   ],
   "source": [
    "p1.x = 3\n",
    "print(p1)\n",
    "print(p5)"
   ]
  },
  {
   "cell_type": "code",
   "execution_count": 66,
   "id": "98180daf",
   "metadata": {},
   "outputs": [],
   "source": [
    "class Point:\n",
    "    def __init__(self, x, y):\n",
    "        self.x = x\n",
    "        self.y = y\n",
    "    \n",
    "    def __str__(self):\n",
    "        return f\"{self.__class__.__name__}(x={self.x}, y={self.y})\"\n",
    "    \n",
    "    def __eq__(self, other):\n",
    "        if not isinstance(other, Point):\n",
    "            return False\n",
    "        return self.x == other.x and self.y == other.y\n",
    "    \n",
    "    def __add__(self, other):\n",
    "        # if not isinstance(other, Point):\n",
    "        #     raise\n",
    "        return Point(x=self.x + other.x, y=self.y + other.y)\n",
    "    \n",
    "    def copy(self):\n",
    "        return Point(x=self.x, y=self.y)"
   ]
  },
  {
   "cell_type": "code",
   "execution_count": 67,
   "id": "601e04dd",
   "metadata": {},
   "outputs": [
    {
     "name": "stdout",
     "output_type": "stream",
     "text": [
      "Point(x=1, y=2)\n",
      "Point(x=3, y=4)\n"
     ]
    }
   ],
   "source": [
    "p1 = Point(1, 2)\n",
    "p2 = Point(3, 4)\n",
    "print(p1)\n",
    "print(p2)"
   ]
  },
  {
   "cell_type": "code",
   "execution_count": 68,
   "id": "2c45c951",
   "metadata": {},
   "outputs": [
    {
     "name": "stdout",
     "output_type": "stream",
     "text": [
      "Point(x=1, y=2)\n"
     ]
    }
   ],
   "source": [
    "p3 = Point(x=1, y=2)\n",
    "print(p3)"
   ]
  },
  {
   "cell_type": "code",
   "execution_count": 69,
   "id": "2d294034",
   "metadata": {},
   "outputs": [
    {
     "data": {
      "text/plain": [
       "True"
      ]
     },
     "execution_count": 69,
     "metadata": {},
     "output_type": "execute_result"
    }
   ],
   "source": [
    "p1 == p3"
   ]
  },
  {
   "cell_type": "code",
   "execution_count": 70,
   "id": "5eb4260f",
   "metadata": {},
   "outputs": [
    {
     "data": {
      "text/plain": [
       "False"
      ]
     },
     "execution_count": 70,
     "metadata": {},
     "output_type": "execute_result"
    }
   ],
   "source": [
    "p1 == p2"
   ]
  },
  {
   "cell_type": "code",
   "execution_count": 71,
   "id": "5189f91d",
   "metadata": {},
   "outputs": [
    {
     "data": {
      "text/plain": [
       "False"
      ]
     },
     "execution_count": 71,
     "metadata": {},
     "output_type": "execute_result"
    }
   ],
   "source": [
    "p1 is p3"
   ]
  },
  {
   "cell_type": "code",
   "execution_count": 72,
   "id": "101c838d",
   "metadata": {},
   "outputs": [
    {
     "name": "stdout",
     "output_type": "stream",
     "text": [
      "True\n",
      "True\n"
     ]
    }
   ],
   "source": [
    "p4 = p1\n",
    "print(p1 == p4)\n",
    "print(p1 is p4)"
   ]
  },
  {
   "cell_type": "code",
   "execution_count": 73,
   "id": "f561d32e",
   "metadata": {},
   "outputs": [
    {
     "name": "stdout",
     "output_type": "stream",
     "text": [
      "True\n",
      "False\n"
     ]
    }
   ],
   "source": [
    "p5 = p1.copy()\n",
    "\n",
    "print(p1 == p5)\n",
    "print(p1 is p5)"
   ]
  },
  {
   "cell_type": "code",
   "execution_count": 74,
   "id": "9d7d698c",
   "metadata": {},
   "outputs": [
    {
     "name": "stdout",
     "output_type": "stream",
     "text": [
      "Point(x=1, y=2)\n",
      "Point(x=1, y=2)\n"
     ]
    }
   ],
   "source": [
    "print(p1)\n",
    "print(p5)"
   ]
  },
  {
   "cell_type": "code",
   "execution_count": 75,
   "id": "832c2a5c",
   "metadata": {},
   "outputs": [
    {
     "name": "stdout",
     "output_type": "stream",
     "text": [
      "Point(x=1, y=2)\n",
      "Point(x=3, y=2)\n"
     ]
    }
   ],
   "source": [
    "p5.x = 3\n",
    "print(p1)\n",
    "print(p5)"
   ]
  },
  {
   "cell_type": "code",
   "execution_count": 76,
   "id": "c80fedc7",
   "metadata": {},
   "outputs": [
    {
     "data": {
      "text/plain": [
       "False"
      ]
     },
     "execution_count": 76,
     "metadata": {},
     "output_type": "execute_result"
    }
   ],
   "source": [
    "p1 == p5"
   ]
  },
  {
   "cell_type": "code",
   "execution_count": 77,
   "id": "b5bd0e46",
   "metadata": {},
   "outputs": [
    {
     "data": {
      "text/plain": [
       "True"
      ]
     },
     "execution_count": 77,
     "metadata": {},
     "output_type": "execute_result"
    }
   ],
   "source": [
    "p1 != p5"
   ]
  },
  {
   "cell_type": "code",
   "execution_count": 78,
   "id": "2753ae46",
   "metadata": {},
   "outputs": [
    {
     "name": "stdout",
     "output_type": "stream",
     "text": [
      "Point(x=1, y=5)\n",
      "Point(x=1, y=5)\n"
     ]
    }
   ],
   "source": [
    "p4.y = 5\n",
    "print(p1)\n",
    "print(p4)"
   ]
  },
  {
   "cell_type": "code",
   "execution_count": 79,
   "id": "447d3e63",
   "metadata": {},
   "outputs": [
    {
     "data": {
      "text/plain": [
       "True"
      ]
     },
     "execution_count": 79,
     "metadata": {},
     "output_type": "execute_result"
    }
   ],
   "source": [
    "p1 == p4"
   ]
  },
  {
   "cell_type": "code",
   "execution_count": 80,
   "id": "606152bc",
   "metadata": {},
   "outputs": [
    {
     "data": {
      "text/plain": [
       "True"
      ]
     },
     "execution_count": 80,
     "metadata": {},
     "output_type": "execute_result"
    }
   ],
   "source": [
    "p1 is p4"
   ]
  },
  {
   "cell_type": "code",
   "execution_count": 81,
   "id": "4a5f1d86",
   "metadata": {},
   "outputs": [
    {
     "name": "stdout",
     "output_type": "stream",
     "text": [
      "Point(x=3, y=4)\n"
     ]
    }
   ],
   "source": [
    "print(p2)"
   ]
  },
  {
   "cell_type": "code",
   "execution_count": 82,
   "id": "08a5921b",
   "metadata": {},
   "outputs": [
    {
     "name": "stdout",
     "output_type": "stream",
     "text": [
      "Point(x=1, y=2)\n"
     ]
    }
   ],
   "source": [
    "print(p3)"
   ]
  },
  {
   "cell_type": "code",
   "execution_count": 83,
   "id": "909ca7c0",
   "metadata": {},
   "outputs": [
    {
     "name": "stdout",
     "output_type": "stream",
     "text": [
      "Point(x=4, y=6)\n"
     ]
    }
   ],
   "source": [
    "p6 = p2 + p3\n",
    "print(p6)"
   ]
  },
  {
   "cell_type": "code",
   "execution_count": 84,
   "id": "c96a38d2",
   "metadata": {},
   "outputs": [
    {
     "name": "stdout",
     "output_type": "stream",
     "text": [
      "Point(x=4, y=6)\n"
     ]
    }
   ],
   "source": [
    "p7 = p3 + p2\n",
    "print(p7)"
   ]
  },
  {
   "cell_type": "code",
   "execution_count": 85,
   "id": "9e36a9b2",
   "metadata": {},
   "outputs": [
    {
     "data": {
      "text/plain": [
       "True"
      ]
     },
     "execution_count": 85,
     "metadata": {},
     "output_type": "execute_result"
    }
   ],
   "source": [
    "p6 == p7"
   ]
  },
  {
   "cell_type": "code",
   "execution_count": 87,
   "id": "54ed98d0",
   "metadata": {},
   "outputs": [
    {
     "data": {
      "text/plain": [
       "False"
      ]
     },
     "execution_count": 87,
     "metadata": {},
     "output_type": "execute_result"
    }
   ],
   "source": [
    "p6 is p7"
   ]
  },
  {
   "cell_type": "code",
   "execution_count": 88,
   "id": "1716d8a3",
   "metadata": {},
   "outputs": [],
   "source": [
    "class VehicleBase:\n",
    "    def move(self):\n",
    "        print(\"выполняю движение\")"
   ]
  },
  {
   "cell_type": "code",
   "execution_count": 97,
   "id": "24cc4455",
   "metadata": {},
   "outputs": [],
   "source": [
    "class Car(VehicleBase):\n",
    "    def __init__(self, color, wheels, doors):\n",
    "        self.color = color\n",
    "        self.wheels = wheels\n",
    "        self.doors = doors\n",
    "    \n",
    "    def start_engine(self):\n",
    "        print(\"do start engine\")\n",
    "\n",
    "    def move(self):\n",
    "        print(\"двери закрыты, колёса на месте, едем\")\n",
    "    \n",
    "    def __str__(self):\n",
    "        return (\n",
    "            f\"Car of {self.color} color \"\n",
    "            f\"with {self.wheels} wheels \"\n",
    "            f\"and {self.doors} doors\"\n",
    "        )"
   ]
  },
  {
   "cell_type": "code",
   "execution_count": 98,
   "id": "d0a40df7",
   "metadata": {},
   "outputs": [
    {
     "name": "stdout",
     "output_type": "stream",
     "text": [
      "Car of black color with 4 wheels and 5 doors\n"
     ]
    }
   ],
   "source": [
    "car = Car(\"black\", 4, 5)\n",
    "print(car)"
   ]
  },
  {
   "cell_type": "code",
   "execution_count": 99,
   "id": "1ece91e8",
   "metadata": {},
   "outputs": [
    {
     "name": "stdout",
     "output_type": "stream",
     "text": [
      "двери закрыты, колёса на месте, едем\n"
     ]
    }
   ],
   "source": [
    "car.move()"
   ]
  },
  {
   "cell_type": "code",
   "execution_count": 100,
   "id": "e51a718e",
   "metadata": {},
   "outputs": [
    {
     "name": "stdout",
     "output_type": "stream",
     "text": [
      "do start engine\n"
     ]
    }
   ],
   "source": [
    "car.start_engine()"
   ]
  },
  {
   "cell_type": "code",
   "execution_count": 101,
   "id": "211a8492",
   "metadata": {},
   "outputs": [],
   "source": [
    "class SuperCar(Car):\n",
    "    def __init__(self, color, wheels, doors, pistons):\n",
    "        super().__init__(color, wheels, doors)\n",
    "        self.pistons = pistons\n",
    "\n",
    "    def move(self):\n",
    "        print(\"do vrrr with\", self.pistons, \"pistons\")"
   ]
  },
  {
   "cell_type": "code",
   "execution_count": 102,
   "id": "e3adc2ac",
   "metadata": {},
   "outputs": [
    {
     "name": "stdout",
     "output_type": "stream",
     "text": [
      "Car of red color with 4 wheels and 3 doors\n"
     ]
    }
   ],
   "source": [
    "super_car = SuperCar(\"red\", 4, 3, 8)\n",
    "print(super_car)"
   ]
  },
  {
   "cell_type": "code",
   "execution_count": 103,
   "id": "a41d34c6",
   "metadata": {},
   "outputs": [
    {
     "name": "stdout",
     "output_type": "stream",
     "text": [
      "do start engine\n"
     ]
    }
   ],
   "source": [
    "super_car.start_engine()"
   ]
  },
  {
   "cell_type": "code",
   "execution_count": 104,
   "id": "b7c51b52",
   "metadata": {},
   "outputs": [
    {
     "name": "stdout",
     "output_type": "stream",
     "text": [
      "do vrrr with 8 pistons\n"
     ]
    }
   ],
   "source": [
    "super_car.move()"
   ]
  },
  {
   "cell_type": "code",
   "execution_count": 106,
   "id": "c41727da",
   "metadata": {},
   "outputs": [
    {
     "data": {
      "text/plain": [
       "[__main__.Car, __main__.VehicleBase, object]"
      ]
     },
     "execution_count": 106,
     "metadata": {},
     "output_type": "execute_result"
    }
   ],
   "source": [
    "car.__class__.mro()"
   ]
  },
  {
   "cell_type": "code",
   "execution_count": 107,
   "id": "54cfb3b0",
   "metadata": {},
   "outputs": [
    {
     "data": {
      "text/plain": [
       "[__main__.SuperCar, __main__.Car, __main__.VehicleBase, object]"
      ]
     },
     "execution_count": 107,
     "metadata": {},
     "output_type": "execute_result"
    }
   ],
   "source": [
    "super_car.__class__.mro()"
   ]
  },
  {
   "cell_type": "code",
   "execution_count": 108,
   "id": "608f2b73",
   "metadata": {},
   "outputs": [
    {
     "data": {
      "text/plain": [
       "[__main__.VehicleBase, object]"
      ]
     },
     "execution_count": 108,
     "metadata": {},
     "output_type": "execute_result"
    }
   ],
   "source": [
    "VehicleBase.mro()"
   ]
  },
  {
   "cell_type": "code",
   "execution_count": null,
   "id": "2fef2364",
   "metadata": {},
   "outputs": [],
   "source": []
  }
 ],
 "metadata": {
  "kernelspec": {
   "display_name": "Python 3 (ipykernel)",
   "language": "python",
   "name": "python3"
  },
  "language_info": {
   "codemirror_mode": {
    "name": "ipython",
    "version": 3
   },
   "file_extension": ".py",
   "mimetype": "text/x-python",
   "name": "python",
   "nbconvert_exporter": "python",
   "pygments_lexer": "ipython3",
   "version": "3.9.1"
  }
 },
 "nbformat": 4,
 "nbformat_minor": 5
}
