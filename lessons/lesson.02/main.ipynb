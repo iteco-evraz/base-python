{
 "cells": [
  {
   "cell_type": "code",
   "execution_count": 1,
   "id": "2289b942",
   "metadata": {},
   "outputs": [
    {
     "name": "stdout",
     "output_type": "stream",
     "text": [
      "Hello world!\n"
     ]
    }
   ],
   "source": [
    "print(\"Hello world!\")"
   ]
  },
  {
   "cell_type": "code",
   "execution_count": 2,
   "id": "d39e89c0",
   "metadata": {},
   "outputs": [
    {
     "data": {
      "text/plain": [
       "True"
      ]
     },
     "execution_count": 2,
     "metadata": {},
     "output_type": "execute_result"
    }
   ],
   "source": [
    "1 == 1"
   ]
  },
  {
   "cell_type": "code",
   "execution_count": 3,
   "id": "3ff924db",
   "metadata": {},
   "outputs": [
    {
     "data": {
      "text/plain": [
       "False"
      ]
     },
     "execution_count": 3,
     "metadata": {},
     "output_type": "execute_result"
    }
   ],
   "source": [
    "2 > 3"
   ]
  },
  {
   "cell_type": "code",
   "execution_count": 4,
   "id": "a2ba66e8",
   "metadata": {},
   "outputs": [
    {
     "name": "stdout",
     "output_type": "stream",
     "text": [
      "True\n"
     ]
    }
   ],
   "source": [
    "print(3 > 2)"
   ]
  },
  {
   "cell_type": "code",
   "execution_count": 5,
   "id": "0e657d30",
   "metadata": {},
   "outputs": [
    {
     "data": {
      "text/plain": [
       "True"
      ]
     },
     "execution_count": 5,
     "metadata": {},
     "output_type": "execute_result"
    }
   ],
   "source": [
    "'hello' == \"hello\""
   ]
  },
  {
   "cell_type": "code",
   "execution_count": 6,
   "id": "36d7914f",
   "metadata": {},
   "outputs": [
    {
     "name": "stdout",
     "output_type": "stream",
     "text": [
      "\n",
      "hello\n",
      "world\n",
      "123123\n",
      "\"\"\n",
      "''\n",
      "\"\"\"\n",
      "\"\"\"\n",
      "\n"
     ]
    }
   ],
   "source": [
    "print('''\n",
    "hello\n",
    "world\n",
    "123123\n",
    "\"\"\n",
    "''\n",
    "\"\"\"\n",
    "\"\"\"\n",
    "''')"
   ]
  },
  {
   "cell_type": "code",
   "execution_count": 7,
   "id": "7478f9cb",
   "metadata": {},
   "outputs": [
    {
     "data": {
      "text/plain": [
       "True"
      ]
     },
     "execution_count": 7,
     "metadata": {},
     "output_type": "execute_result"
    }
   ],
   "source": [
    "isinstance(\"abc\", str)"
   ]
  },
  {
   "cell_type": "code",
   "execution_count": 8,
   "id": "3cfee2c6",
   "metadata": {},
   "outputs": [
    {
     "data": {
      "text/plain": [
       "True"
      ]
     },
     "execution_count": 8,
     "metadata": {},
     "output_type": "execute_result"
    }
   ],
   "source": [
    "isinstance(123, int)"
   ]
  },
  {
   "cell_type": "code",
   "execution_count": 9,
   "id": "7a4ebbc2",
   "metadata": {},
   "outputs": [
    {
     "data": {
      "text/plain": [
       "True"
      ]
     },
     "execution_count": 9,
     "metadata": {},
     "output_type": "execute_result"
    }
   ],
   "source": [
    "isinstance(123.5, float)"
   ]
  },
  {
   "cell_type": "code",
   "execution_count": 10,
   "id": "fd8247f2",
   "metadata": {},
   "outputs": [
    {
     "data": {
      "text/plain": [
       "False"
      ]
     },
     "execution_count": 10,
     "metadata": {},
     "output_type": "execute_result"
    }
   ],
   "source": [
    "isinstance(123.5, int)"
   ]
  },
  {
   "cell_type": "code",
   "execution_count": 11,
   "id": "28e86945",
   "metadata": {},
   "outputs": [
    {
     "name": "stdout",
     "output_type": "stream",
     "text": [
      "123 45.67\n"
     ]
    }
   ],
   "source": [
    "a = 123\n",
    "b = 45.67\n",
    "\n",
    "print(a, b)"
   ]
  },
  {
   "cell_type": "code",
   "execution_count": 12,
   "id": "0c5f8789",
   "metadata": {},
   "outputs": [
    {
     "data": {
      "text/plain": [
       "True"
      ]
     },
     "execution_count": 12,
     "metadata": {},
     "output_type": "execute_result"
    }
   ],
   "source": [
    "isinstance(a, (int, float))"
   ]
  },
  {
   "cell_type": "code",
   "execution_count": 13,
   "id": "5b25e26d",
   "metadata": {},
   "outputs": [
    {
     "data": {
      "text/plain": [
       "True"
      ]
     },
     "execution_count": 13,
     "metadata": {},
     "output_type": "execute_result"
    }
   ],
   "source": [
    "isinstance(b, (int, float))"
   ]
  },
  {
   "cell_type": "code",
   "execution_count": 14,
   "id": "b4ea7037",
   "metadata": {},
   "outputs": [
    {
     "data": {
      "text/plain": [
       "168.67000000000002"
      ]
     },
     "execution_count": 14,
     "metadata": {},
     "output_type": "execute_result"
    }
   ],
   "source": [
    "a + b"
   ]
  },
  {
   "cell_type": "code",
   "execution_count": 15,
   "id": "d1098b26",
   "metadata": {},
   "outputs": [
    {
     "data": {
      "text/plain": [
       "False"
      ]
     },
     "execution_count": 15,
     "metadata": {},
     "output_type": "execute_result"
    }
   ],
   "source": [
    "isinstance(\"b\", (int, float))"
   ]
  },
  {
   "cell_type": "code",
   "execution_count": 16,
   "id": "fd3e2dbe",
   "metadata": {},
   "outputs": [
    {
     "data": {
      "text/plain": [
       "True"
      ]
     },
     "execution_count": 16,
     "metadata": {},
     "output_type": "execute_result"
    }
   ],
   "source": [
    "isinstance(False, bool)"
   ]
  },
  {
   "cell_type": "code",
   "execution_count": 17,
   "id": "b11e5c36",
   "metadata": {},
   "outputs": [
    {
     "data": {
      "text/plain": [
       "True"
      ]
     },
     "execution_count": 17,
     "metadata": {},
     "output_type": "execute_result"
    }
   ],
   "source": [
    "isinstance(True, bool)"
   ]
  },
  {
   "cell_type": "code",
   "execution_count": 18,
   "id": "d4eaa356",
   "metadata": {},
   "outputs": [
    {
     "data": {
      "text/plain": [
       "True"
      ]
     },
     "execution_count": 18,
     "metadata": {},
     "output_type": "execute_result"
    }
   ],
   "source": [
    "bool(1)"
   ]
  },
  {
   "cell_type": "code",
   "execution_count": 19,
   "id": "a1636470",
   "metadata": {},
   "outputs": [
    {
     "data": {
      "text/plain": [
       "False"
      ]
     },
     "execution_count": 19,
     "metadata": {},
     "output_type": "execute_result"
    }
   ],
   "source": [
    "bool(0)"
   ]
  },
  {
   "cell_type": "code",
   "execution_count": 20,
   "id": "484d35c9",
   "metadata": {},
   "outputs": [
    {
     "data": {
      "text/plain": [
       "False"
      ]
     },
     "execution_count": 20,
     "metadata": {},
     "output_type": "execute_result"
    }
   ],
   "source": [
    "bool(\"\")"
   ]
  },
  {
   "cell_type": "code",
   "execution_count": 21,
   "id": "a022cf5a",
   "metadata": {},
   "outputs": [
    {
     "data": {
      "text/plain": [
       "True"
      ]
     },
     "execution_count": 21,
     "metadata": {},
     "output_type": "execute_result"
    }
   ],
   "source": [
    "bool(\"False\")"
   ]
  },
  {
   "cell_type": "code",
   "execution_count": 22,
   "id": "d0724eb5",
   "metadata": {},
   "outputs": [
    {
     "data": {
      "text/plain": [
       "True"
      ]
     },
     "execution_count": 22,
     "metadata": {},
     "output_type": "execute_result"
    }
   ],
   "source": [
    "bool(\"e\")"
   ]
  },
  {
   "cell_type": "code",
   "execution_count": 23,
   "id": "ecca61c3",
   "metadata": {},
   "outputs": [
    {
     "data": {
      "text/plain": [
       "True"
      ]
     },
     "execution_count": 23,
     "metadata": {},
     "output_type": "execute_result"
    }
   ],
   "source": [
    "isinstance(True, int)"
   ]
  },
  {
   "cell_type": "code",
   "execution_count": 24,
   "id": "a566c84a",
   "metadata": {},
   "outputs": [
    {
     "data": {
      "text/plain": [
       "1"
      ]
     },
     "execution_count": 24,
     "metadata": {},
     "output_type": "execute_result"
    }
   ],
   "source": [
    "True + False"
   ]
  },
  {
   "cell_type": "code",
   "execution_count": 25,
   "id": "1457079e",
   "metadata": {},
   "outputs": [
    {
     "data": {
      "text/plain": [
       "2"
      ]
     },
     "execution_count": 25,
     "metadata": {},
     "output_type": "execute_result"
    }
   ],
   "source": [
    "True + True"
   ]
  },
  {
   "cell_type": "code",
   "execution_count": 26,
   "id": "bebc6890",
   "metadata": {},
   "outputs": [
    {
     "data": {
      "text/plain": [
       "1"
      ]
     },
     "execution_count": 26,
     "metadata": {},
     "output_type": "execute_result"
    }
   ],
   "source": [
    "int(True)"
   ]
  },
  {
   "cell_type": "code",
   "execution_count": 27,
   "id": "79e29fe1",
   "metadata": {},
   "outputs": [
    {
     "data": {
      "text/plain": [
       "0"
      ]
     },
     "execution_count": 27,
     "metadata": {},
     "output_type": "execute_result"
    }
   ],
   "source": [
    "int(False)"
   ]
  },
  {
   "cell_type": "code",
   "execution_count": 28,
   "id": "3bc7845f",
   "metadata": {},
   "outputs": [
    {
     "data": {
      "text/plain": [
       "123"
      ]
     },
     "execution_count": 28,
     "metadata": {},
     "output_type": "execute_result"
    }
   ],
   "source": [
    "int(\"123\")"
   ]
  },
  {
   "cell_type": "code",
   "execution_count": 31,
   "id": "7c4d2426",
   "metadata": {},
   "outputs": [
    {
     "data": {
      "text/plain": [
       "True"
      ]
     },
     "execution_count": 31,
     "metadata": {},
     "output_type": "execute_result"
    }
   ],
   "source": [
    "isinstance(int(\"123\"), int)"
   ]
  },
  {
   "cell_type": "code",
   "execution_count": 32,
   "id": "cffb569b",
   "metadata": {},
   "outputs": [
    {
     "data": {
      "text/plain": [
       "123"
      ]
     },
     "execution_count": 32,
     "metadata": {},
     "output_type": "execute_result"
    }
   ],
   "source": [
    "a"
   ]
  },
  {
   "cell_type": "code",
   "execution_count": 33,
   "id": "41b6f352",
   "metadata": {},
   "outputs": [
    {
     "data": {
      "text/plain": [
       "True"
      ]
     },
     "execution_count": 33,
     "metadata": {},
     "output_type": "execute_result"
    }
   ],
   "source": [
    "isinstance(a, int)"
   ]
  },
  {
   "cell_type": "code",
   "execution_count": 34,
   "id": "25fb7e46",
   "metadata": {},
   "outputs": [
    {
     "data": {
      "text/plain": [
       "True"
      ]
     },
     "execution_count": 34,
     "metadata": {},
     "output_type": "execute_result"
    }
   ],
   "source": [
    "isinstance(str(a), str)"
   ]
  },
  {
   "cell_type": "code",
   "execution_count": 35,
   "id": "d66475f9",
   "metadata": {},
   "outputs": [
    {
     "data": {
      "text/plain": [
       "False"
      ]
     },
     "execution_count": 35,
     "metadata": {},
     "output_type": "execute_result"
    }
   ],
   "source": [
    "isinstance(str(a), int)"
   ]
  },
  {
   "cell_type": "code",
   "execution_count": 36,
   "id": "2122e67b",
   "metadata": {},
   "outputs": [
    {
     "data": {
      "text/plain": [
       "False"
      ]
     },
     "execution_count": 36,
     "metadata": {},
     "output_type": "execute_result"
    }
   ],
   "source": [
    "a == b"
   ]
  },
  {
   "cell_type": "code",
   "execution_count": 37,
   "id": "759fc8f8",
   "metadata": {},
   "outputs": [],
   "source": [
    "my_var = 42"
   ]
  },
  {
   "cell_type": "code",
   "execution_count": 38,
   "id": "0f6b90a3",
   "metadata": {},
   "outputs": [
    {
     "name": "stdout",
     "output_type": "stream",
     "text": [
      "my var is 42\n"
     ]
    }
   ],
   "source": [
    "if my_var == 42:\n",
    "    print(\"my var is 42\")"
   ]
  },
  {
   "cell_type": "code",
   "execution_count": 39,
   "id": "6e9abb33",
   "metadata": {},
   "outputs": [
    {
     "data": {
      "text/plain": [
       "True"
      ]
     },
     "execution_count": 39,
     "metadata": {},
     "output_type": "execute_result"
    }
   ],
   "source": [
    "my_var == 42"
   ]
  },
  {
   "cell_type": "code",
   "execution_count": 40,
   "id": "5ee6ece2",
   "metadata": {},
   "outputs": [
    {
     "name": "stdout",
     "output_type": "stream",
     "text": [
      "string is empty\n"
     ]
    }
   ],
   "source": [
    "if \"\":\n",
    "    print('is true')\n",
    "else:\n",
    "    print(\"string is empty\")"
   ]
  },
  {
   "cell_type": "code",
   "execution_count": 41,
   "id": "ed1f0b9c",
   "metadata": {},
   "outputs": [
    {
     "name": "stdout",
     "output_type": "stream",
     "text": [
      "string is empty\n"
     ]
    }
   ],
   "source": [
    "my_str = \"\"\n",
    "if my_str:\n",
    "    print('is true')\n",
    "else:\n",
    "    print(\"string is empty\")"
   ]
  },
  {
   "cell_type": "code",
   "execution_count": 42,
   "id": "7f1bb47e",
   "metadata": {},
   "outputs": [
    {
     "name": "stdout",
     "output_type": "stream",
     "text": [
      "is true\n"
     ]
    }
   ],
   "source": [
    "my_str = \"123\"\n",
    "if my_str:\n",
    "    print('is true')\n",
    "else:\n",
    "    print(\"string is empty\")"
   ]
  },
  {
   "cell_type": "code",
   "execution_count": 43,
   "id": "69e67e1f",
   "metadata": {},
   "outputs": [
    {
     "data": {
      "text/plain": [
       "0.30000000000000004"
      ]
     },
     "execution_count": 43,
     "metadata": {},
     "output_type": "execute_result"
    }
   ],
   "source": [
    "0.1 + 0.2"
   ]
  },
  {
   "cell_type": "code",
   "execution_count": 44,
   "id": "a486a8f1",
   "metadata": {},
   "outputs": [
    {
     "data": {
      "text/plain": [
       "True"
      ]
     },
     "execution_count": 44,
     "metadata": {},
     "output_type": "execute_result"
    }
   ],
   "source": [
    "(0.1 + 0.2) > 0.3"
   ]
  },
  {
   "cell_type": "code",
   "execution_count": 45,
   "id": "69077b2a",
   "metadata": {},
   "outputs": [
    {
     "data": {
      "text/plain": [
       "True"
      ]
     },
     "execution_count": 45,
     "metadata": {},
     "output_type": "execute_result"
    }
   ],
   "source": [
    "bool(-1)"
   ]
  },
  {
   "cell_type": "code",
   "execution_count": 46,
   "id": "c127fe7c",
   "metadata": {},
   "outputs": [
    {
     "data": {
      "text/plain": [
       "False"
      ]
     },
     "execution_count": 46,
     "metadata": {},
     "output_type": "execute_result"
    }
   ],
   "source": [
    "bool(0)"
   ]
  },
  {
   "cell_type": "code",
   "execution_count": 47,
   "id": "982cfe0a",
   "metadata": {},
   "outputs": [
    {
     "name": "stdout",
     "output_type": "stream",
     "text": [
      "['abc', 'def', 'ghi']\n"
     ]
    }
   ],
   "source": [
    "list_of_strings = [\"abc\", \"def\", \"ghi\"]\n",
    "print(list_of_strings)"
   ]
  },
  {
   "cell_type": "code",
   "execution_count": 48,
   "id": "24fe1603",
   "metadata": {},
   "outputs": [
    {
     "data": {
      "text/plain": [
       "True"
      ]
     },
     "execution_count": 48,
     "metadata": {},
     "output_type": "execute_result"
    }
   ],
   "source": [
    "['abc', 'def', 'ghi'] == list_of_strings"
   ]
  },
  {
   "cell_type": "code",
   "execution_count": 49,
   "id": "92be6662",
   "metadata": {},
   "outputs": [
    {
     "name": "stdout",
     "output_type": "stream",
     "text": [
      "abc\n",
      "def\n",
      "ghi\n"
     ]
    }
   ],
   "source": [
    "print(list_of_strings[0])\n",
    "print(list_of_strings[1])\n",
    "print(list_of_strings[2])"
   ]
  },
  {
   "cell_type": "code",
   "execution_count": 50,
   "id": "4188961d",
   "metadata": {},
   "outputs": [
    {
     "name": "stdout",
     "output_type": "stream",
     "text": [
      "['abc', 'def', 'ghi', 123]\n"
     ]
    }
   ],
   "source": [
    "list_of_strings.append(123)\n",
    "print(list_of_strings)"
   ]
  },
  {
   "cell_type": "code",
   "execution_count": 51,
   "id": "84bb6b4d",
   "metadata": {},
   "outputs": [
    {
     "data": {
      "text/plain": [
       "True"
      ]
     },
     "execution_count": 51,
     "metadata": {},
     "output_type": "execute_result"
    }
   ],
   "source": [
    "another_list = list_of_strings\n",
    "another_list == list_of_strings"
   ]
  },
  {
   "cell_type": "code",
   "execution_count": 52,
   "id": "87eb8f29",
   "metadata": {},
   "outputs": [
    {
     "name": "stdout",
     "output_type": "stream",
     "text": [
      "['abc', 'def', 'ghi', 123]\n"
     ]
    }
   ],
   "source": [
    "print(another_list)"
   ]
  },
  {
   "cell_type": "code",
   "execution_count": 53,
   "id": "e49d7385",
   "metadata": {},
   "outputs": [
    {
     "data": {
      "text/plain": [
       "123"
      ]
     },
     "execution_count": 53,
     "metadata": {},
     "output_type": "execute_result"
    }
   ],
   "source": [
    "list_of_strings[3]"
   ]
  },
  {
   "cell_type": "code",
   "execution_count": 54,
   "id": "f6487577",
   "metadata": {},
   "outputs": [
    {
     "data": {
      "text/plain": [
       "123"
      ]
     },
     "execution_count": 54,
     "metadata": {},
     "output_type": "execute_result"
    }
   ],
   "source": [
    "list_of_strings.pop()"
   ]
  },
  {
   "cell_type": "code",
   "execution_count": 55,
   "id": "49458b19",
   "metadata": {},
   "outputs": [
    {
     "data": {
      "text/plain": [
       "['abc', 'def', 'ghi']"
      ]
     },
     "execution_count": 55,
     "metadata": {},
     "output_type": "execute_result"
    }
   ],
   "source": [
    "list_of_strings"
   ]
  },
  {
   "cell_type": "code",
   "execution_count": 56,
   "id": "8b4cdd79",
   "metadata": {},
   "outputs": [
    {
     "data": {
      "text/plain": [
       "['abc', 'def', 'ghi']"
      ]
     },
     "execution_count": 56,
     "metadata": {},
     "output_type": "execute_result"
    }
   ],
   "source": [
    "another_list"
   ]
  },
  {
   "cell_type": "code",
   "execution_count": 57,
   "id": "d5fc5153",
   "metadata": {},
   "outputs": [
    {
     "data": {
      "text/plain": [
       "True"
      ]
     },
     "execution_count": 57,
     "metadata": {},
     "output_type": "execute_result"
    }
   ],
   "source": [
    "another_list is list_of_strings"
   ]
  },
  {
   "cell_type": "code",
   "execution_count": 58,
   "id": "c3d3df93",
   "metadata": {},
   "outputs": [],
   "source": [
    "another_list.append(456)"
   ]
  },
  {
   "cell_type": "code",
   "execution_count": 59,
   "id": "9ed10025",
   "metadata": {},
   "outputs": [
    {
     "data": {
      "text/plain": [
       "['abc', 'def', 'ghi', 456]"
      ]
     },
     "execution_count": 59,
     "metadata": {},
     "output_type": "execute_result"
    }
   ],
   "source": [
    "list_of_strings"
   ]
  },
  {
   "cell_type": "code",
   "execution_count": 60,
   "id": "5df3c89c",
   "metadata": {},
   "outputs": [
    {
     "data": {
      "text/plain": [
       "['abc', 'def', 'ghi', 456]"
      ]
     },
     "execution_count": 60,
     "metadata": {},
     "output_type": "execute_result"
    }
   ],
   "source": [
    "another_list"
   ]
  },
  {
   "cell_type": "code",
   "execution_count": 61,
   "id": "1c34a156",
   "metadata": {},
   "outputs": [
    {
     "data": {
      "text/plain": [
       "456"
      ]
     },
     "execution_count": 61,
     "metadata": {},
     "output_type": "execute_result"
    }
   ],
   "source": [
    "list_of_strings.pop()"
   ]
  },
  {
   "cell_type": "code",
   "execution_count": 62,
   "id": "f65986dd",
   "metadata": {},
   "outputs": [
    {
     "data": {
      "text/plain": [
       "['abc', 'def', 'ghi']"
      ]
     },
     "execution_count": 62,
     "metadata": {},
     "output_type": "execute_result"
    }
   ],
   "source": [
    "another_list"
   ]
  },
  {
   "cell_type": "code",
   "execution_count": 63,
   "id": "8eb801c2",
   "metadata": {},
   "outputs": [
    {
     "data": {
      "text/plain": [
       "['abc', 'def', 'ghi']"
      ]
     },
     "execution_count": 63,
     "metadata": {},
     "output_type": "execute_result"
    }
   ],
   "source": [
    "list_of_strings"
   ]
  },
  {
   "cell_type": "code",
   "execution_count": 64,
   "id": "91111d2d",
   "metadata": {},
   "outputs": [
    {
     "name": "stdout",
     "output_type": "stream",
     "text": [
      "['abc', True, None, 123, 12.345, ['', 54], []]\n"
     ]
    }
   ],
   "source": [
    "list_of_any = [\"abc\", True, None, 123, 12.345, [\"\", 54], []]\n",
    "print(list_of_any)"
   ]
  },
  {
   "cell_type": "code",
   "execution_count": 65,
   "id": "f20e923e",
   "metadata": {},
   "outputs": [
    {
     "name": "stdout",
     "output_type": "stream",
     "text": [
      "abc\n",
      "True\n",
      "None\n",
      "123\n",
      "12.345\n",
      "['', 54]\n",
      "[]\n"
     ]
    }
   ],
   "source": [
    "for elem in list_of_any:\n",
    "    print(elem)"
   ]
  },
  {
   "cell_type": "code",
   "execution_count": 66,
   "id": "1a4dc81e",
   "metadata": {},
   "outputs": [],
   "source": [
    "a = [123] * 10000"
   ]
  },
  {
   "cell_type": "code",
   "execution_count": 67,
   "id": "13094e39",
   "metadata": {},
   "outputs": [
    {
     "data": {
      "text/plain": [
       "10000"
      ]
     },
     "execution_count": 67,
     "metadata": {},
     "output_type": "execute_result"
    }
   ],
   "source": [
    "len(a)"
   ]
  },
  {
   "cell_type": "code",
   "execution_count": 68,
   "id": "77c99b61",
   "metadata": {},
   "outputs": [
    {
     "name": "stdout",
     "output_type": "stream",
     "text": [
      "123\n"
     ]
    }
   ],
   "source": [
    "print(a[100])"
   ]
  },
  {
   "cell_type": "code",
   "execution_count": 69,
   "id": "5a8c5907",
   "metadata": {},
   "outputs": [
    {
     "data": {
      "text/plain": [
       "['abc', True, None, 123, 12.345, ['', 54], []]"
      ]
     },
     "execution_count": 69,
     "metadata": {},
     "output_type": "execute_result"
    }
   ],
   "source": [
    "list_of_any"
   ]
  },
  {
   "cell_type": "code",
   "execution_count": 70,
   "id": "434adaf4",
   "metadata": {},
   "outputs": [
    {
     "data": {
      "text/plain": [
       "'abc'"
      ]
     },
     "execution_count": 70,
     "metadata": {},
     "output_type": "execute_result"
    }
   ],
   "source": [
    "list_of_any[0]"
   ]
  },
  {
   "cell_type": "code",
   "execution_count": 71,
   "id": "29609c68",
   "metadata": {},
   "outputs": [
    {
     "data": {
      "text/plain": [
       "True"
      ]
     },
     "execution_count": 71,
     "metadata": {},
     "output_type": "execute_result"
    }
   ],
   "source": [
    "list_of_any[1]"
   ]
  },
  {
   "cell_type": "code",
   "execution_count": 72,
   "id": "743856e5",
   "metadata": {},
   "outputs": [
    {
     "data": {
      "text/plain": [
       "['', 54]"
      ]
     },
     "execution_count": 72,
     "metadata": {},
     "output_type": "execute_result"
    }
   ],
   "source": [
    "list_of_any[-2]"
   ]
  },
  {
   "cell_type": "code",
   "execution_count": 73,
   "id": "acd140f9",
   "metadata": {},
   "outputs": [
    {
     "data": {
      "text/plain": [
       "0"
      ]
     },
     "execution_count": 73,
     "metadata": {},
     "output_type": "execute_result"
    }
   ],
   "source": [
    "-0"
   ]
  },
  {
   "cell_type": "code",
   "execution_count": 74,
   "id": "282d7c12",
   "metadata": {},
   "outputs": [
    {
     "data": {
      "text/plain": [
       "['', 54]"
      ]
     },
     "execution_count": 74,
     "metadata": {},
     "output_type": "execute_result"
    }
   ],
   "source": [
    "list_of_any[len(list_of_any) - 2]"
   ]
  },
  {
   "cell_type": "code",
   "execution_count": 75,
   "id": "36f6efe5",
   "metadata": {},
   "outputs": [
    {
     "data": {
      "text/plain": [
       "['', 54]"
      ]
     },
     "execution_count": 75,
     "metadata": {},
     "output_type": "execute_result"
    }
   ],
   "source": [
    "list_of_any[-2]"
   ]
  },
  {
   "cell_type": "code",
   "execution_count": 76,
   "id": "6d680da8",
   "metadata": {},
   "outputs": [
    {
     "data": {
      "text/plain": [
       "['abc', True, None, 123, 12.345, ['', 54], []]"
      ]
     },
     "execution_count": 76,
     "metadata": {},
     "output_type": "execute_result"
    }
   ],
   "source": [
    "list_of_any"
   ]
  },
  {
   "cell_type": "code",
   "execution_count": 77,
   "id": "3c988688",
   "metadata": {},
   "outputs": [
    {
     "data": {
      "text/plain": [
       "54"
      ]
     },
     "execution_count": 77,
     "metadata": {},
     "output_type": "execute_result"
    }
   ],
   "source": [
    "list_of_any[-2][1]"
   ]
  },
  {
   "cell_type": "code",
   "execution_count": 78,
   "id": "f2e5fb2a",
   "metadata": {},
   "outputs": [],
   "source": [
    "list_of_any[-1].append(\"qwe\")"
   ]
  },
  {
   "cell_type": "code",
   "execution_count": 79,
   "id": "4f00fa48",
   "metadata": {},
   "outputs": [
    {
     "data": {
      "text/plain": [
       "['abc', True, None, 123, 12.345, ['', 54], ['qwe']]"
      ]
     },
     "execution_count": 79,
     "metadata": {},
     "output_type": "execute_result"
    }
   ],
   "source": [
    "list_of_any"
   ]
  },
  {
   "cell_type": "code",
   "execution_count": 80,
   "id": "3579a9b6",
   "metadata": {},
   "outputs": [],
   "source": [
    "list_of_any[2]"
   ]
  },
  {
   "cell_type": "code",
   "execution_count": 81,
   "id": "7bf47d0d",
   "metadata": {},
   "outputs": [
    {
     "data": {
      "text/plain": [
       "123"
      ]
     },
     "execution_count": 81,
     "metadata": {},
     "output_type": "execute_result"
    }
   ],
   "source": [
    "list_of_any[3]"
   ]
  },
  {
   "cell_type": "code",
   "execution_count": 82,
   "id": "a990679f",
   "metadata": {},
   "outputs": [
    {
     "data": {
      "text/plain": [
       "12.345"
      ]
     },
     "execution_count": 82,
     "metadata": {},
     "output_type": "execute_result"
    }
   ],
   "source": [
    "list_of_any[4]"
   ]
  },
  {
   "cell_type": "code",
   "execution_count": 83,
   "id": "89f53205",
   "metadata": {},
   "outputs": [
    {
     "data": {
      "text/plain": [
       "[True, None, 123]"
      ]
     },
     "execution_count": 83,
     "metadata": {},
     "output_type": "execute_result"
    }
   ],
   "source": [
    "list_of_any[1:4]"
   ]
  },
  {
   "cell_type": "code",
   "execution_count": 84,
   "id": "7771d12d",
   "metadata": {},
   "outputs": [
    {
     "data": {
      "text/plain": [
       "[12.345, ['', 54]]"
      ]
     },
     "execution_count": 84,
     "metadata": {},
     "output_type": "execute_result"
    }
   ],
   "source": [
    "list_of_any[4:6]"
   ]
  },
  {
   "cell_type": "code",
   "execution_count": 85,
   "id": "ba11dafa",
   "metadata": {},
   "outputs": [
    {
     "data": {
      "text/plain": [
       "[12.345, ['', 54], ['qwe']]"
      ]
     },
     "execution_count": 85,
     "metadata": {},
     "output_type": "execute_result"
    }
   ],
   "source": [
    "list_of_any[4:7]"
   ]
  },
  {
   "cell_type": "code",
   "execution_count": 86,
   "id": "80c652ad",
   "metadata": {},
   "outputs": [
    {
     "data": {
      "text/plain": [
       "[12.345, ['', 54], ['qwe']]"
      ]
     },
     "execution_count": 86,
     "metadata": {},
     "output_type": "execute_result"
    }
   ],
   "source": [
    "list_of_any[4:]"
   ]
  },
  {
   "cell_type": "code",
   "execution_count": 87,
   "id": "91db9170",
   "metadata": {},
   "outputs": [],
   "source": [
    "list_of_any.append(\"kj\")"
   ]
  },
  {
   "cell_type": "code",
   "execution_count": 88,
   "id": "5dd6ecbb",
   "metadata": {},
   "outputs": [
    {
     "data": {
      "text/plain": [
       "['abc', True, None, 123, 12.345, ['', 54], ['qwe'], 'kj']"
      ]
     },
     "execution_count": 88,
     "metadata": {},
     "output_type": "execute_result"
    }
   ],
   "source": [
    "list_of_any"
   ]
  },
  {
   "cell_type": "code",
   "execution_count": 89,
   "id": "3483cfc6",
   "metadata": {},
   "outputs": [
    {
     "data": {
      "text/plain": [
       "[12.345, ['', 54], ['qwe'], 'kj']"
      ]
     },
     "execution_count": 89,
     "metadata": {},
     "output_type": "execute_result"
    }
   ],
   "source": [
    "list_of_any[4:]"
   ]
  },
  {
   "cell_type": "code",
   "execution_count": 90,
   "id": "55869fc9",
   "metadata": {},
   "outputs": [
    {
     "data": {
      "text/plain": [
       "[12.345, ['', 54], ['qwe']]"
      ]
     },
     "execution_count": 90,
     "metadata": {},
     "output_type": "execute_result"
    }
   ],
   "source": [
    "list_of_any[4:7]"
   ]
  },
  {
   "cell_type": "code",
   "execution_count": 91,
   "id": "c4030e52",
   "metadata": {},
   "outputs": [
    {
     "data": {
      "text/plain": [
       "['abc', True, None, 123]"
      ]
     },
     "execution_count": 91,
     "metadata": {},
     "output_type": "execute_result"
    }
   ],
   "source": [
    "list_of_any[0:4]"
   ]
  },
  {
   "cell_type": "code",
   "execution_count": 92,
   "id": "721ecd49",
   "metadata": {},
   "outputs": [
    {
     "data": {
      "text/plain": [
       "['abc', True, None, 123]"
      ]
     },
     "execution_count": 92,
     "metadata": {},
     "output_type": "execute_result"
    }
   ],
   "source": [
    "list_of_any[:4]"
   ]
  },
  {
   "cell_type": "code",
   "execution_count": 93,
   "id": "6bebecd2",
   "metadata": {},
   "outputs": [
    {
     "data": {
      "text/plain": [
       "['abc', True, None, 123, 12.345, ['', 54], ['qwe'], 'kj']"
      ]
     },
     "execution_count": 93,
     "metadata": {},
     "output_type": "execute_result"
    }
   ],
   "source": [
    "list_of_any[:]"
   ]
  },
  {
   "cell_type": "code",
   "execution_count": 94,
   "id": "62948fd7",
   "metadata": {},
   "outputs": [
    {
     "data": {
      "text/plain": [
       "True"
      ]
     },
     "execution_count": 94,
     "metadata": {},
     "output_type": "execute_result"
    }
   ],
   "source": [
    "list_of_any[:] == list_of_any"
   ]
  },
  {
   "cell_type": "code",
   "execution_count": 95,
   "id": "a914a153",
   "metadata": {},
   "outputs": [
    {
     "data": {
      "text/plain": [
       "False"
      ]
     },
     "execution_count": 95,
     "metadata": {},
     "output_type": "execute_result"
    }
   ],
   "source": [
    "list_of_any[:] is list_of_any"
   ]
  },
  {
   "cell_type": "code",
   "execution_count": 96,
   "id": "eb48c287",
   "metadata": {},
   "outputs": [],
   "source": [
    "my_list = list_of_any[:]"
   ]
  },
  {
   "cell_type": "code",
   "execution_count": 97,
   "id": "d475f5a5",
   "metadata": {},
   "outputs": [
    {
     "data": {
      "text/plain": [
       "True"
      ]
     },
     "execution_count": 97,
     "metadata": {},
     "output_type": "execute_result"
    }
   ],
   "source": [
    "list_of_any == my_list"
   ]
  },
  {
   "cell_type": "code",
   "execution_count": 98,
   "id": "6327308b",
   "metadata": {},
   "outputs": [
    {
     "data": {
      "text/plain": [
       "False"
      ]
     },
     "execution_count": 98,
     "metadata": {},
     "output_type": "execute_result"
    }
   ],
   "source": [
    "list_of_any is my_list"
   ]
  },
  {
   "cell_type": "code",
   "execution_count": 99,
   "id": "b0280060",
   "metadata": {},
   "outputs": [
    {
     "data": {
      "text/plain": [
       "['abc', True, None, 123, 12.345, ['', 54], ['qwe'], 'kj']"
      ]
     },
     "execution_count": 99,
     "metadata": {},
     "output_type": "execute_result"
    }
   ],
   "source": [
    "list_of_any"
   ]
  },
  {
   "cell_type": "code",
   "execution_count": 100,
   "id": "b5dea115",
   "metadata": {},
   "outputs": [
    {
     "data": {
      "text/plain": [
       "['abc', True, None, 123, 12.345, ['', 54], ['qwe'], 'kj']"
      ]
     },
     "execution_count": 100,
     "metadata": {},
     "output_type": "execute_result"
    }
   ],
   "source": [
    "my_list"
   ]
  },
  {
   "cell_type": "code",
   "execution_count": 101,
   "id": "b1c79b36",
   "metadata": {},
   "outputs": [],
   "source": [
    "list_of_any.append(\"hij\")"
   ]
  },
  {
   "cell_type": "code",
   "execution_count": 102,
   "id": "7a397a18",
   "metadata": {},
   "outputs": [
    {
     "data": {
      "text/plain": [
       "'kj'"
      ]
     },
     "execution_count": 102,
     "metadata": {},
     "output_type": "execute_result"
    }
   ],
   "source": [
    "my_list.pop()"
   ]
  },
  {
   "cell_type": "code",
   "execution_count": 103,
   "id": "df32a273",
   "metadata": {},
   "outputs": [
    {
     "data": {
      "text/plain": [
       "['abc', True, None, 123, 12.345, ['', 54], ['qwe'], 'kj', 'hij']"
      ]
     },
     "execution_count": 103,
     "metadata": {},
     "output_type": "execute_result"
    }
   ],
   "source": [
    "list_of_any"
   ]
  },
  {
   "cell_type": "code",
   "execution_count": 104,
   "id": "72b6279d",
   "metadata": {},
   "outputs": [
    {
     "data": {
      "text/plain": [
       "['abc', True, None, 123, 12.345, ['', 54], ['qwe']]"
      ]
     },
     "execution_count": 104,
     "metadata": {},
     "output_type": "execute_result"
    }
   ],
   "source": [
    "my_list"
   ]
  },
  {
   "cell_type": "code",
   "execution_count": 105,
   "id": "762da04d",
   "metadata": {},
   "outputs": [
    {
     "name": "stdout",
     "output_type": "stream",
     "text": [
      "abc\n",
      "True\n",
      "None\n",
      "123\n",
      "12.345\n",
      "--\n",
      "\n",
      "54\n",
      "--\n",
      "--\n",
      "qwe\n",
      "--\n"
     ]
    }
   ],
   "source": [
    "for elem in my_list:\n",
    "    if isinstance(elem, list):\n",
    "        print('--')\n",
    "        for item in elem:\n",
    "            print(item)\n",
    "        print('--')\n",
    "    else:\n",
    "        print(elem)"
   ]
  },
  {
   "cell_type": "code",
   "execution_count": 106,
   "id": "3bb568c8",
   "metadata": {},
   "outputs": [
    {
     "data": {
      "text/plain": [
       "['abc', True, None, 123, 12.345, ['', 54], ['qwe']]"
      ]
     },
     "execution_count": 106,
     "metadata": {},
     "output_type": "execute_result"
    }
   ],
   "source": [
    "my_list"
   ]
  },
  {
   "cell_type": "code",
   "execution_count": 107,
   "id": "f6a8de5b",
   "metadata": {},
   "outputs": [
    {
     "data": {
      "text/plain": [
       "[True, 123]"
      ]
     },
     "execution_count": 107,
     "metadata": {},
     "output_type": "execute_result"
    }
   ],
   "source": [
    "my_list[1:5:2]"
   ]
  },
  {
   "cell_type": "code",
   "execution_count": 108,
   "id": "28da9781",
   "metadata": {},
   "outputs": [
    {
     "data": {
      "text/plain": [
       "[['qwe'], ['', 54], 12.345, 123, None]"
      ]
     },
     "execution_count": 108,
     "metadata": {},
     "output_type": "execute_result"
    }
   ],
   "source": [
    "my_list[6:1:-1]"
   ]
  },
  {
   "cell_type": "code",
   "execution_count": 109,
   "id": "07154818",
   "metadata": {},
   "outputs": [
    {
     "data": {
      "text/plain": [
       "[['qwe'], ['', 54], 12.345, 123, None, True, 'abc']"
      ]
     },
     "execution_count": 109,
     "metadata": {},
     "output_type": "execute_result"
    }
   ],
   "source": [
    "my_list[-1::-1]"
   ]
  },
  {
   "cell_type": "code",
   "execution_count": 110,
   "id": "5070b656",
   "metadata": {},
   "outputs": [
    {
     "data": {
      "text/plain": [
       "[['', 54], 12.345, 123, None, True, 'abc']"
      ]
     },
     "execution_count": 110,
     "metadata": {},
     "output_type": "execute_result"
    }
   ],
   "source": [
    "my_list[-2::-1]"
   ]
  },
  {
   "cell_type": "code",
   "execution_count": 111,
   "id": "a4b56964",
   "metadata": {},
   "outputs": [
    {
     "data": {
      "text/plain": [
       "[['', 54], 12.345, 123, None]"
      ]
     },
     "execution_count": 111,
     "metadata": {},
     "output_type": "execute_result"
    }
   ],
   "source": [
    "my_list[-2:1:-1]"
   ]
  },
  {
   "cell_type": "code",
   "execution_count": 112,
   "id": "11be1d3f",
   "metadata": {},
   "outputs": [
    {
     "data": {
      "text/plain": [
       "[['', 54], 12.345, 123, None, True]"
      ]
     },
     "execution_count": 112,
     "metadata": {},
     "output_type": "execute_result"
    }
   ],
   "source": [
    "my_list[-2:0:-1]"
   ]
  },
  {
   "cell_type": "code",
   "execution_count": 113,
   "id": "097e9f57",
   "metadata": {},
   "outputs": [
    {
     "name": "stdout",
     "output_type": "stream",
     "text": [
      "(123, 456, 'abc', True, False, None, '', (54, 67), ())\n"
     ]
    }
   ],
   "source": [
    "my_tuple = (123, 456, \"abc\", True, False, None, \"\", (54, 67), ())\n",
    "print(my_tuple)"
   ]
  },
  {
   "cell_type": "code",
   "execution_count": 114,
   "id": "8b465bb9",
   "metadata": {},
   "outputs": [
    {
     "name": "stdout",
     "output_type": "stream",
     "text": [
      "123\n",
      "456\n",
      "abc\n",
      "True\n",
      "False\n",
      "None\n",
      "\n",
      "(54, 67)\n",
      "()\n"
     ]
    }
   ],
   "source": [
    "for elem in my_tuple:\n",
    "    print(elem)"
   ]
  },
  {
   "cell_type": "code",
   "execution_count": 115,
   "id": "5a2ba5d6",
   "metadata": {},
   "outputs": [
    {
     "data": {
      "text/plain": [
       "True"
      ]
     },
     "execution_count": 115,
     "metadata": {},
     "output_type": "execute_result"
    }
   ],
   "source": [
    "another_tuple = my_tuple\n",
    "another_tuple == my_tuple"
   ]
  },
  {
   "cell_type": "code",
   "execution_count": 116,
   "id": "7ef9d4e4",
   "metadata": {},
   "outputs": [
    {
     "data": {
      "text/plain": [
       "True"
      ]
     },
     "execution_count": 116,
     "metadata": {},
     "output_type": "execute_result"
    }
   ],
   "source": [
    "another_tuple is my_tuple"
   ]
  },
  {
   "cell_type": "code",
   "execution_count": 117,
   "id": "9785e07f",
   "metadata": {},
   "outputs": [
    {
     "data": {
      "text/plain": [
       "True"
      ]
     },
     "execution_count": 117,
     "metadata": {},
     "output_type": "execute_result"
    }
   ],
   "source": [
    "t3 = (123, 456, 'abc', True, False, None, '', (54, 67), ())\n",
    "t3 == another_tuple"
   ]
  },
  {
   "cell_type": "code",
   "execution_count": 118,
   "id": "e6caa8f0",
   "metadata": {},
   "outputs": [
    {
     "data": {
      "text/plain": [
       "(123, 456, 'abc', True, False, None, '', (54, 67), ())"
      ]
     },
     "execution_count": 118,
     "metadata": {},
     "output_type": "execute_result"
    }
   ],
   "source": [
    "t3"
   ]
  },
  {
   "cell_type": "code",
   "execution_count": 119,
   "id": "09a2343a",
   "metadata": {},
   "outputs": [
    {
     "data": {
      "text/plain": [
       "(123, 456, 'abc', True, False, None, '', (54, 67), ())"
      ]
     },
     "execution_count": 119,
     "metadata": {},
     "output_type": "execute_result"
    }
   ],
   "source": [
    "another_tuple"
   ]
  },
  {
   "cell_type": "code",
   "execution_count": 120,
   "id": "4001e671",
   "metadata": {},
   "outputs": [
    {
     "data": {
      "text/plain": [
       "False"
      ]
     },
     "execution_count": 120,
     "metadata": {},
     "output_type": "execute_result"
    }
   ],
   "source": [
    "another_tuple is t3"
   ]
  },
  {
   "cell_type": "code",
   "execution_count": 121,
   "id": "0f06e78a",
   "metadata": {},
   "outputs": [
    {
     "data": {
      "text/plain": [
       "123"
      ]
     },
     "execution_count": 121,
     "metadata": {},
     "output_type": "execute_result"
    }
   ],
   "source": [
    "another_tuple[0]"
   ]
  },
  {
   "cell_type": "code",
   "execution_count": 122,
   "id": "8afa5275",
   "metadata": {},
   "outputs": [
    {
     "name": "stdout",
     "output_type": "stream",
     "text": [
      "123\n",
      "456\n",
      "abc\n",
      "True\n",
      "False\n",
      "None\n",
      "\n",
      "(54, 67)\n",
      "()\n"
     ]
    }
   ],
   "source": [
    "for elem in another_tuple:\n",
    "    print(elem)"
   ]
  },
  {
   "cell_type": "code",
   "execution_count": 123,
   "id": "260ed244",
   "metadata": {},
   "outputs": [
    {
     "data": {
      "text/plain": [
       "(456, 'abc')"
      ]
     },
     "execution_count": 123,
     "metadata": {},
     "output_type": "execute_result"
    }
   ],
   "source": [
    "another_tuple[1:3]"
   ]
  },
  {
   "cell_type": "code",
   "execution_count": 124,
   "id": "1c5d535f",
   "metadata": {},
   "outputs": [
    {
     "data": {
      "text/plain": [
       "True"
      ]
     },
     "execution_count": 124,
     "metadata": {},
     "output_type": "execute_result"
    }
   ],
   "source": [
    "another_tuple[:] == another_tuple"
   ]
  },
  {
   "cell_type": "code",
   "execution_count": 125,
   "id": "22f32a4f",
   "metadata": {},
   "outputs": [
    {
     "data": {
      "text/plain": [
       "True"
      ]
     },
     "execution_count": 125,
     "metadata": {},
     "output_type": "execute_result"
    }
   ],
   "source": [
    "another_tuple[:] is another_tuple"
   ]
  },
  {
   "cell_type": "code",
   "execution_count": 126,
   "id": "012ef421",
   "metadata": {},
   "outputs": [
    {
     "data": {
      "text/plain": [
       "True"
      ]
     },
     "execution_count": 126,
     "metadata": {},
     "output_type": "execute_result"
    }
   ],
   "source": [
    "a = 1\n",
    "b = a\n",
    "\n",
    "a is b"
   ]
  },
  {
   "cell_type": "code",
   "execution_count": 127,
   "id": "5d88f1b1",
   "metadata": {},
   "outputs": [
    {
     "data": {
      "text/plain": [
       "True"
      ]
     },
     "execution_count": 127,
     "metadata": {},
     "output_type": "execute_result"
    }
   ],
   "source": [
    "a = 1\n",
    "b = 1\n",
    "a is b"
   ]
  },
  {
   "cell_type": "code",
   "execution_count": 128,
   "id": "6323ef42",
   "metadata": {},
   "outputs": [
    {
     "data": {
      "text/plain": [
       "False"
      ]
     },
     "execution_count": 128,
     "metadata": {},
     "output_type": "execute_result"
    }
   ],
   "source": [
    "a = 1000\n",
    "b = 1000\n",
    "a is b"
   ]
  },
  {
   "cell_type": "code",
   "execution_count": 129,
   "id": "318d39d6",
   "metadata": {},
   "outputs": [
    {
     "data": {
      "text/plain": [
       "True"
      ]
     },
     "execution_count": 129,
     "metadata": {},
     "output_type": "execute_result"
    }
   ],
   "source": [
    "a = 10\n",
    "b = 10\n",
    "a is b"
   ]
  },
  {
   "cell_type": "code",
   "execution_count": 130,
   "id": "a1fc9790",
   "metadata": {},
   "outputs": [
    {
     "data": {
      "text/plain": [
       "True"
      ]
     },
     "execution_count": 130,
     "metadata": {},
     "output_type": "execute_result"
    }
   ],
   "source": [
    "a == b"
   ]
  },
  {
   "cell_type": "code",
   "execution_count": 131,
   "id": "47bbbf79",
   "metadata": {},
   "outputs": [
    {
     "data": {
      "text/plain": [
       "True"
      ]
     },
     "execution_count": 131,
     "metadata": {},
     "output_type": "execute_result"
    }
   ],
   "source": [
    "a = 1000\n",
    "b = 1000\n",
    "a == b"
   ]
  },
  {
   "cell_type": "code",
   "execution_count": 132,
   "id": "b3daa263",
   "metadata": {},
   "outputs": [
    {
     "name": "stdout",
     "output_type": "stream",
     "text": [
      "Hello world!\n"
     ]
    }
   ],
   "source": [
    "my_str = \"Hello world!\"\n",
    "print(my_str)"
   ]
  },
  {
   "cell_type": "code",
   "execution_count": 133,
   "id": "b874d354",
   "metadata": {},
   "outputs": [
    {
     "name": "stdout",
     "output_type": "stream",
     "text": [
      "H\n",
      "e\n",
      "l\n",
      "l\n",
      "o\n",
      " \n",
      "w\n",
      "o\n",
      "r\n",
      "l\n",
      "d\n",
      "!\n"
     ]
    }
   ],
   "source": [
    "for s in my_str:\n",
    "    print(s)"
   ]
  },
  {
   "cell_type": "code",
   "execution_count": 134,
   "id": "1f294685",
   "metadata": {},
   "outputs": [
    {
     "data": {
      "text/plain": [
       "['H', 'e', 'l', 'l', 'o', ' ', 'w', 'o', 'r', 'l', 'd', '!']"
      ]
     },
     "execution_count": 134,
     "metadata": {},
     "output_type": "execute_result"
    }
   ],
   "source": [
    "list(my_str)"
   ]
  },
  {
   "cell_type": "code",
   "execution_count": 135,
   "id": "dbfd8765",
   "metadata": {},
   "outputs": [
    {
     "data": {
      "text/plain": [
       "('H', 'e', 'l', 'l', 'o', ' ', 'w', 'o', 'r', 'l', 'd', '!')"
      ]
     },
     "execution_count": 135,
     "metadata": {},
     "output_type": "execute_result"
    }
   ],
   "source": [
    "tuple(my_str)"
   ]
  },
  {
   "cell_type": "code",
   "execution_count": 136,
   "id": "997cba95",
   "metadata": {},
   "outputs": [
    {
     "data": {
      "text/plain": [
       "(123, 456, 'abc', True, False, None, '', (54, 67), ())"
      ]
     },
     "execution_count": 136,
     "metadata": {},
     "output_type": "execute_result"
    }
   ],
   "source": [
    "t3"
   ]
  },
  {
   "cell_type": "code",
   "execution_count": 137,
   "id": "c5a73da4",
   "metadata": {},
   "outputs": [
    {
     "data": {
      "text/plain": [
       "[123, 456, 'abc', True, False, None, '', (54, 67), ()]"
      ]
     },
     "execution_count": 137,
     "metadata": {},
     "output_type": "execute_result"
    }
   ],
   "source": [
    "list(t3)"
   ]
  },
  {
   "cell_type": "code",
   "execution_count": 138,
   "id": "120d7eba",
   "metadata": {},
   "outputs": [
    {
     "name": "stdout",
     "output_type": "stream",
     "text": [
      "{1: 'one', 2: 'two'}\n"
     ]
    }
   ],
   "source": [
    "numbers_dict = {1: \"one\", 2: \"two\"}\n",
    "print(numbers_dict)"
   ]
  },
  {
   "cell_type": "code",
   "execution_count": 139,
   "id": "f97e232e",
   "metadata": {},
   "outputs": [
    {
     "name": "stdout",
     "output_type": "stream",
     "text": [
      "{1: 'one', 2: 'two', 3: 'tree'}\n"
     ]
    }
   ],
   "source": [
    "numbers_dict[3] = \"tree\"\n",
    "print(numbers_dict)"
   ]
  },
  {
   "cell_type": "code",
   "execution_count": 140,
   "id": "8caed6b2",
   "metadata": {},
   "outputs": [],
   "source": [
    "numbers_dict[3] = \"three\""
   ]
  },
  {
   "cell_type": "code",
   "execution_count": 142,
   "id": "a625c25a",
   "metadata": {},
   "outputs": [],
   "source": [
    "numbers_dict[4] = \"four\""
   ]
  },
  {
   "cell_type": "code",
   "execution_count": 143,
   "id": "13ff1fb5",
   "metadata": {},
   "outputs": [
    {
     "data": {
      "text/plain": [
       "{1: 'one', 2: 'two', 3: 'three', 4: 'four'}"
      ]
     },
     "execution_count": 143,
     "metadata": {},
     "output_type": "execute_result"
    }
   ],
   "source": [
    "numbers_dict"
   ]
  },
  {
   "cell_type": "code",
   "execution_count": 144,
   "id": "e6a42815",
   "metadata": {},
   "outputs": [
    {
     "name": "stdout",
     "output_type": "stream",
     "text": [
      "1\n",
      "2\n",
      "3\n",
      "4\n"
     ]
    }
   ],
   "source": [
    "for num in numbers_dict:\n",
    "    print(num)"
   ]
  },
  {
   "cell_type": "code",
   "execution_count": 145,
   "id": "5f379afb",
   "metadata": {},
   "outputs": [
    {
     "data": {
      "text/plain": [
       "'three'"
      ]
     },
     "execution_count": 145,
     "metadata": {},
     "output_type": "execute_result"
    }
   ],
   "source": [
    "numbers_dict[3]"
   ]
  },
  {
   "cell_type": "code",
   "execution_count": 146,
   "id": "74481101",
   "metadata": {},
   "outputs": [
    {
     "name": "stdout",
     "output_type": "stream",
     "text": [
      "1 one\n",
      "2 two\n",
      "3 three\n",
      "4 four\n"
     ]
    }
   ],
   "source": [
    "for key, value in numbers_dict.items():\n",
    "    print(key, value)"
   ]
  },
  {
   "cell_type": "code",
   "execution_count": 147,
   "id": "de379e83",
   "metadata": {},
   "outputs": [
    {
     "data": {
      "text/plain": [
       "dict_items([(1, 'one'), (2, 'two'), (3, 'three'), (4, 'four')])"
      ]
     },
     "execution_count": 147,
     "metadata": {},
     "output_type": "execute_result"
    }
   ],
   "source": [
    "numbers_dict.items()"
   ]
  },
  {
   "cell_type": "code",
   "execution_count": 148,
   "id": "72dc8423",
   "metadata": {},
   "outputs": [
    {
     "data": {
      "text/plain": [
       "[(1, 'one'), (2, 'two'), (3, 'three'), (4, 'four')]"
      ]
     },
     "execution_count": 148,
     "metadata": {},
     "output_type": "execute_result"
    }
   ],
   "source": [
    "list(numbers_dict.items())"
   ]
  },
  {
   "cell_type": "code",
   "execution_count": 149,
   "id": "ddea1a8e",
   "metadata": {},
   "outputs": [
    {
     "name": "stdout",
     "output_type": "stream",
     "text": [
      "(1, 'one')\n",
      "(2, 'two')\n",
      "(3, 'three')\n",
      "(4, 'four')\n"
     ]
    }
   ],
   "source": [
    "for item in numbers_dict.items():\n",
    "    print(item)"
   ]
  },
  {
   "cell_type": "code",
   "execution_count": 150,
   "id": "320dfb0f",
   "metadata": {},
   "outputs": [
    {
     "name": "stdout",
     "output_type": "stream",
     "text": [
      "1 2\n"
     ]
    }
   ],
   "source": [
    "(a, b) = (1, 2)\n",
    "print(a, b)"
   ]
  },
  {
   "cell_type": "code",
   "execution_count": 151,
   "id": "047c8446",
   "metadata": {},
   "outputs": [
    {
     "name": "stdout",
     "output_type": "stream",
     "text": [
      "3 4\n"
     ]
    }
   ],
   "source": [
    "a, b = 3, 4\n",
    "print(a, b)"
   ]
  },
  {
   "cell_type": "code",
   "execution_count": 152,
   "id": "0672856e",
   "metadata": {},
   "outputs": [
    {
     "data": {
      "text/plain": [
       "dict_values(['one', 'two', 'three', 'four'])"
      ]
     },
     "execution_count": 152,
     "metadata": {},
     "output_type": "execute_result"
    }
   ],
   "source": [
    "numbers_dict.values()"
   ]
  },
  {
   "cell_type": "code",
   "execution_count": 153,
   "id": "7fb2a201",
   "metadata": {},
   "outputs": [
    {
     "data": {
      "text/plain": [
       "['one', 'two', 'three', 'four']"
      ]
     },
     "execution_count": 153,
     "metadata": {},
     "output_type": "execute_result"
    }
   ],
   "source": [
    "list(numbers_dict.values())"
   ]
  },
  {
   "cell_type": "code",
   "execution_count": 154,
   "id": "2e8d6876",
   "metadata": {},
   "outputs": [
    {
     "name": "stdout",
     "output_type": "stream",
     "text": [
      "{1: 'is true', '1': 'one', (1, 2): 'one, two', 0.3: 'point three', 'data': {1: 111, 'spam': 'eggs'}}\n"
     ]
    }
   ],
   "source": [
    "my_dict = {\n",
    "    1: \"one\",\n",
    "    \"1\": \"one\",\n",
    "    (1, 2): \"one, two\",\n",
    "    True: \"is true\",\n",
    "    0.3: \"point three\",\n",
    "    \"data\": {\n",
    "        1: 111,\n",
    "        \"spam\": \"eggs\",\n",
    "    } \n",
    "}\n",
    "\n",
    "print(my_dict)"
   ]
  },
  {
   "cell_type": "code",
   "execution_count": 155,
   "id": "7e20dd24",
   "metadata": {},
   "outputs": [
    {
     "data": {
      "text/plain": [
       "{1: 111, 'spam': 'eggs'}"
      ]
     },
     "execution_count": 155,
     "metadata": {},
     "output_type": "execute_result"
    }
   ],
   "source": [
    "my_dict[\"data\"]"
   ]
  },
  {
   "cell_type": "code",
   "execution_count": 156,
   "id": "be06c8e7",
   "metadata": {},
   "outputs": [
    {
     "data": {
      "text/plain": [
       "dict_keys([1, 'spam'])"
      ]
     },
     "execution_count": 156,
     "metadata": {},
     "output_type": "execute_result"
    }
   ],
   "source": [
    "my_dict[\"data\"].keys()"
   ]
  },
  {
   "cell_type": "code",
   "execution_count": 157,
   "id": "a677cf06",
   "metadata": {},
   "outputs": [
    {
     "data": {
      "text/plain": [
       "dict_items([(1, 111), ('spam', 'eggs')])"
      ]
     },
     "execution_count": 157,
     "metadata": {},
     "output_type": "execute_result"
    }
   ],
   "source": [
    "my_dict[\"data\"].items()"
   ]
  },
  {
   "cell_type": "code",
   "execution_count": 158,
   "id": "7d97fead",
   "metadata": {},
   "outputs": [],
   "source": [
    "my_dict[\"data\"][\"foo\"] = \"bar\""
   ]
  },
  {
   "cell_type": "code",
   "execution_count": 159,
   "id": "8d767817",
   "metadata": {},
   "outputs": [
    {
     "data": {
      "text/plain": [
       "{1: 111, 'spam': 'eggs', 'foo': 'bar'}"
      ]
     },
     "execution_count": 159,
     "metadata": {},
     "output_type": "execute_result"
    }
   ],
   "source": [
    "my_dict[\"data\"]"
   ]
  },
  {
   "cell_type": "code",
   "execution_count": 160,
   "id": "2a2854fa",
   "metadata": {},
   "outputs": [
    {
     "data": {
      "text/plain": [
       "{1: 'is true',\n",
       " '1': 'one',\n",
       " (1, 2): 'one, two',\n",
       " 0.3: 'point three',\n",
       " 'data': {1: 111, 'spam': 'eggs', 'foo': 'bar'}}"
      ]
     },
     "execution_count": 160,
     "metadata": {},
     "output_type": "execute_result"
    }
   ],
   "source": [
    "my_dict"
   ]
  },
  {
   "cell_type": "code",
   "execution_count": 161,
   "id": "9ed9d15f",
   "metadata": {},
   "outputs": [],
   "source": [
    "my_dict[\"numbers\"] = [1,2,3,4,5]"
   ]
  },
  {
   "cell_type": "code",
   "execution_count": 162,
   "id": "426a35ed",
   "metadata": {},
   "outputs": [
    {
     "data": {
      "text/plain": [
       "{1: 'is true',\n",
       " '1': 'one',\n",
       " (1, 2): 'one, two',\n",
       " 0.3: 'point three',\n",
       " 'data': {1: 111, 'spam': 'eggs', 'foo': 'bar'},\n",
       " 'numbers': [1, 2, 3, 4, 5]}"
      ]
     },
     "execution_count": 162,
     "metadata": {},
     "output_type": "execute_result"
    }
   ],
   "source": [
    "my_dict"
   ]
  },
  {
   "cell_type": "code",
   "execution_count": 163,
   "id": "ef4e9cbd",
   "metadata": {},
   "outputs": [
    {
     "data": {
      "text/plain": [
       "range(1, 6)"
      ]
     },
     "execution_count": 163,
     "metadata": {},
     "output_type": "execute_result"
    }
   ],
   "source": [
    "range(1, 6)"
   ]
  },
  {
   "cell_type": "code",
   "execution_count": 164,
   "id": "0d90cb16",
   "metadata": {},
   "outputs": [
    {
     "data": {
      "text/plain": [
       "[1, 2, 3, 4, 5]"
      ]
     },
     "execution_count": 164,
     "metadata": {},
     "output_type": "execute_result"
    }
   ],
   "source": [
    "list(range(1, 6))"
   ]
  },
  {
   "cell_type": "code",
   "execution_count": 165,
   "id": "e899eaa6",
   "metadata": {},
   "outputs": [
    {
     "data": {
      "text/plain": [
       "(1, 2, 3, 4, 5)"
      ]
     },
     "execution_count": 165,
     "metadata": {},
     "output_type": "execute_result"
    }
   ],
   "source": [
    "tuple(range(1, 6))"
   ]
  },
  {
   "cell_type": "code",
   "execution_count": 166,
   "id": "c6919871",
   "metadata": {},
   "outputs": [
    {
     "data": {
      "text/plain": [
       "{1: 'is true',\n",
       " '1': 'one',\n",
       " (1, 2): 'one, two',\n",
       " 0.3: 'point three',\n",
       " 'data': {1: 111, 'spam': 'eggs', 'foo': 'bar'},\n",
       " 'numbers': [1, 2, 3, 4, 5]}"
      ]
     },
     "execution_count": 166,
     "metadata": {},
     "output_type": "execute_result"
    }
   ],
   "source": [
    "my_dict"
   ]
  },
  {
   "cell_type": "code",
   "execution_count": 167,
   "id": "0b08cd7d",
   "metadata": {},
   "outputs": [
    {
     "data": {
      "text/plain": [
       "{1: 'is true',\n",
       " '1': 'one',\n",
       " (1, 2): 'one, two',\n",
       " 0.3: 'point three',\n",
       " 'data': {1: 111, 'spam': 'eggs', 'foo': 'bar'},\n",
       " 'numbers': range(0, 40)}"
      ]
     },
     "execution_count": 167,
     "metadata": {},
     "output_type": "execute_result"
    }
   ],
   "source": [
    "my_dict[\"numbers\"] = range(0, 40)\n",
    "my_dict"
   ]
  },
  {
   "cell_type": "code",
   "execution_count": 168,
   "id": "cb3d9096",
   "metadata": {},
   "outputs": [
    {
     "data": {
      "text/plain": [
       "{1: 'is true',\n",
       " '1': 'one',\n",
       " (1, 2): 'one, two',\n",
       " 0.3: 'point three',\n",
       " 'data': {1: 111, 'spam': 'eggs', 'foo': 'bar'},\n",
       " 'numbers': [0,\n",
       "  1,\n",
       "  2,\n",
       "  3,\n",
       "  4,\n",
       "  5,\n",
       "  6,\n",
       "  7,\n",
       "  8,\n",
       "  9,\n",
       "  10,\n",
       "  11,\n",
       "  12,\n",
       "  13,\n",
       "  14,\n",
       "  15,\n",
       "  16,\n",
       "  17,\n",
       "  18,\n",
       "  19,\n",
       "  20,\n",
       "  21,\n",
       "  22,\n",
       "  23,\n",
       "  24,\n",
       "  25,\n",
       "  26,\n",
       "  27,\n",
       "  28,\n",
       "  29,\n",
       "  30,\n",
       "  31,\n",
       "  32,\n",
       "  33,\n",
       "  34,\n",
       "  35,\n",
       "  36,\n",
       "  37,\n",
       "  38,\n",
       "  39]}"
      ]
     },
     "execution_count": 168,
     "metadata": {},
     "output_type": "execute_result"
    }
   ],
   "source": [
    "my_dict[\"numbers\"] = list(range(0, 40))\n",
    "my_dict"
   ]
  },
  {
   "cell_type": "code",
   "execution_count": 169,
   "id": "36fe1f0d",
   "metadata": {},
   "outputs": [
    {
     "data": {
      "text/plain": [
       "{1: 'is true',\n",
       " '1': 'one',\n",
       " (1, 2): 'one, two',\n",
       " 0.3: 'point three',\n",
       " 'data': {1: 111, 'spam': 'eggs', 'foo': 'bar'},\n",
       " 'numbers': [0,\n",
       "  1,\n",
       "  2,\n",
       "  3,\n",
       "  4,\n",
       "  5,\n",
       "  6,\n",
       "  7,\n",
       "  8,\n",
       "  9,\n",
       "  10,\n",
       "  11,\n",
       "  12,\n",
       "  13,\n",
       "  14,\n",
       "  15,\n",
       "  16,\n",
       "  17,\n",
       "  18,\n",
       "  19,\n",
       "  20,\n",
       "  21,\n",
       "  22,\n",
       "  23,\n",
       "  24,\n",
       "  25,\n",
       "  26,\n",
       "  27,\n",
       "  28,\n",
       "  29,\n",
       "  30,\n",
       "  31,\n",
       "  32,\n",
       "  33,\n",
       "  34,\n",
       "  35,\n",
       "  36,\n",
       "  37,\n",
       "  38,\n",
       "  39]}"
      ]
     },
     "execution_count": 169,
     "metadata": {},
     "output_type": "execute_result"
    }
   ],
   "source": [
    "my_dict"
   ]
  },
  {
   "cell_type": "code",
   "execution_count": 170,
   "id": "eef3b646",
   "metadata": {},
   "outputs": [
    {
     "data": {
      "text/plain": [
       "{1: 'is true',\n",
       " '1': 'one',\n",
       " (1, 2): 'one, two',\n",
       " 0.3: 'point three',\n",
       " 'data': {1: 111, 'spam': 'eggs', 'foo': 'bar'},\n",
       " 'numbers': [0,\n",
       "  1,\n",
       "  2,\n",
       "  3,\n",
       "  4,\n",
       "  5,\n",
       "  6,\n",
       "  7,\n",
       "  8,\n",
       "  9,\n",
       "  10,\n",
       "  11,\n",
       "  12,\n",
       "  13,\n",
       "  14,\n",
       "  15,\n",
       "  16,\n",
       "  17,\n",
       "  18,\n",
       "  19,\n",
       "  20,\n",
       "  21,\n",
       "  22,\n",
       "  23,\n",
       "  24,\n",
       "  25,\n",
       "  26,\n",
       "  27,\n",
       "  28,\n",
       "  29,\n",
       "  30,\n",
       "  31,\n",
       "  32,\n",
       "  33,\n",
       "  34,\n",
       "  35,\n",
       "  36,\n",
       "  37,\n",
       "  38,\n",
       "  39],\n",
       " 'abc': 'qwe'}"
      ]
     },
     "execution_count": 170,
     "metadata": {},
     "output_type": "execute_result"
    }
   ],
   "source": [
    "d = my_dict\n",
    "d[\"abc\"] = \"qwe\"\n",
    "my_dict"
   ]
  },
  {
   "cell_type": "code",
   "execution_count": 171,
   "id": "2e7d05ee",
   "metadata": {},
   "outputs": [],
   "source": [
    "d2 = my_dict.copy()"
   ]
  },
  {
   "cell_type": "code",
   "execution_count": 172,
   "id": "eb84a6d6",
   "metadata": {},
   "outputs": [
    {
     "data": {
      "text/plain": [
       "True"
      ]
     },
     "execution_count": 172,
     "metadata": {},
     "output_type": "execute_result"
    }
   ],
   "source": [
    "d2 == my_dict"
   ]
  },
  {
   "cell_type": "code",
   "execution_count": 173,
   "id": "e023d048",
   "metadata": {},
   "outputs": [
    {
     "data": {
      "text/plain": [
       "False"
      ]
     },
     "execution_count": 173,
     "metadata": {},
     "output_type": "execute_result"
    }
   ],
   "source": [
    "d2 is my_dict"
   ]
  },
  {
   "cell_type": "code",
   "execution_count": 174,
   "id": "93e8c666",
   "metadata": {},
   "outputs": [
    {
     "data": {
      "text/plain": [
       "True"
      ]
     },
     "execution_count": 174,
     "metadata": {},
     "output_type": "execute_result"
    }
   ],
   "source": [
    "d is my_dict"
   ]
  },
  {
   "cell_type": "code",
   "execution_count": 175,
   "id": "c02ef479",
   "metadata": {},
   "outputs": [
    {
     "data": {
      "text/plain": [
       "[0,\n",
       " 1,\n",
       " 2,\n",
       " 3,\n",
       " 4,\n",
       " 5,\n",
       " 6,\n",
       " 7,\n",
       " 8,\n",
       " 9,\n",
       " 10,\n",
       " 11,\n",
       " 12,\n",
       " 13,\n",
       " 14,\n",
       " 15,\n",
       " 16,\n",
       " 17,\n",
       " 18,\n",
       " 19,\n",
       " 20,\n",
       " 21,\n",
       " 22,\n",
       " 23,\n",
       " 24,\n",
       " 25,\n",
       " 26,\n",
       " 27,\n",
       " 28,\n",
       " 29,\n",
       " 30,\n",
       " 31,\n",
       " 32,\n",
       " 33,\n",
       " 34,\n",
       " 35,\n",
       " 36,\n",
       " 37,\n",
       " 38,\n",
       " 39]"
      ]
     },
     "execution_count": 175,
     "metadata": {},
     "output_type": "execute_result"
    }
   ],
   "source": [
    "d2.pop(\"numbers\")"
   ]
  },
  {
   "cell_type": "code",
   "execution_count": 176,
   "id": "152e0c53",
   "metadata": {},
   "outputs": [
    {
     "data": {
      "text/plain": [
       "{1: 'is true',\n",
       " '1': 'one',\n",
       " (1, 2): 'one, two',\n",
       " 0.3: 'point three',\n",
       " 'data': {1: 111, 'spam': 'eggs', 'foo': 'bar'},\n",
       " 'abc': 'qwe'}"
      ]
     },
     "execution_count": 176,
     "metadata": {},
     "output_type": "execute_result"
    }
   ],
   "source": [
    "d2"
   ]
  },
  {
   "cell_type": "code",
   "execution_count": 177,
   "id": "39b057a2",
   "metadata": {},
   "outputs": [
    {
     "data": {
      "text/plain": [
       "False"
      ]
     },
     "execution_count": 177,
     "metadata": {},
     "output_type": "execute_result"
    }
   ],
   "source": [
    "d2 == my_dict"
   ]
  },
  {
   "cell_type": "code",
   "execution_count": 178,
   "id": "45a75c53",
   "metadata": {},
   "outputs": [
    {
     "data": {
      "text/plain": [
       "{1: 'is true',\n",
       " '1': 'one',\n",
       " (1, 2): 'one, two',\n",
       " 0.3: 'point three',\n",
       " 'data': {1: 111, 'spam': 'eggs', 'foo': 'bar'},\n",
       " 'numbers': [0,\n",
       "  1,\n",
       "  2,\n",
       "  3,\n",
       "  4,\n",
       "  5,\n",
       "  6,\n",
       "  7,\n",
       "  8,\n",
       "  9,\n",
       "  10,\n",
       "  11,\n",
       "  12,\n",
       "  13,\n",
       "  14,\n",
       "  15,\n",
       "  16,\n",
       "  17,\n",
       "  18,\n",
       "  19,\n",
       "  20,\n",
       "  21,\n",
       "  22,\n",
       "  23,\n",
       "  24,\n",
       "  25,\n",
       "  26,\n",
       "  27,\n",
       "  28,\n",
       "  29,\n",
       "  30,\n",
       "  31,\n",
       "  32,\n",
       "  33,\n",
       "  34,\n",
       "  35,\n",
       "  36,\n",
       "  37,\n",
       "  38,\n",
       "  39],\n",
       " 'abc': 'qwe'}"
      ]
     },
     "execution_count": 178,
     "metadata": {},
     "output_type": "execute_result"
    }
   ],
   "source": [
    "my_dict"
   ]
  },
  {
   "cell_type": "code",
   "execution_count": 179,
   "id": "a4e46eea",
   "metadata": {},
   "outputs": [
    {
     "data": {
      "text/plain": [
       "{1: 111, 'spam': 'eggs', 'foo': 'bar'}"
      ]
     },
     "execution_count": 179,
     "metadata": {},
     "output_type": "execute_result"
    }
   ],
   "source": [
    "d2['data']"
   ]
  },
  {
   "cell_type": "code",
   "execution_count": 180,
   "id": "66ed91aa",
   "metadata": {},
   "outputs": [
    {
     "data": {
      "text/plain": [
       "{1: 111, 'spam': 'eggs', 'foo': 'bar'}"
      ]
     },
     "execution_count": 180,
     "metadata": {},
     "output_type": "execute_result"
    }
   ],
   "source": [
    "my_dict['data']"
   ]
  },
  {
   "cell_type": "code",
   "execution_count": 181,
   "id": "1404a1de",
   "metadata": {},
   "outputs": [
    {
     "data": {
      "text/plain": [
       "True"
      ]
     },
     "execution_count": 181,
     "metadata": {},
     "output_type": "execute_result"
    }
   ],
   "source": [
    "my_dict['data'] is d2['data']"
   ]
  },
  {
   "cell_type": "code",
   "execution_count": 182,
   "id": "4fa083c1",
   "metadata": {},
   "outputs": [],
   "source": [
    "data_dict = d2['data']"
   ]
  },
  {
   "cell_type": "code",
   "execution_count": 183,
   "id": "01f5657d",
   "metadata": {},
   "outputs": [
    {
     "name": "stdout",
     "output_type": "stream",
     "text": [
      "{1: 111, 'spam': 'eggs', 'foo': 'bar', 'fizz': 'buzz'}\n"
     ]
    }
   ],
   "source": [
    "data_dict[\"fizz\"] = \"buzz\"\n",
    "print(data_dict)"
   ]
  },
  {
   "cell_type": "code",
   "execution_count": 184,
   "id": "0b29c371",
   "metadata": {},
   "outputs": [
    {
     "data": {
      "text/plain": [
       "{1: 111, 'spam': 'eggs', 'foo': 'bar', 'fizz': 'buzz'}"
      ]
     },
     "execution_count": 184,
     "metadata": {},
     "output_type": "execute_result"
    }
   ],
   "source": [
    "my_dict['data']"
   ]
  },
  {
   "cell_type": "code",
   "execution_count": 185,
   "id": "ace3e904",
   "metadata": {},
   "outputs": [
    {
     "data": {
      "text/plain": [
       "{1: 111, 'spam': 'eggs', 'foo': 'bar', 'fizz': 'buzz'}"
      ]
     },
     "execution_count": 185,
     "metadata": {},
     "output_type": "execute_result"
    }
   ],
   "source": [
    "d2['data']"
   ]
  },
  {
   "cell_type": "code",
   "execution_count": 186,
   "id": "42a8138a",
   "metadata": {},
   "outputs": [
    {
     "data": {
      "text/plain": [
       "{1: 'is true',\n",
       " '1': 'one',\n",
       " (1, 2): 'one, two',\n",
       " 0.3: 'point three',\n",
       " 'data': {1: 111, 'spam': 'eggs', 'foo': 'bar', 'fizz': 'buzz'},\n",
       " 'abc': 'qwe'}"
      ]
     },
     "execution_count": 186,
     "metadata": {},
     "output_type": "execute_result"
    }
   ],
   "source": [
    "d2"
   ]
  },
  {
   "cell_type": "code",
   "execution_count": 187,
   "id": "78f429ad",
   "metadata": {},
   "outputs": [
    {
     "data": {
      "text/plain": [
       "{'a': 'b'}"
      ]
     },
     "execution_count": 187,
     "metadata": {},
     "output_type": "execute_result"
    }
   ],
   "source": [
    "{\"a\": \"b\"}"
   ]
  },
  {
   "cell_type": "code",
   "execution_count": 188,
   "id": "bceafbd9",
   "metadata": {},
   "outputs": [
    {
     "data": {
      "text/plain": [
       "{1, 2, 3}"
      ]
     },
     "execution_count": 188,
     "metadata": {},
     "output_type": "execute_result"
    }
   ],
   "source": [
    "{1, 2, 3}"
   ]
  },
  {
   "cell_type": "code",
   "execution_count": 189,
   "id": "f537593b",
   "metadata": {},
   "outputs": [
    {
     "data": {
      "text/plain": [
       "True"
      ]
     },
     "execution_count": 189,
     "metadata": {},
     "output_type": "execute_result"
    }
   ],
   "source": [
    "isinstance({1, 2}, set)"
   ]
  },
  {
   "cell_type": "code",
   "execution_count": 190,
   "id": "657eed00",
   "metadata": {},
   "outputs": [
    {
     "data": {
      "text/plain": [
       "True"
      ]
     },
     "execution_count": 190,
     "metadata": {},
     "output_type": "execute_result"
    }
   ],
   "source": [
    "isinstance({1: 2}, dict)"
   ]
  },
  {
   "cell_type": "code",
   "execution_count": 191,
   "id": "56cf8612",
   "metadata": {},
   "outputs": [
    {
     "data": {
      "text/plain": [
       "{}"
      ]
     },
     "execution_count": 191,
     "metadata": {},
     "output_type": "execute_result"
    }
   ],
   "source": [
    "{}"
   ]
  },
  {
   "cell_type": "code",
   "execution_count": 192,
   "id": "18ddd29d",
   "metadata": {},
   "outputs": [
    {
     "data": {
      "text/plain": [
       "True"
      ]
     },
     "execution_count": 192,
     "metadata": {},
     "output_type": "execute_result"
    }
   ],
   "source": [
    "isinstance({}, dict)"
   ]
  },
  {
   "cell_type": "code",
   "execution_count": 193,
   "id": "ed75f496",
   "metadata": {},
   "outputs": [
    {
     "data": {
      "text/plain": [
       "dict"
      ]
     },
     "execution_count": 193,
     "metadata": {},
     "output_type": "execute_result"
    }
   ],
   "source": [
    "type({})"
   ]
  },
  {
   "cell_type": "code",
   "execution_count": 194,
   "id": "5f02054b",
   "metadata": {},
   "outputs": [
    {
     "data": {
      "text/plain": [
       "set()"
      ]
     },
     "execution_count": 194,
     "metadata": {},
     "output_type": "execute_result"
    }
   ],
   "source": [
    "set()"
   ]
  },
  {
   "cell_type": "code",
   "execution_count": 195,
   "id": "da76612b",
   "metadata": {},
   "outputs": [
    {
     "name": "stdout",
     "output_type": "stream",
     "text": [
      "{1, 2, 3}\n"
     ]
    }
   ],
   "source": [
    "my_set = {1,2,3, True}\n",
    "print(my_set)"
   ]
  },
  {
   "cell_type": "code",
   "execution_count": 196,
   "id": "01986b9b",
   "metadata": {},
   "outputs": [
    {
     "name": "stdout",
     "output_type": "stream",
     "text": [
      "{'123', 1, 2, 3}\n"
     ]
    }
   ],
   "source": [
    "my_set.add(\"123\")\n",
    "print(my_set)"
   ]
  },
  {
   "cell_type": "code",
   "execution_count": 197,
   "id": "a73e5f5f",
   "metadata": {},
   "outputs": [
    {
     "name": "stdout",
     "output_type": "stream",
     "text": [
      "{1, 2, 3, '5', '123'}\n"
     ]
    }
   ],
   "source": [
    "my_set.add(\"5\")\n",
    "print(my_set)"
   ]
  },
  {
   "cell_type": "code",
   "execution_count": 198,
   "id": "d769591c",
   "metadata": {},
   "outputs": [
    {
     "name": "stdout",
     "output_type": "stream",
     "text": [
      "{0, 1, 2, 3, '5', '123'}\n"
     ]
    }
   ],
   "source": [
    "my_set.add(0)\n",
    "print(my_set)"
   ]
  },
  {
   "cell_type": "code",
   "execution_count": 199,
   "id": "cf80ee71",
   "metadata": {},
   "outputs": [
    {
     "name": "stdout",
     "output_type": "stream",
     "text": [
      "{0, 1, 2, 3, '5', 42, '123'}\n"
     ]
    }
   ],
   "source": [
    "my_set.add(42)\n",
    "print(my_set)"
   ]
  },
  {
   "cell_type": "code",
   "execution_count": 200,
   "id": "edb272c4",
   "metadata": {},
   "outputs": [
    {
     "name": "stdout",
     "output_type": "stream",
     "text": [
      "0\n",
      "1\n",
      "2\n",
      "3\n",
      "5\n",
      "42\n",
      "123\n"
     ]
    }
   ],
   "source": [
    "for item in my_set:\n",
    "    print(item)"
   ]
  },
  {
   "cell_type": "code",
   "execution_count": 201,
   "id": "14039a92",
   "metadata": {},
   "outputs": [
    {
     "data": {
      "text/plain": [
       "True"
      ]
     },
     "execution_count": 201,
     "metadata": {},
     "output_type": "execute_result"
    }
   ],
   "source": [
    "3 in my_set"
   ]
  },
  {
   "cell_type": "code",
   "execution_count": 202,
   "id": "77017861",
   "metadata": {},
   "outputs": [
    {
     "data": {
      "text/plain": [
       "True"
      ]
     },
     "execution_count": 202,
     "metadata": {},
     "output_type": "execute_result"
    }
   ],
   "source": [
    "\"data\" in my_dict"
   ]
  },
  {
   "cell_type": "code",
   "execution_count": 203,
   "id": "0a53cf6f",
   "metadata": {},
   "outputs": [
    {
     "data": {
      "text/plain": [
       "['abc', True, None, 123, 12.345, ['', 54], ['qwe']]"
      ]
     },
     "execution_count": 203,
     "metadata": {},
     "output_type": "execute_result"
    }
   ],
   "source": [
    "my_list"
   ]
  },
  {
   "cell_type": "code",
   "execution_count": 205,
   "id": "c498857b",
   "metadata": {},
   "outputs": [
    {
     "data": {
      "text/plain": [
       "True"
      ]
     },
     "execution_count": 205,
     "metadata": {},
     "output_type": "execute_result"
    }
   ],
   "source": [
    "\"abc\" in my_list"
   ]
  },
  {
   "cell_type": "code",
   "execution_count": 206,
   "id": "1ab0b6d2",
   "metadata": {},
   "outputs": [
    {
     "data": {
      "text/plain": [
       "(123, 456, 'abc', True, False, None, '', (54, 67), ())"
      ]
     },
     "execution_count": 206,
     "metadata": {},
     "output_type": "execute_result"
    }
   ],
   "source": [
    "t3"
   ]
  },
  {
   "cell_type": "code",
   "execution_count": 207,
   "id": "da9ca1c3",
   "metadata": {},
   "outputs": [
    {
     "data": {
      "text/plain": [
       "True"
      ]
     },
     "execution_count": 207,
     "metadata": {},
     "output_type": "execute_result"
    }
   ],
   "source": [
    "123 in t3"
   ]
  },
  {
   "cell_type": "code",
   "execution_count": 208,
   "id": "989fd5ef",
   "metadata": {},
   "outputs": [
    {
     "data": {
      "text/plain": [
       "False"
      ]
     },
     "execution_count": 208,
     "metadata": {},
     "output_type": "execute_result"
    }
   ],
   "source": [
    "\"123\" in t3"
   ]
  },
  {
   "cell_type": "code",
   "execution_count": 209,
   "id": "e3e03181",
   "metadata": {},
   "outputs": [
    {
     "name": "stdout",
     "output_type": "stream",
     "text": [
      "{1, 2, 3}\n",
      "{3, 4, 5}\n"
     ]
    }
   ],
   "source": [
    "a = {1, 2, 3}\n",
    "b = {3, 4, 5}\n",
    "\n",
    "print(a)\n",
    "print(b)"
   ]
  },
  {
   "cell_type": "code",
   "execution_count": 210,
   "id": "3ab0a2e4",
   "metadata": {},
   "outputs": [
    {
     "data": {
      "text/plain": [
       "True"
      ]
     },
     "execution_count": 210,
     "metadata": {},
     "output_type": "execute_result"
    }
   ],
   "source": [
    "c = {1, 2}\n",
    "c.issubset(a)"
   ]
  },
  {
   "cell_type": "code",
   "execution_count": 211,
   "id": "850cc676",
   "metadata": {},
   "outputs": [
    {
     "data": {
      "text/plain": [
       "False"
      ]
     },
     "execution_count": 211,
     "metadata": {},
     "output_type": "execute_result"
    }
   ],
   "source": [
    "b.issubset(a)"
   ]
  },
  {
   "cell_type": "code",
   "execution_count": 212,
   "id": "717b3cc4",
   "metadata": {},
   "outputs": [
    {
     "data": {
      "text/plain": [
       "{1, 2}"
      ]
     },
     "execution_count": 212,
     "metadata": {},
     "output_type": "execute_result"
    }
   ],
   "source": [
    "a - b"
   ]
  },
  {
   "cell_type": "code",
   "execution_count": 213,
   "id": "b140832e",
   "metadata": {},
   "outputs": [
    {
     "data": {
      "text/plain": [
       "{4, 5}"
      ]
     },
     "execution_count": 213,
     "metadata": {},
     "output_type": "execute_result"
    }
   ],
   "source": [
    "b - a"
   ]
  },
  {
   "cell_type": "code",
   "execution_count": 214,
   "id": "b6b7db2c",
   "metadata": {},
   "outputs": [
    {
     "data": {
      "text/plain": [
       "{3}"
      ]
     },
     "execution_count": 214,
     "metadata": {},
     "output_type": "execute_result"
    }
   ],
   "source": [
    "a - c"
   ]
  },
  {
   "cell_type": "code",
   "execution_count": 215,
   "id": "90bb546a",
   "metadata": {},
   "outputs": [
    {
     "data": {
      "text/plain": [
       "set()"
      ]
     },
     "execution_count": 215,
     "metadata": {},
     "output_type": "execute_result"
    }
   ],
   "source": [
    "c - a"
   ]
  },
  {
   "cell_type": "code",
   "execution_count": 216,
   "id": "ea95da8f",
   "metadata": {},
   "outputs": [
    {
     "data": {
      "text/plain": [
       "{3}"
      ]
     },
     "execution_count": 216,
     "metadata": {},
     "output_type": "execute_result"
    }
   ],
   "source": [
    "a & b"
   ]
  },
  {
   "cell_type": "code",
   "execution_count": 217,
   "id": "9708c9ae",
   "metadata": {},
   "outputs": [
    {
     "data": {
      "text/plain": [
       "{1, 2}"
      ]
     },
     "execution_count": 217,
     "metadata": {},
     "output_type": "execute_result"
    }
   ],
   "source": [
    "a & c"
   ]
  },
  {
   "cell_type": "code",
   "execution_count": 218,
   "id": "21ba092f",
   "metadata": {},
   "outputs": [
    {
     "data": {
      "text/plain": [
       "{1, 2, 3}"
      ]
     },
     "execution_count": 218,
     "metadata": {},
     "output_type": "execute_result"
    }
   ],
   "source": [
    "a"
   ]
  },
  {
   "cell_type": "code",
   "execution_count": 219,
   "id": "bdfb258b",
   "metadata": {},
   "outputs": [
    {
     "data": {
      "text/plain": [
       "{1, 2}"
      ]
     },
     "execution_count": 219,
     "metadata": {},
     "output_type": "execute_result"
    }
   ],
   "source": [
    "c"
   ]
  },
  {
   "cell_type": "code",
   "execution_count": 220,
   "id": "adbcd5a5",
   "metadata": {},
   "outputs": [
    {
     "data": {
      "text/plain": [
       "{1, 2, 4, 5}"
      ]
     },
     "execution_count": 220,
     "metadata": {},
     "output_type": "execute_result"
    }
   ],
   "source": [
    "a ^ b"
   ]
  },
  {
   "cell_type": "code",
   "execution_count": 221,
   "id": "a102be0a",
   "metadata": {},
   "outputs": [
    {
     "data": {
      "text/plain": [
       "{3}"
      ]
     },
     "execution_count": 221,
     "metadata": {},
     "output_type": "execute_result"
    }
   ],
   "source": [
    "a ^ c"
   ]
  },
  {
   "cell_type": "code",
   "execution_count": 222,
   "id": "78170412",
   "metadata": {},
   "outputs": [
    {
     "data": {
      "text/plain": [
       "{1, 2, 3}"
      ]
     },
     "execution_count": 222,
     "metadata": {},
     "output_type": "execute_result"
    }
   ],
   "source": [
    "a"
   ]
  },
  {
   "cell_type": "code",
   "execution_count": 223,
   "id": "fe0ce0d5",
   "metadata": {},
   "outputs": [
    {
     "data": {
      "text/plain": [
       "{1, 2}"
      ]
     },
     "execution_count": 223,
     "metadata": {},
     "output_type": "execute_result"
    }
   ],
   "source": [
    "c"
   ]
  },
  {
   "cell_type": "code",
   "execution_count": 224,
   "id": "5963a712",
   "metadata": {},
   "outputs": [
    {
     "data": {
      "text/plain": [
       "{1, 2, 3, 4, 5}"
      ]
     },
     "execution_count": 224,
     "metadata": {},
     "output_type": "execute_result"
    }
   ],
   "source": [
    "a | b"
   ]
  },
  {
   "cell_type": "code",
   "execution_count": 225,
   "id": "d983740d",
   "metadata": {},
   "outputs": [
    {
     "data": {
      "text/plain": [
       "{1, 2, 3}"
      ]
     },
     "execution_count": 225,
     "metadata": {},
     "output_type": "execute_result"
    }
   ],
   "source": [
    "a"
   ]
  },
  {
   "cell_type": "code",
   "execution_count": 226,
   "id": "263af861",
   "metadata": {},
   "outputs": [
    {
     "data": {
      "text/plain": [
       "{3, 4, 5}"
      ]
     },
     "execution_count": 226,
     "metadata": {},
     "output_type": "execute_result"
    }
   ],
   "source": [
    "b"
   ]
  },
  {
   "cell_type": "code",
   "execution_count": 227,
   "id": "07cc74de",
   "metadata": {},
   "outputs": [
    {
     "data": {
      "text/plain": [
       "True"
      ]
     },
     "execution_count": 227,
     "metadata": {},
     "output_type": "execute_result"
    }
   ],
   "source": [
    "{1, 2} == c"
   ]
  },
  {
   "cell_type": "code",
   "execution_count": 228,
   "id": "1f93dc52",
   "metadata": {},
   "outputs": [
    {
     "data": {
      "text/plain": [
       "False"
      ]
     },
     "execution_count": 228,
     "metadata": {},
     "output_type": "execute_result"
    }
   ],
   "source": [
    "{1, 2} is c"
   ]
  },
  {
   "cell_type": "code",
   "execution_count": 229,
   "id": "40c1cfc2",
   "metadata": {},
   "outputs": [
    {
     "data": {
      "text/plain": [
       "{1, 2, 3, 4, 5, 6, 7, 8, 9, 10}"
      ]
     },
     "execution_count": 229,
     "metadata": {},
     "output_type": "execute_result"
    }
   ],
   "source": [
    "set(range(1, 11))"
   ]
  },
  {
   "cell_type": "code",
   "execution_count": 230,
   "id": "cbfb7823",
   "metadata": {},
   "outputs": [
    {
     "data": {
      "text/plain": [
       "[1, 2, 3]"
      ]
     },
     "execution_count": 230,
     "metadata": {},
     "output_type": "execute_result"
    }
   ],
   "source": [
    "list(a)"
   ]
  },
  {
   "cell_type": "code",
   "execution_count": 231,
   "id": "6a597311",
   "metadata": {},
   "outputs": [
    {
     "data": {
      "text/plain": [
       "['abc', True, None, 123, 12.345, ['', 54], ['qwe']]"
      ]
     },
     "execution_count": 231,
     "metadata": {},
     "output_type": "execute_result"
    }
   ],
   "source": [
    "my_list"
   ]
  },
  {
   "cell_type": "code",
   "execution_count": 232,
   "id": "cacb67f6",
   "metadata": {},
   "outputs": [
    {
     "data": {
      "text/plain": [
       "(123, 456, 'abc', True, False, None, '', (54, 67), ())"
      ]
     },
     "execution_count": 232,
     "metadata": {},
     "output_type": "execute_result"
    }
   ],
   "source": [
    "t3"
   ]
  },
  {
   "cell_type": "code",
   "execution_count": 233,
   "id": "1cf52c0f",
   "metadata": {},
   "outputs": [
    {
     "data": {
      "text/plain": [
       "{'', (), (54, 67), 123, 456, False, None, True, 'abc'}"
      ]
     },
     "execution_count": 233,
     "metadata": {},
     "output_type": "execute_result"
    }
   ],
   "source": [
    "set(t3)"
   ]
  },
  {
   "cell_type": "code",
   "execution_count": 234,
   "id": "d080a976",
   "metadata": {},
   "outputs": [
    {
     "data": {
      "text/plain": [
       "[1, 1, 1, 1, 2]"
      ]
     },
     "execution_count": 234,
     "metadata": {},
     "output_type": "execute_result"
    }
   ],
   "source": [
    "[1, 1,1, 1, 2]"
   ]
  },
  {
   "cell_type": "code",
   "execution_count": 235,
   "id": "fd1dfe24",
   "metadata": {},
   "outputs": [
    {
     "data": {
      "text/plain": [
       "{1, 2}"
      ]
     },
     "execution_count": 235,
     "metadata": {},
     "output_type": "execute_result"
    }
   ],
   "source": [
    "set([1, 1, 1, 1, 2])"
   ]
  },
  {
   "cell_type": "code",
   "execution_count": 236,
   "id": "1526f4d0",
   "metadata": {},
   "outputs": [
    {
     "data": {
      "text/plain": [
       "'Hello world!'"
      ]
     },
     "execution_count": 236,
     "metadata": {},
     "output_type": "execute_result"
    }
   ],
   "source": [
    "my_str"
   ]
  },
  {
   "cell_type": "code",
   "execution_count": 237,
   "id": "1fee00a5",
   "metadata": {},
   "outputs": [
    {
     "data": {
      "text/plain": [
       "'lo'"
      ]
     },
     "execution_count": 237,
     "metadata": {},
     "output_type": "execute_result"
    }
   ],
   "source": [
    "my_str[3:5]"
   ]
  },
  {
   "cell_type": "code",
   "execution_count": 238,
   "id": "14e5bc01",
   "metadata": {},
   "outputs": [
    {
     "name": "stdout",
     "output_type": "stream",
     "text": [
      "Hello world!!!\n"
     ]
    }
   ],
   "source": [
    "my_str = my_str + \"!!\"\n",
    "print(my_str)"
   ]
  },
  {
   "cell_type": "code",
   "execution_count": 239,
   "id": "f7f4e55c",
   "metadata": {},
   "outputs": [
    {
     "data": {
      "text/plain": [
       "['abc', True, None, 123, 12.345, ['', 54], ['qwe']]"
      ]
     },
     "execution_count": 239,
     "metadata": {},
     "output_type": "execute_result"
    }
   ],
   "source": [
    "my_list"
   ]
  },
  {
   "cell_type": "code",
   "execution_count": 240,
   "id": "eff849ff",
   "metadata": {},
   "outputs": [
    {
     "name": "stdout",
     "output_type": "stream",
     "text": [
      "['qwe']\n",
      "['', 54]\n",
      "12.345\n",
      "123\n",
      "None\n",
      "True\n",
      "abc\n"
     ]
    }
   ],
   "source": [
    "for elem in my_list[::-1]:\n",
    "    print(elem)"
   ]
  },
  {
   "cell_type": "code",
   "execution_count": 241,
   "id": "fa392fa7",
   "metadata": {},
   "outputs": [
    {
     "name": "stdout",
     "output_type": "stream",
     "text": [
      "['qwe']\n",
      "['', 54]\n",
      "12.345\n",
      "123\n",
      "None\n",
      "True\n",
      "abc\n"
     ]
    }
   ],
   "source": [
    "for elem in reversed(my_list):\n",
    "    print(elem)"
   ]
  },
  {
   "cell_type": "code",
   "execution_count": 242,
   "id": "00ebfbc4",
   "metadata": {},
   "outputs": [
    {
     "name": "stdout",
     "output_type": "stream",
     "text": [
      "!\n",
      "!\n",
      "!\n",
      "d\n",
      "l\n",
      "r\n",
      "o\n",
      "w\n",
      " \n",
      "o\n",
      "l\n",
      "l\n",
      "e\n",
      "H\n"
     ]
    }
   ],
   "source": [
    "for s in reversed(my_str):\n",
    "    print(s)"
   ]
  },
  {
   "cell_type": "code",
   "execution_count": 243,
   "id": "d51c57fe",
   "metadata": {},
   "outputs": [
    {
     "name": "stdout",
     "output_type": "stream",
     "text": [
      "!\n",
      "!\n",
      "!\n",
      "d\n",
      "l\n",
      "r\n",
      "o\n",
      "w\n",
      " \n",
      "o\n",
      "l\n",
      "l\n",
      "e\n",
      "H\n"
     ]
    }
   ],
   "source": [
    "for s in my_str[::-1]:\n",
    "    print(s)"
   ]
  },
  {
   "cell_type": "code",
   "execution_count": 244,
   "id": "e38f28eb",
   "metadata": {},
   "outputs": [
    {
     "name": "stdout",
     "output_type": "stream",
     "text": [
      "!\n",
      "d\n",
      "o\n",
      "o\n",
      "e\n"
     ]
    }
   ],
   "source": [
    "for s in my_str[::-3]:\n",
    "    print(s)"
   ]
  },
  {
   "cell_type": "code",
   "execution_count": null,
   "id": "4ff3794e",
   "metadata": {},
   "outputs": [],
   "source": []
  }
 ],
 "metadata": {
  "kernelspec": {
   "display_name": "Python 3 (ipykernel)",
   "language": "python",
   "name": "python3"
  },
  "language_info": {
   "codemirror_mode": {
    "name": "ipython",
    "version": 3
   },
   "file_extension": ".py",
   "mimetype": "text/x-python",
   "name": "python",
   "nbconvert_exporter": "python",
   "pygments_lexer": "ipython3",
   "version": "3.9.1"
  }
 },
 "nbformat": 4,
 "nbformat_minor": 5
}
